{
 "cells": [
  {
   "cell_type": "markdown",
   "id": "3b19fb16",
   "metadata": {},
   "source": [
    "# Demo 1 : MD export with OpenFF\n",
    "Assuming you've walked through the [previous demos on polymer system preparation](../2-preparation/2.0-index.ipynb), you'll have in hand a polymer system that you wish to simulate\n",
    "\n",
    "The OpenFF ecosystem includes many excellent parameterization and molecular dynamics (MD) export tools  \n",
    "which we show how to use here, alongside `polymerist` of course, to prepare input files for your MD engine of choice"
   ]
  },
  {
   "cell_type": "code",
   "execution_count": 1,
   "id": "109509a4",
   "metadata": {},
   "outputs": [],
   "source": [
    "import logging\n",
    "logging.basicConfig(level=logging.INFO)\n",
    "\n",
    "from pathlib import Path\n",
    "from polymerist.genutils.fileutils.pathutils import is_empty, assemble_path\n",
    "\n",
    "\n",
    "EXAMPLE_DIR = Path('prepared_system_examples')\n",
    "assert EXAMPLE_DIR.exists() and not is_empty(EXAMPLE_DIR)\n",
    "\n",
    "OUTPUT_DIR = Path('scratch_MD') # dummy directory for writing without tampering with example inputs\n",
    "OUTPUT_DIR.mkdir(exist_ok=True)"
   ]
  },
  {
   "cell_type": "markdown",
   "id": "58c8a079",
   "metadata": {},
   "source": [
    "## Loading a prepared polymer system"
   ]
  },
  {
   "cell_type": "markdown",
   "id": "59124a0d",
   "metadata": {},
   "source": [
    "As before, we provide you some example systems which we [prepared earlier](https://tvtropes.org/pmwiki/pmwiki.php/Main/OneIPreparedEarlier), namely:\n",
    "* a single poly(N-isopropylacrylamide) (PNIPAAm) in vacuum: exports fastest and avoids complications with TIP3P water constraints\n",
    "* a single PNIPAAm in a box of water: may have issues with LAMMPS export (per )\n",
    "* a loosely-packed melt of PNIPAAm and poly(isphenol A carbonate) (PBPA) chains solvated in water, as generated in the [previous demo series](../2-preparation/2.3-melt_packing_and_solvation.ipynb):  \n",
    " this is a big system and will take a while to load!"
   ]
  },
  {
   "cell_type": "code",
   "execution_count": null,
   "id": "42a27cca",
   "metadata": {},
   "outputs": [
    {
     "data": {
      "application/vnd.jupyter.widget-view+json": {
       "model_id": "8521bdd9449d44b09979552c43f9f462",
       "version_major": 2,
       "version_minor": 0
      },
      "text/plain": [
       "NGLWidget()"
      ]
     },
     "metadata": {},
     "output_type": "display_data"
    }
   ],
   "source": [
    "from polymerist.mdtools.openfftools.topology import topology_from_sdf\n",
    "\n",
    "\n",
    "prepared_polymer_system_sdf = assemble_path(EXAMPLE_DIR, 'PNIPAAm_prepared', 'sdf')\n",
    "# prepared_polymer_system_sdf = assemble_path(EXAMPLE_DIR, 'PNIPAAm_solv_water_TIP3P', 'sdf')\n",
    "# prepared_polymer_system_sdf = assemble_path(EXAMPLE_DIR, 'PNIPAAm_PBPA_3x3x3_solv_water_TIP3P', 'sdf') # NOTE: this is a big Topology; it will take a minute or two to load!\n",
    "polymer_name : str = prepared_polymer_system_sdf.stem\n",
    "assert prepared_polymer_system_sdf.exists()\n",
    "\n",
    "polymer_topology = topology_from_sdf(prepared_polymer_system_sdf)\n",
    "polymer_topology.visualize()"
   ]
  },
  {
   "cell_type": "markdown",
   "id": "49ced6d6",
   "metadata": {},
   "source": [
    "### Identifying unique molecules in the system\n",
    "Though the polymer topology may contain many individual molecules, it will often not contain many _distinct_ ones;  \n",
    "Knowing the identities, and more importantly, the partial charges of these molecules, is important for the ensuing force field parameterization step to proceed swiftly,  \n",
    "especially for systems with large polymers which would otherwise grind the automatic AM1-BCC charge assignment to a screeching halt\n",
    "\n",
    "These unique molecules can be provided manually or obtained automatically, as show here"
   ]
  },
  {
   "cell_type": "code",
   "execution_count": 10,
   "id": "ba1b47c2",
   "metadata": {},
   "outputs": [
    {
     "name": "stdout",
     "output_type": "stream",
     "text": [
      "Molecule with name 'PNIPAAm' with Hill formula 'C162H299N27O27'\n",
      "Molecule with name 'water_TIP3P' and SMILES '[H]O[H]'\n"
     ]
    }
   ],
   "source": [
    "unique_mols = []\n",
    "for offmol in polymer_topology.unique_molecules:\n",
    "    print(offmol)\n",
    "    assert offmol.partial_charges is not None\n",
    "    unique_mols.append(offmol)"
   ]
  },
  {
   "cell_type": "markdown",
   "id": "93f60c17",
   "metadata": {},
   "source": [
    "### Taking inventory of the OpenFF Toolkit\n",
    "OpenFF ships with many force fields and toolkits, which are often tricky to keep track of; `polymerist` provides you with convenient  \n",
    "inventories of these and more, dynamically updated by what you've installed in your environment, to help you keep track of the expansive toolkit"
   ]
  },
  {
   "cell_type": "code",
   "execution_count": 11,
   "id": "d8fb7a5f",
   "metadata": {},
   "outputs": [
    {
     "name": "stdout",
     "output_type": "stream",
     "text": [
      "[<class 'openff.toolkit.utils.rdkit_wrapper.RDKitToolkitWrapper'>, <class 'openff.toolkit.utils.ambertools_wrapper.AmberToolsToolkitWrapper'>, <class 'openff.toolkit.utils.openeye_wrapper.OpenEyeToolkitWrapper'>]\n",
      "dict_keys(['smirnoff99frosst', 'amber_ff_ports', 'openforcefields'])\n",
      "smirnoff99frosst\n",
      "├── smirnoff99Frosst-1.0.9\n",
      "├── smirnoff99Frosst-1.0.1\n",
      "├── smirnoff99Frosst-1.0.7\n",
      "├── smirnoff99Frosst-1.0.3\n",
      "├── smirnoff99Frosst-1.0.8\n",
      "├── smirnoff99Frosst-1.0.2\n",
      "├── smirnoff99Frosst-1.0.5\n",
      "├── smirnoff99Frosst-1.0.4\n",
      "├── smirnoff99Frosst-1.1.0\n",
      "├── smirnoff99Frosst-1.0.6\n",
      "└── smirnoff99Frosst-1.0.0\n",
      "amber_ff_ports\n",
      "├── ff14sb_0.0.3\n",
      "├── ff14sb_off_impropers_0.0.3\n",
      "├── ff14sb_0.0.1\n",
      "├── ff14sb_0.0.4\n",
      "├── ff14sb_0.0.2\n",
      "├── ff14sb_off_impropers_0.0.1\n",
      "├── ff14sb_off_impropers_0.0.2\n",
      "└── ff14sb_off_impropers_0.0.4\n",
      "openforcefields\n",
      "├── openff_unconstrained-2.2.0\n",
      "├── openff_unconstrained-2.2.0-rc1\n",
      "├── spce-1.0.0\n",
      "├── openff-1.0.0-RC2\n",
      "├── openff-1.3.1\n",
      "├── openff_unconstrained-1.1.0\n",
      "├── openff_unconstrained-1.0.0\n",
      "├── openff_unconstrained-1.0.0-RC1\n",
      "├── openff-1.1.0\n",
      "├── openff_unconstrained-2.0.0-rc.2\n",
      "├── opc-1.0.0\n",
      "├── opc-1.0.1\n",
      "├── openff_unconstrained-2.1.0\n",
      "├── openff_unconstrained-2.2.1\n",
      "├── openff-2.2.1-rc1\n",
      "├── openff-2.2.0\n",
      "├── tip3p\n",
      "├── tip4p_fb\n",
      "├── opc3-1.0.0\n",
      "├── openff-1.3.0\n",
      "├── openff_unconstrained-1.3.1\n",
      "├── openff_unconstrained-1.2.1\n",
      "├── tip5p\n",
      "├── openff-1.0.0-RC1\n",
      "├── openff-1.3.1-alpha.1\n",
      "├── tip3p_fb-1.1.1\n",
      "├── openff-1.1.1\n",
      "├── openff-2.2.0-rc1\n",
      "├── openff_unconstrained-1.2.0\n",
      "├── opc-1.0.2\n",
      "├── tip3p-1.0.1\n",
      "├── opc\n",
      "├── openff_unconstrained-1.0.0-RC2\n",
      "├── openff_unconstrained-1.0.1\n",
      "├── tip4p_fb-1.0.1\n",
      "├── openff-1.2.1\n",
      "├── opc3-1.0.1\n",
      "├── tip3p-1.0.0\n",
      "├── openff_unconstrained-2.0.0-rc.1\n",
      "├── openff-2.0.0\n",
      "├── openff_unconstrained-2.0.0\n",
      "├── tip4p_ew\n",
      "├── openff-2.1.1\n",
      "├── openff-1.2.0\n",
      "├── tip4p_fb-1.0.0\n",
      "├── openff_unconstrained-1.3.1-alpha.1\n",
      "├── openff-2.0.0-rc.1\n",
      "├── openff_unconstrained-1.1.1\n",
      "├── openff-1.0.0\n",
      "├── tip3p_fb-1.1.0\n",
      "├── openff-2.1.0-rc.1\n",
      "├── tip3p_fb\n",
      "├── openff_unconstrained-2.2.1-rc1\n",
      "├── openff-1.0.1\n",
      "├── openff-2.2.1\n",
      "├── spce\n",
      "├── openff_unconstrained-2.1.1\n",
      "├── tip5p-1.0.0\n",
      "├── tip3p_fb-1.0.0\n",
      "├── opc3\n",
      "├── tip4p_ew-1.0.0\n",
      "├── openff-2.1.0\n",
      "├── openff_unconstrained-1.3.0\n",
      "├── openff_unconstrained-2.1.0-rc.1\n",
      "└── openff-2.0.0-rc.2\n"
     ]
    }
   ],
   "source": [
    "from polymerist.mdtools.openfftools import (\n",
    "    available_force_fields_summary,\n",
    "    FF_PATH_REGISTRY, \n",
    "    ALL_IMPORTABLE_TKWRAPPERS,\n",
    "    TOOLKITS_BY_CHARGE_METHOD,\n",
    "    # these are just some examples; there are many registries built for you at import time\n",
    ")\n",
    "\n",
    "print(TOOLKITS_BY_CHARGE_METHOD['gasteiger'])\n",
    "print(FF_PATH_REGISTRY.keys())\n",
    "print(available_force_fields_summary())"
   ]
  },
  {
   "cell_type": "markdown",
   "id": "7abf3e11",
   "metadata": {},
   "source": [
    "## Assigning force field parameters and creating an Interchange\n",
    "See OpenFF docs on [Forcefield](https://docs.openforcefield.org/projects/toolkit/en/stable/api/generated/openff.toolkit.typing.engines.smirnoff.ForceField.html) and [Interchange](https://docs.openforcefield.org/projects/interchange/en/stable/using/intro.html) for more details there. For demonstration, we use the [Sage 2.y.z force field](https://openforcefield.org/force-fields/force-fields/), which include TIP3P water parameters"
   ]
  },
  {
   "cell_type": "code",
   "execution_count": 12,
   "id": "c9818101",
   "metadata": {},
   "outputs": [
    {
     "name": "stderr",
     "output_type": "stream",
     "text": [
      "INFO:openff.toolkit.typing.engines.smirnoff.parameters:Attempting to up-convert vdW section from 0.3 to 0.4\n",
      "INFO:openff.toolkit.typing.engines.smirnoff.parameters:Successfully up-converted vdW section from 0.3 to 0.4. `method=\"cutoff\"` is now split into `periodic_method=\"cutoff\"` and `nonperiodic_method=\"no-cutoff\"`.\n",
      "INFO:openff.toolkit.typing.engines.smirnoff.parameters:Attempting to up-convert Electrostatics section from 0.3 to 0.4\n",
      "INFO:openff.toolkit.typing.engines.smirnoff.parameters:Successfully up-converted Electrostatics section from 0.3 to 0.4. `method=\"PME\"` is now split into `periodic_potential=\"Ewald3D-ConductingBoundary\"`, `nonperiodic_potential=\"Coulomb\"`, and `exception_potential=\"Coulomb\"`.\n"
     ]
    }
   ],
   "source": [
    "from openff.toolkit import ForceField, Molecule\n",
    "from openff.interchange import Interchange\n",
    "logging.getLogger('openff.interchange.smirnoff._nonbonded').setLevel(logging.CRITICAL) # suppress spammy \"Preset charges...\" logs otherwise printed for EVERY atom in an Interchange\n",
    "\n",
    "from polymerist.mdtools.openfftools.boxvectors import get_topology_bbox\n",
    "\n",
    "\n",
    "forcefield = ForceField('openff-2.0.0.offxml')\n",
    "# forcefield = ForceField('openff-2.2.0.offxml')\n",
    "# forcefield = ForceField('openff-2.0.0.offxml', 'tip3p.offxml') # you can also combine multiple force fields\n",
    "interchange = Interchange.from_smirnoff(\n",
    "    topology=polymer_topology,\n",
    "    force_field=forcefield,\n",
    "    charge_from_molecules=unique_mols, # this is VITAL for speedy processing of polymers; omitting this will grind everythin to a halt\n",
    ")\n",
    "interchange.box = get_topology_bbox(polymer_topology) # this is also key for nonbonded interactions to behave correctly"
   ]
  },
  {
   "cell_type": "markdown",
   "id": "729851fe",
   "metadata": {},
   "source": [
    "### Export to OpenMM\n",
    "OpenMM is the best supported by both Interchange and `polymerist`, mainly due to its easy-to-automate Python API  \n",
    "In ensuing examples, I'll show some of the ways `polymerist` uses this API to simplify running OpenMM simulations"
   ]
  },
  {
   "cell_type": "code",
   "execution_count": 13,
   "id": "b616f884",
   "metadata": {},
   "outputs": [
    {
     "name": "stderr",
     "output_type": "stream",
     "text": [
      "/home/timber/miniconda3/envs/polymerist-dev/lib/python3.11/site-packages/openmm/app/pdbfile.py:347: UnitStrippedWarning: The unit of the quantity is stripped when downcasting to ndarray.\n",
      "  positions = np.asarray(positions)\n"
     ]
    }
   ],
   "source": [
    "from polymerist.mdtools.openmmtools.serialization import serialize_openmm_pdb, serialize_system\n",
    "\n",
    "\n",
    "OMM_DIR = OUTPUT_DIR / 'OpenMM'\n",
    "OMM_DIR.mkdir(exist_ok=True)\n",
    "\n",
    "omm_sys = interchange.to_openmm_system(combine_nonbonded_forces=False)\n",
    "omm_top = interchange.to_openmm_topology(collate=True)\n",
    "omm_pos = interchange.get_positions()\n",
    "\n",
    "serialize_system(assemble_path(OMM_DIR, polymer_name, 'xml'), system=omm_sys)\n",
    "serialize_openmm_pdb(assemble_path(OMM_DIR, polymer_name, 'pdb'), topology=omm_top, positions=omm_pos)"
   ]
  },
  {
   "cell_type": "markdown",
   "id": "403905bd",
   "metadata": {},
   "source": [
    "### Export to GROMACS"
   ]
  },
  {
   "cell_type": "code",
   "execution_count": 14,
   "id": "4ba818cd",
   "metadata": {},
   "outputs": [
    {
     "name": "stderr",
     "output_type": "stream",
     "text": [
      "/home/timber/miniconda3/envs/polymerist-dev/lib/python3.11/site-packages/openff/interchange/components/mdconfig.py:473: UserWarning: Ambiguous failure while processing constraints. Constraining h-bonds as a stopgap.\n",
      "  warnings.warn(\n"
     ]
    }
   ],
   "source": [
    "GMX_DIR = OUTPUT_DIR / 'GROMACS'\n",
    "GMX_DIR.mkdir(exist_ok=True)\n",
    "\n",
    "# NOTE: even for relatively small systems, this is exceedingly slow (https://github.com/openforcefield/openff-interchange/issues/1264)\n",
    "interchange.to_gromacs(prefix=str(GMX_DIR/polymer_name)) "
   ]
  },
  {
   "cell_type": "markdown",
   "id": "42f2a4b4",
   "metadata": {},
   "source": [
    "### Export to LAMMPS"
   ]
  },
  {
   "cell_type": "code",
   "execution_count": 15,
   "id": "d3e91eef",
   "metadata": {},
   "outputs": [
    {
     "ename": "NotImplementedError",
     "evalue": "Found unsupported constraints case in LAMMPS input writer.",
     "output_type": "error",
     "traceback": [
      "\u001b[31m---------------------------------------------------------------------------\u001b[39m",
      "\u001b[31mNotImplementedError\u001b[39m                       Traceback (most recent call last)",
      "\u001b[36mCell\u001b[39m\u001b[36m \u001b[39m\u001b[32mIn[15]\u001b[39m\u001b[32m, line 15\u001b[39m\n\u001b[32m     12\u001b[39m \u001b[38;5;66;03m# At the time of writing, the input file writer will fail for systems containing water, citing missing constraints\u001b[39;00m\n\u001b[32m     13\u001b[39m \u001b[38;5;66;03m# https://github.com/openforcefield/openff-interchange/issues/1141\u001b[39;00m\n\u001b[32m     14\u001b[39m lmp_input_path = assemble_path(LMP_DIR, polymer_name, \u001b[33m'\u001b[39m\u001b[33min\u001b[39m\u001b[33m'\u001b[39m)\n\u001b[32m---> \u001b[39m\u001b[32m15\u001b[39m \u001b[43minterchange\u001b[49m\u001b[43m.\u001b[49m\u001b[43mto_lammps_input\u001b[49m\u001b[43m(\u001b[49m\u001b[43mlmp_input_path\u001b[49m\u001b[43m,\u001b[49m\u001b[43m \u001b[49m\u001b[43mdata_file\u001b[49m\u001b[43m=\u001b[49m\u001b[43mlmp_data_path\u001b[49m\u001b[43m)\u001b[49m \u001b[38;5;66;03m# NOTE: currently, this currently does NOT support constrained force fields\u001b[39;00m\n",
      "\u001b[36mFile \u001b[39m\u001b[32m~/miniconda3/envs/polymerist-dev/lib/python3.11/site-packages/openff/interchange/components/interchange.py:535\u001b[39m, in \u001b[36mInterchange.to_lammps_input\u001b[39m\u001b[34m(self, file_path, data_file)\u001b[39m\n\u001b[32m    532\u001b[39m     data_file = Path(file_path).with_suffix(\u001b[33m\"\u001b[39m\u001b[33m.lmp\u001b[39m\u001b[33m\"\u001b[39m)\n\u001b[32m    534\u001b[39m mdconfig = MDConfig.from_interchange(\u001b[38;5;28mself\u001b[39m)\n\u001b[32m--> \u001b[39m\u001b[32m535\u001b[39m \u001b[43mmdconfig\u001b[49m\u001b[43m.\u001b[49m\u001b[43mwrite_lammps_input\u001b[49m\u001b[43m(\u001b[49m\u001b[38;5;28;43mself\u001b[39;49m\u001b[43m,\u001b[49m\u001b[43m \u001b[49m\u001b[38;5;28;43mstr\u001b[39;49m\u001b[43m(\u001b[49m\u001b[43mfile_path\u001b[49m\u001b[43m)\u001b[49m\u001b[43m,\u001b[49m\u001b[43m \u001b[49m\u001b[43mdata_file\u001b[49m\u001b[43m=\u001b[49m\u001b[38;5;28;43mstr\u001b[39;49m\u001b[43m(\u001b[49m\u001b[43mdata_file\u001b[49m\u001b[43m)\u001b[49m\u001b[43m)\u001b[49m\n",
      "\u001b[36mFile \u001b[39m\u001b[32m~/miniconda3/envs/polymerist-dev/lib/python3.11/site-packages/openff/interchange/components/mdconfig.py:270\u001b[39m, in \u001b[36mMDConfig.write_lammps_input\u001b[39m\u001b[34m(self, interchange, input_file, data_file)\u001b[39m\n\u001b[32m    249\u001b[39m     \u001b[38;5;28;01mreturn\u001b[39;00m (\n\u001b[32m    250\u001b[39m         {\n\u001b[32m    251\u001b[39m             key\n\u001b[32m   (...)\u001b[39m\u001b[32m    263\u001b[39m         },\n\u001b[32m    264\u001b[39m     )\n\u001b[32m    266\u001b[39m \u001b[38;5;66;03m# zero-indexed here\u001b[39;00m\n\u001b[32m    267\u001b[39m (\n\u001b[32m    268\u001b[39m     constrained_bond_coeffs,\n\u001b[32m    269\u001b[39m     constrained_angle_coeffs,\n\u001b[32m--> \u001b[39m\u001b[32m270\u001b[39m ) = \u001b[43m_get_coeffs_of_constrained_bonds_and_angles\u001b[49m\u001b[43m(\u001b[49m\u001b[43minterchange\u001b[49m\u001b[43m)\u001b[49m\n\u001b[32m    272\u001b[39m \u001b[38;5;66;03m# Construct the input file in memory so nothing is written to disk if an\u001b[39;00m\n\u001b[32m    273\u001b[39m \u001b[38;5;66;03m# error is encountered.\u001b[39;00m\n\u001b[32m    274\u001b[39m \u001b[38;5;28;01mwith\u001b[39;00m StringIO() \u001b[38;5;28;01mas\u001b[39;00m lmp:\n",
      "\u001b[36mFile \u001b[39m\u001b[32m~/miniconda3/envs/polymerist-dev/lib/python3.11/site-packages/openff/interchange/components/mdconfig.py:237\u001b[39m, in \u001b[36mMDConfig.write_lammps_input.<locals>._get_coeffs_of_constrained_bonds_and_angles\u001b[39m\u001b[34m(interchange)\u001b[39m\n\u001b[32m    234\u001b[39m constraint_styles = {key.associated_handler \u001b[38;5;28;01mfor\u001b[39;00m key \u001b[38;5;129;01min\u001b[39;00m interchange[\u001b[33m\"\u001b[39m\u001b[33mConstraints\u001b[39m\u001b[33m\"\u001b[39m].potentials}\n\u001b[32m    236\u001b[39m \u001b[38;5;28;01mif\u001b[39;00m \u001b[38;5;28mlen\u001b[39m(constraint_styles.difference({\u001b[33m\"\u001b[39m\u001b[33mBonds\u001b[39m\u001b[33m\"\u001b[39m, \u001b[33m\"\u001b[39m\u001b[33mAngles\u001b[39m\u001b[33m\"\u001b[39m})) > \u001b[32m0\u001b[39m:\n\u001b[32m--> \u001b[39m\u001b[32m237\u001b[39m     \u001b[38;5;28;01mraise\u001b[39;00m \u001b[38;5;167;01mNotImplementedError\u001b[39;00m(\n\u001b[32m    238\u001b[39m         \u001b[33m\"\u001b[39m\u001b[33mFound unsupported constraints case in LAMMPS input writer.\u001b[39m\u001b[33m\"\u001b[39m,\n\u001b[32m    239\u001b[39m     )\n\u001b[32m    241\u001b[39m constrained_bond_smirks = {\n\u001b[32m    242\u001b[39m     key.id \u001b[38;5;28;01mfor\u001b[39;00m key \u001b[38;5;129;01min\u001b[39;00m interchange[\u001b[33m\"\u001b[39m\u001b[33mConstraints\u001b[39m\u001b[33m\"\u001b[39m].potentials \u001b[38;5;28;01mif\u001b[39;00m key.associated_handler == \u001b[33m\"\u001b[39m\u001b[33mBonds\u001b[39m\u001b[33m\"\u001b[39m\n\u001b[32m    243\u001b[39m }\n\u001b[32m    245\u001b[39m constrained_angle_smirks = {\n\u001b[32m    246\u001b[39m     key.id \u001b[38;5;28;01mfor\u001b[39;00m key \u001b[38;5;129;01min\u001b[39;00m interchange[\u001b[33m\"\u001b[39m\u001b[33mConstraints\u001b[39m\u001b[33m\"\u001b[39m].potentials \u001b[38;5;28;01mif\u001b[39;00m key.associated_handler == \u001b[33m\"\u001b[39m\u001b[33mAngles\u001b[39m\u001b[33m\"\u001b[39m\n\u001b[32m    247\u001b[39m }\n",
      "\u001b[31mNotImplementedError\u001b[39m: Found unsupported constraints case in LAMMPS input writer."
     ]
    }
   ],
   "source": [
    "LMP_DIR = OUTPUT_DIR / 'LAMMPS'\n",
    "LMP_DIR.mkdir(exist_ok=True)\n",
    "\n",
    "\n",
    "# NOTE: Interchange.to_lammps(...) combines both of the below; we've shown them separately for clarity\n",
    "\n",
    "# Interchange's LAMMPS writer currently doesn't support bond constraints, meaning this export will only work when using unconstrained force fields\n",
    "# https://github.com/openforcefield/openff-interchange/issues/892\n",
    "lmp_data_path = assemble_path(LMP_DIR, polymer_name, 'lmp')\n",
    "interchange.to_lammps_datafile(lmp_data_path)\n",
    "\n",
    "# At the time of writing, the input file writer will fail for systems containing water, citing missing constraints\n",
    "# https://github.com/openforcefield/openff-interchange/issues/1141\n",
    "lmp_input_path = assemble_path(LMP_DIR, polymer_name, 'in')\n",
    "interchange.to_lammps_input(lmp_input_path, data_file=lmp_data_path) # NOTE: currently, this currently does NOT support constrained force fields"
   ]
  },
  {
   "cell_type": "code",
   "execution_count": null,
   "id": "ce030b28",
   "metadata": {},
   "outputs": [],
   "source": []
  }
 ],
 "metadata": {
  "kernelspec": {
   "display_name": "polymerist-dev",
   "language": "python",
   "name": "python3"
  },
  "language_info": {
   "codemirror_mode": {
    "name": "ipython",
    "version": 3
   },
   "file_extension": ".py",
   "mimetype": "text/x-python",
   "name": "python",
   "nbconvert_exporter": "python",
   "pygments_lexer": "ipython3",
   "version": "3.11.0"
  }
 },
 "nbformat": 4,
 "nbformat_minor": 5
}
