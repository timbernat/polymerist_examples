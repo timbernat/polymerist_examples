{
 "cells": [
  {
   "cell_type": "markdown",
   "id": "a5b9ff57",
   "metadata": {},
   "source": [
    "# Demo 2: Defining reproducible and serializable OpenMM simulation parameters\n",
    "`polymerist` supplies a number of a data containers which aim to facilitate [TRUE](https://www.tandfonline.com/doi/full/10.1080/00268976.2020.1742938) workflows (Transparent, Reproducible, Usable, and Extensible, as defined by the [MoSDeF](https://mosdef.org/))\n",
    "\n",
    "These containers provide you a means to cache high-level thermodynamic, integrator, and checkpoint information related to how to set up a simulation,  \n",
    "and hand them off to another researcher (possibly yourself in the future!) to reproduce simulations you've run in the past.  \n",
    "\n",
    "They also distill down the myriad of options passed around within the [OpenMM API](https://docs.openmm.org/latest/userguide/application.html), making it easier to reason about a simulation study at a scientific, rather than technical, level"
   ]
  },
  {
   "cell_type": "code",
   "execution_count": 1,
   "id": "f5c79d5e",
   "metadata": {},
   "outputs": [],
   "source": [
    "import logging\n",
    "logging.basicConfig(level=logging.INFO)\n",
    "\n",
    "from pathlib import Path\n",
    "from polymerist.genutils.fileutils.pathutils import is_empty, assemble_path\n",
    "\n",
    "\n",
    "OUTPUT_DIR = Path('scratch_MD') # dummy directory for writing without tampering with example inputs\n",
    "OUTPUT_DIR.mkdir(exist_ok=True)\n",
    "\n",
    "PARAMS_DIR = OUTPUT_DIR / 'simulation_parameters'\n",
    "PARAMS_DIR.mkdir(exist_ok=True)"
   ]
  },
  {
   "cell_type": "markdown",
   "id": "55c51a68",
   "metadata": {},
   "source": [
    "## Simulation parameter containers"
   ]
  },
  {
   "cell_type": "markdown",
   "id": "830fcee1",
   "metadata": {},
   "source": [
    "### ThermoParameters\n",
    "These store thermodynamic information about your simulation, including any thermostat and/or barostat you choose to realized a particular ensemble"
   ]
  },
  {
   "cell_type": "code",
   "execution_count": 17,
   "id": "81286778",
   "metadata": {},
   "outputs": [
    {
     "name": "stderr",
     "output_type": "stream",
     "text": [
      "WARNING:polymerist.mdtools.openmmtools.thermo:Adjusting Barostat temperature from \"None\" to 300 K to maintain temperature coupling w/ thermostat\n"
     ]
    },
    {
     "name": "stdout",
     "output_type": "stream",
     "text": [
      "ThermoParameters(thermostat_params=ThermostatParameters(temperature=300 K, timescale=1 /ps, thermostat=<Thermostat.LANGEVIN_MIDDLE: <class 'openmm.openmm.LangevinMiddleIntegrator'>>), barostat_params=BarostatParameters(pressure=1 atm, temperature=300 K, update_frequency=25, barostat=<Barostat.MONTE_CARLO: <class 'openmm.openmm.MonteCarloBarostat'>>))\n",
      "NPT (Isothermal-isobaric) ensemble\n"
     ]
    }
   ],
   "source": [
    "from polymerist.mdtools.openmmtools.parameters import (\n",
    "    ThermoParameters,\n",
    "    Thermostat,\n",
    "    ThermostatParameters,\n",
    "    Barostat,\n",
    "    BarostatParameters,\n",
    ")\n",
    "from openmm.unit import kelvin, atmosphere, picosecond\n",
    "\n",
    "\n",
    "thermo_params = ThermoParameters(\n",
    "    thermostat_params=ThermostatParameters(\n",
    "        temperature=300*kelvin,\n",
    "        timescale=1*picosecond**-1, # characteristic timescale for thermostat (e.g. friction coeff for Langevin)\n",
    "        thermostat=Thermostat.LANGEVIN_MIDDLE\n",
    "    ),\n",
    "    barostat_params=BarostatParameters(\n",
    "        pressure=1*atmosphere,\n",
    "        update_frequency=25, # number of steps between barostat move attempts\n",
    "        barostat=Barostat.MONTE_CARLO,\n",
    "    )\n",
    ")\n",
    "print(thermo_params)\n",
    "print(thermo_params.describe_ensemble()) # ThermoParameters infers what ensemble you are simulating in based on your choices for thermostat and barostat"
   ]
  },
  {
   "cell_type": "markdown",
   "id": "b181e27f",
   "metadata": {},
   "source": [
    "In the absence of explicit thermodynamic parameters, it is assumed you are attempting to run a simulation in the NVE ensemble..."
   ]
  },
  {
   "cell_type": "code",
   "execution_count": 22,
   "id": "6219d978",
   "metadata": {},
   "outputs": [
    {
     "name": "stdout",
     "output_type": "stream",
     "text": [
      "ThermoParameters(thermostat_params=None, barostat_params=None)\n",
      "NVE (Microcanonical) ensemble\n"
     ]
    }
   ],
   "source": [
    "empty_thermo = ThermoParameters()\n",
    "print(empty_thermo)\n",
    "print(empty_thermo.describe_ensemble()) "
   ]
  },
  {
   "cell_type": "markdown",
   "id": "6ce910be",
   "metadata": {},
   "source": [
    "... however, `polymerist` also provides a handful of thermostats and barostats which work out-of-box and allow you to fix temperature and/or pressure"
   ]
  },
  {
   "cell_type": "code",
   "execution_count": 26,
   "id": "41535a29",
   "metadata": {},
   "outputs": [
    {
     "name": "stdout",
     "output_type": "stream",
     "text": [
      "Available Thermostats:\n",
      "ANDERSEN: <class 'openmm.openmm.AndersenThermostat'>\n",
      "BROWNIAN: <class 'openmm.openmm.BrownianIntegrator'>\n",
      "LANGEVIN: <class 'openmm.openmm.LangevinIntegrator'>\n",
      "LANGEVIN_MIDDLE: <class 'openmm.openmm.LangevinMiddleIntegrator'>\n",
      "NOSE_HOOVER: <class 'openmm.openmm.NoseHooverIntegrator'>\n",
      "\n",
      "Available Barostats:\n",
      "MONTE_CARLO: <class 'openmm.openmm.MonteCarloBarostat'>\n",
      "MONTE_CARLO_FLEXIBLE: <class 'openmm.openmm.MonteCarloFlexibleBarostat'>\n"
     ]
    }
   ],
   "source": [
    "print('Available Thermostats:')\n",
    "for thermostat_type in Thermostat:\n",
    "    print(f'{thermostat_type.name}: {thermostat_type.value}')\n",
    "    \n",
    "print('\\nAvailable Barostats:')\n",
    "for barostat_type in Barostat:\n",
    "    print(f'{barostat_type.name}: {barostat_type.value}')"
   ]
  },
  {
   "cell_type": "code",
   "execution_count": 28,
   "id": "6d9ef8ca",
   "metadata": {},
   "outputs": [
    {
     "name": "stdout",
     "output_type": "stream",
     "text": [
      "ThermoParameters(thermostat_params=ThermostatParameters(temperature=310 K, timescale=1 /ps, thermostat=<Thermostat.ANDERSEN: <class 'openmm.openmm.AndersenThermostat'>>), barostat_params=None)\n",
      "NVT (Canonical) ensemble\n",
      "False\n"
     ]
    }
   ],
   "source": [
    "const_T_thermo = ThermoParameters(\n",
    "    thermostat_params=ThermostatParameters(\n",
    "        temperature=310*kelvin,\n",
    "        thermostat='Andersen' # If you don't feel like importing the Thermostat/Barostat enums explicitly, you can also reference them by their names:\n",
    "    )\n",
    ")\n",
    "print(const_T_thermo)\n",
    "print(const_T_thermo.describe_ensemble())\n",
    "print(const_T_thermo.ensemble == empty_thermo.ensemble)"
   ]
  },
  {
   "cell_type": "markdown",
   "id": "9a6b73a8",
   "metadata": {},
   "source": [
    "NOTE that simulations in the NPH ensemble are not supported, as [OpenMM simulations run with barostat also require a thermostat to achieve correct results](https://docs.openmm.org/development/userguide/application/02_running_sims.html#temperature-coupling) (i.e. can't have a barostat without a thermostat)"
   ]
  },
  {
   "cell_type": "code",
   "execution_count": 30,
   "id": "903e4acc",
   "metadata": {},
   "outputs": [
    {
     "ename": "NPHEnsembleUnsupported",
     "evalue": "NPH ensemble not supported; either add a thermostat or remove a barostat from thermodynamic parameters",
     "output_type": "error",
     "traceback": [
      "\u001b[31m---------------------------------------------------------------------------\u001b[39m",
      "\u001b[31mNPHEnsembleUnsupported\u001b[39m                    Traceback (most recent call last)",
      "\u001b[36mCell\u001b[39m\u001b[36m \u001b[39m\u001b[32mIn[30]\u001b[39m\u001b[32m, line 1\u001b[39m\n\u001b[32m----> \u001b[39m\u001b[32m1\u001b[39m \u001b[43mThermoParameters\u001b[49m\u001b[43m(\u001b[49m\n\u001b[32m      2\u001b[39m \u001b[43m    \u001b[49m\u001b[43mthermostat_params\u001b[49m\u001b[43m=\u001b[49m\u001b[38;5;28;43;01mNone\u001b[39;49;00m\u001b[43m,\u001b[49m\n\u001b[32m      3\u001b[39m \u001b[43m    \u001b[49m\u001b[43mbarostat_params\u001b[49m\u001b[43m=\u001b[49m\u001b[43mBarostatParameters\u001b[49m\u001b[43m(\u001b[49m\n\u001b[32m      4\u001b[39m \u001b[43m        \u001b[49m\u001b[43mpressure\u001b[49m\u001b[43m=\u001b[49m\u001b[32;43m1\u001b[39;49m\u001b[43m*\u001b[49m\u001b[43matmosphere\u001b[49m\u001b[43m,\u001b[49m\n\u001b[32m      5\u001b[39m \u001b[43m        \u001b[49m\u001b[43mupdate_frequency\u001b[49m\u001b[43m=\u001b[49m\u001b[32;43m25\u001b[39;49m\u001b[43m,\u001b[49m\n\u001b[32m      6\u001b[39m \u001b[43m        \u001b[49m\u001b[43mbarostat\u001b[49m\u001b[43m=\u001b[49m\u001b[33;43m'\u001b[39;49m\u001b[33;43mMC\u001b[39;49m\u001b[33;43m'\u001b[39;49m\u001b[43m,\u001b[49m\n\u001b[32m      7\u001b[39m \u001b[43m    \u001b[49m\u001b[43m)\u001b[49m\n\u001b[32m      8\u001b[39m \u001b[43m)\u001b[49m\n",
      "\u001b[36mFile \u001b[39m\u001b[32m<string>:5\u001b[39m, in \u001b[36m__init__\u001b[39m\u001b[34m(self, thermostat_params, barostat_params)\u001b[39m\n",
      "\u001b[36mFile \u001b[39m\u001b[32m~/Documents/Python/polymerist_dev/polymerist/build/__editable__.polymerist-0.1.5rc1+272.ge0d4024-py3-none-any/polymerist/mdtools/openmmtools/thermo.py:138\u001b[39m, in \u001b[36mThermoParameters.__post_init__\u001b[39m\u001b[34m(self)\u001b[39m\n\u001b[32m    136\u001b[39m \u001b[38;5;28;01mif\u001b[39;00m \u001b[38;5;28mself\u001b[39m.barostat_params \u001b[38;5;129;01mis\u001b[39;00m \u001b[38;5;129;01mnot\u001b[39;00m \u001b[38;5;28;01mNone\u001b[39;00m:\n\u001b[32m    137\u001b[39m     \u001b[38;5;28;01mif\u001b[39;00m \u001b[38;5;28mself\u001b[39m.thermostat_params \u001b[38;5;129;01mis\u001b[39;00m \u001b[38;5;28;01mNone\u001b[39;00m:\n\u001b[32m--> \u001b[39m\u001b[32m138\u001b[39m         \u001b[38;5;28;01mraise\u001b[39;00m NPHEnsembleUnsupported\n\u001b[32m    140\u001b[39m     \u001b[38;5;28;01mif\u001b[39;00m \u001b[38;5;28mself\u001b[39m.barostat_params.temperature != \u001b[38;5;28mself\u001b[39m.thermostat_params.temperature:\n\u001b[32m    141\u001b[39m         LOGGER.warning(\u001b[33mf\u001b[39m\u001b[33m'\u001b[39m\u001b[33mAdjusting Barostat temperature from \u001b[39m\u001b[33m\"\u001b[39m\u001b[38;5;132;01m{\u001b[39;00m\u001b[38;5;28mself\u001b[39m.barostat_params.temperature\u001b[38;5;132;01m}\u001b[39;00m\u001b[33m\"\u001b[39m\u001b[33m to \u001b[39m\u001b[38;5;132;01m{\u001b[39;00m\u001b[38;5;28mself\u001b[39m.thermostat_params.temperature\u001b[38;5;132;01m}\u001b[39;00m\u001b[33m to maintain temperature coupling w/ thermostat\u001b[39m\u001b[33m'\u001b[39m)\n",
      "\u001b[31mNPHEnsembleUnsupported\u001b[39m: NPH ensemble not supported; either add a thermostat or remove a barostat from thermodynamic parameters"
     ]
    }
   ],
   "source": [
    "ThermoParameters(\n",
    "    thermostat_params=None,\n",
    "    barostat_params=BarostatParameters(\n",
    "        pressure=1*atmosphere,\n",
    "        update_frequency=25,\n",
    "        barostat='MC',\n",
    "    )\n",
    ")"
   ]
  },
  {
   "cell_type": "markdown",
   "id": "b17d814a",
   "metadata": {},
   "source": [
    "ThermoParameters (and for that matter **ALL** parameter sets we show here) can be trivially cached to file..."
   ]
  },
  {
   "cell_type": "code",
   "execution_count": 31,
   "id": "9f71f662",
   "metadata": {},
   "outputs": [],
   "source": [
    "thermo_params_path = assemble_path(PARAMS_DIR, 'thermo_params', extension='json')\n",
    "thermo_params.to_file(thermo_params_path)"
   ]
  },
  {
   "cell_type": "markdown",
   "id": "f5f06409",
   "metadata": {},
   "source": [
    "... and read back from a file just as easily"
   ]
  },
  {
   "cell_type": "code",
   "execution_count": null,
   "id": "3e2f04d8",
   "metadata": {},
   "outputs": [
    {
     "name": "stdout",
     "output_type": "stream",
     "text": [
      "ThermoParameters from file match those written: True\n",
      "ThermoParameters are identical object to those written: False\n"
     ]
    }
   ],
   "source": [
    "thermo_params_from_file = ThermoParameters.from_file(thermo_params_path)\n",
    "print(f'ThermoParameters from file match those written: {thermo_params_from_file == thermo_params}')         # the parameters read from file are equivalent to those written (as we'd hope)...\n",
    "print(f'ThermoParameters are identical object to those written: {thermo_params_from_file is thermo_params}') # ... but are not literally the same object (just to show I'm not pulling any tricks on you)"
   ]
  },
  {
   "cell_type": "markdown",
   "id": "ba1217c3",
   "metadata": {},
   "source": [
    "### IntegratorParameters\n",
    "These store parameters related to the duration of the total simulation, simulation timestep, and checkpointing interval"
   ]
  },
  {
   "cell_type": "code",
   "execution_count": 34,
   "id": "f2636a0a",
   "metadata": {},
   "outputs": [
    {
     "name": "stdout",
     "output_type": "stream",
     "text": [
      "IntegratorParameters(time_step=1 fs, total_time=0.5 ns, num_samples=200)\n",
      "500000\n",
      "2500\n"
     ]
    }
   ],
   "source": [
    "from polymerist.mdtools.openmmtools.parameters import IntegratorParameters\n",
    "from openmm.unit import nanosecond, femtosecond\n",
    "\n",
    "\n",
    "integ_params = IntegratorParameters(\n",
    "    time_step=1*femtosecond,    # integrator timestep\n",
    "    total_time=0.5*nanosecond,  # total simulation time\n",
    "    num_samples=200,            # number of equally-spaced checkpoint//state data samples to take over the course of the simulation\n",
    ")\n",
    "print(integ_params)\n",
    "\n",
    "# derived parameters\n",
    "print(integ_params.num_steps)\n",
    "print(integ_params.report_interval)"
   ]
  },
  {
   "cell_type": "code",
   "execution_count": 35,
   "id": "f4768eff",
   "metadata": {},
   "outputs": [],
   "source": [
    "integ_params_path = assemble_path(PARAMS_DIR, 'integ_params', extension='json')\n",
    "integ_params.to_file(integ_params_path)"
   ]
  },
  {
   "cell_type": "code",
   "execution_count": 36,
   "id": "f117719b",
   "metadata": {},
   "outputs": [
    {
     "name": "stdout",
     "output_type": "stream",
     "text": [
      "True\n",
      "False\n"
     ]
    }
   ],
   "source": [
    "integ_params_from_file = IntegratorParameters.from_file(integ_params_path)\n",
    "print(integ_params_from_file == integ_params)\n",
    "print(integ_params_from_file is integ_params)"
   ]
  },
  {
   "cell_type": "markdown",
   "id": "9f6b1b07",
   "metadata": {},
   "source": [
    "### ReporterParameters\n",
    "These govern the format and type of simulation snapshots ([Checkpoint](https://docs.openmm.org/development/api-python/generated/openmm.app.checkpointreporter.CheckpointReporter.html) or [State](https://docs.openmm.org/development/api-python/generated/openmm.openmm.State.html)), as well as which pieces of [state data](https://docs.openmm.org/7.0.0/api-python/generated/simtk.openmm.app.statedatareporter.StateDataReporter.html) (e.g. simulation speed, box volume, etc.) to report periodically"
   ]
  },
  {
   "cell_type": "code",
   "execution_count": 37,
   "id": "a9dc5968",
   "metadata": {},
   "outputs": [
    {
     "name": "stdout",
     "output_type": "stream",
     "text": [
      "ReporterParameters(report_checkpoint=True, report_state=True, report_trajectory=True, report_state_data=True, traj_ext='dcd', num_steps=None, state_data={'step': True, 'time': True, 'potentialEnergy': True, 'kineticEnergy': True, 'totalEnergy': True, 'temperature': True, 'volume': True, 'density': True, 'speed': True, 'progress': False, 'remainingTime': False, 'elapsedTime': False}, reporter_paths=None)\n"
     ]
    }
   ],
   "source": [
    "from polymerist.mdtools.openmmtools.reporters import DEFAULT_STATE_DATA_PROPS\n",
    "from polymerist.mdtools.openmmtools.parameters import ReporterParameters\n",
    "\n",
    "\n",
    "reporter_params = ReporterParameters(\n",
    "    report_trajectory=True, # not reporting a trajectory kind of makes your simulation pointless, but the option exists if you need it :P\n",
    "    traj_ext='dcd',         # output to compressed binary trajectory files (recommended)\n",
    "    report_checkpoint=True, # also keep checkpoints of OpenMM objects (specific to Context and machine)\n",
    "    report_state=True,      # saving State is a bit redundant with checkpoints, but is machine-transferrable\n",
    "    report_state_data=True, # distinct from State (confusingly), refers to quantities which summarize the simulation\n",
    "    state_data=DEFAULT_STATE_DATA_PROPS, # which particular pieces of state data are recorded on each dump; tune these to taste\n",
    ")\n",
    "print(reporter_params)"
   ]
  },
  {
   "cell_type": "code",
   "execution_count": 38,
   "id": "4b37435a",
   "metadata": {},
   "outputs": [],
   "source": [
    "reporter_params_path = assemble_path(PARAMS_DIR, 'reporter_params', extension='json')\n",
    "reporter_params.to_file(reporter_params_path)"
   ]
  },
  {
   "cell_type": "code",
   "execution_count": 39,
   "id": "5e4c2da6",
   "metadata": {},
   "outputs": [
    {
     "name": "stdout",
     "output_type": "stream",
     "text": [
      "True\n",
      "False\n"
     ]
    }
   ],
   "source": [
    "reporter_params_from_file = ReporterParameters.from_file(reporter_params_path)\n",
    "print(reporter_params_from_file == reporter_params)\n",
    "print(reporter_params_from_file is reporter_params)"
   ]
  },
  {
   "cell_type": "markdown",
   "id": "8f9bb2b5",
   "metadata": {},
   "source": [
    "### SimulationParameters\n",
    "For bundling together all ThermoParameters, IntegratorParameters, and ReporterParameters into a single convenient container"
   ]
  },
  {
   "cell_type": "code",
   "execution_count": 40,
   "id": "1f07924d",
   "metadata": {},
   "outputs": [
    {
     "name": "stdout",
     "output_type": "stream",
     "text": [
      "SimulationParameters(integ_params=IntegratorParameters(time_step=1 fs, total_time=0.5 ns, num_samples=200), thermo_params=ThermoParameters(thermostat_params=ThermostatParameters(temperature=300 K, timescale=1 /ps, thermostat=<Thermostat.LANGEVIN_MIDDLE: <class 'openmm.openmm.LangevinMiddleIntegrator'>>), barostat_params=BarostatParameters(pressure=1 atm, temperature=300 K, update_frequency=25, barostat=<Barostat.MONTE_CARLO: <class 'openmm.openmm.MonteCarloBarostat'>>)), reporter_params=ReporterParameters(report_checkpoint=True, report_state=True, report_trajectory=True, report_state_data=True, traj_ext='dcd', num_steps=500000, state_data={'step': True, 'time': True, 'potentialEnergy': True, 'kineticEnergy': True, 'totalEnergy': True, 'temperature': True, 'volume': True, 'density': True, 'speed': True, 'progress': False, 'remainingTime': False, 'elapsedTime': False}, reporter_paths=None))\n"
     ]
    }
   ],
   "source": [
    "from polymerist.mdtools.openmmtools.parameters import SimulationParameters\n",
    "\n",
    "\n",
    "sim_params = SimulationParameters(\n",
    "    thermo_params=thermo_params,\n",
    "    integ_params=integ_params,\n",
    "    reporter_params=reporter_params,\n",
    ")\n",
    "print(sim_params)"
   ]
  },
  {
   "cell_type": "code",
   "execution_count": 41,
   "id": "981879b8",
   "metadata": {},
   "outputs": [],
   "source": [
    "sim_params_path = assemble_path(PARAMS_DIR, 'sim_params', extension='json')\n",
    "sim_params.to_file(sim_params_path)"
   ]
  },
  {
   "cell_type": "code",
   "execution_count": 42,
   "id": "8786b251",
   "metadata": {},
   "outputs": [
    {
     "name": "stdout",
     "output_type": "stream",
     "text": [
      "True\n",
      "False\n"
     ]
    }
   ],
   "source": [
    "sim_params_from_file = SimulationParameters.from_file(sim_params_path)\n",
    "print(sim_params_from_file == sim_params)\n",
    "print(sim_params_from_file is sim_params)"
   ]
  },
  {
   "cell_type": "markdown",
   "id": "41ef42d1",
   "metadata": {},
   "source": [
    "## SimulationPaths and directory-based workflows\n",
    "Most often, the files associated with a given simulation will coexist in a single directory with common formatting,  \n",
    "to prevent mix-ups between files from multiple simulations (be it serial simulations or replicates)\n",
    "\n",
    "The management of such a directory and many files contained within it are facilitates by `polymerist`'s SimulationPaths\n",
    "All contained files will share the selected prefix for consistency, and the individual files within are accesible via the SimulationPaths API:"
   ]
  },
  {
   "cell_type": "code",
   "execution_count": 43,
   "id": "3204c9fc",
   "metadata": {},
   "outputs": [
    {
     "name": "stdout",
     "output_type": "stream",
     "text": [
      "scratch_MD/simulation_parameters/PNIPAAm/equilibration_parameters.json\n",
      "scratch_MD/simulation_parameters/PNIPAAm/equilibration_topology.pdb\n",
      "scratch_MD/simulation_parameters/PNIPAAm/equilibration_system.xml\n",
      "scratch_MD/simulation_parameters/PNIPAAm/equilibration_trajectory.dcd\n"
     ]
    }
   ],
   "source": [
    "from polymerist.mdtools.openmmtools.serialization import SimulationPaths\n",
    "\n",
    "\n",
    "sim_paths = SimulationPaths.from_dir_and_parameters(PARAMS_DIR/'PNIPAAm', prefix='equilibration', sim_params=sim_params)\n",
    "print(sim_paths.parameters_path)\n",
    "print(sim_paths.topology_path)\n",
    "print(sim_paths.system_path)\n",
    "print(sim_paths.trajectory_path)"
   ]
  },
  {
   "cell_type": "markdown",
   "id": "d2c1cdcb",
   "metadata": {},
   "source": [
    "As you may have expected based on the above examples, SimulationPaths _itself_ can be saved to file and reloaded later  \n",
    "This allows you to easily re-access the API for a given directory in later simulations or scripts"
   ]
  },
  {
   "cell_type": "code",
   "execution_count": 44,
   "id": "2087eb4a",
   "metadata": {},
   "outputs": [
    {
     "name": "stdout",
     "output_type": "stream",
     "text": [
      "SimulationParameters(integ_params=IntegratorParameters(time_step=1 fs, total_time=0.5 ns, num_samples=200), thermo_params=ThermoParameters(thermostat_params=ThermostatParameters(temperature=300 K, timescale=1 /ps, thermostat=<Thermostat.LANGEVIN_MIDDLE: <class 'openmm.openmm.LangevinMiddleIntegrator'>>), barostat_params=BarostatParameters(pressure=1 atm, temperature=300 K, update_frequency=25, barostat=<Barostat.MONTE_CARLO: <class 'openmm.openmm.MonteCarloBarostat'>>)), reporter_params=ReporterParameters(report_checkpoint=True, report_state=True, report_trajectory=True, report_state_data=True, traj_ext='dcd', num_steps=500000, state_data={'step': True, 'time': True, 'potentialEnergy': True, 'kineticEnergy': True, 'totalEnergy': True, 'temperature': True, 'volume': True, 'density': True, 'speed': True, 'progress': False, 'remainingTime': False, 'elapsedTime': False}, reporter_paths={'trajectory': PosixPath('scratch_MD/simulation_parameters/PNIPAAm/equilibration_trajectory.dcd'), 'checkpoint': PosixPath('scratch_MD/simulation_parameters/PNIPAAm/equilibration_checkpoint.chk'), 'state': PosixPath('scratch_MD/simulation_parameters/PNIPAAm/equilibration_state.xml'), 'state_data': PosixPath('scratch_MD/simulation_parameters/PNIPAAm/equilibration_state_data.csv')}))\n"
     ]
    }
   ],
   "source": [
    "prev_sim_paths = SimulationPaths.from_file(sim_paths.paths_path) # our Paths, are so path-y, even the Paths have Paths!\n",
    "prev_sim_params = SimulationParameters.from_file(prev_sim_paths.parameters_path)\n",
    "print(prev_sim_params)"
   ]
  },
  {
   "cell_type": "code",
   "execution_count": null,
   "id": "af143bf0",
   "metadata": {},
   "outputs": [],
   "source": []
  }
 ],
 "metadata": {
  "kernelspec": {
   "display_name": "polymerist-dev",
   "language": "python",
   "name": "python3"
  },
  "language_info": {
   "codemirror_mode": {
    "name": "ipython",
    "version": 3
   },
   "file_extension": ".py",
   "mimetype": "text/x-python",
   "name": "python",
   "nbconvert_exporter": "python",
   "pygments_lexer": "ipython3",
   "version": "3.11.0"
  }
 },
 "nbformat": 4,
 "nbformat_minor": 5
}
