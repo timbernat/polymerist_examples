{
 "cells": [
  {
   "cell_type": "markdown",
   "id": "9df50ce5",
   "metadata": {},
   "source": [
    "# Exporting to molecular dynamics (MD) simulations\n",
    "In the final series of examples, we show how to turn prepared polymer systems (made using methods like  \n",
    "those demonstrated in the [prior series](../2-preparation/2.0-index.ipynb)) into MD-ready inputs using `polymerist` and OpenFF tools\n",
    "* [3.1 - exporting polymer systems to common MD engines](3.1-MD_export_with_Interchange.ipynb)\n",
    "* [3.2 - how `polymerist` facilitates reproducile OpenMM simulations](3.2-openmm_simulation_parameters.ipynb)\n",
    "* [3.3 - running series of OpenMM simulations](3.3-running_openmm_simulations.ipynb)\n",
    "* [3.4 - a start-to-finish`polymerist`-enabled polymer simulation workflow](3.4-full_workflow_demo.ipynb)"
   ]
  },
  {
   "cell_type": "markdown",
   "id": "5f41e9cb",
   "metadata": {},
   "source": []
  }
 ],
 "metadata": {
  "language_info": {
   "name": "python"
  }
 },
 "nbformat": 4,
 "nbformat_minor": 5
}
