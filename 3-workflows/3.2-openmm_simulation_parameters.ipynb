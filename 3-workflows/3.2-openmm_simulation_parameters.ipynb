{
 "cells": [
  {
   "cell_type": "markdown",
   "id": "b86205b5",
   "metadata": {},
   "source": [
    "# True parameters sets for OpenMM Simulations"
   ]
  },
  {
   "cell_type": "markdown",
   "id": "69087c86",
   "metadata": {},
   "source": [
    "### Defining reproducible and serializable simulation parameters\n",
    "These provide a means to exchange and cache information about how you set up a simulation \\\n",
    "These can be readily serialized to disc and are stored at the start of each simulation, if run through polymerist"
   ]
  },
  {
   "cell_type": "code",
   "execution_count": null,
   "id": "19170f14",
   "metadata": {},
   "outputs": [],
   "source": [
    "from openmm.unit import femtosecond, picosecond, nanosecond\n",
    "from openmm.unit import kelvin, atmosphere\n",
    "from polymerist.mdtools.openmmtools.parameters import (\n",
    "    SimulationParameters,\n",
    "    ThermoParameters,\n",
    "    IntegratorParameters,\n",
    "    ReporterParameters,\n",
    ")\n",
    "from polymerist.mdtools.openmmtools.reporters import DEFAULT_STATE_DATA_PROPS\n",
    "\n",
    "\n",
    "# define how data should be periodically reported during a simulation (will be shared between simulations in this examples)\n",
    "reporter_params = ReporterParameters( # these will be shared between both sets of parameters\n",
    "        report_trajectory=True,\n",
    "        traj_ext='dcd', # output to compressed binary trajectory files (recommended)\n",
    "        report_state_data=True,\n",
    "        state_data=DEFAULT_STATE_DATA_PROPS, # can tune these to taste\n",
    "        report_checkpoint=True, # also keep checkpoints of OpenMM objects (specific to Context and machine)\n",
    "        report_state=True,      # saving State is a bit redundant with checkpoints, but is machine-transferrable\n",
    "    )\n",
    "\n",
    "# define reproducible simulation parameter sets\n",
    "## 1) HIGH-TEMPERATURE ANNEAL FOR RELAXATION\n",
    "equil_params = SimulationParameters( \n",
    "    integ_params=IntegratorParameters(\n",
    "        time_step=1*femtosecond,\n",
    "        total_time=100*picosecond, # just a short simulation to demonstrate\n",
    "        num_samples=10, # don't want to take too many samples\n",
    "    ),\n",
    "    thermo_params=ThermoParameters(\n",
    "        ensemble='NPT', #\n",
    "        temperature=600*kelvin,\n",
    "        friction_coeff=1*picosecond**-1, # required for Langevin Thermostat\n",
    "        barostat_freq=25, # number of steps between barostat move attempts\n",
    "    ),\n",
    "    reporter_params=reporter_params,\n",
    ")\n",
    "\n",
    "# TODO: equilibration?\n",
    "\n",
    "## 2) LOW-TEMPERATURE PRODUCTION\n",
    "prod_params = SimulationParameters( \n",
    "    integ_params=IntegratorParameters(\n",
    "        time_step=2*femtosecond,  # NOTE that 2 fs step doesn't work well for unconstrainted FFs\n",
    "        total_time=0.5*nanosecond, # just a short simulation to demonstrate\n",
    "        num_samples=50, # don't want to take too many samples\n",
    "    ),\n",
    "    thermo_params=ThermoParameters(\n",
    "        ensemble='NVT', # clamp volume\n",
    "        temperature=300*kelvin,\n",
    "        friction_coeff=1*picosecond**-1, \n",
    "    ),\n",
    "    reporter_params=reporter_params,\n",
    ")"
   ]
  },
  {
   "cell_type": "code",
   "execution_count": null,
   "id": "af143bf0",
   "metadata": {},
   "outputs": [],
   "source": []
  }
 ],
 "metadata": {
  "kernelspec": {
   "display_name": "polymerist-dev",
   "language": "python",
   "name": "python3"
  },
  "language_info": {
   "name": "python",
   "version": "3.11.0"
  }
 },
 "nbformat": 4,
 "nbformat_minor": 5
}
