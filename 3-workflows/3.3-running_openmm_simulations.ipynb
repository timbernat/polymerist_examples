{
 "cells": [
  {
   "cell_type": "markdown",
   "id": "49db0c7f",
   "metadata": {},
   "source": [
    "# Demo 3: Running serial simulations with OpenMM\n",
    "In the penultimate example of this series, we show how easy managing, running, and chaining together OpenMM simulations can be with `polymerist`"
   ]
  },
  {
   "cell_type": "code",
   "execution_count": 1,
   "id": "d180b918",
   "metadata": {},
   "outputs": [],
   "source": [
    "import warnings \n",
    "warnings.catch_warnings(record=True)\n",
    "\n",
    "import logging\n",
    "logging.basicConfig(level=logging.INFO)"
   ]
  },
  {
   "cell_type": "code",
   "execution_count": 2,
   "id": "597f47eb",
   "metadata": {},
   "outputs": [],
   "source": [
    "from pathlib import Path\n",
    "from polymerist.genutils.fileutils.pathutils import is_empty, assemble_path\n",
    "\n",
    "\n",
    "EXAMPLE_DIR = Path('prepared_system_examples')\n",
    "assert EXAMPLE_DIR.exists() and not is_empty(EXAMPLE_DIR)\n",
    "\n",
    "OUTPUT_DIR = Path('scratch_MD') # dummy directory for writing without tampering with example inputs\n",
    "OUTPUT_DIR.mkdir(exist_ok=True)"
   ]
  },
  {
   "cell_type": "markdown",
   "id": "6ba3c73b",
   "metadata": {},
   "source": [
    "## Loading a prepared polymer topology\n",
    "Check out the [previous demo all about this](3.1-MD_export_with_Interchange.ipynb) this if you haven't already"
   ]
  },
  {
   "cell_type": "code",
   "execution_count": 3,
   "id": "468e1673",
   "metadata": {},
   "outputs": [
    {
     "name": "stderr",
     "output_type": "stream",
     "text": [
      "INFO:rdkit:Enabling RDKit 2023.09.6 jupyter extensions\n",
      "/home/timber/miniconda3/envs/polymerist-env/lib/python3.11/site-packages/smirnoff99frosst/smirnoff99frosst.py:11: UserWarning: pkg_resources is deprecated as an API. See https://setuptools.pypa.io/en/latest/pkg_resources.html. The pkg_resources package is slated for removal as early as 2025-11-30. Refrain from using this package or pin to Setuptools<81.\n",
      "  from pkg_resources import resource_filename\n",
      "INFO:numexpr.utils:Note: NumExpr detected 20 cores but \"NUMEXPR_MAX_THREADS\" not set, so enforcing safe limit of 16.\n",
      "INFO:numexpr.utils:NumExpr defaulting to 16 threads.\n",
      "INFO:openff.toolkit.typing.engines.smirnoff.parameters:Attempting to up-convert vdW section from 0.3 to 0.4\n",
      "INFO:openff.toolkit.typing.engines.smirnoff.parameters:Successfully up-converted vdW section from 0.3 to 0.4. `method=\"cutoff\"` is now split into `periodic_method=\"cutoff\"` and `nonperiodic_method=\"no-cutoff\"`.\n",
      "INFO:openff.toolkit.typing.engines.smirnoff.parameters:Attempting to up-convert Electrostatics section from 0.3 to 0.4\n",
      "INFO:openff.toolkit.typing.engines.smirnoff.parameters:Successfully up-converted Electrostatics section from 0.3 to 0.4. `method=\"PME\"` is now split into `periodic_potential=\"Ewald3D-ConductingBoundary\"`, `nonperiodic_potential=\"Coulomb\"`, and `exception_potential=\"Coulomb\"`.\n"
     ]
    },
    {
     "data": {
      "application/vnd.jupyter.widget-view+json": {
       "model_id": "be37bc45678741939e48c5dcf025b7c1",
       "version_major": 2,
       "version_minor": 0
      },
      "text/plain": []
     },
     "metadata": {},
     "output_type": "display_data"
    },
    {
     "data": {
      "application/vnd.jupyter.widget-view+json": {
       "model_id": "7d9200fbd9d44bd98a3826139bdf25c1",
       "version_major": 2,
       "version_minor": 0
      },
      "text/plain": [
       "NGLWidget()"
      ]
     },
     "metadata": {},
     "output_type": "display_data"
    }
   ],
   "source": [
    "from openff.toolkit import ForceField\n",
    "from openff.interchange import Interchange\n",
    "\n",
    "warnings.filterwarnings('ignore', category=DeprecationWarning) # catches annoying DeprecationWarnings from Interchange\n",
    "logging.getLogger('openff.interchange.smirnoff._nonbonded').setLevel(logging.CRITICAL) # suppress spammy \"Preset charges...\" logs otherwise printed for EVERY atom in an Interchange\n",
    "\n",
    "from polymerist.mdtools.openfftools.topology import topology_from_sdf\n",
    "from polymerist.mdtools.openfftools.boxvectors import get_topology_bbox\n",
    "\n",
    "\n",
    "prepared_polymer_system_sdf = assemble_path(EXAMPLE_DIR, 'PNIPAAm_solv_water_TIP3P', 'sdf')\n",
    "assert prepared_polymer_system_sdf.exists()\n",
    "polymer_topology = topology_from_sdf(prepared_polymer_system_sdf)\n",
    "\n",
    "forcefield = ForceField('openff-2.1.0.offxml') # choose a different forcefield here if you wish\n",
    "interchange = Interchange.from_smirnoff(forcefield, polymer_topology, charge_from_molecules=list(polymer_topology.unique_molecules))\n",
    "interchange.box = get_topology_bbox(polymer_topology)\n",
    "interchange.visualize()"
   ]
  },
  {
   "cell_type": "markdown",
   "id": "cb6482c0",
   "metadata": {},
   "source": [
    "## Defining simulation parameters\n",
    "Also check out the dedicated demo on [defining simulation parameters](3.2-defining_simulation_parameters.ipynb) if you haven't already!"
   ]
  },
  {
   "cell_type": "markdown",
   "id": "9d597e35",
   "metadata": {},
   "source": [
    "### Equilbration parameters:\n",
    "Here we demonstrate an initial NPT equilibration simulation, with parameter sets defined via the API"
   ]
  },
  {
   "cell_type": "code",
   "execution_count": 4,
   "id": "79cac8d6",
   "metadata": {},
   "outputs": [
    {
     "name": "stderr",
     "output_type": "stream",
     "text": [
      "WARNING:polymerist.mdtools.openmmtools.thermo:Adjusting Barostat temperature from \"None\" to 300 K to maintain temperature coupling w/ thermostat\n"
     ]
    },
    {
     "name": "stdout",
     "output_type": "stream",
     "text": [
      "NPT (Isothermal-isobaric) ensemble\n"
     ]
    }
   ],
   "source": [
    "from openmm.unit import femtosecond, picosecond, nanosecond, kelvin, atmosphere\n",
    "from polymerist.mdtools.openmmtools.parameters import (\n",
    "    ThermoParameters,\n",
    "    ThermostatParameters,\n",
    "    BarostatParameters,\n",
    "    IntegratorParameters,\n",
    "    ReporterParameters,\n",
    "    SimulationParameters\n",
    ")\n",
    "\n",
    "equilibration_params = SimulationParameters(\n",
    "    thermo_params=ThermoParameters(\n",
    "        thermostat_params=ThermostatParameters(\n",
    "            temperature=300*kelvin,\n",
    "            timescale=1/picosecond,\n",
    "            thermostat='LangevinMiddle'\n",
    "        ),\n",
    "        barostat_params=BarostatParameters(\n",
    "            pressure=1*atmosphere,\n",
    "            barostat='MC', # Monte-Carlo barostat\n",
    "        )\n",
    "    ),\n",
    "    integ_params=IntegratorParameters(\n",
    "        time_step=2*femtosecond,\n",
    "        total_time=0.1*nanosecond,\n",
    "        num_samples=50,\n",
    "    ),\n",
    "    reporter_params=ReporterParameters(\n",
    "        report_state=True,\n",
    "        report_checkpoint=True,\n",
    "        report_state_data=True,\n",
    "    ),\n",
    ")\n",
    "\n",
    "print(equilibration_params.thermo_params.describe_ensemble())"
   ]
  },
  {
   "cell_type": "markdown",
   "id": "cb75736d",
   "metadata": {},
   "source": [
    "### Production parameters:\n",
    "Following equilibration, we'd like to run an NVT (i.e. thermostatted, but not barostatted) production simulation  \n",
    "These can also be defined via the API, but here we load them from a file just to show you that you can also fetch your simulation parameters that way"
   ]
  },
  {
   "cell_type": "code",
   "execution_count": 5,
   "id": "9e82bec3",
   "metadata": {},
   "outputs": [
    {
     "name": "stdout",
     "output_type": "stream",
     "text": [
      "NVT (Canonical) ensemble\n"
     ]
    }
   ],
   "source": [
    "prod_params_path = assemble_path(EXAMPLE_DIR, 'prod_params', 'json')\n",
    "assert prod_params_path.exists()\n",
    "\n",
    "production_params = SimulationParameters.from_file(prod_params_path)\n",
    "print(production_params.thermo_params.describe_ensemble())"
   ]
  },
  {
   "cell_type": "markdown",
   "id": "884b91e9",
   "metadata": {},
   "source": [
    "Note that this \"production\" is relatively short just so this demo doesn't take forever, but you can image making this as long as you need"
   ]
  },
  {
   "cell_type": "code",
   "execution_count": 6,
   "id": "18ed2db1",
   "metadata": {},
   "outputs": [
    {
     "name": "stdout",
     "output_type": "stream",
     "text": [
      "100 ps\n"
     ]
    }
   ],
   "source": [
    "print(production_params.integ_params.total_time)"
   ]
  },
  {
   "cell_type": "markdown",
   "id": "d979347b",
   "metadata": {},
   "source": [
    "## Running a simulation \"schedule\"\n",
    "A \"schedule\" here denotes a serial sequence of simulations, each defined by their own SimulationParameters, each run in its own dedicated directory  \n",
    "The initial topology, system, and positions provided will be passed to the first simulation in the schedule; all subsequent simulations will obtain these from the end of the previous simulation\n",
    "\n",
    "<font color='red'>STATE IS NOT SHARED BETWEEN SUCCESSIVE SIMULATIONS IN A SCHEDULE</font>; At least as of this release, each simulation generate a new, empty State  \n",
    "to avoid back-to-back simulations with potentially vastly-different thermodynamic parameters from contaminating one another"
   ]
  },
  {
   "cell_type": "code",
   "execution_count": 7,
   "id": "ebd85531",
   "metadata": {},
   "outputs": [
    {
     "name": "stderr",
     "output_type": "stream",
     "text": [
      "INFO:polymerist.mdtools.openmmtools.execution:Initializing simulation 1/2 (\"equilibration\")\n",
      "INFO:polymerist.mdtools.openmmtools.preparation:No explicit initial State supplied, defaulting to State cached in \"scratch_MD/PNIPAAm_solv_water_TIP3P/equilibration/equilibration_state.xml\"\n",
      "INFO:polymerist.mdtools.openmmtools.thermo:Created MonteCarloBarostat Force for NPT (Isothermal-isobaric) ensemble\n",
      "INFO:polymerist.mdtools.openmmtools.preparation:Registering new Force \"MonteCarloBarostat\" to System to enforce chosen ensemble (isothermal-isobaric)\n",
      "INFO:polymerist.mdtools.openmmtools.thermo:Created LangevinMiddleIntegrator for NPT (Isothermal-isobaric) ensemble\n",
      "INFO:polymerist.mdtools.openmmtools.preparation:Setting positions in Context\n",
      "INFO:polymerist.mdtools.openmmtools.serialization.state:Attempting to load State from file \"scratch_MD/PNIPAAm_solv_water_TIP3P/equilibration/equilibration_state.xml\"\n",
      "INFO:polymerist.mdtools.openmmtools.serialization.state:Using successfully-initialized State <class 'openmm.openmm.State'>\n",
      "INFO:polymerist.mdtools.openmmtools.preparation:Setting simulation state\n",
      "INFO:polymerist.mdtools.openmmtools.reporters:Prepared DCDReporter which reports to scratch_MD/PNIPAAm_solv_water_TIP3P/equilibration/equilibration_trajectory.dcd\n",
      "INFO:polymerist.mdtools.openmmtools.reporters:Prepared CheckpointReporter which reports to scratch_MD/PNIPAAm_solv_water_TIP3P/equilibration/equilibration_checkpoint.chk\n",
      "INFO:polymerist.mdtools.openmmtools.reporters:Prepared StateReporter which reports to scratch_MD/PNIPAAm_solv_water_TIP3P/equilibration/equilibration_state.xml\n",
      "INFO:polymerist.mdtools.openmmtools.reporters:Prepared StateDataReporter which reports to scratch_MD/PNIPAAm_solv_water_TIP3P/equilibration/equilibration_state_data.csv\n",
      "INFO:polymerist.mdtools.openmmtools.execution:Performing energy minimization (initial PE = -83070.83577457856 kJ/mol)\n",
      "INFO:polymerist.mdtools.openmmtools.execution:Energy successfully minimized (final PE = -104113.63972965669 kJ/mol)\n",
      "INFO:polymerist.mdtools.openmmtools.execution:Saved energy-minimized Simulation Topology at scratch_MD/PNIPAAm_solv_water_TIP3P/equilibration/equilibration_topology.pdb\n",
      "INFO:polymerist.mdtools.openmmtools.execution:Saved serialized Simulation System at scratch_MD/PNIPAAm_solv_water_TIP3P/equilibration/equilibration_system.xml\n",
      "INFO:polymerist.mdtools.openmmtools.execution:Integrating 0.1 ns OpenMM Simulation for 50000 steps\n",
      "INFO:polymerist.mdtools.openmmtools.execution:Simulation integration completed successfully\n",
      "INFO:polymerist.mdtools.openmmtools.execution:\n",
      "INFO:polymerist.mdtools.openmmtools.execution:Initializing simulation 2/2 (\"production\")\n",
      "INFO:polymerist.mdtools.openmmtools.preparation:No explicit initial State supplied, defaulting to State cached in \"scratch_MD/PNIPAAm_solv_water_TIP3P/production/production_state.xml\"\n",
      "WARNING:polymerist.mdtools.openmmtools.preparation:Removing Force \"MonteCarloBarostat\" (index=8) encountered from prior System setup\n",
      "INFO:polymerist.mdtools.openmmtools.thermo:Created AndersenThermostat Force for NVT (Canonical) ensemble\n",
      "INFO:polymerist.mdtools.openmmtools.preparation:Registering new Force \"AndersenThermostat\" to System to enforce chosen ensemble (canonical)\n",
      "INFO:polymerist.mdtools.openmmtools.thermo:Created VerletIntegrator for NVT (Canonical) ensemble\n",
      "INFO:polymerist.mdtools.openmmtools.preparation:Setting positions in Context\n",
      "INFO:polymerist.mdtools.openmmtools.serialization.state:Attempting to load State from file \"scratch_MD/PNIPAAm_solv_water_TIP3P/production/production_state.xml\"\n",
      "INFO:polymerist.mdtools.openmmtools.serialization.state:Using successfully-initialized State <class 'openmm.openmm.State'>\n",
      "INFO:polymerist.mdtools.openmmtools.preparation:Setting simulation state\n",
      "INFO:polymerist.mdtools.openmmtools.reporters:Prepared DCDReporter which reports to scratch_MD/PNIPAAm_solv_water_TIP3P/production/production_trajectory.dcd\n",
      "INFO:polymerist.mdtools.openmmtools.reporters:Prepared CheckpointReporter which reports to scratch_MD/PNIPAAm_solv_water_TIP3P/production/production_checkpoint.chk\n",
      "INFO:polymerist.mdtools.openmmtools.reporters:Prepared StateReporter which reports to scratch_MD/PNIPAAm_solv_water_TIP3P/production/production_state.xml\n",
      "INFO:polymerist.mdtools.openmmtools.reporters:Prepared StateDataReporter which reports to scratch_MD/PNIPAAm_solv_water_TIP3P/production/production_state_data.csv\n",
      "INFO:polymerist.mdtools.openmmtools.execution:Performing energy minimization (initial PE = -85360.0924989882 kJ/mol)\n",
      "INFO:polymerist.mdtools.openmmtools.execution:Energy successfully minimized (final PE = -105315.3597948256 kJ/mol)\n",
      "INFO:polymerist.mdtools.openmmtools.execution:Saved energy-minimized Simulation Topology at scratch_MD/PNIPAAm_solv_water_TIP3P/production/production_topology.pdb\n",
      "INFO:polymerist.mdtools.openmmtools.execution:Saved serialized Simulation System at scratch_MD/PNIPAAm_solv_water_TIP3P/production/production_system.xml\n",
      "INFO:polymerist.mdtools.openmmtools.execution:Integrating 100 ps OpenMM Simulation for 50000 steps\n",
      "INFO:polymerist.mdtools.openmmtools.execution:Simulation integration completed successfully\n",
      "INFO:polymerist.mdtools.openmmtools.execution:\n",
      "INFO:8732128451673:Process \"PNIPAAm_solv_water_TIP3P_sims\" completed in 0:00:59.106015\n",
      "\n"
     ]
    }
   ],
   "source": [
    "from polymerist.genutils.logutils.IOHandlers import MSFHandlerFlex \n",
    "from polymerist.mdtools.openmmtools.execution import run_simulation_schedule\n",
    "\n",
    "\n",
    "polymer_name : str = prepared_polymer_system_sdf.stem\n",
    "POLYMER_SIM_DIR = OUTPUT_DIR / polymer_name\n",
    "POLYMER_SIM_DIR.mkdir(exist_ok=True)\n",
    "\n",
    "# MSFHandler compiles log and error events into single, \"master\" log file\n",
    "logpath = assemble_path(POLYMER_SIM_DIR, 'simulation_status', 'log')\n",
    "with MSFHandlerFlex(filename=logpath, proc_name=f'{polymer_name}_sims') as logger:\n",
    "    history = run_simulation_schedule(\n",
    "        POLYMER_SIM_DIR, \n",
    "        schedule={ # simulations will be run in the order they appear here\n",
    "            'equilibration' : equilibration_params, \n",
    "            'production'    : production_params,\n",
    "        }, \n",
    "        init_top=interchange.to_openmm_topology(),\n",
    "        init_sys=interchange.to_openmm(combine_nonbonded_forces=False),\n",
    "        init_pos=interchange.get_positions(include_virtual_sites=True).to_openmm(),\n",
    "        return_history=True\n",
    "    )"
   ]
  },
  {
   "cell_type": "markdown",
   "id": "64675dd3",
   "metadata": {},
   "source": [
    "## Inspecting simulation history\n",
    "You may notice that `run_simulation_schedule(...)` returns a \"history\" in the above cell; this output enables you to access and inspect the final state of each simulation that was run  \n",
    "The \"history\" is a dict whose keys are the names you've assigned to each simulation step and whose values are a dict containing the completed Simulation (in its final state) and associate paths"
   ]
  },
  {
   "cell_type": "code",
   "execution_count": 8,
   "id": "001f3715",
   "metadata": {},
   "outputs": [
    {
     "data": {
      "text/plain": [
       "{'equilibration': {'simulation': <openmm.app.simulation.Simulation at 0x7f11b6a76710>,\n",
       "  'paths': SimulationPaths(parameters_path=PosixPath('scratch_MD/PNIPAAm_solv_water_TIP3P/equilibration/equilibration_parameters.json'), paths_path=PosixPath('scratch_MD/PNIPAAm_solv_water_TIP3P/equilibration/equilibration_paths.json'), system_path=PosixPath('scratch_MD/PNIPAAm_solv_water_TIP3P/equilibration/equilibration_system.xml'), topology_path=PosixPath('scratch_MD/PNIPAAm_solv_water_TIP3P/equilibration/equilibration_topology.pdb'), state_path=PosixPath('scratch_MD/PNIPAAm_solv_water_TIP3P/equilibration/equilibration_state.xml'), checkpoint_path=PosixPath('scratch_MD/PNIPAAm_solv_water_TIP3P/equilibration/equilibration_checkpoint.chk'), trajectory_path=PosixPath('scratch_MD/PNIPAAm_solv_water_TIP3P/equilibration/equilibration_trajectory.dcd'), state_data_path=PosixPath('scratch_MD/PNIPAAm_solv_water_TIP3P/equilibration/equilibration_state_data.csv'), time_data_path=None, spatial_data_path=None)},\n",
       " 'production': {'simulation': <openmm.app.simulation.Simulation at 0x7f11baf8f810>,\n",
       "  'paths': SimulationPaths(parameters_path=PosixPath('scratch_MD/PNIPAAm_solv_water_TIP3P/production/production_parameters.json'), paths_path=PosixPath('scratch_MD/PNIPAAm_solv_water_TIP3P/production/production_paths.json'), system_path=PosixPath('scratch_MD/PNIPAAm_solv_water_TIP3P/production/production_system.xml'), topology_path=PosixPath('scratch_MD/PNIPAAm_solv_water_TIP3P/production/production_topology.pdb'), state_path=PosixPath('scratch_MD/PNIPAAm_solv_water_TIP3P/production/production_state.xml'), checkpoint_path=PosixPath('scratch_MD/PNIPAAm_solv_water_TIP3P/production/production_checkpoint.chk'), trajectory_path=PosixPath('scratch_MD/PNIPAAm_solv_water_TIP3P/production/production_trajectory.dcd'), state_data_path=PosixPath('scratch_MD/PNIPAAm_solv_water_TIP3P/production/production_state_data.csv'), time_data_path=None, spatial_data_path=None)}}"
      ]
     },
     "execution_count": 8,
     "metadata": {},
     "output_type": "execute_result"
    }
   ],
   "source": [
    "history"
   ]
  },
  {
   "cell_type": "markdown",
   "id": "ed26d098",
   "metadata": {},
   "source": [
    "### Use case 1: assessing equilibration\n",
    "For example, we could pull out the paths from our equilibration simulation and look at the simulation state data to assess whether our system has really equilibrated"
   ]
  },
  {
   "cell_type": "code",
   "execution_count": 9,
   "id": "8e2e3714",
   "metadata": {},
   "outputs": [
    {
     "name": "stdout",
     "output_type": "stream",
     "text": [
      "<class 'polymerist.mdtools.openmmtools.serialization.paths.SimulationPaths'>\n",
      "scratch_MD/PNIPAAm_solv_water_TIP3P/equilibration/equilibration_parameters.json\n"
     ]
    }
   ],
   "source": [
    "equil_paths = history['equilibration']['paths']\n",
    "print(type(equil_paths))\n",
    "print(equil_paths.parameters_path)"
   ]
  },
  {
   "cell_type": "code",
   "execution_count": 10,
   "id": "1c00cb7d",
   "metadata": {},
   "outputs": [
    {
     "data": {
      "text/html": [
       "<div>\n",
       "<style scoped>\n",
       "    .dataframe tbody tr th:only-of-type {\n",
       "        vertical-align: middle;\n",
       "    }\n",
       "\n",
       "    .dataframe tbody tr th {\n",
       "        vertical-align: top;\n",
       "    }\n",
       "\n",
       "    .dataframe thead th {\n",
       "        text-align: right;\n",
       "    }\n",
       "</style>\n",
       "<table border=\"1\" class=\"dataframe\">\n",
       "  <thead>\n",
       "    <tr style=\"text-align: right;\">\n",
       "      <th></th>\n",
       "      <th>#\"Step\"</th>\n",
       "      <th>Time (ps)</th>\n",
       "      <th>Potential Energy (kJ/mole)</th>\n",
       "      <th>Kinetic Energy (kJ/mole)</th>\n",
       "      <th>Total Energy (kJ/mole)</th>\n",
       "      <th>Temperature (K)</th>\n",
       "      <th>Box Volume (nm^3)</th>\n",
       "      <th>Density (g/mL)</th>\n",
       "      <th>Speed (ns/day)</th>\n",
       "    </tr>\n",
       "  </thead>\n",
       "  <tbody>\n",
       "    <tr>\n",
       "      <th>0</th>\n",
       "      <td>51000</td>\n",
       "      <td>102.0</td>\n",
       "      <td>-86820.414503</td>\n",
       "      <td>14604.330078</td>\n",
       "      <td>-72216.084424</td>\n",
       "      <td>271.294644</td>\n",
       "      <td>62.874000</td>\n",
       "      <td>1.009021</td>\n",
       "      <td>0</td>\n",
       "    </tr>\n",
       "    <tr>\n",
       "      <th>1</th>\n",
       "      <td>52000</td>\n",
       "      <td>104.0</td>\n",
       "      <td>-84177.508770</td>\n",
       "      <td>15552.387695</td>\n",
       "      <td>-68625.121074</td>\n",
       "      <td>288.906061</td>\n",
       "      <td>62.637622</td>\n",
       "      <td>1.012829</td>\n",
       "      <td>407</td>\n",
       "    </tr>\n",
       "    <tr>\n",
       "      <th>2</th>\n",
       "      <td>53000</td>\n",
       "      <td>106.0</td>\n",
       "      <td>-83236.501482</td>\n",
       "      <td>16106.837891</td>\n",
       "      <td>-67129.663592</td>\n",
       "      <td>299.205703</td>\n",
       "      <td>62.354333</td>\n",
       "      <td>1.017431</td>\n",
       "      <td>401</td>\n",
       "    </tr>\n",
       "    <tr>\n",
       "      <th>3</th>\n",
       "      <td>54000</td>\n",
       "      <td>108.0</td>\n",
       "      <td>-82893.015490</td>\n",
       "      <td>16392.697266</td>\n",
       "      <td>-66500.318224</td>\n",
       "      <td>304.515917</td>\n",
       "      <td>62.787269</td>\n",
       "      <td>1.010415</td>\n",
       "      <td>403</td>\n",
       "    </tr>\n",
       "    <tr>\n",
       "      <th>4</th>\n",
       "      <td>55000</td>\n",
       "      <td>110.0</td>\n",
       "      <td>-83066.148198</td>\n",
       "      <td>16328.023438</td>\n",
       "      <td>-66738.124761</td>\n",
       "      <td>303.314516</td>\n",
       "      <td>63.142073</td>\n",
       "      <td>1.004737</td>\n",
       "      <td>404</td>\n",
       "    </tr>\n",
       "    <tr>\n",
       "      <th>5</th>\n",
       "      <td>56000</td>\n",
       "      <td>112.0</td>\n",
       "      <td>-82594.057607</td>\n",
       "      <td>16578.144531</td>\n",
       "      <td>-66015.913076</td>\n",
       "      <td>307.960844</td>\n",
       "      <td>63.514984</td>\n",
       "      <td>0.998838</td>\n",
       "      <td>402</td>\n",
       "    </tr>\n",
       "    <tr>\n",
       "      <th>6</th>\n",
       "      <td>57000</td>\n",
       "      <td>114.0</td>\n",
       "      <td>-83054.696340</td>\n",
       "      <td>16021.161133</td>\n",
       "      <td>-67033.535207</td>\n",
       "      <td>297.614145</td>\n",
       "      <td>63.243429</td>\n",
       "      <td>1.003127</td>\n",
       "      <td>395</td>\n",
       "    </tr>\n",
       "    <tr>\n",
       "      <th>7</th>\n",
       "      <td>58000</td>\n",
       "      <td>116.0</td>\n",
       "      <td>-82923.966327</td>\n",
       "      <td>16282.787109</td>\n",
       "      <td>-66641.179218</td>\n",
       "      <td>302.474191</td>\n",
       "      <td>63.101233</td>\n",
       "      <td>1.005388</td>\n",
       "      <td>393</td>\n",
       "    </tr>\n",
       "    <tr>\n",
       "      <th>8</th>\n",
       "      <td>59000</td>\n",
       "      <td>118.0</td>\n",
       "      <td>-83195.696046</td>\n",
       "      <td>16073.248047</td>\n",
       "      <td>-67122.447999</td>\n",
       "      <td>298.581728</td>\n",
       "      <td>62.949816</td>\n",
       "      <td>1.007806</td>\n",
       "      <td>392</td>\n",
       "    </tr>\n",
       "    <tr>\n",
       "      <th>9</th>\n",
       "      <td>60000</td>\n",
       "      <td>120.0</td>\n",
       "      <td>-83252.806851</td>\n",
       "      <td>15978.691406</td>\n",
       "      <td>-67274.115444</td>\n",
       "      <td>296.825214</td>\n",
       "      <td>62.487750</td>\n",
       "      <td>1.015258</td>\n",
       "      <td>393</td>\n",
       "    </tr>\n",
       "  </tbody>\n",
       "</table>\n",
       "</div>"
      ],
      "text/plain": [
       "   #\"Step\"  Time (ps)  Potential Energy (kJ/mole)  Kinetic Energy (kJ/mole)  \\\n",
       "0    51000      102.0               -86820.414503              14604.330078   \n",
       "1    52000      104.0               -84177.508770              15552.387695   \n",
       "2    53000      106.0               -83236.501482              16106.837891   \n",
       "3    54000      108.0               -82893.015490              16392.697266   \n",
       "4    55000      110.0               -83066.148198              16328.023438   \n",
       "5    56000      112.0               -82594.057607              16578.144531   \n",
       "6    57000      114.0               -83054.696340              16021.161133   \n",
       "7    58000      116.0               -82923.966327              16282.787109   \n",
       "8    59000      118.0               -83195.696046              16073.248047   \n",
       "9    60000      120.0               -83252.806851              15978.691406   \n",
       "\n",
       "   Total Energy (kJ/mole)  Temperature (K)  Box Volume (nm^3)  Density (g/mL)  \\\n",
       "0           -72216.084424       271.294644          62.874000        1.009021   \n",
       "1           -68625.121074       288.906061          62.637622        1.012829   \n",
       "2           -67129.663592       299.205703          62.354333        1.017431   \n",
       "3           -66500.318224       304.515917          62.787269        1.010415   \n",
       "4           -66738.124761       303.314516          63.142073        1.004737   \n",
       "5           -66015.913076       307.960844          63.514984        0.998838   \n",
       "6           -67033.535207       297.614145          63.243429        1.003127   \n",
       "7           -66641.179218       302.474191          63.101233        1.005388   \n",
       "8           -67122.447999       298.581728          62.949816        1.007806   \n",
       "9           -67274.115444       296.825214          62.487750        1.015258   \n",
       "\n",
       "   Speed (ns/day)  \n",
       "0               0  \n",
       "1             407  \n",
       "2             401  \n",
       "3             403  \n",
       "4             404  \n",
       "5             402  \n",
       "6             395  \n",
       "7             393  \n",
       "8             392  \n",
       "9             393  "
      ]
     },
     "execution_count": 10,
     "metadata": {},
     "output_type": "execute_result"
    }
   ],
   "source": [
    "import pandas as pd\n",
    "import matplotlib.pyplot as plt\n",
    "\n",
    "\n",
    "state_data = pd.read_csv(equil_paths.state_data_path)\n",
    "state_data.head(10)"
   ]
  },
  {
   "cell_type": "code",
   "execution_count": 11,
   "id": "8e4ee50a",
   "metadata": {},
   "outputs": [
    {
     "data": {
      "image/png": "[encoded data removed]",
      "text/plain": [
       "<Figure size 640x480 with 1 Axes>"
      ]
     },
     "metadata": {},
     "output_type": "display_data"
    }
   ],
   "source": [
    "x_prop : str = 'Time (ps)'\n",
    "y_prop : str = 'Density (g/mL)'\n",
    "\n",
    "plt.plot(state_data[x_prop], state_data[y_prop])\n",
    "plt.xlabel(x_prop)\n",
    "plt.ylabel(y_prop)\n",
    "plt.title('Equilibration Simulation Density')\n",
    "plt.show()"
   ]
  },
  {
   "cell_type": "markdown",
   "id": "bdf68825",
   "metadata": {},
   "source": [
    "### Use case 2: analyzing potential energy contributions\n",
    "As another useful example, we can perform a single-point energy evaluation of the final state of our simulation, or inspect the forces acting upon it"
   ]
  },
  {
   "cell_type": "code",
   "execution_count": 12,
   "id": "f9e134ba",
   "metadata": {},
   "outputs": [
    {
     "name": "stdout",
     "output_type": "stream",
     "text": [
      "<class 'openmm.app.simulation.Simulation'>\n",
      "-85241.65580007463 kJ/mol\n"
     ]
    }
   ],
   "source": [
    "prod_sim = history['production']['simulation']\n",
    "print(type(prod_sim))\n",
    "print(prod_sim.context.getState(getEnergy=True).getPotentialEnergy())"
   ]
  },
  {
   "cell_type": "code",
   "execution_count": 13,
   "id": "041bf360",
   "metadata": {},
   "outputs": [
    {
     "data": {
      "text/plain": [
       "{'Total potential energy': -85241.65580007463 kJ/mol,\n",
       " 'Total kinetic energy': 16078.296875 kJ/mol,\n",
       " 'vdW force potential energy': 15605.509281772467 kJ/mol,\n",
       " 'Electrostatics force potential energy': -98512.12761389057 kJ/mol,\n",
       " 'vdW 1-4 force potential energy': 460.0588150024414 kJ/mol,\n",
       " 'Electrostatics 1-4 force potential energy': -5447.7022705078125 kJ/mol,\n",
       " 'PeriodicTorsionForce potential energy': 1010.9578733444214 kJ/mol,\n",
       " 'HarmonicAngleForce potential energy': 1279.3270263671875 kJ/mol,\n",
       " 'HarmonicBondForce potential energy': 362.3329772949219 kJ/mol,\n",
       " 'CMMotionRemover potential energy': 0.0 kJ/mol,\n",
       " 'AndersenThermostat potential energy': 0.0 kJ/mol}"
      ]
     },
     "execution_count": 13,
     "metadata": {},
     "output_type": "execute_result"
    }
   ],
   "source": [
    "from polymerist.mdtools.openmmtools.evaluation import get_openmm_energies_separated\n",
    "\n",
    "get_openmm_energies_separated(prod_sim.context)"
   ]
  },
  {
   "cell_type": "code",
   "execution_count": 14,
   "id": "9db0787d",
   "metadata": {},
   "outputs": [
    {
     "data": {
      "text/plain": [
       "{'vdW force': {'CutoffDistance': 0.9 nm,\n",
       "  'EnergyFunction': '4*epsilon*((sigma/r)^12-(sigma/r)^6); sigma=(sigma1+sigma2)/2; epsilon=sqrt(epsilon1*epsilon2); ',\n",
       "  'ForceGroup': 0,\n",
       "  'Name': 'vdW force',\n",
       "  'NonbondedMethod': 2,\n",
       "  'NumComputedValues': 0,\n",
       "  'NumEnergyParameterDerivatives': 0,\n",
       "  'NumExclusions': 8734,\n",
       "  'NumFunctions': 0,\n",
       "  'NumGlobalParameters': 0,\n",
       "  'NumInteractionGroups': 0,\n",
       "  'NumParticles': 6368,\n",
       "  'NumPerParticleParameters': 2,\n",
       "  'NumTabulatedFunctions': 0,\n",
       "  'SwitchingDistance': 0.8 nm,\n",
       "  'UseLongRangeCorrection': True,\n",
       "  'UseSwitchingFunction': True,\n",
       "  'Type': 'CustomNonbondedForce',\n",
       "  'LongRangeNonbondedMethod': 'CutoffPeriodic'},\n",
       " 'Electrostatics force': {'CutoffDistance': 0.9 nm,\n",
       "  'EwaldErrorTolerance': 0.0001,\n",
       "  'ExceptionsUsePeriodicBoundaryConditions': False,\n",
       "  'ForceGroup': 1,\n",
       "  'IncludeDirectSpace': True,\n",
       "  'LJPMEParameters': [0.0, 0, 0, 0],\n",
       "  'Name': 'Electrostatics force',\n",
       "  'NonbondedMethod': 4,\n",
       "  'NumExceptionParameterOffsets': 0,\n",
       "  'NumExceptions': 8734,\n",
       "  'NumGlobalParameters': 0,\n",
       "  'NumParticleParameterOffsets': 0,\n",
       "  'NumParticles': 6368,\n",
       "  'PMEParameters': [0.0 /nm, 0, 0, 0],\n",
       "  'ReactionFieldDielectric': 78.3,\n",
       "  'ReciprocalSpaceForceGroup': -1,\n",
       "  'SwitchingDistance': -1.0 nm,\n",
       "  'UseDispersionCorrection': True,\n",
       "  'UseSwitchingFunction': False,\n",
       "  'Type': 'NonbondedForce',\n",
       "  'LongRangeNonbondedMethod': 'PME'},\n",
       " 'vdW 1-4 force': {'EnergyFunction': '4*epsilon*((sigma/r)^12-(sigma/r)^6)',\n",
       "  'ForceGroup': 2,\n",
       "  'Name': 'vdW 1-4 force',\n",
       "  'NumBonds': 1395,\n",
       "  'NumEnergyParameterDerivatives': 0,\n",
       "  'NumGlobalParameters': 0,\n",
       "  'NumPerBondParameters': 2,\n",
       "  'Type': 'CustomBondForce'},\n",
       " 'Electrostatics 1-4 force': {'EnergyFunction': '138.935456*qq/r',\n",
       "  'ForceGroup': 3,\n",
       "  'Name': 'Electrostatics 1-4 force',\n",
       "  'NumBonds': 1395,\n",
       "  'NumEnergyParameterDerivatives': 0,\n",
       "  'NumGlobalParameters': 0,\n",
       "  'NumPerBondParameters': 1,\n",
       "  'Type': 'CustomBondForce'},\n",
       " 'PeriodicTorsionForce': {'ForceGroup': 4,\n",
       "  'Name': 'PeriodicTorsionForce',\n",
       "  'NumTorsions': 2146,\n",
       "  'Type': 'PeriodicTorsionForce'},\n",
       " 'HarmonicAngleForce': {'ForceGroup': 5,\n",
       "  'Name': 'HarmonicAngleForce',\n",
       "  'NumAngles': 972,\n",
       "  'Type': 'HarmonicAngleForce'},\n",
       " 'HarmonicBondForce': {'ForceGroup': 6,\n",
       "  'Name': 'HarmonicBondForce',\n",
       "  'NumBonds': 215,\n",
       "  'Type': 'HarmonicBondForce'},\n",
       " 'CMMotionRemover': {'ForceGroup': 7,\n",
       "  'Frequency': 1,\n",
       "  'Name': 'CMMotionRemover',\n",
       "  'Type': 'CMMotionRemover'},\n",
       " 'AndersenThermostat': {'DefaultCollisionFrequency': 1.0 /ps,\n",
       "  'DefaultTemperature': 300.0 K,\n",
       "  'ForceGroup': 31,\n",
       "  'Name': 'AndersenThermostat',\n",
       "  'RandomNumberSeed': 0,\n",
       "  'Type': 'AndersenThermostat'}}"
      ]
     },
     "execution_count": 14,
     "metadata": {},
     "output_type": "execute_result"
    }
   ],
   "source": [
    "from polymerist.mdtools.openmmtools.forces import describe_forces\n",
    "\n",
    "describe_forces(prod_sim.system)"
   ]
  },
  {
   "cell_type": "code",
   "execution_count": null,
   "id": "7dab6724",
   "metadata": {},
   "outputs": [],
   "source": []
  }
 ],
 "metadata": {
  "kernelspec": {
   "display_name": "polymerist-env",
   "language": "python",
   "name": "python3"
  },
  "language_info": {
   "codemirror_mode": {
    "name": "ipython",
    "version": 3
   },
   "file_extension": ".py",
   "mimetype": "text/x-python",
   "name": "python",
   "nbconvert_exporter": "python",
   "pygments_lexer": "ipython3",
   "version": "3.11.0"
  }
 },
 "nbformat": 4,
 "nbformat_minor": 5
}
