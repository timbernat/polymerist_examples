{
 "cells": [
  {
   "cell_type": "markdown",
   "id": "49db0c7f",
   "metadata": {},
   "source": [
    "# Demo 3: Running serial simulations with OpenMM\n",
    "In the penultimate example of this series, we show how easy managing, running, and chaining together OpenMM simulations can be with `polymerist`"
   ]
  },
  {
   "cell_type": "code",
   "execution_count": 1,
   "id": "d180b918",
   "metadata": {},
   "outputs": [],
   "source": [
    "import warnings \n",
    "warnings.catch_warnings(record=True)\n",
    "\n",
    "import logging\n",
    "logging.basicConfig(level=logging.INFO)"
   ]
  },
  {
   "cell_type": "code",
   "execution_count": 2,
   "id": "597f47eb",
   "metadata": {},
   "outputs": [],
   "source": [
    "from pathlib import Path\n",
    "from polymerist.genutils.fileutils.pathutils import is_empty, assemble_path\n",
    "\n",
    "\n",
    "EXAMPLE_DIR = Path('prepared_system_examples')\n",
    "assert EXAMPLE_DIR.exists() and not is_empty(EXAMPLE_DIR)\n",
    "\n",
    "OUTPUT_DIR = Path('scratch_MD') # dummy directory for writing without tampering with example inputs\n",
    "OUTPUT_DIR.mkdir(exist_ok=True)"
   ]
  },
  {
   "cell_type": "markdown",
   "id": "6ba3c73b",
   "metadata": {},
   "source": [
    "## Loading a prepared polymer topology\n",
    "Check out the [previous demo all about this](3.1-MD_export_with_Interchange.ipynb) this if you haven't already"
   ]
  },
  {
   "cell_type": "code",
   "execution_count": 3,
   "id": "468e1673",
   "metadata": {},
   "outputs": [
    {
     "name": "stderr",
     "output_type": "stream",
     "text": [
      "INFO:rdkit:Enabling RDKit 2023.09.6 jupyter extensions\n",
      "/home/timber/miniconda3/envs/polymerist-test/lib/python3.11/site-packages/smirnoff99frosst/smirnoff99frosst.py:11: UserWarning: pkg_resources is deprecated as an API. See https://setuptools.pypa.io/en/latest/pkg_resources.html. The pkg_resources package is slated for removal as early as 2025-11-30. Refrain from using this package or pin to Setuptools<81.\n",
      "  from pkg_resources import resource_filename\n",
      "INFO:numexpr.utils:Note: NumExpr detected 20 cores but \"NUMEXPR_MAX_THREADS\" not set, so enforcing safe limit of 16.\n",
      "INFO:numexpr.utils:NumExpr defaulting to 16 threads.\n",
      "INFO:openff.toolkit.typing.engines.smirnoff.parameters:Attempting to up-convert vdW section from 0.3 to 0.4\n",
      "INFO:openff.toolkit.typing.engines.smirnoff.parameters:Successfully up-converted vdW section from 0.3 to 0.4. `method=\"cutoff\"` is now split into `periodic_method=\"cutoff\"` and `nonperiodic_method=\"no-cutoff\"`.\n",
      "INFO:openff.toolkit.typing.engines.smirnoff.parameters:Attempting to up-convert Electrostatics section from 0.3 to 0.4\n",
      "INFO:openff.toolkit.typing.engines.smirnoff.parameters:Successfully up-converted Electrostatics section from 0.3 to 0.4. `method=\"PME\"` is now split into `periodic_potential=\"Ewald3D-ConductingBoundary\"`, `nonperiodic_potential=\"Coulomb\"`, and `exception_potential=\"Coulomb\"`.\n"
     ]
    },
    {
     "data": {
      "application/vnd.jupyter.widget-view+json": {
       "model_id": "f90280eec4a44a95a4bd1354d7b6f1ef",
       "version_major": 2,
       "version_minor": 0
      },
      "text/plain": []
     },
     "metadata": {},
     "output_type": "display_data"
    },
    {
     "data": {
      "application/vnd.jupyter.widget-view+json": {
       "model_id": "dbd768034cc241f7b38d8847979a2e49",
       "version_major": 2,
       "version_minor": 0
      },
      "text/plain": [
       "NGLWidget()"
      ]
     },
     "metadata": {},
     "output_type": "display_data"
    }
   ],
   "source": [
    "from openff.toolkit import ForceField\n",
    "from openff.interchange import Interchange\n",
    "\n",
    "warnings.filterwarnings('ignore', category=DeprecationWarning) # catches annoying DeprecationWarnings from Interchange\n",
    "logging.getLogger('openff.interchange.smirnoff._nonbonded').setLevel(logging.CRITICAL) # suppress spammy \"Preset charges...\" logs otherwise printed for EVERY atom in an Interchange\n",
    "\n",
    "from polymerist.mdtools.openfftools.topology import topology_from_sdf\n",
    "from polymerist.mdtools.openfftools.boxvectors import get_topology_bbox\n",
    "\n",
    "\n",
    "prepared_polymer_system_sdf = assemble_path(EXAMPLE_DIR, 'PNIPAAm_solv_water_TIP3P', 'sdf')\n",
    "assert prepared_polymer_system_sdf.exists()\n",
    "polymer_topology = topology_from_sdf(prepared_polymer_system_sdf)\n",
    "\n",
    "forcefield = ForceField('openff-2.1.0.offxml') # choose a different forcefield here if you wish\n",
    "interchange = Interchange.from_smirnoff(forcefield, polymer_topology, charge_from_molecules=list(polymer_topology.unique_molecules))\n",
    "interchange.box = get_topology_bbox(polymer_topology)\n",
    "interchange.visualize()"
   ]
  },
  {
   "cell_type": "markdown",
   "id": "cb6482c0",
   "metadata": {},
   "source": [
    "## Defining simulation parameters\n",
    "Also check out the dedicated demo on [defining simulation parameters](3.2-defining_simulation_parameters.ipynb) if you haven't already!"
   ]
  },
  {
   "cell_type": "markdown",
   "id": "9d597e35",
   "metadata": {},
   "source": [
    "### Equilbration parameters:\n",
    "Here we demonstrate an initial NPT equilibration simulation, with parameter sets defined via the API"
   ]
  },
  {
   "cell_type": "code",
   "execution_count": 4,
   "id": "79cac8d6",
   "metadata": {},
   "outputs": [
    {
     "name": "stderr",
     "output_type": "stream",
     "text": [
      "WARNING:polymerist.mdtools.openmmtools.thermo:Adjusting Barostat temperature from \"None\" to 300 K to maintain temperature coupling w/ thermostat\n"
     ]
    },
    {
     "name": "stdout",
     "output_type": "stream",
     "text": [
      "NPT (Isothermal-isobaric) ensemble\n"
     ]
    }
   ],
   "source": [
    "from openmm.unit import femtosecond, picosecond, nanosecond, kelvin, atmosphere\n",
    "from polymerist.mdtools.openmmtools.parameters import (\n",
    "    ThermoParameters,\n",
    "    ThermostatParameters,\n",
    "    BarostatParameters,\n",
    "    IntegratorParameters,\n",
    "    ReporterParameters,\n",
    "    SimulationParameters\n",
    ")\n",
    "\n",
    "equilibration_params = SimulationParameters(\n",
    "    thermo_params=ThermoParameters(\n",
    "        thermostat_params=ThermostatParameters(\n",
    "            temperature=300*kelvin,\n",
    "            timescale=1/picosecond,\n",
    "            thermostat='LangevinMiddle'\n",
    "        ),\n",
    "        barostat_params=BarostatParameters(\n",
    "            pressure=1*atmosphere,\n",
    "            barostat='MC', # Monte-Carlo barostat\n",
    "        )\n",
    "    ),\n",
    "    integ_params=IntegratorParameters(\n",
    "        time_step=2*femtosecond,\n",
    "        total_time=0.1*nanosecond,\n",
    "        num_samples=50,\n",
    "    ),\n",
    "    reporter_params=ReporterParameters(\n",
    "        report_state=True,\n",
    "        report_checkpoint=True,\n",
    "        report_state_data=True,\n",
    "    ),\n",
    ")\n",
    "\n",
    "print(equilibration_params.thermo_params.describe_ensemble())"
   ]
  },
  {
   "cell_type": "markdown",
   "id": "cb75736d",
   "metadata": {},
   "source": [
    "### Production parameters:\n",
    "Following equilibration, we'd like to run an NVT (i.e. thermostatted, but not barostatted) production simulation  \n",
    "These can also be defined via the API, but here we load them from a file just to show you that you can also fetch your simulation parameters that way"
   ]
  },
  {
   "cell_type": "code",
   "execution_count": 5,
   "id": "9e82bec3",
   "metadata": {},
   "outputs": [
    {
     "name": "stdout",
     "output_type": "stream",
     "text": [
      "NVT (Canonical) ensemble\n"
     ]
    }
   ],
   "source": [
    "prod_params_path = assemble_path(EXAMPLE_DIR, 'prod_params', 'json')\n",
    "assert prod_params_path.exists()\n",
    "\n",
    "production_params = SimulationParameters.from_file(prod_params_path)\n",
    "print(production_params.thermo_params.describe_ensemble())"
   ]
  },
  {
   "cell_type": "markdown",
   "id": "884b91e9",
   "metadata": {},
   "source": [
    "Note that this \"production\" is relatively short just so this demo doesn't take forever, but you can image making this as long as you need"
   ]
  },
  {
   "cell_type": "code",
   "execution_count": 6,
   "id": "18ed2db1",
   "metadata": {},
   "outputs": [
    {
     "name": "stdout",
     "output_type": "stream",
     "text": [
      "100 ps\n"
     ]
    }
   ],
   "source": [
    "print(production_params.integ_params.total_time)"
   ]
  },
  {
   "cell_type": "markdown",
   "id": "d979347b",
   "metadata": {},
   "source": [
    "## Running a simulation \"schedule\"\n",
    "A \"schedule\" here denotes a serial sequence of simulations, each defined by their own SimulationParameters, each run in its own dedicated directory  \n",
    "The initial topology, system, and positions provided will be passed to the first simulation in the schedule; all subsequent simulations will obtain these from the end of the previous simulation\n",
    "\n",
    "<font color='red'>STATE IS NOT SHARED BETWEEN SUCCESSIVE SIMULATIONS IN A SCHEDULE</font>; At least as of this release, each simulation generate a new, empty State  \n",
    "to avoid back-to-back simulations with potentially vastly-different thermodynamic parameters from contaminating one another"
   ]
  },
  {
   "cell_type": "code",
   "execution_count": 7,
   "id": "ebd85531",
   "metadata": {},
   "outputs": [
    {
     "name": "stderr",
     "output_type": "stream",
     "text": [
      "INFO:polymerist.mdtools.openmmtools.execution:Initializing simulation 1/2 (\"equilibration\")\n",
      "INFO:polymerist.mdtools.openmmtools.thermo:Created MonteCarloBarostat Force for NPT (Isothermal-isobaric) ensemble\n",
      "INFO:polymerist.mdtools.openmmtools.preparation:Registering new Force \"MonteCarloBarostat\" to System to enforce chosen ensemble (isothermal-isobaric)\n",
      "INFO:polymerist.mdtools.openmmtools.thermo:Created LangevinMiddleIntegrator for NPT (Isothermal-isobaric) ensemble\n",
      "INFO:polymerist.mdtools.openmmtools.preparation:Setting positions in Context\n",
      "WARNING:polymerist.mdtools.openmmtools.serialization.state:No valid State/State file provided, initializing State as None\n",
      "INFO:polymerist.mdtools.openmmtools.reporters:Prepared DCDReporter which reports to scratch_MD/PNIPAAm_solv_water_TIP3P/equilibration/equilibration_trajectory.dcd\n",
      "INFO:polymerist.mdtools.openmmtools.reporters:Prepared CheckpointReporter which reports to scratch_MD/PNIPAAm_solv_water_TIP3P/equilibration/equilibration_checkpoint.chk\n",
      "INFO:polymerist.mdtools.openmmtools.reporters:Prepared StateReporter which reports to scratch_MD/PNIPAAm_solv_water_TIP3P/equilibration/equilibration_state.xml\n",
      "INFO:polymerist.mdtools.openmmtools.reporters:Prepared StateDataReporter which reports to scratch_MD/PNIPAAm_solv_water_TIP3P/equilibration/equilibration_state_data.csv\n",
      "INFO:polymerist.mdtools.openmmtools.execution:Performing energy minimization (initial PE = 458758340918.1457 kJ/mol)\n",
      "INFO:polymerist.mdtools.openmmtools.execution:Energy successfully minimized (final PE = -103198.79210647149 kJ/mol)\n",
      "INFO:polymerist.mdtools.openmmtools.execution:Saved energy-minimized Simulation Topology at scratch_MD/PNIPAAm_solv_water_TIP3P/equilibration/equilibration_topology.pdb\n",
      "INFO:polymerist.mdtools.openmmtools.execution:Saved serialized Simulation System at scratch_MD/PNIPAAm_solv_water_TIP3P/equilibration/equilibration_system.xml\n",
      "INFO:polymerist.mdtools.openmmtools.execution:Integrating 0.1 ns OpenMM Simulation for 50000 steps\n",
      "INFO:polymerist.mdtools.openmmtools.execution:Simulation integration completed successfully\n",
      "INFO:polymerist.mdtools.openmmtools.execution:\n",
      "INFO:polymerist.mdtools.openmmtools.execution:Initializing simulation 2/2 (\"production\")\n",
      "WARNING:polymerist.mdtools.openmmtools.preparation:Removing Force \"MonteCarloBarostat\" (index=8) encountered from prior System setup\n",
      "INFO:polymerist.mdtools.openmmtools.thermo:Created AndersenThermostat Force for NVT (Canonical) ensemble\n",
      "INFO:polymerist.mdtools.openmmtools.preparation:Registering new Force \"AndersenThermostat\" to System to enforce chosen ensemble (canonical)\n",
      "INFO:polymerist.mdtools.openmmtools.thermo:Created VerletIntegrator for NVT (Canonical) ensemble\n",
      "INFO:polymerist.mdtools.openmmtools.preparation:Setting positions in Context\n",
      "WARNING:polymerist.mdtools.openmmtools.serialization.state:No valid State/State file provided, initializing State as None\n",
      "INFO:polymerist.mdtools.openmmtools.reporters:Prepared DCDReporter which reports to scratch_MD/PNIPAAm_solv_water_TIP3P/production/production_trajectory.dcd\n",
      "INFO:polymerist.mdtools.openmmtools.reporters:Prepared CheckpointReporter which reports to scratch_MD/PNIPAAm_solv_water_TIP3P/production/production_checkpoint.chk\n",
      "INFO:polymerist.mdtools.openmmtools.reporters:Prepared StateReporter which reports to scratch_MD/PNIPAAm_solv_water_TIP3P/production/production_state.xml\n",
      "INFO:polymerist.mdtools.openmmtools.reporters:Prepared StateDataReporter which reports to scratch_MD/PNIPAAm_solv_water_TIP3P/production/production_state_data.csv\n",
      "INFO:polymerist.mdtools.openmmtools.execution:Performing energy minimization (initial PE = 365531963862694.94 kJ/mol)\n",
      "INFO:polymerist.mdtools.openmmtools.execution:Energy successfully minimized (final PE = -103712.04657729669 kJ/mol)\n",
      "INFO:polymerist.mdtools.openmmtools.execution:Saved energy-minimized Simulation Topology at scratch_MD/PNIPAAm_solv_water_TIP3P/production/production_topology.pdb\n",
      "INFO:polymerist.mdtools.openmmtools.execution:Saved serialized Simulation System at scratch_MD/PNIPAAm_solv_water_TIP3P/production/production_system.xml\n",
      "INFO:polymerist.mdtools.openmmtools.execution:Integrating 100 ps OpenMM Simulation for 50000 steps\n",
      "INFO:polymerist.mdtools.openmmtools.execution:Simulation integration completed successfully\n",
      "INFO:polymerist.mdtools.openmmtools.execution:\n",
      "INFO:8746426848617:Process \"PNIPAAm_solv_water_TIP3P_sims\" completed in 0:01:08.292188\n",
      "\n"
     ]
    }
   ],
   "source": [
    "from polymerist.genutils.logutils.IOHandlers import MSFHandlerFlex \n",
    "from polymerist.mdtools.openmmtools.execution import run_simulation_schedule\n",
    "\n",
    "\n",
    "polymer_name : str = prepared_polymer_system_sdf.stem\n",
    "POLYMER_SIM_DIR = OUTPUT_DIR / polymer_name\n",
    "POLYMER_SIM_DIR.mkdir(exist_ok=True)\n",
    "\n",
    "# MSFHandler compiles log and error events into single, \"master\" log file\n",
    "logpath = assemble_path(POLYMER_SIM_DIR, 'simulation_status', 'log')\n",
    "with MSFHandlerFlex(filename=logpath, proc_name=f'{polymer_name}_sims') as logger:\n",
    "    history = run_simulation_schedule(\n",
    "        POLYMER_SIM_DIR, \n",
    "        schedule={ # simulations will be run in the order they appear here\n",
    "            'equilibration' : equilibration_params, \n",
    "            'production'    : production_params,\n",
    "        }, \n",
    "        init_top=interchange.to_openmm_topology(),\n",
    "        init_sys=interchange.to_openmm(combine_nonbonded_forces=False),\n",
    "        init_pos=interchange.get_positions(include_virtual_sites=True).to_openmm(),\n",
    "        return_history=True\n",
    "    )"
   ]
  },
  {
   "cell_type": "markdown",
   "id": "64675dd3",
   "metadata": {},
   "source": [
    "## Inspecting simulation history\n",
    "You may notice that `run_simulation_schedule(...)` returns a \"history\" in the above cell; this output enables you to access and inspect the final state of each simulation that was run  \n",
    "The \"history\" is a dict whose keys are the names you've assigned to each simulation step and whose values are a dict containing the completed Simulation (in its final state) and associate paths"
   ]
  },
  {
   "cell_type": "code",
   "execution_count": 8,
   "id": "001f3715",
   "metadata": {},
   "outputs": [
    {
     "data": {
      "text/plain": [
       "{'equilibration': {'simulation': <openmm.app.simulation.Simulation at 0x7f46fb74df50>,\n",
       "  'paths': SimulationPaths(parameters_path=PosixPath('scratch_MD/PNIPAAm_solv_water_TIP3P/equilibration/equilibration_parameters.json'), paths_path=PosixPath('scratch_MD/PNIPAAm_solv_water_TIP3P/equilibration/equilibration_paths.json'), system_path=PosixPath('scratch_MD/PNIPAAm_solv_water_TIP3P/equilibration/equilibration_system.xml'), topology_path=PosixPath('scratch_MD/PNIPAAm_solv_water_TIP3P/equilibration/equilibration_topology.pdb'), state_path=PosixPath('scratch_MD/PNIPAAm_solv_water_TIP3P/equilibration/equilibration_state.xml'), checkpoint_path=PosixPath('scratch_MD/PNIPAAm_solv_water_TIP3P/equilibration/equilibration_checkpoint.chk'), trajectory_path=PosixPath('scratch_MD/PNIPAAm_solv_water_TIP3P/equilibration/equilibration_trajectory.dcd'), state_data_path=PosixPath('scratch_MD/PNIPAAm_solv_water_TIP3P/equilibration/equilibration_state_data.csv'), time_data_path=None, spatial_data_path=None)},\n",
       " 'production': {'simulation': <openmm.app.simulation.Simulation at 0x7f46f84a1e10>,\n",
       "  'paths': SimulationPaths(parameters_path=PosixPath('scratch_MD/PNIPAAm_solv_water_TIP3P/production/production_parameters.json'), paths_path=PosixPath('scratch_MD/PNIPAAm_solv_water_TIP3P/production/production_paths.json'), system_path=PosixPath('scratch_MD/PNIPAAm_solv_water_TIP3P/production/production_system.xml'), topology_path=PosixPath('scratch_MD/PNIPAAm_solv_water_TIP3P/production/production_topology.pdb'), state_path=PosixPath('scratch_MD/PNIPAAm_solv_water_TIP3P/production/production_state.xml'), checkpoint_path=PosixPath('scratch_MD/PNIPAAm_solv_water_TIP3P/production/production_checkpoint.chk'), trajectory_path=PosixPath('scratch_MD/PNIPAAm_solv_water_TIP3P/production/production_trajectory.dcd'), state_data_path=PosixPath('scratch_MD/PNIPAAm_solv_water_TIP3P/production/production_state_data.csv'), time_data_path=None, spatial_data_path=None)}}"
      ]
     },
     "execution_count": 8,
     "metadata": {},
     "output_type": "execute_result"
    }
   ],
   "source": [
    "history"
   ]
  },
  {
   "cell_type": "markdown",
   "id": "ed26d098",
   "metadata": {},
   "source": [
    "### Use case 1: assessing equilibration\n",
    "For example, we could pull out the paths from our equilibration simulation and look at the simulation state data to assess whether our system has really equilibrated"
   ]
  },
  {
   "cell_type": "code",
   "execution_count": 9,
   "id": "8e2e3714",
   "metadata": {},
   "outputs": [
    {
     "name": "stdout",
     "output_type": "stream",
     "text": [
      "<class 'polymerist.mdtools.openmmtools.serialization.paths.SimulationPaths'>\n",
      "scratch_MD/PNIPAAm_solv_water_TIP3P/equilibration/equilibration_parameters.json\n"
     ]
    }
   ],
   "source": [
    "equil_paths = history['equilibration']['paths']\n",
    "print(type(equil_paths))\n",
    "print(equil_paths.parameters_path)"
   ]
  },
  {
   "cell_type": "code",
   "execution_count": 10,
   "id": "1c00cb7d",
   "metadata": {},
   "outputs": [
    {
     "data": {
      "text/html": [
       "<div>\n",
       "<style scoped>\n",
       "    .dataframe tbody tr th:only-of-type {\n",
       "        vertical-align: middle;\n",
       "    }\n",
       "\n",
       "    .dataframe tbody tr th {\n",
       "        vertical-align: top;\n",
       "    }\n",
       "\n",
       "    .dataframe thead th {\n",
       "        text-align: right;\n",
       "    }\n",
       "</style>\n",
       "<table border=\"1\" class=\"dataframe\">\n",
       "  <thead>\n",
       "    <tr style=\"text-align: right;\">\n",
       "      <th></th>\n",
       "      <th>#\"Step\"</th>\n",
       "      <th>Time (ps)</th>\n",
       "      <th>Potential Energy (kJ/mole)</th>\n",
       "      <th>Kinetic Energy (kJ/mole)</th>\n",
       "      <th>Total Energy (kJ/mole)</th>\n",
       "      <th>Temperature (K)</th>\n",
       "      <th>Box Volume (nm^3)</th>\n",
       "      <th>Density (g/mL)</th>\n",
       "      <th>Speed (ns/day)</th>\n",
       "    </tr>\n",
       "  </thead>\n",
       "  <tbody>\n",
       "    <tr>\n",
       "      <th>0</th>\n",
       "      <td>1000</td>\n",
       "      <td>2.0</td>\n",
       "      <td>-89346.326347</td>\n",
       "      <td>13278.537109</td>\n",
       "      <td>-76067.789238</td>\n",
       "      <td>246.666295</td>\n",
       "      <td>54.344917</td>\n",
       "      <td>1.167381</td>\n",
       "      <td>0</td>\n",
       "    </tr>\n",
       "    <tr>\n",
       "      <th>1</th>\n",
       "      <td>2000</td>\n",
       "      <td>4.0</td>\n",
       "      <td>-85819.289047</td>\n",
       "      <td>15231.650391</td>\n",
       "      <td>-70587.638656</td>\n",
       "      <td>282.947944</td>\n",
       "      <td>58.890419</td>\n",
       "      <td>1.077275</td>\n",
       "      <td>331</td>\n",
       "    </tr>\n",
       "    <tr>\n",
       "      <th>2</th>\n",
       "      <td>3000</td>\n",
       "      <td>6.0</td>\n",
       "      <td>-84012.380392</td>\n",
       "      <td>15894.984375</td>\n",
       "      <td>-68117.396017</td>\n",
       "      <td>295.270245</td>\n",
       "      <td>61.751500</td>\n",
       "      <td>1.027363</td>\n",
       "      <td>347</td>\n",
       "    </tr>\n",
       "    <tr>\n",
       "      <th>3</th>\n",
       "      <td>4000</td>\n",
       "      <td>8.0</td>\n",
       "      <td>-83405.963004</td>\n",
       "      <td>16134.570312</td>\n",
       "      <td>-67271.392691</td>\n",
       "      <td>299.720869</td>\n",
       "      <td>62.669967</td>\n",
       "      <td>1.012306</td>\n",
       "      <td>353</td>\n",
       "    </tr>\n",
       "    <tr>\n",
       "      <th>4</th>\n",
       "      <td>5000</td>\n",
       "      <td>10.0</td>\n",
       "      <td>-83417.252174</td>\n",
       "      <td>16059.281250</td>\n",
       "      <td>-67357.970924</td>\n",
       "      <td>298.322276</td>\n",
       "      <td>63.226290</td>\n",
       "      <td>1.003399</td>\n",
       "      <td>355</td>\n",
       "    </tr>\n",
       "    <tr>\n",
       "      <th>5</th>\n",
       "      <td>6000</td>\n",
       "      <td>12.0</td>\n",
       "      <td>-83077.202042</td>\n",
       "      <td>16016.208008</td>\n",
       "      <td>-67060.994034</td>\n",
       "      <td>297.522134</td>\n",
       "      <td>63.366188</td>\n",
       "      <td>1.001184</td>\n",
       "      <td>344</td>\n",
       "    </tr>\n",
       "    <tr>\n",
       "      <th>6</th>\n",
       "      <td>7000</td>\n",
       "      <td>14.0</td>\n",
       "      <td>-82846.876431</td>\n",
       "      <td>16526.728516</td>\n",
       "      <td>-66320.147915</td>\n",
       "      <td>307.005724</td>\n",
       "      <td>63.023464</td>\n",
       "      <td>1.006628</td>\n",
       "      <td>346</td>\n",
       "    </tr>\n",
       "    <tr>\n",
       "      <th>7</th>\n",
       "      <td>8000</td>\n",
       "      <td>16.0</td>\n",
       "      <td>-82836.725849</td>\n",
       "      <td>16287.436523</td>\n",
       "      <td>-66549.289326</td>\n",
       "      <td>302.560560</td>\n",
       "      <td>63.202435</td>\n",
       "      <td>1.003778</td>\n",
       "      <td>347</td>\n",
       "    </tr>\n",
       "    <tr>\n",
       "      <th>8</th>\n",
       "      <td>9000</td>\n",
       "      <td>18.0</td>\n",
       "      <td>-83274.708696</td>\n",
       "      <td>16066.789062</td>\n",
       "      <td>-67207.919633</td>\n",
       "      <td>298.461744</td>\n",
       "      <td>62.428121</td>\n",
       "      <td>1.016228</td>\n",
       "      <td>348</td>\n",
       "    </tr>\n",
       "    <tr>\n",
       "      <th>9</th>\n",
       "      <td>10000</td>\n",
       "      <td>20.0</td>\n",
       "      <td>-83470.586354</td>\n",
       "      <td>16289.312500</td>\n",
       "      <td>-67181.273854</td>\n",
       "      <td>302.595409</td>\n",
       "      <td>63.156475</td>\n",
       "      <td>1.004508</td>\n",
       "      <td>352</td>\n",
       "    </tr>\n",
       "  </tbody>\n",
       "</table>\n",
       "</div>"
      ],
      "text/plain": [
       "   #\"Step\"  Time (ps)  Potential Energy (kJ/mole)  Kinetic Energy (kJ/mole)  \\\n",
       "0     1000        2.0               -89346.326347              13278.537109   \n",
       "1     2000        4.0               -85819.289047              15231.650391   \n",
       "2     3000        6.0               -84012.380392              15894.984375   \n",
       "3     4000        8.0               -83405.963004              16134.570312   \n",
       "4     5000       10.0               -83417.252174              16059.281250   \n",
       "5     6000       12.0               -83077.202042              16016.208008   \n",
       "6     7000       14.0               -82846.876431              16526.728516   \n",
       "7     8000       16.0               -82836.725849              16287.436523   \n",
       "8     9000       18.0               -83274.708696              16066.789062   \n",
       "9    10000       20.0               -83470.586354              16289.312500   \n",
       "\n",
       "   Total Energy (kJ/mole)  Temperature (K)  Box Volume (nm^3)  Density (g/mL)  \\\n",
       "0           -76067.789238       246.666295          54.344917        1.167381   \n",
       "1           -70587.638656       282.947944          58.890419        1.077275   \n",
       "2           -68117.396017       295.270245          61.751500        1.027363   \n",
       "3           -67271.392691       299.720869          62.669967        1.012306   \n",
       "4           -67357.970924       298.322276          63.226290        1.003399   \n",
       "5           -67060.994034       297.522134          63.366188        1.001184   \n",
       "6           -66320.147915       307.005724          63.023464        1.006628   \n",
       "7           -66549.289326       302.560560          63.202435        1.003778   \n",
       "8           -67207.919633       298.461744          62.428121        1.016228   \n",
       "9           -67181.273854       302.595409          63.156475        1.004508   \n",
       "\n",
       "   Speed (ns/day)  \n",
       "0               0  \n",
       "1             331  \n",
       "2             347  \n",
       "3             353  \n",
       "4             355  \n",
       "5             344  \n",
       "6             346  \n",
       "7             347  \n",
       "8             348  \n",
       "9             352  "
      ]
     },
     "execution_count": 10,
     "metadata": {},
     "output_type": "execute_result"
    }
   ],
   "source": [
    "import pandas as pd\n",
    "import matplotlib.pyplot as plt\n",
    "\n",
    "\n",
    "state_data = pd.read_csv(equil_paths.state_data_path)\n",
    "state_data.head(10)"
   ]
  },
  {
   "cell_type": "code",
   "execution_count": 11,
   "id": "8e4ee50a",
   "metadata": {},
   "outputs": [
    {
     "data": {
      "image/png": "[encoded data removed]",
      "text/plain": [
       "<Figure size 640x480 with 1 Axes>"
      ]
     },
     "metadata": {},
     "output_type": "display_data"
    }
   ],
   "source": [
    "x_prop : str = 'Time (ps)'\n",
    "y_prop : str = 'Density (g/mL)'\n",
    "\n",
    "plt.plot(state_data[x_prop], state_data[y_prop])\n",
    "plt.xlabel(x_prop)\n",
    "plt.ylabel(y_prop)\n",
    "plt.title('Equilibration Simulation Density')\n",
    "plt.show()"
   ]
  },
  {
   "cell_type": "markdown",
   "id": "bdf68825",
   "metadata": {},
   "source": [
    "### Use case 2: analyzing potential energy contributions\n",
    "As another useful example, we can perform a single-point energy evaluation of the final state of our simulation, or inspect the forces acting upon it"
   ]
  },
  {
   "cell_type": "code",
   "execution_count": 12,
   "id": "f9e134ba",
   "metadata": {},
   "outputs": [
    {
     "name": "stdout",
     "output_type": "stream",
     "text": [
      "<class 'openmm.app.simulation.Simulation'>\n",
      "-86037.27671798272 kJ/mol\n"
     ]
    }
   ],
   "source": [
    "prod_sim = history['production']['simulation']\n",
    "print(type(prod_sim))\n",
    "print(prod_sim.context.getState(getEnergy=True).getPotentialEnergy())"
   ]
  },
  {
   "cell_type": "code",
   "execution_count": 13,
   "id": "041bf360",
   "metadata": {},
   "outputs": [
    {
     "data": {
      "text/plain": [
       "{'Total potential energy': -86037.27671798272 kJ/mol,\n",
       " 'Total kinetic energy': 16011.5888671875 kJ/mol,\n",
       " 'vdW force potential energy': 15528.712933518564 kJ/mol,\n",
       " 'Electrostatics force potential energy': -99279.90088349592 kJ/mol,\n",
       " 'vdW 1-4 force potential energy': 430.66931915283203 kJ/mol,\n",
       " 'Electrostatics 1-4 force potential energy': -5416.5 kJ/mol,\n",
       " 'PeriodicTorsionForce potential energy': 1029.8657875061035 kJ/mol,\n",
       " 'HarmonicAngleForce potential energy': 1310.1834716796875 kJ/mol,\n",
       " 'HarmonicBondForce potential energy': 359.6939697265625 kJ/mol,\n",
       " 'CMMotionRemover potential energy': 0.0 kJ/mol,\n",
       " 'AndersenThermostat potential energy': 0.0 kJ/mol}"
      ]
     },
     "execution_count": 13,
     "metadata": {},
     "output_type": "execute_result"
    }
   ],
   "source": [
    "from polymerist.mdtools.openmmtools.evaluation import get_openmm_energies_separated\n",
    "\n",
    "get_openmm_energies_separated(prod_sim.context)"
   ]
  },
  {
   "cell_type": "code",
   "execution_count": 14,
   "id": "9db0787d",
   "metadata": {},
   "outputs": [
    {
     "data": {
      "text/plain": [
       "{'vdW force': {'CutoffDistance': 0.9 nm,\n",
       "  'EnergyFunction': '4*epsilon*((sigma/r)^12-(sigma/r)^6); sigma=(sigma1+sigma2)/2; epsilon=sqrt(epsilon1*epsilon2); ',\n",
       "  'ForceGroup': 0,\n",
       "  'Name': 'vdW force',\n",
       "  'NonbondedMethod': 2,\n",
       "  'NumComputedValues': 0,\n",
       "  'NumEnergyParameterDerivatives': 0,\n",
       "  'NumExclusions': 8734,\n",
       "  'NumFunctions': 0,\n",
       "  'NumGlobalParameters': 0,\n",
       "  'NumInteractionGroups': 0,\n",
       "  'NumParticles': 6368,\n",
       "  'NumPerParticleParameters': 2,\n",
       "  'NumTabulatedFunctions': 0,\n",
       "  'SwitchingDistance': 0.8 nm,\n",
       "  'UseLongRangeCorrection': True,\n",
       "  'UseSwitchingFunction': True,\n",
       "  'Type': 'CustomNonbondedForce',\n",
       "  'LongRangeNonbondedMethod': 'CutoffPeriodic'},\n",
       " 'Electrostatics force': {'CutoffDistance': 0.9 nm,\n",
       "  'EwaldErrorTolerance': 0.0001,\n",
       "  'ExceptionsUsePeriodicBoundaryConditions': False,\n",
       "  'ForceGroup': 1,\n",
       "  'IncludeDirectSpace': True,\n",
       "  'LJPMEParameters': [0.0, 0, 0, 0],\n",
       "  'Name': 'Electrostatics force',\n",
       "  'NonbondedMethod': 4,\n",
       "  'NumExceptionParameterOffsets': 0,\n",
       "  'NumExceptions': 8734,\n",
       "  'NumGlobalParameters': 0,\n",
       "  'NumParticleParameterOffsets': 0,\n",
       "  'NumParticles': 6368,\n",
       "  'PMEParameters': [0.0 /nm, 0, 0, 0],\n",
       "  'ReactionFieldDielectric': 78.3,\n",
       "  'ReciprocalSpaceForceGroup': -1,\n",
       "  'SwitchingDistance': -1.0 nm,\n",
       "  'UseDispersionCorrection': True,\n",
       "  'UseSwitchingFunction': False,\n",
       "  'Type': 'NonbondedForce',\n",
       "  'LongRangeNonbondedMethod': 'PME'},\n",
       " 'vdW 1-4 force': {'EnergyFunction': '4*epsilon*((sigma/r)^12-(sigma/r)^6)',\n",
       "  'ForceGroup': 2,\n",
       "  'Name': 'vdW 1-4 force',\n",
       "  'NumBonds': 1395,\n",
       "  'NumEnergyParameterDerivatives': 0,\n",
       "  'NumGlobalParameters': 0,\n",
       "  'NumPerBondParameters': 2,\n",
       "  'Type': 'CustomBondForce'},\n",
       " 'Electrostatics 1-4 force': {'EnergyFunction': '138.935456*qq/r',\n",
       "  'ForceGroup': 3,\n",
       "  'Name': 'Electrostatics 1-4 force',\n",
       "  'NumBonds': 1395,\n",
       "  'NumEnergyParameterDerivatives': 0,\n",
       "  'NumGlobalParameters': 0,\n",
       "  'NumPerBondParameters': 1,\n",
       "  'Type': 'CustomBondForce'},\n",
       " 'PeriodicTorsionForce': {'ForceGroup': 4,\n",
       "  'Name': 'PeriodicTorsionForce',\n",
       "  'NumTorsions': 2146,\n",
       "  'Type': 'PeriodicTorsionForce'},\n",
       " 'HarmonicAngleForce': {'ForceGroup': 5,\n",
       "  'Name': 'HarmonicAngleForce',\n",
       "  'NumAngles': 972,\n",
       "  'Type': 'HarmonicAngleForce'},\n",
       " 'HarmonicBondForce': {'ForceGroup': 6,\n",
       "  'Name': 'HarmonicBondForce',\n",
       "  'NumBonds': 215,\n",
       "  'Type': 'HarmonicBondForce'},\n",
       " 'CMMotionRemover': {'ForceGroup': 7,\n",
       "  'Frequency': 1,\n",
       "  'Name': 'CMMotionRemover',\n",
       "  'Type': 'CMMotionRemover'},\n",
       " 'AndersenThermostat': {'DefaultCollisionFrequency': 1.0 /ps,\n",
       "  'DefaultTemperature': 300.0 K,\n",
       "  'ForceGroup': 31,\n",
       "  'Name': 'AndersenThermostat',\n",
       "  'RandomNumberSeed': 0,\n",
       "  'Type': 'AndersenThermostat'}}"
      ]
     },
     "execution_count": 14,
     "metadata": {},
     "output_type": "execute_result"
    }
   ],
   "source": [
    "from polymerist.mdtools.openmmtools.forces import describe_forces\n",
    "\n",
    "describe_forces(prod_sim.system)"
   ]
  },
  {
   "cell_type": "code",
   "execution_count": null,
   "id": "7dab6724",
   "metadata": {},
   "outputs": [],
   "source": []
  }
 ],
 "metadata": {
  "kernelspec": {
   "display_name": "polymerist-test",
   "language": "python",
   "name": "python3"
  },
  "language_info": {
   "codemirror_mode": {
    "name": "ipython",
    "version": 3
   },
   "file_extension": ".py",
   "mimetype": "text/x-python",
   "name": "python",
   "nbconvert_exporter": "python",
   "pygments_lexer": "ipython3",
   "version": "3.11.13"
  }
 },
 "nbformat": 4,
 "nbformat_minor": 5
}
