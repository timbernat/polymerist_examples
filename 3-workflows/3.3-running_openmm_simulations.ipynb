{
 "cells": [
  {
   "cell_type": "markdown",
   "id": "49db0c7f",
   "metadata": {},
   "source": [
    "## Running simulations using OpenMM\n",
    "`polymerist` and the OpenFF toolkit provide extensive support for running OpenMM simulations,\\\n",
    "due to the relative simplicity of automating these simulations thank to OpenMM's Pythonn API "
   ]
  },
  {
   "cell_type": "markdown",
   "id": "d979347b",
   "metadata": {},
   "source": [
    "### Running a simulation \"schedule\"\n",
    "A \"schedule\" here denotes a serial sequence of simulations, each defined by their own SimulationParameters\n",
    "Note that subsequent parameter set in the schedule will generate a new directory containing the serailize parametesrs and all files output during the simulation"
   ]
  },
  {
   "cell_type": "code",
   "execution_count": null,
   "id": "0176a3fa",
   "metadata": {},
   "outputs": [],
   "source": [
    "...\n",
    "# TODO: load polymer and parameter sets"
   ]
  },
  {
   "cell_type": "code",
   "execution_count": null,
   "id": "abdaff88",
   "metadata": {},
   "outputs": [],
   "source": [
    "from openff.toolkit import ForceField\n",
    "\n",
    "\n",
    "forcefield_names : list[str] = ['openff-2.2.0.offxml', 'tip3p.offxml']\n",
    "\n",
    "forcefield = ForceField(*forcefield_names)\n",
    "interchange = forcefield.create_interchange(solvated_topology, charge_from_molecules=[polymer])\n",
    "interchange.box = box_vectors"
   ]
  },
  {
   "cell_type": "code",
   "execution_count": null,
   "id": "ebd85531",
   "metadata": {},
   "outputs": [
    {
     "name": "stderr",
     "output_type": "stream",
     "text": [
      "INFO:polymerist.mdtools.openmmtools.execution:Initializing simulation 1/2 (\"anneal\")\n",
      "INFO:polymerist.mdtools.openmmtools.thermo:Created MonteCarloBarostat Force(s) for NPT (Isothermal-isobaric) ensemble\n",
      "INFO:polymerist.mdtools.openmmtools.preparation:Added MonteCarloBarostat Force to System\n",
      "INFO:polymerist.mdtools.openmmtools.thermo:Created LangevinMiddleIntegrator for NPT (Isothermal-isobaric) ensemble\n",
      "WARNING:polymerist.mdtools.openmmtools.preparation:No valid State/State file provided, initializing State as None\n",
      "INFO:polymerist.mdtools.openmmtools.reporters:Prepared DCDReporter which reports to MD_demo_files/naturalrubber/anneal/anneal_trajectory.dcd\n",
      "INFO:polymerist.mdtools.openmmtools.reporters:Prepared CheckpointReporter which reports to MD_demo_files/naturalrubber/anneal/anneal_checkpoint.chk\n",
      "INFO:polymerist.mdtools.openmmtools.reporters:Prepared StateReporter which reports to MD_demo_files/naturalrubber/anneal/anneal_state.xml\n",
      "INFO:polymerist.mdtools.openmmtools.reporters:Prepared StateDataReporter which reports to MD_demo_files/naturalrubber/anneal/anneal_state_data.csv\n",
      "INFO:polymerist.mdtools.openmmtools.preparation:Setting positions in Context\n",
      "INFO:polymerist.mdtools.openmmtools.execution:Performing energy minimization (initial PE = 56145.161448870145 kJ/mol)\n",
      "INFO:polymerist.mdtools.openmmtools.execution:Energy successfully minimized (final PE = -53837.418308820284 kJ/mol)\n",
      "INFO:polymerist.mdtools.openmmtools.execution:Saved energy-minimized Simulation Topology at MD_demo_files/naturalrubber/anneal/anneal_topology.pdb\n",
      "INFO:polymerist.mdtools.openmmtools.execution:Saved serialized Simulation System at MD_demo_files/naturalrubber/anneal/anneal_system.xml\n",
      "INFO:polymerist.mdtools.openmmtools.execution:Integrating 100 ps OpenMM Simulation for 100000 steps\n",
      "INFO:polymerist.mdtools.openmmtools.execution:Simulation integration completed successfully\n",
      "INFO:polymerist.mdtools.openmmtools.execution:\n",
      "INFO:polymerist.mdtools.openmmtools.execution:Initializing simulation 2/2 (\"production\")\n",
      "INFO:polymerist.mdtools.openmmtools.thermo:Created LangevinMiddleIntegrator for NVT (Canonical) ensemble\n",
      "WARNING:polymerist.mdtools.openmmtools.preparation:No valid State/State file provided, initializing State as None\n",
      "INFO:polymerist.mdtools.openmmtools.reporters:Prepared DCDReporter which reports to MD_demo_files/naturalrubber/production/production_trajectory.dcd\n",
      "INFO:polymerist.mdtools.openmmtools.reporters:Prepared CheckpointReporter which reports to MD_demo_files/naturalrubber/production/production_checkpoint.chk\n",
      "INFO:polymerist.mdtools.openmmtools.reporters:Prepared StateReporter which reports to MD_demo_files/naturalrubber/production/production_state.xml\n",
      "INFO:polymerist.mdtools.openmmtools.reporters:Prepared StateDataReporter which reports to MD_demo_files/naturalrubber/production/production_state_data.csv\n",
      "INFO:polymerist.mdtools.openmmtools.preparation:Setting positions in Context\n",
      "INFO:polymerist.mdtools.openmmtools.execution:Performing energy minimization (initial PE = 2.1096961101294497e+18 kJ/mol)\n",
      "INFO:polymerist.mdtools.openmmtools.execution:Energy successfully minimized (final PE = -53702.92328318552 kJ/mol)\n",
      "INFO:polymerist.mdtools.openmmtools.execution:Saved energy-minimized Simulation Topology at MD_demo_files/naturalrubber/production/production_topology.pdb\n",
      "INFO:polymerist.mdtools.openmmtools.execution:Saved serialized Simulation System at MD_demo_files/naturalrubber/production/production_system.xml\n",
      "INFO:polymerist.mdtools.openmmtools.execution:Integrating 0.5 ns OpenMM Simulation for 250000 steps\n",
      "INFO:polymerist.mdtools.openmmtools.execution:Simulation integration completed successfully\n",
      "INFO:polymerist.mdtools.openmmtools.execution:\n"
     ]
    }
   ],
   "source": [
    "from openff.interchange.interop.openmm._positions import to_openmm_positions\n",
    "\n",
    "from polymerist.mdtools.openmmtools.forcegroups import impose_unique_force_groups\n",
    "from polymerist.mdtools.openmmtools.execution import run_simulation_schedule\n",
    "\n",
    "\n",
    "# initialize core OpenMM objects\n",
    "omm_topology = interchange.to_openmm_topology()\n",
    "omm_system  = interchange.to_openmm(combine_nonbonded_forces=False)\n",
    "omm_positions = to_openmm_positions(interchange, include_virtual_sites=True)\n",
    "impose_unique_force_groups(omm_system) # ensure each Force is separate to enable mapping of energy contributions\n",
    "\n",
    "# run schedule\n",
    "schedule = { # simulations will be run in the order they appear here\n",
    "    'anneal'     : equil_params, \n",
    "    'production' : prod_params,\n",
    "}\n",
    "\n",
    "history = run_simulation_schedule(\n",
    "    polymer_outdir, \n",
    "    schedule, \n",
    "    init_top=omm_topology,\n",
    "    init_sys=omm_system,\n",
    "    init_pos=omm_positions,\n",
    "    return_history=True\n",
    ")"
   ]
  }
 ],
 "metadata": {
  "language_info": {
   "name": "python"
  }
 },
 "nbformat": 4,
 "nbformat_minor": 5
}
