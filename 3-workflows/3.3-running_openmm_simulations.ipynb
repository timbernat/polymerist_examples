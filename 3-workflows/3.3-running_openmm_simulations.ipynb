{
 "cells": [
  {
   "cell_type": "markdown",
   "id": "49db0c7f",
   "metadata": {},
   "source": [
    "# Running serial simulations with OpenMM\n",
    "In the penultimate example of this series, we show how easy managing, running, and chaining together OpenMM simulations can be with `polymerist`"
   ]
  },
  {
   "cell_type": "code",
   "execution_count": 1,
   "id": "d180b918",
   "metadata": {},
   "outputs": [],
   "source": [
    "import warnings \n",
    "warnings.catch_warnings(record=True)\n",
    "\n",
    "import logging\n",
    "logging.basicConfig(level=logging.INFO)"
   ]
  },
  {
   "cell_type": "code",
   "execution_count": 2,
   "id": "597f47eb",
   "metadata": {},
   "outputs": [],
   "source": [
    "from pathlib import Path\n",
    "from polymerist.genutils.fileutils.pathutils import is_empty, assemble_path\n",
    "\n",
    "\n",
    "EXAMPLE_DIR = Path('prepared_system_examples')\n",
    "assert EXAMPLE_DIR.exists() and not is_empty(EXAMPLE_DIR)\n",
    "\n",
    "OUTPUT_DIR = Path('scratch_MD') # dummy directory for writing without tampering with example inputs\n",
    "OUTPUT_DIR.mkdir(exist_ok=True)"
   ]
  },
  {
   "cell_type": "markdown",
   "id": "6ba3c73b",
   "metadata": {},
   "source": [
    "## Loading a prepared polymer topology\n",
    "Check out the [previous demo all about this](3.1-MD_export_with_Interchange.ipynb) this if you haven't already"
   ]
  },
  {
   "cell_type": "code",
   "execution_count": 3,
   "id": "468e1673",
   "metadata": {},
   "outputs": [
    {
     "name": "stderr",
     "output_type": "stream",
     "text": [
      "INFO:rdkit:Enabling RDKit 2023.09.6 jupyter extensions\n",
      "/home/timber/miniconda3/envs/polymerist-dev/lib/python3.11/site-packages/ipywidgets/widgets/widget.py:528: DeprecationWarning: The `ipykernel.comm.Comm` class has been deprecated. Please use the `comm` module instead.For creating comms, use the function `from comm import create_comm`.\n",
      "  self.comm = Comm(**args)\n",
      "/home/timber/miniconda3/envs/polymerist-dev/lib/python3.11/site-packages/ipywidgets/widgets/widget.py:528: DeprecationWarning: The `ipykernel.comm.Comm` class has been deprecated. Please use the `comm` module instead.For creating comms, use the function `from comm import create_comm`.\n",
      "  self.comm = Comm(**args)\n"
     ]
    },
    {
     "data": {
      "application/vnd.jupyter.widget-view+json": {
       "model_id": "a7ff1507e3a449169ef6a78ff975cbe5",
       "version_major": 2,
       "version_minor": 0
      },
      "text/plain": []
     },
     "metadata": {},
     "output_type": "display_data"
    },
    {
     "name": "stderr",
     "output_type": "stream",
     "text": [
      "INFO:numexpr.utils:Note: NumExpr detected 20 cores but \"NUMEXPR_MAX_THREADS\" not set, so enforcing safe limit of 16.\n",
      "INFO:numexpr.utils:NumExpr defaulting to 16 threads.\n",
      "INFO:openff.toolkit.typing.engines.smirnoff.parameters:Attempting to up-convert vdW section from 0.3 to 0.4\n",
      "INFO:openff.toolkit.typing.engines.smirnoff.parameters:Successfully up-converted vdW section from 0.3 to 0.4. `method=\"cutoff\"` is now split into `periodic_method=\"cutoff\"` and `nonperiodic_method=\"no-cutoff\"`.\n",
      "INFO:openff.toolkit.typing.engines.smirnoff.parameters:Attempting to up-convert Electrostatics section from 0.3 to 0.4\n",
      "INFO:openff.toolkit.typing.engines.smirnoff.parameters:Successfully up-converted Electrostatics section from 0.3 to 0.4. `method=\"PME\"` is now split into `periodic_potential=\"Ewald3D-ConductingBoundary\"`, `nonperiodic_potential=\"Coulomb\"`, and `exception_potential=\"Coulomb\"`.\n"
     ]
    },
    {
     "data": {
      "application/vnd.jupyter.widget-view+json": {
       "model_id": "71da3598aa5642daa53f22ff91517b10",
       "version_major": 2,
       "version_minor": 0
      },
      "text/plain": [
       "NGLWidget()"
      ]
     },
     "metadata": {},
     "output_type": "display_data"
    }
   ],
   "source": [
    "from openff.toolkit import ForceField\n",
    "from openff.interchange import Interchange\n",
    "warnings.filterwarnings('ignore', category=DeprecationWarning) # catches annoying DeprecationWarnings from Interchange\n",
    "\n",
    "from polymerist.mdtools.openfftools.topology import topology_from_sdf\n",
    "from polymerist.mdtools.openfftools.boxvectors import get_topology_bbox\n",
    "\n",
    "\n",
    "prepared_polymer_system_sdf = assemble_path(EXAMPLE_DIR, 'PNIPAAm_solv_water_TIP3P', 'sdf')\n",
    "assert prepared_polymer_system_sdf.exists()\n",
    "polymer_topology = topology_from_sdf(prepared_polymer_system_sdf)\n",
    "\n",
    "forcefield = ForceField('openff-2.1.0.offxml') # choose a different forcefield here if you wish\n",
    "interchange = Interchange.from_smirnoff(forcefield, polymer_topology, charge_from_molecules=list(polymer_topology.unique_molecules))\n",
    "interchange.box = get_topology_bbox(polymer_topology)\n",
    "interchange.visualize()"
   ]
  },
  {
   "cell_type": "markdown",
   "id": "cb6482c0",
   "metadata": {},
   "source": [
    "## Defining simulation parameters\n",
    "Also check out the dedicated demo on [defining simulation parameters](3.2-defining_simulation_parameters.ipynb) if you haven't already!"
   ]
  },
  {
   "cell_type": "markdown",
   "id": "9d597e35",
   "metadata": {},
   "source": [
    "### Equilbration parameters: loaded from file for reproduction"
   ]
  },
  {
   "cell_type": "code",
   "execution_count": 4,
   "id": "73bc7f1f",
   "metadata": {},
   "outputs": [
    {
     "name": "stdout",
     "output_type": "stream",
     "text": [
      "ThermoParameters(ensemble='NPT', temperature=Quantity(value=300, unit=kelvin), pressure=Quantity(value=1, unit=atmosphere), friction_coeff=Quantity(value=1, unit=/picosecond), barostat_freq=25)\n"
     ]
    }
   ],
   "source": [
    "from polymerist.mdtools.openmmtools.parameters import SimulationParameters\n",
    "\n",
    "\n",
    "equil_params_path = assemble_path(EXAMPLE_DIR, 'equil_params', 'json')\n",
    "assert equil_params_path.exists()\n",
    "\n",
    "equilibration_params = SimulationParameters.from_file(equil_params_path)\n",
    "print(equilibration_params.thermo_params)"
   ]
  },
  {
   "cell_type": "markdown",
   "id": "cb75736d",
   "metadata": {},
   "source": [
    "### Production parameters: made in-place to for portability\n",
    "Note that this \"production\" is relatively short just so this demo doesn't take forever, but you can image making this as long as you need"
   ]
  },
  {
   "cell_type": "code",
   "execution_count": 5,
   "id": "5fbedc9a",
   "metadata": {},
   "outputs": [],
   "source": [
    "from openmm.unit import femtosecond, picosecond, nanosecond, kelvin, atmosphere\n",
    "from polymerist.mdtools.openmmtools.parameters import (\n",
    "    ThermoParameters,\n",
    "    IntegratorParameters,\n",
    "    ReporterParameters,\n",
    "    SimulationParameters\n",
    ")\n",
    "\n",
    "production_params =  SimulationParameters(\n",
    "    integ_params=IntegratorParameters(\n",
    "        time_step=2*femtosecond,\n",
    "        total_time=0.2*nanosecond,\n",
    "        num_samples=500,\n",
    "    ),\n",
    "    thermo_params=ThermoParameters(\n",
    "        ensemble='NVT',\n",
    "        temperature=300*kelvin,\n",
    "        friction_coeff=1/picosecond,\n",
    "    ),\n",
    "    reporter_params=ReporterParameters(\n",
    "        report_state=True,\n",
    "        report_checkpoint=True,\n",
    "        report_state_data=True,\n",
    "    ),\n",
    ")"
   ]
  },
  {
   "cell_type": "markdown",
   "id": "d979347b",
   "metadata": {},
   "source": [
    "## Running a simulation \"schedule\"\n",
    "A \"schedule\" here denotes a serial sequence of simulations, each defined by their own SimulationParameters, each run in its own dedicated directory  \n",
    "The initial topology, system, and positions provided will be passed to the first simulation in the schedule; all subsequent simulations will obtain these from the end of the previous simulation\n",
    "\n",
    "<font color='red'>STATE IS NOT SHARED BETWEEN SUCCESSIVE SIMULATIONS IN A SCHEDULE</font>; At least as of this release, each simulation generate a new, empty State  \n",
    "to avoid back-to-back simulations with potentially vastly-different thermodynamic parameters from contaminating one another"
   ]
  },
  {
   "cell_type": "code",
   "execution_count": 6,
   "id": "12b3d8b4",
   "metadata": {},
   "outputs": [],
   "source": [
    "polymer_name : str = prepared_polymer_system_sdf.stem\n",
    "POLYMER_SIM_DIR = OUTPUT_DIR / polymer_name\n",
    "POLYMER_SIM_DIR.mkdir(exist_ok=True)"
   ]
  },
  {
   "cell_type": "code",
   "execution_count": 7,
   "id": "ba7de1ab",
   "metadata": {},
   "outputs": [],
   "source": [
    "from polymerist.mdtools.openmmtools.forcegroups import impose_unique_force_groups\n",
    "from openff.interchange.interop.openmm._positions import to_openmm_positions\n",
    "\n",
    "\n",
    "# extract core OpenMM objects from Interchange\n",
    "omm_topology = interchange.to_openmm_topology()\n",
    "omm_system  = interchange.to_openmm(combine_nonbonded_forces=False)\n",
    "omm_positions = to_openmm_positions(interchange, include_virtual_sites=True)\n",
    "impose_unique_force_groups(omm_system) # ensure each Force is separate to enable mapping of energy contributions"
   ]
  },
  {
   "cell_type": "code",
   "execution_count": 9,
   "id": "ebd85531",
   "metadata": {},
   "outputs": [
    {
     "name": "stderr",
     "output_type": "stream",
     "text": [
      "INFO:polymerist.mdtools.openmmtools.execution:Initializing simulation 1/2 (\"anneal\")\n",
      "INFO:polymerist.mdtools.openmmtools.thermo:Created MonteCarloBarostat Force(s) for NPT (Isothermal-isobaric) ensemble\n",
      "INFO:polymerist.mdtools.openmmtools.preparation:Added MonteCarloBarostat Force to System\n",
      "INFO:polymerist.mdtools.openmmtools.thermo:Created LangevinMiddleIntegrator for NPT (Isothermal-isobaric) ensemble\n",
      "WARNING:polymerist.mdtools.openmmtools.preparation:No valid State/State file provided, initializing State as None\n",
      "INFO:polymerist.mdtools.openmmtools.reporters:Prepared DCDReporter which reports to scratch_MD/PNIPAAm_solv_water_TIP3P/anneal/anneal_trajectory.dcd\n",
      "INFO:polymerist.mdtools.openmmtools.reporters:Prepared CheckpointReporter which reports to scratch_MD/PNIPAAm_solv_water_TIP3P/anneal/anneal_checkpoint.chk\n",
      "INFO:polymerist.mdtools.openmmtools.preparation:Setting positions in Context\n",
      "INFO:polymerist.mdtools.openmmtools.execution:Performing energy minimization (initial PE = 458751377735.4615 kJ/mol)\n",
      "INFO:polymerist.mdtools.openmmtools.execution:Energy successfully minimized (final PE = -103072.42597207072 kJ/mol)\n",
      "INFO:polymerist.mdtools.openmmtools.execution:Saved energy-minimized Simulation Topology at scratch_MD/PNIPAAm_solv_water_TIP3P/anneal/anneal_topology.pdb\n",
      "INFO:polymerist.mdtools.openmmtools.execution:Saved serialized Simulation System at scratch_MD/PNIPAAm_solv_water_TIP3P/anneal/anneal_system.xml\n",
      "INFO:polymerist.mdtools.openmmtools.execution:Integrating 100 ps OpenMM Simulation for 100000 steps\n",
      "INFO:polymerist.mdtools.openmmtools.execution:Simulation integration completed successfully\n",
      "INFO:polymerist.mdtools.openmmtools.execution:\n",
      "INFO:polymerist.mdtools.openmmtools.execution:Initializing simulation 2/2 (\"production\")\n",
      "INFO:polymerist.mdtools.openmmtools.thermo:Created LangevinMiddleIntegrator for NVT (Canonical) ensemble\n",
      "WARNING:polymerist.mdtools.openmmtools.preparation:No valid State/State file provided, initializing State as None\n",
      "INFO:polymerist.mdtools.openmmtools.reporters:Prepared DCDReporter which reports to scratch_MD/PNIPAAm_solv_water_TIP3P/production/production_trajectory.dcd\n",
      "INFO:polymerist.mdtools.openmmtools.reporters:Prepared CheckpointReporter which reports to scratch_MD/PNIPAAm_solv_water_TIP3P/production/production_checkpoint.chk\n",
      "INFO:polymerist.mdtools.openmmtools.reporters:Prepared StateReporter which reports to scratch_MD/PNIPAAm_solv_water_TIP3P/production/production_state.xml\n",
      "INFO:polymerist.mdtools.openmmtools.reporters:Prepared StateDataReporter which reports to scratch_MD/PNIPAAm_solv_water_TIP3P/production/production_state_data.csv\n",
      "INFO:polymerist.mdtools.openmmtools.preparation:Setting positions in Context\n",
      "INFO:polymerist.mdtools.openmmtools.execution:Performing energy minimization (initial PE = 6325564490100358.0 kJ/mol)\n",
      "INFO:polymerist.mdtools.openmmtools.execution:Energy successfully minimized (final PE = -103301.82062539103 kJ/mol)\n",
      "INFO:polymerist.mdtools.openmmtools.execution:Saved energy-minimized Simulation Topology at scratch_MD/PNIPAAm_solv_water_TIP3P/production/production_topology.pdb\n",
      "INFO:polymerist.mdtools.openmmtools.execution:Saved serialized Simulation System at scratch_MD/PNIPAAm_solv_water_TIP3P/production/production_system.xml\n",
      "INFO:polymerist.mdtools.openmmtools.execution:Integrating 0.2 ns OpenMM Simulation for 100000 steps\n",
      "INFO:polymerist.mdtools.openmmtools.execution:Simulation integration completed successfully\n",
      "INFO:polymerist.mdtools.openmmtools.execution:\n",
      "INFO:8778327748809:Process \"PNIPAAm_solv_water_TIP3P_sims\" completed in 0:01:43.153954\n",
      "\n"
     ]
    }
   ],
   "source": [
    "from polymerist.genutils.logutils.IOHandlers import MSFHandlerFlex \n",
    "from polymerist.mdtools.openmmtools.execution import run_simulation_schedule\n",
    "\n",
    "\n",
    "# MSFHandler compiles log and error events into single, \"master\" log file\n",
    "logpath = assemble_path(POLYMER_SIM_DIR, 'simulation_status', 'log')\n",
    "with MSFHandlerFlex(filename=logpath, proc_name=f'{polymer_name}_sims') as logger:\n",
    "    history = run_simulation_schedule(\n",
    "        POLYMER_SIM_DIR, \n",
    "        schedule={ # simulations will be run in the order they appear here\n",
    "            'anneal'     : equilibration_params, \n",
    "            'production' : production_params,\n",
    "        }, \n",
    "        init_top=omm_topology,\n",
    "        init_sys=omm_system,\n",
    "        init_pos=omm_positions,\n",
    "        return_history=True\n",
    "    )"
   ]
  },
  {
   "cell_type": "code",
   "execution_count": null,
   "id": "7dab6724",
   "metadata": {},
   "outputs": [],
   "source": []
  }
 ],
 "metadata": {
  "kernelspec": {
   "display_name": "polymerist-dev",
   "language": "python",
   "name": "python3"
  },
  "language_info": {
   "codemirror_mode": {
    "name": "ipython",
    "version": 3
   },
   "file_extension": ".py",
   "mimetype": "text/x-python",
   "name": "python",
   "nbconvert_exporter": "python",
   "pygments_lexer": "ipython3",
   "version": "3.11.0"
  }
 },
 "nbformat": 4,
 "nbformat_minor": 5
}
