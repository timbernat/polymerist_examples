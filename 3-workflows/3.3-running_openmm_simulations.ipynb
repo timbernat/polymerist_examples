{
 "cells": [
  {
   "cell_type": "markdown",
   "id": "49db0c7f",
   "metadata": {},
   "source": [
    "# Demo 3: Running serial simulations with OpenMM\n",
    "In the penultimate example of this series, we show how easy managing, running, and chaining together OpenMM simulations can be with `polymerist`"
   ]
  },
  {
   "cell_type": "code",
   "execution_count": 1,
   "id": "d180b918",
   "metadata": {},
   "outputs": [],
   "source": [
    "import warnings \n",
    "warnings.catch_warnings(record=True)\n",
    "\n",
    "import logging\n",
    "logging.basicConfig(level=logging.INFO)"
   ]
  },
  {
   "cell_type": "code",
   "execution_count": 2,
   "id": "597f47eb",
   "metadata": {},
   "outputs": [],
   "source": [
    "from pathlib import Path\n",
    "from polymerist.genutils.fileutils.pathutils import is_empty, assemble_path\n",
    "\n",
    "\n",
    "EXAMPLE_DIR = Path('prepared_system_examples')\n",
    "assert EXAMPLE_DIR.exists() and not is_empty(EXAMPLE_DIR)\n",
    "\n",
    "OUTPUT_DIR = Path('scratch_MD') # dummy directory for writing without tampering with example inputs\n",
    "OUTPUT_DIR.mkdir(exist_ok=True)"
   ]
  },
  {
   "cell_type": "markdown",
   "id": "6ba3c73b",
   "metadata": {},
   "source": [
    "## Loading a prepared polymer topology\n",
    "Check out the [previous demo all about this](3.1-MD_export_with_Interchange.ipynb) this if you haven't already"
   ]
  },
  {
   "cell_type": "code",
   "execution_count": 3,
   "id": "468e1673",
   "metadata": {},
   "outputs": [
    {
     "name": "stderr",
     "output_type": "stream",
     "text": [
      "INFO:rdkit:Enabling RDKit 2023.09.6 jupyter extensions\n",
      "/home/timber/miniconda3/envs/polymerist-env/lib/python3.11/site-packages/smirnoff99frosst/smirnoff99frosst.py:11: UserWarning: pkg_resources is deprecated as an API. See https://setuptools.pypa.io/en/latest/pkg_resources.html. The pkg_resources package is slated for removal as early as 2025-11-30. Refrain from using this package or pin to Setuptools<81.\n",
      "  from pkg_resources import resource_filename\n",
      "INFO:numexpr.utils:Note: NumExpr detected 20 cores but \"NUMEXPR_MAX_THREADS\" not set, so enforcing safe limit of 16.\n",
      "INFO:numexpr.utils:NumExpr defaulting to 16 threads.\n",
      "INFO:openff.toolkit.typing.engines.smirnoff.parameters:Attempting to up-convert vdW section from 0.3 to 0.4\n",
      "INFO:openff.toolkit.typing.engines.smirnoff.parameters:Successfully up-converted vdW section from 0.3 to 0.4. `method=\"cutoff\"` is now split into `periodic_method=\"cutoff\"` and `nonperiodic_method=\"no-cutoff\"`.\n",
      "INFO:openff.toolkit.typing.engines.smirnoff.parameters:Attempting to up-convert Electrostatics section from 0.3 to 0.4\n",
      "INFO:openff.toolkit.typing.engines.smirnoff.parameters:Successfully up-converted Electrostatics section from 0.3 to 0.4. `method=\"PME\"` is now split into `periodic_potential=\"Ewald3D-ConductingBoundary\"`, `nonperiodic_potential=\"Coulomb\"`, and `exception_potential=\"Coulomb\"`.\n"
     ]
    },
    {
     "data": {
      "application/vnd.jupyter.widget-view+json": {
       "model_id": "e3156581fe484cea94ae2f0811f07cff",
       "version_major": 2,
       "version_minor": 0
      },
      "text/plain": []
     },
     "metadata": {},
     "output_type": "display_data"
    },
    {
     "data": {
      "application/vnd.jupyter.widget-view+json": {
       "model_id": "c8c3bc38035c40adae313abb0c43d209",
       "version_major": 2,
       "version_minor": 0
      },
      "text/plain": [
       "NGLWidget()"
      ]
     },
     "metadata": {},
     "output_type": "display_data"
    }
   ],
   "source": [
    "from openff.toolkit import ForceField\n",
    "from openff.interchange import Interchange\n",
    "\n",
    "warnings.filterwarnings('ignore', category=DeprecationWarning) # catches annoying DeprecationWarnings from Interchange\n",
    "logging.getLogger('openff.interchange.smirnoff._nonbonded').setLevel(logging.CRITICAL) # suppress spammy \"Preset charges...\" logs otherwise printed for EVERY atom in an Interchange\n",
    "\n",
    "from polymerist.mdtools.openfftools.topology import topology_from_sdf\n",
    "from polymerist.mdtools.openfftools.boxvectors import get_topology_bbox\n",
    "\n",
    "\n",
    "prepared_polymer_system_sdf = assemble_path(EXAMPLE_DIR, 'PNIPAAm_solv_water_TIP3P', 'sdf')\n",
    "assert prepared_polymer_system_sdf.exists()\n",
    "polymer_topology = topology_from_sdf(prepared_polymer_system_sdf)\n",
    "\n",
    "forcefield = ForceField('openff-2.1.0.offxml') # choose a different forcefield here if you wish\n",
    "interchange = Interchange.from_smirnoff(forcefield, polymer_topology, charge_from_molecules=list(polymer_topology.unique_molecules))\n",
    "interchange.box = get_topology_bbox(polymer_topology)\n",
    "interchange.visualize()"
   ]
  },
  {
   "cell_type": "markdown",
   "id": "cb6482c0",
   "metadata": {},
   "source": [
    "## Defining simulation parameters\n",
    "Also check out the dedicated demo on [defining simulation parameters](3.2-defining_simulation_parameters.ipynb) if you haven't already!"
   ]
  },
  {
   "cell_type": "markdown",
   "id": "9d597e35",
   "metadata": {},
   "source": [
    "### Equilbration parameters:\n",
    "Here we demonstrate an initial NPT equilibration simulation, with parameter sets defined via the API"
   ]
  },
  {
   "cell_type": "code",
   "execution_count": 4,
   "id": "79cac8d6",
   "metadata": {},
   "outputs": [
    {
     "name": "stderr",
     "output_type": "stream",
     "text": [
      "WARNING:polymerist.mdtools.openmmtools.thermo:Adjusting Barostat temperature from \"None\" to 300 K to maintain temperature coupling w/ thermostat\n"
     ]
    },
    {
     "name": "stdout",
     "output_type": "stream",
     "text": [
      "NPT (Isothermal-isobaric) ensemble\n"
     ]
    }
   ],
   "source": [
    "from openmm.unit import femtosecond, picosecond, nanosecond, kelvin, atmosphere\n",
    "from polymerist.mdtools.openmmtools.parameters import (\n",
    "    ThermoParameters,\n",
    "    ThermostatParameters,\n",
    "    BarostatParameters,\n",
    "    IntegratorParameters,\n",
    "    ReporterParameters,\n",
    "    SimulationParameters\n",
    ")\n",
    "\n",
    "equilibration_params = SimulationParameters(\n",
    "    thermo_params=ThermoParameters(\n",
    "        thermostat_params=ThermostatParameters(\n",
    "            temperature=300*kelvin,\n",
    "            timescale=1/picosecond,\n",
    "            thermostat='LangevinMiddle'\n",
    "        ),\n",
    "        barostat_params=BarostatParameters(\n",
    "            pressure=1*atmosphere,\n",
    "            barostat='MC', # Monte-Carlo barostat\n",
    "        )\n",
    "    ),\n",
    "    integ_params=IntegratorParameters(\n",
    "        time_step=2*femtosecond,\n",
    "        total_time=0.1*nanosecond,\n",
    "        num_samples=50,\n",
    "    ),\n",
    "    reporter_params=ReporterParameters(\n",
    "        report_state=True,\n",
    "        report_checkpoint=True,\n",
    "        report_state_data=True,\n",
    "    ),\n",
    ")\n",
    "\n",
    "print(equilibration_params.thermo_params.describe_ensemble())"
   ]
  },
  {
   "cell_type": "markdown",
   "id": "cb75736d",
   "metadata": {},
   "source": [
    "### Production parameters:\n",
    "Following equilibration, we'd like to run an NVT (i.e. thermostatted, but not barostatted) production simulation  \n",
    "These can also be defined via the API, but here we load them from a file just to show you that you can also fetch your simulation parameters that way"
   ]
  },
  {
   "cell_type": "code",
   "execution_count": 5,
   "id": "9e82bec3",
   "metadata": {},
   "outputs": [
    {
     "name": "stdout",
     "output_type": "stream",
     "text": [
      "NVT (Canonical) ensemble\n"
     ]
    }
   ],
   "source": [
    "prod_params_path = assemble_path(EXAMPLE_DIR, 'prod_params', 'json')\n",
    "assert prod_params_path.exists()\n",
    "\n",
    "production_params = SimulationParameters.from_file(prod_params_path)\n",
    "print(production_params.thermo_params.describe_ensemble())"
   ]
  },
  {
   "cell_type": "markdown",
   "id": "884b91e9",
   "metadata": {},
   "source": [
    "Note that this \"production\" is relatively short just so this demo doesn't take forever, but you can image making this as long as you need"
   ]
  },
  {
   "cell_type": "code",
   "execution_count": 6,
   "id": "18ed2db1",
   "metadata": {},
   "outputs": [
    {
     "name": "stdout",
     "output_type": "stream",
     "text": [
      "100 ps\n"
     ]
    }
   ],
   "source": [
    "print(production_params.integ_params.total_time)"
   ]
  },
  {
   "cell_type": "markdown",
   "id": "d979347b",
   "metadata": {},
   "source": [
    "## Running a simulation \"schedule\"\n",
    "A \"schedule\" here denotes a serial sequence of simulations, each defined by their own SimulationParameters, each run in its own dedicated directory  \n",
    "The initial topology, system, and positions provided will be passed to the first simulation in the schedule; all subsequent simulations will obtain these from the end of the previous simulation\n",
    "\n",
    "<font color='red'>STATE IS NOT SHARED BETWEEN SUCCESSIVE SIMULATIONS IN A SCHEDULE</font>; At least as of this release, each simulation generate a new, empty State  \n",
    "to avoid back-to-back simulations with potentially vastly-different thermodynamic parameters from contaminating one another"
   ]
  },
  {
   "cell_type": "code",
   "execution_count": 7,
   "id": "ebd85531",
   "metadata": {},
   "outputs": [
    {
     "name": "stderr",
     "output_type": "stream",
     "text": [
      "INFO:polymerist.mdtools.openmmtools.execution:Initializing simulation 1/2 (\"equilibration\")\n",
      "INFO:polymerist.mdtools.openmmtools.thermo:Created MonteCarloBarostat Force for NPT (Isothermal-isobaric) ensemble\n",
      "INFO:polymerist.mdtools.openmmtools.preparation:Registering new Force \"MonteCarloBarostat\" to System to enforce chosen ensemble (isothermal-isobaric)\n",
      "INFO:polymerist.mdtools.openmmtools.thermo:Created LangevinMiddleIntegrator for NPT (Isothermal-isobaric) ensemble\n",
      "INFO:polymerist.mdtools.openmmtools.preparation:Setting positions in Context\n",
      "WARNING:polymerist.mdtools.openmmtools.serialization.state:No valid State/State file provided, initializing State as None\n",
      "INFO:polymerist.mdtools.openmmtools.reporters:Prepared DCDReporter which reports to scratch_MD/PNIPAAm_solv_water_TIP3P/equilibration/equilibration_trajectory.dcd\n",
      "INFO:polymerist.mdtools.openmmtools.reporters:Prepared CheckpointReporter which reports to scratch_MD/PNIPAAm_solv_water_TIP3P/equilibration/equilibration_checkpoint.chk\n",
      "INFO:polymerist.mdtools.openmmtools.reporters:Prepared StateReporter which reports to scratch_MD/PNIPAAm_solv_water_TIP3P/equilibration/equilibration_state.xml\n",
      "INFO:polymerist.mdtools.openmmtools.reporters:Prepared StateDataReporter which reports to scratch_MD/PNIPAAm_solv_water_TIP3P/equilibration/equilibration_state_data.csv\n",
      "INFO:polymerist.mdtools.openmmtools.execution:Performing energy minimization (initial PE = 458758332636.56635 kJ/mol)\n",
      "INFO:polymerist.mdtools.openmmtools.execution:Energy successfully minimized (final PE = -103231.33892043633 kJ/mol)\n",
      "INFO:polymerist.mdtools.openmmtools.execution:Saved energy-minimized Simulation Topology at scratch_MD/PNIPAAm_solv_water_TIP3P/equilibration/equilibration_topology.pdb\n",
      "INFO:polymerist.mdtools.openmmtools.execution:Saved serialized Simulation System at scratch_MD/PNIPAAm_solv_water_TIP3P/equilibration/equilibration_system.xml\n",
      "INFO:polymerist.mdtools.openmmtools.execution:Integrating 0.1 ns OpenMM Simulation for 50000 steps\n",
      "INFO:polymerist.mdtools.openmmtools.execution:Simulation integration completed successfully\n",
      "INFO:polymerist.mdtools.openmmtools.execution:\n",
      "INFO:polymerist.mdtools.openmmtools.execution:Initializing simulation 2/2 (\"production\")\n",
      "WARNING:polymerist.mdtools.openmmtools.preparation:Removing Force \"MonteCarloBarostat\" (index=8) encountered from prior System setup\n",
      "INFO:polymerist.mdtools.openmmtools.thermo:Created AndersenThermostat Force for NVT (Canonical) ensemble\n",
      "INFO:polymerist.mdtools.openmmtools.preparation:Registering new Force \"AndersenThermostat\" to System to enforce chosen ensemble (canonical)\n",
      "INFO:polymerist.mdtools.openmmtools.thermo:Created VerletIntegrator for NVT (Canonical) ensemble\n",
      "INFO:polymerist.mdtools.openmmtools.preparation:Setting positions in Context\n",
      "WARNING:polymerist.mdtools.openmmtools.serialization.state:No valid State/State file provided, initializing State as None\n",
      "INFO:polymerist.mdtools.openmmtools.reporters:Prepared DCDReporter which reports to scratch_MD/PNIPAAm_solv_water_TIP3P/production/production_trajectory.dcd\n",
      "INFO:polymerist.mdtools.openmmtools.reporters:Prepared CheckpointReporter which reports to scratch_MD/PNIPAAm_solv_water_TIP3P/production/production_checkpoint.chk\n",
      "INFO:polymerist.mdtools.openmmtools.reporters:Prepared StateReporter which reports to scratch_MD/PNIPAAm_solv_water_TIP3P/production/production_state.xml\n",
      "INFO:polymerist.mdtools.openmmtools.reporters:Prepared StateDataReporter which reports to scratch_MD/PNIPAAm_solv_water_TIP3P/production/production_state_data.csv\n",
      "INFO:polymerist.mdtools.openmmtools.execution:Performing energy minimization (initial PE = 9508352366703.9 kJ/mol)\n",
      "INFO:polymerist.mdtools.openmmtools.execution:Energy successfully minimized (final PE = -103482.85489638848 kJ/mol)\n",
      "INFO:polymerist.mdtools.openmmtools.execution:Saved energy-minimized Simulation Topology at scratch_MD/PNIPAAm_solv_water_TIP3P/production/production_topology.pdb\n",
      "INFO:polymerist.mdtools.openmmtools.execution:Saved serialized Simulation System at scratch_MD/PNIPAAm_solv_water_TIP3P/production/production_system.xml\n",
      "INFO:polymerist.mdtools.openmmtools.execution:Integrating 100 ps OpenMM Simulation for 50000 steps\n",
      "INFO:polymerist.mdtools.openmmtools.execution:Simulation integration completed successfully\n",
      "INFO:polymerist.mdtools.openmmtools.execution:\n",
      "INFO:8779604187613:Process \"PNIPAAm_solv_water_TIP3P_sims\" completed in 0:01:05.283507\n",
      "\n"
     ]
    }
   ],
   "source": [
    "from polymerist.genutils.logutils.IOHandlers import MSFHandlerFlex \n",
    "from polymerist.mdtools.openmmtools.execution import run_simulation_schedule\n",
    "\n",
    "\n",
    "polymer_name : str = prepared_polymer_system_sdf.stem\n",
    "POLYMER_SIM_DIR = OUTPUT_DIR / polymer_name\n",
    "POLYMER_SIM_DIR.mkdir(exist_ok=True)\n",
    "\n",
    "# MSFHandler compiles log and error events into single, \"master\" log file\n",
    "logpath = assemble_path(POLYMER_SIM_DIR, 'simulation_status', 'log')\n",
    "with MSFHandlerFlex(filename=logpath, proc_name=f'{polymer_name}_sims') as logger:\n",
    "    history = run_simulation_schedule(\n",
    "        POLYMER_SIM_DIR, \n",
    "        schedule={ # simulations will be run in the order they appear here\n",
    "            'equilibration' : equilibration_params, \n",
    "            'production'    : production_params,\n",
    "        }, \n",
    "        init_top=interchange.to_openmm_topology(),\n",
    "        init_sys=interchange.to_openmm(combine_nonbonded_forces=False),\n",
    "        init_pos=interchange.get_positions(include_virtual_sites=True).to_openmm(),\n",
    "        return_history=True\n",
    "    )"
   ]
  },
  {
   "cell_type": "markdown",
   "id": "64675dd3",
   "metadata": {},
   "source": [
    "## Inspecting simulation history\n",
    "You may notice that `run_simulation_schedule(...)` returns a \"history\" in the above cell; this output enables you to access and inspect the final state of each simulation that was run  \n",
    "The \"history\" is a dict whose keys are the names you've assigned to each simulation step and whose values are a dict containing the completed Simulation (in its final state) and associate paths"
   ]
  },
  {
   "cell_type": "code",
   "execution_count": 8,
   "id": "001f3715",
   "metadata": {},
   "outputs": [
    {
     "data": {
      "text/plain": [
       "{'equilibration': {'simulation': <openmm.app.simulation.Simulation at 0x7fc298ad5450>,\n",
       "  'paths': SimulationPaths(parameters_path=PosixPath('scratch_MD/PNIPAAm_solv_water_TIP3P/equilibration/equilibration_parameters.json'), paths_path=PosixPath('scratch_MD/PNIPAAm_solv_water_TIP3P/equilibration/equilibration_paths.json'), system_path=PosixPath('scratch_MD/PNIPAAm_solv_water_TIP3P/equilibration/equilibration_system.xml'), topology_path=PosixPath('scratch_MD/PNIPAAm_solv_water_TIP3P/equilibration/equilibration_topology.pdb'), state_path=PosixPath('scratch_MD/PNIPAAm_solv_water_TIP3P/equilibration/equilibration_state.xml'), checkpoint_path=PosixPath('scratch_MD/PNIPAAm_solv_water_TIP3P/equilibration/equilibration_checkpoint.chk'), trajectory_path=PosixPath('scratch_MD/PNIPAAm_solv_water_TIP3P/equilibration/equilibration_trajectory.dcd'), state_data_path=PosixPath('scratch_MD/PNIPAAm_solv_water_TIP3P/equilibration/equilibration_state_data.csv'), time_data_path=None, spatial_data_path=None)},\n",
       " 'production': {'simulation': <openmm.app.simulation.Simulation at 0x7fc298959610>,\n",
       "  'paths': SimulationPaths(parameters_path=PosixPath('scratch_MD/PNIPAAm_solv_water_TIP3P/production/production_parameters.json'), paths_path=PosixPath('scratch_MD/PNIPAAm_solv_water_TIP3P/production/production_paths.json'), system_path=PosixPath('scratch_MD/PNIPAAm_solv_water_TIP3P/production/production_system.xml'), topology_path=PosixPath('scratch_MD/PNIPAAm_solv_water_TIP3P/production/production_topology.pdb'), state_path=PosixPath('scratch_MD/PNIPAAm_solv_water_TIP3P/production/production_state.xml'), checkpoint_path=PosixPath('scratch_MD/PNIPAAm_solv_water_TIP3P/production/production_checkpoint.chk'), trajectory_path=PosixPath('scratch_MD/PNIPAAm_solv_water_TIP3P/production/production_trajectory.dcd'), state_data_path=PosixPath('scratch_MD/PNIPAAm_solv_water_TIP3P/production/production_state_data.csv'), time_data_path=None, spatial_data_path=None)}}"
      ]
     },
     "execution_count": 8,
     "metadata": {},
     "output_type": "execute_result"
    }
   ],
   "source": [
    "history"
   ]
  },
  {
   "cell_type": "markdown",
   "id": "ed26d098",
   "metadata": {},
   "source": [
    "### Use case 1: assessing equilibration\n",
    "For example, we could pull out the paths from our equilibration simulation and look at the simulation state data to assess whether our system has really equilibrated"
   ]
  },
  {
   "cell_type": "code",
   "execution_count": 9,
   "id": "8e2e3714",
   "metadata": {},
   "outputs": [
    {
     "name": "stdout",
     "output_type": "stream",
     "text": [
      "<class 'polymerist.mdtools.openmmtools.serialization.paths.SimulationPaths'>\n",
      "scratch_MD/PNIPAAm_solv_water_TIP3P/equilibration/equilibration_parameters.json\n"
     ]
    }
   ],
   "source": [
    "equil_paths = history['equilibration']['paths']\n",
    "print(type(equil_paths))\n",
    "print(equil_paths.parameters_path)"
   ]
  },
  {
   "cell_type": "code",
   "execution_count": 10,
   "id": "1c00cb7d",
   "metadata": {},
   "outputs": [
    {
     "data": {
      "text/html": [
       "<div>\n",
       "<style scoped>\n",
       "    .dataframe tbody tr th:only-of-type {\n",
       "        vertical-align: middle;\n",
       "    }\n",
       "\n",
       "    .dataframe tbody tr th {\n",
       "        vertical-align: top;\n",
       "    }\n",
       "\n",
       "    .dataframe thead th {\n",
       "        text-align: right;\n",
       "    }\n",
       "</style>\n",
       "<table border=\"1\" class=\"dataframe\">\n",
       "  <thead>\n",
       "    <tr style=\"text-align: right;\">\n",
       "      <th></th>\n",
       "      <th>#\"Step\"</th>\n",
       "      <th>Time (ps)</th>\n",
       "      <th>Potential Energy (kJ/mole)</th>\n",
       "      <th>Kinetic Energy (kJ/mole)</th>\n",
       "      <th>Total Energy (kJ/mole)</th>\n",
       "      <th>Temperature (K)</th>\n",
       "      <th>Box Volume (nm^3)</th>\n",
       "      <th>Density (g/mL)</th>\n",
       "      <th>Speed (ns/day)</th>\n",
       "    </tr>\n",
       "  </thead>\n",
       "  <tbody>\n",
       "    <tr>\n",
       "      <th>0</th>\n",
       "      <td>1000</td>\n",
       "      <td>2.0</td>\n",
       "      <td>-89447.526732</td>\n",
       "      <td>13663.099609</td>\n",
       "      <td>-75784.427122</td>\n",
       "      <td>253.810050</td>\n",
       "      <td>55.730172</td>\n",
       "      <td>1.138364</td>\n",
       "      <td>0</td>\n",
       "    </tr>\n",
       "    <tr>\n",
       "      <th>1</th>\n",
       "      <td>2000</td>\n",
       "      <td>4.0</td>\n",
       "      <td>-84942.886077</td>\n",
       "      <td>15149.741211</td>\n",
       "      <td>-69793.144866</td>\n",
       "      <td>281.426373</td>\n",
       "      <td>61.269901</td>\n",
       "      <td>1.035438</td>\n",
       "      <td>407</td>\n",
       "    </tr>\n",
       "    <tr>\n",
       "      <th>2</th>\n",
       "      <td>3000</td>\n",
       "      <td>6.0</td>\n",
       "      <td>-84053.804299</td>\n",
       "      <td>15835.542969</td>\n",
       "      <td>-68218.261331</td>\n",
       "      <td>294.166043</td>\n",
       "      <td>62.294260</td>\n",
       "      <td>1.018412</td>\n",
       "      <td>397</td>\n",
       "    </tr>\n",
       "    <tr>\n",
       "      <th>3</th>\n",
       "      <td>4000</td>\n",
       "      <td>8.0</td>\n",
       "      <td>-83433.480674</td>\n",
       "      <td>16138.884766</td>\n",
       "      <td>-67294.595908</td>\n",
       "      <td>299.801016</td>\n",
       "      <td>62.667103</td>\n",
       "      <td>1.012353</td>\n",
       "      <td>401</td>\n",
       "    </tr>\n",
       "    <tr>\n",
       "      <th>4</th>\n",
       "      <td>5000</td>\n",
       "      <td>10.0</td>\n",
       "      <td>-83331.371758</td>\n",
       "      <td>16194.717773</td>\n",
       "      <td>-67136.653985</td>\n",
       "      <td>300.838188</td>\n",
       "      <td>63.171207</td>\n",
       "      <td>1.004274</td>\n",
       "      <td>403</td>\n",
       "    </tr>\n",
       "    <tr>\n",
       "      <th>5</th>\n",
       "      <td>6000</td>\n",
       "      <td>12.0</td>\n",
       "      <td>-83201.665724</td>\n",
       "      <td>16294.828125</td>\n",
       "      <td>-66906.837599</td>\n",
       "      <td>302.697869</td>\n",
       "      <td>62.880247</td>\n",
       "      <td>1.008921</td>\n",
       "      <td>411</td>\n",
       "    </tr>\n",
       "    <tr>\n",
       "      <th>6</th>\n",
       "      <td>7000</td>\n",
       "      <td>14.0</td>\n",
       "      <td>-83385.445705</td>\n",
       "      <td>16244.994141</td>\n",
       "      <td>-67140.451565</td>\n",
       "      <td>301.772137</td>\n",
       "      <td>62.687638</td>\n",
       "      <td>1.012021</td>\n",
       "      <td>409</td>\n",
       "    </tr>\n",
       "    <tr>\n",
       "      <th>7</th>\n",
       "      <td>8000</td>\n",
       "      <td>16.0</td>\n",
       "      <td>-83129.492349</td>\n",
       "      <td>16018.789062</td>\n",
       "      <td>-67110.703287</td>\n",
       "      <td>297.570080</td>\n",
       "      <td>62.840629</td>\n",
       "      <td>1.009557</td>\n",
       "      <td>405</td>\n",
       "    </tr>\n",
       "    <tr>\n",
       "      <th>8</th>\n",
       "      <td>9000</td>\n",
       "      <td>18.0</td>\n",
       "      <td>-82560.039907</td>\n",
       "      <td>16051.361328</td>\n",
       "      <td>-66508.678579</td>\n",
       "      <td>298.175153</td>\n",
       "      <td>63.531311</td>\n",
       "      <td>0.998582</td>\n",
       "      <td>402</td>\n",
       "    </tr>\n",
       "    <tr>\n",
       "      <th>9</th>\n",
       "      <td>10000</td>\n",
       "      <td>20.0</td>\n",
       "      <td>-82741.801547</td>\n",
       "      <td>15962.474609</td>\n",
       "      <td>-66779.326937</td>\n",
       "      <td>296.523965</td>\n",
       "      <td>63.860919</td>\n",
       "      <td>0.993428</td>\n",
       "      <td>400</td>\n",
       "    </tr>\n",
       "  </tbody>\n",
       "</table>\n",
       "</div>"
      ],
      "text/plain": [
       "   #\"Step\"  Time (ps)  Potential Energy (kJ/mole)  Kinetic Energy (kJ/mole)  \\\n",
       "0     1000        2.0               -89447.526732              13663.099609   \n",
       "1     2000        4.0               -84942.886077              15149.741211   \n",
       "2     3000        6.0               -84053.804299              15835.542969   \n",
       "3     4000        8.0               -83433.480674              16138.884766   \n",
       "4     5000       10.0               -83331.371758              16194.717773   \n",
       "5     6000       12.0               -83201.665724              16294.828125   \n",
       "6     7000       14.0               -83385.445705              16244.994141   \n",
       "7     8000       16.0               -83129.492349              16018.789062   \n",
       "8     9000       18.0               -82560.039907              16051.361328   \n",
       "9    10000       20.0               -82741.801547              15962.474609   \n",
       "\n",
       "   Total Energy (kJ/mole)  Temperature (K)  Box Volume (nm^3)  Density (g/mL)  \\\n",
       "0           -75784.427122       253.810050          55.730172        1.138364   \n",
       "1           -69793.144866       281.426373          61.269901        1.035438   \n",
       "2           -68218.261331       294.166043          62.294260        1.018412   \n",
       "3           -67294.595908       299.801016          62.667103        1.012353   \n",
       "4           -67136.653985       300.838188          63.171207        1.004274   \n",
       "5           -66906.837599       302.697869          62.880247        1.008921   \n",
       "6           -67140.451565       301.772137          62.687638        1.012021   \n",
       "7           -67110.703287       297.570080          62.840629        1.009557   \n",
       "8           -66508.678579       298.175153          63.531311        0.998582   \n",
       "9           -66779.326937       296.523965          63.860919        0.993428   \n",
       "\n",
       "   Speed (ns/day)  \n",
       "0               0  \n",
       "1             407  \n",
       "2             397  \n",
       "3             401  \n",
       "4             403  \n",
       "5             411  \n",
       "6             409  \n",
       "7             405  \n",
       "8             402  \n",
       "9             400  "
      ]
     },
     "execution_count": 10,
     "metadata": {},
     "output_type": "execute_result"
    }
   ],
   "source": [
    "import pandas as pd\n",
    "import matplotlib.pyplot as plt\n",
    "\n",
    "\n",
    "state_data = pd.read_csv(equil_paths.state_data_path)\n",
    "state_data.head(10)"
   ]
  },
  {
   "cell_type": "code",
   "execution_count": 11,
   "id": "8e4ee50a",
   "metadata": {},
   "outputs": [
    {
     "data": {
      "image/png": "[encoded data removed]",
      "text/plain": [
       "<Figure size 640x480 with 1 Axes>"
      ]
     },
     "metadata": {},
     "output_type": "display_data"
    }
   ],
   "source": [
    "x_prop : str = 'Time (ps)'\n",
    "y_prop : str = 'Density (g/mL)'\n",
    "\n",
    "plt.plot(state_data[x_prop], state_data[y_prop])\n",
    "plt.xlabel(x_prop)\n",
    "plt.ylabel(y_prop)\n",
    "plt.title('Equilibration Simulation Density')\n",
    "plt.show()"
   ]
  },
  {
   "cell_type": "markdown",
   "id": "bdf68825",
   "metadata": {},
   "source": [
    "### Use case 2: analyzing potential energy contributions\n",
    "As another useful example, we can perform a single-point energy evaluation of the final state of our simulation, or inspect the forces acting upon it"
   ]
  },
  {
   "cell_type": "code",
   "execution_count": 12,
   "id": "f9e134ba",
   "metadata": {},
   "outputs": [
    {
     "name": "stdout",
     "output_type": "stream",
     "text": [
      "<class 'openmm.app.simulation.Simulation'>\n",
      "-85452.25682815118 kJ/mol\n"
     ]
    }
   ],
   "source": [
    "prod_sim = history['production']['simulation']\n",
    "print(type(prod_sim))\n",
    "print(prod_sim.context.getState(getEnergy=True).getPotentialEnergy())"
   ]
  },
  {
   "cell_type": "code",
   "execution_count": 13,
   "id": "041bf360",
   "metadata": {},
   "outputs": [
    {
     "data": {
      "text/plain": [
       "{'Total potential energy': -85452.25682815118 kJ/mol,\n",
       " 'Total kinetic energy': 16416.21484375 kJ/mol,\n",
       " 'vdW force potential energy': 15766.414261796152 kJ/mol,\n",
       " 'Electrostatics force potential energy': -98901.88087922346 kJ/mol,\n",
       " 'vdW 1-4 force potential energy': 414.1731643676758 kJ/mol,\n",
       " 'Electrostatics 1-4 force potential energy': -5411.4483642578125 kJ/mol,\n",
       " 'PeriodicTorsionForce potential energy': 1040.1817321777344 kJ/mol,\n",
       " 'HarmonicAngleForce potential energy': 1269.1615600585938 kJ/mol,\n",
       " 'HarmonicBondForce potential energy': 371.1495361328125 kJ/mol,\n",
       " 'CMMotionRemover potential energy': 0.0 kJ/mol,\n",
       " 'AndersenThermostat potential energy': 0.0 kJ/mol}"
      ]
     },
     "execution_count": 13,
     "metadata": {},
     "output_type": "execute_result"
    }
   ],
   "source": [
    "from polymerist.mdtools.openmmtools.evaluation import get_openmm_energies_separated\n",
    "\n",
    "get_openmm_energies_separated(prod_sim.context)"
   ]
  },
  {
   "cell_type": "code",
   "execution_count": 14,
   "id": "9db0787d",
   "metadata": {},
   "outputs": [
    {
     "data": {
      "text/plain": [
       "{'vdW force': {'CutoffDistance': 0.9 nm,\n",
       "  'EnergyFunction': '4*epsilon*((sigma/r)^12-(sigma/r)^6); sigma=(sigma1+sigma2)/2; epsilon=sqrt(epsilon1*epsilon2); ',\n",
       "  'ForceGroup': 0,\n",
       "  'Name': 'vdW force',\n",
       "  'NonbondedMethod': 2,\n",
       "  'NumComputedValues': 0,\n",
       "  'NumEnergyParameterDerivatives': 0,\n",
       "  'NumExclusions': 8734,\n",
       "  'NumFunctions': 0,\n",
       "  'NumGlobalParameters': 0,\n",
       "  'NumInteractionGroups': 0,\n",
       "  'NumParticles': 6368,\n",
       "  'NumPerParticleParameters': 2,\n",
       "  'NumTabulatedFunctions': 0,\n",
       "  'SwitchingDistance': 0.8 nm,\n",
       "  'UseLongRangeCorrection': True,\n",
       "  'UseSwitchingFunction': True,\n",
       "  'Type': 'CustomNonbondedForce',\n",
       "  'LongRangeNonbondedMethod': 'CutoffPeriodic'},\n",
       " 'Electrostatics force': {'CutoffDistance': 0.9 nm,\n",
       "  'EwaldErrorTolerance': 0.0001,\n",
       "  'ExceptionsUsePeriodicBoundaryConditions': False,\n",
       "  'ForceGroup': 1,\n",
       "  'IncludeDirectSpace': True,\n",
       "  'LJPMEParameters': [0.0, 0, 0, 0],\n",
       "  'Name': 'Electrostatics force',\n",
       "  'NonbondedMethod': 4,\n",
       "  'NumExceptionParameterOffsets': 0,\n",
       "  'NumExceptions': 8734,\n",
       "  'NumGlobalParameters': 0,\n",
       "  'NumParticleParameterOffsets': 0,\n",
       "  'NumParticles': 6368,\n",
       "  'PMEParameters': [0.0 /nm, 0, 0, 0],\n",
       "  'ReactionFieldDielectric': 78.3,\n",
       "  'ReciprocalSpaceForceGroup': -1,\n",
       "  'SwitchingDistance': -1.0 nm,\n",
       "  'UseDispersionCorrection': True,\n",
       "  'UseSwitchingFunction': False,\n",
       "  'Type': 'NonbondedForce',\n",
       "  'LongRangeNonbondedMethod': 'PME'},\n",
       " 'vdW 1-4 force': {'EnergyFunction': '4*epsilon*((sigma/r)^12-(sigma/r)^6)',\n",
       "  'ForceGroup': 2,\n",
       "  'Name': 'vdW 1-4 force',\n",
       "  'NumBonds': 1395,\n",
       "  'NumEnergyParameterDerivatives': 0,\n",
       "  'NumGlobalParameters': 0,\n",
       "  'NumPerBondParameters': 2,\n",
       "  'Type': 'CustomBondForce'},\n",
       " 'Electrostatics 1-4 force': {'EnergyFunction': '138.935456*qq/r',\n",
       "  'ForceGroup': 3,\n",
       "  'Name': 'Electrostatics 1-4 force',\n",
       "  'NumBonds': 1395,\n",
       "  'NumEnergyParameterDerivatives': 0,\n",
       "  'NumGlobalParameters': 0,\n",
       "  'NumPerBondParameters': 1,\n",
       "  'Type': 'CustomBondForce'},\n",
       " 'PeriodicTorsionForce': {'ForceGroup': 4,\n",
       "  'Name': 'PeriodicTorsionForce',\n",
       "  'NumTorsions': 2146,\n",
       "  'Type': 'PeriodicTorsionForce'},\n",
       " 'HarmonicAngleForce': {'ForceGroup': 5,\n",
       "  'Name': 'HarmonicAngleForce',\n",
       "  'NumAngles': 972,\n",
       "  'Type': 'HarmonicAngleForce'},\n",
       " 'HarmonicBondForce': {'ForceGroup': 6,\n",
       "  'Name': 'HarmonicBondForce',\n",
       "  'NumBonds': 215,\n",
       "  'Type': 'HarmonicBondForce'},\n",
       " 'CMMotionRemover': {'ForceGroup': 7,\n",
       "  'Frequency': 1,\n",
       "  'Name': 'CMMotionRemover',\n",
       "  'Type': 'CMMotionRemover'},\n",
       " 'AndersenThermostat': {'DefaultCollisionFrequency': 1.0 /ps,\n",
       "  'DefaultTemperature': 300.0 K,\n",
       "  'ForceGroup': 31,\n",
       "  'Name': 'AndersenThermostat',\n",
       "  'RandomNumberSeed': 0,\n",
       "  'Type': 'AndersenThermostat'}}"
      ]
     },
     "execution_count": 14,
     "metadata": {},
     "output_type": "execute_result"
    }
   ],
   "source": [
    "from polymerist.mdtools.openmmtools.forces import describe_forces\n",
    "\n",
    "describe_forces(prod_sim.system)"
   ]
  },
  {
   "cell_type": "code",
   "execution_count": null,
   "id": "7dab6724",
   "metadata": {},
   "outputs": [],
   "source": []
  }
 ],
 "metadata": {
  "kernelspec": {
   "display_name": "polymerist-env",
   "language": "python",
   "name": "python3"
  },
  "language_info": {
   "codemirror_mode": {
    "name": "ipython",
    "version": 3
   },
   "file_extension": ".py",
   "mimetype": "text/x-python",
   "name": "python",
   "nbconvert_exporter": "python",
   "pygments_lexer": "ipython3",
   "version": "3.11.13"
  }
 },
 "nbformat": 4,
 "nbformat_minor": 5
}
