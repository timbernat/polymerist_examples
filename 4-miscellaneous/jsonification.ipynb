{
 "cells": [
  {
   "cell_type": "markdown",
   "id": "5d131136",
   "metadata": {},
   "source": [
    "# JSONification"
   ]
  },
  {
   "cell_type": "code",
   "execution_count": 1,
   "id": "e7888c40",
   "metadata": {},
   "outputs": [],
   "source": [
    "from pathlib import Path\n",
    "from polymerist.genutils.fileutils import assemble_path\n",
    "\n",
    "\n",
    "OUTPUT_DIR = Path('scratch_misc') # dummy directory for writing without tampering with example inputs\n",
    "OUTPUT_DIR.mkdir(exist_ok=True)\n",
    "\n",
    "JSONIFY_DIR = OUTPUT_DIR / 'jsonifiables'\n",
    "JSONIFY_DIR.mkdir(exist_ok=True)"
   ]
  },
  {
   "cell_type": "markdown",
   "id": "2f68f7c6",
   "metadata": {},
   "source": [
    "Peppered throughout the accompanying polymer demos, you may have noticed examples of container classes which support convenient obj.to_file(...) and cls.from_file(...) operation  \n",
    "For instance, consider the MonomerGroup class in the [polymerization demos](../1-polymerization/1.0-index.ipynb) or the many containers in the [simulation parameters demo](../3-workflows/3.2-serializable_simulation_parameters.ipynb)\n",
    "\n",
    "These are examples of the much more general JSONifiable type `polymerist` defines, subclasses of which all support obj.to_file(...) and cls.from_file(...) methods natively  \n",
    "The `jsonify` module of polymerist allows you to detect such JSONifiable containers, as well as create your own from an arbitrary dataclass!"
   ]
  },
  {
   "cell_type": "code",
   "execution_count": 2,
   "id": "3e8d4482",
   "metadata": {},
   "outputs": [
    {
     "name": "stdout",
     "output_type": "stream",
     "text": [
      "True\n",
      "False\n"
     ]
    }
   ],
   "source": [
    "from polymerist.mdtools.openmmtools.parameters import SimulationParameters\n",
    "from polymerist.genutils.fileutils.jsonio.jsonify import JSONifiable, make_jsonifiable\n",
    "\n",
    "\n",
    "print(issubclass(SimulationParameters, JSONifiable)) # SimulationParameters natively supports to_file() and from_file methods()\n",
    "print(issubclass(list, JSONifiable)) # the builtin list (and other builtin classes) do not"
   ]
  },
  {
   "cell_type": "markdown",
   "id": "9df8bfba",
   "metadata": {},
   "source": [
    "For disclosure, here are all of the JSONifiable classes within all of `polymerist`  at the time of writing:"
   ]
  },
  {
   "cell_type": "code",
   "execution_count": 3,
   "id": "5f8eba5a",
   "metadata": {},
   "outputs": [
    {
     "name": "stderr",
     "output_type": "stream",
     "text": [
      "[22:35:00] WARNING: not removing hydrogen atom with dummy atom neighbors\n"
     ]
    },
    {
     "name": "stdout",
     "output_type": "stream",
     "text": [
      "True\n"
     ]
    }
   ],
   "source": [
    "from polymerist.mdtools.openmmtools.parameters import (\n",
    "    ThermoParameters,\n",
    "    IntegratorParameters,\n",
    "    ReporterParameters,\n",
    "    SimulationParameters,\n",
    ")\n",
    "from polymerist.polymers.monomers import MonomerGroup\n",
    "from polymerist.polymers.building.sequencing import LinearCopolymerSequencer\n",
    "from polymerist.mdtools.openfftools.partialcharge.rescharge.rctypes import ChargesByResidue\n",
    "\n",
    "\n",
    "jsonifiable_classes_in_polymerist : list[JSONifiable] = [\n",
    "    ThermoParameters,\n",
    "    IntegratorParameters,\n",
    "    ReporterParameters,\n",
    "    SimulationParameters,\n",
    "    MonomerGroup,\n",
    "    LinearCopolymerSequencer,\n",
    "    ChargesByResidue,\n",
    "]\n",
    "print( all(issubclass(cls, JSONifiable) for cls in jsonifiable_classes_in_polymerist) )"
   ]
  },
  {
   "cell_type": "markdown",
   "id": "af14856d",
   "metadata": {},
   "source": [
    "### Making your own JSONifiables!\n",
    "Basically any* Python [dataclass](https://docs.python.org/3/library/dataclasses.html) can be instantly turned JSONifiable with the `make_jsonifiable` decorator `polymerist` provides you:\n",
    "<a id='asterisk'></a>"
   ]
  },
  {
   "cell_type": "code",
   "execution_count": 4,
   "id": "4a366282",
   "metadata": {},
   "outputs": [
    {
     "name": "stdout",
     "output_type": "stream",
     "text": [
      "Student(name='Drew A. Blanc', age=24, grades={'chemistry': 91.7, 'mathematics': 99.8, 'physics': 88.3, 'english': 78.4})\n"
     ]
    }
   ],
   "source": [
    "from dataclasses import dataclass, field\n",
    "from polymerist.genutils.fileutils.jsonio.jsonify import make_jsonifiable\n",
    "\n",
    "\n",
    "@make_jsonifiable # this comes from polymerist and is literally all you need to do yourself!\n",
    "@dataclass # this is a Python builtin\n",
    "class Student:\n",
    "    name   : str\n",
    "    age    : int\n",
    "    grades : dict[str, float] = field(default_factory=dict)\n",
    "\n",
    "student = Student(\n",
    "    name='Drew A. Blanc',\n",
    "    age=24,\n",
    "    grades={\n",
    "        'chemistry' : 91.7,\n",
    "        'mathematics' : 99.8,\n",
    "        'physics' : 88.3,\n",
    "        'english' : 78.4,\n",
    "    })\n",
    "print(student)"
   ]
  },
  {
   "cell_type": "code",
   "execution_count": 5,
   "id": "79df00c0",
   "metadata": {},
   "outputs": [],
   "source": [
    "student_path = assemble_path(JSONIFY_DIR, 'student', extension='json')\n",
    "student.to_file(student_path) # this works out-of-box"
   ]
  },
  {
   "cell_type": "code",
   "execution_count": 6,
   "id": "f81269fc",
   "metadata": {},
   "outputs": [
    {
     "name": "stdout",
     "output_type": "stream",
     "text": [
      "Drew A. Blanc {'chemistry': 91.7, 'mathematics': 99.8, 'physics': 88.3, 'english': 78.4}\n"
     ]
    }
   ],
   "source": [
    "recorded_student = Student.from_file(student_path)\n",
    "print(recorded_student.name, recorded_student.grades)"
   ]
  },
  {
   "cell_type": "markdown",
   "id": "8e4a038a",
   "metadata": {},
   "source": [
    "#### *Adapting nonstandard attribute types for JSON serialization\n",
    "C.f. the [asterisk above](#asterisk\n",
    "), it may be that the container you wish to serialize has fields which are not, by default, JSON-serializable types, shown below"
   ]
  },
  {
   "cell_type": "code",
   "execution_count": 11,
   "id": "f52a3cca",
   "metadata": {},
   "outputs": [
    {
     "name": "stdout",
     "output_type": "stream",
     "text": [
      "typing.Union[str, bool, int, float, tuple, list, dict]\n"
     ]
    }
   ],
   "source": [
    "from polymerist.genutils.fileutils.jsonio.serialize import JSONSerializable\n",
    "\n",
    "print(JSONSerializable) # these are the ONLY types which, by default, can be faithfully read from and written to a JSON file"
   ]
  },
  {
   "cell_type": "markdown",
   "id": "5f744e34",
   "metadata": {},
   "source": [
    "For example, the below example <font color='red'>will fail and raise TypeError</font> due to the presence of Path and Quantity attribute values"
   ]
  },
  {
   "cell_type": "code",
   "execution_count": 12,
   "id": "578de761",
   "metadata": {},
   "outputs": [
    {
     "ename": "TypeError",
     "evalue": "Object of type Quantity is not JSON serializable",
     "output_type": "error",
     "traceback": [
      "\u001b[31m---------------------------------------------------------------------------\u001b[39m",
      "\u001b[31mTypeError\u001b[39m                                 Traceback (most recent call last)",
      "\u001b[36mCell\u001b[39m\u001b[36m \u001b[39m\u001b[32mIn[12]\u001b[39m\u001b[32m, line 12\u001b[39m\n\u001b[32m      9\u001b[39m     logfile : Path = field(default_factory=\u001b[38;5;28;01mlambda\u001b[39;00m: Path(\u001b[33m'\u001b[39m\u001b[33msimulation.log\u001b[39m\u001b[33m'\u001b[39m))\n\u001b[32m     11\u001b[39m log_params = LoggingParameters(\u001b[32m30\u001b[39m*second)\n\u001b[32m---> \u001b[39m\u001b[32m12\u001b[39m \u001b[43mlog_params\u001b[49m\u001b[43m.\u001b[49m\u001b[43mto_file\u001b[49m\u001b[43m(\u001b[49m\u001b[43mJSONIFY_DIR\u001b[49m\u001b[43m \u001b[49m\u001b[43m/\u001b[49m\u001b[43m \u001b[49m\u001b[33;43m'\u001b[39;49m\u001b[33;43mlog_params.json\u001b[39;49m\u001b[33;43m'\u001b[39;49m\u001b[43m)\u001b[49m\n",
      "\u001b[36mFile \u001b[39m\u001b[32m~/miniconda3/envs/polymerist-test/lib/python3.11/site-packages/polymerist/genutils/fileutils/pathutils.py:41\u001b[39m, in \u001b[36mallow_string_paths.<locals>.str_path_wrapper\u001b[39m\u001b[34m(flex_path, *args, **kwargs)\u001b[39m\n\u001b[32m     38\u001b[39m \u001b[38;5;129m@wraps\u001b[39m(funct) \u001b[38;5;66;03m# for preserving docstring and type annotations / signatures\u001b[39;00m\n\u001b[32m     39\u001b[39m \u001b[38;5;28;01mdef\u001b[39;00m\u001b[38;5;250m \u001b[39m\u001b[34mstr_path_wrapper\u001b[39m(flex_path : Union[\u001b[38;5;28mstr\u001b[39m, Path], *args : Params.args, **kwargs : Params.kwargs) -> T:\n\u001b[32m     40\u001b[39m \u001b[38;5;250m    \u001b[39m\u001b[33;03m'''First converts stringy paths into normal Paths, then executes the original function'''\u001b[39;00m\n\u001b[32m---> \u001b[39m\u001b[32m41\u001b[39m     \u001b[38;5;28;01mreturn\u001b[39;00m \u001b[43mfunct\u001b[49m\u001b[43m(\u001b[49m\u001b[43maspath\u001b[49m\u001b[43m(\u001b[49m\u001b[43mflex_path\u001b[49m\u001b[43m)\u001b[49m\u001b[43m,\u001b[49m\u001b[43m \u001b[49m\u001b[43m*\u001b[49m\u001b[43margs\u001b[49m\u001b[43m,\u001b[49m\u001b[43m \u001b[49m\u001b[43m*\u001b[49m\u001b[43m*\u001b[49m\u001b[43mkwargs\u001b[49m\u001b[43m)\u001b[49m\n",
      "\u001b[36mFile \u001b[39m\u001b[32m~/miniconda3/envs/polymerist-test/lib/python3.11/site-packages/polymerist/genutils/fileutils/jsonio/jsonify.py:113\u001b[39m, in \u001b[36mmake_jsonifiable.<locals>.jsonifiable_factory.<locals>.WrappedClass.to_file\u001b[39m\u001b[34m(self, save_path)\u001b[39m\n\u001b[32m    111\u001b[39m \u001b[38;5;28;01massert\u001b[39;00m(save_path.suffix == \u001b[33m'\u001b[39m\u001b[33m.json\u001b[39m\u001b[33m'\u001b[39m)\n\u001b[32m    112\u001b[39m \u001b[38;5;28;01mwith\u001b[39;00m save_path.open(\u001b[33m'\u001b[39m\u001b[33mw\u001b[39m\u001b[33m'\u001b[39m) \u001b[38;5;28;01mas\u001b[39;00m dumpfile:\n\u001b[32m--> \u001b[39m\u001b[32m113\u001b[39m     \u001b[43mjson\u001b[49m\u001b[43m.\u001b[49m\u001b[43mdump\u001b[49m\u001b[43m(\u001b[49m\u001b[38;5;28;43mself\u001b[39;49m\u001b[43m,\u001b[49m\u001b[43m \u001b[49m\u001b[43mdumpfile\u001b[49m\u001b[43m,\u001b[49m\u001b[43m \u001b[49m\u001b[43mdefault\u001b[49m\u001b[43m=\u001b[49m\u001b[38;5;28;43mself\u001b[39;49m\u001b[43m.\u001b[49m\u001b[43mserializer\u001b[49m\u001b[43m.\u001b[49m\u001b[43mencoder_default\u001b[49m\u001b[43m,\u001b[49m\u001b[43m \u001b[49m\u001b[43mindent\u001b[49m\u001b[43m=\u001b[49m\u001b[32;43m4\u001b[39;49m\u001b[43m)\u001b[49m\n",
      "\u001b[36mFile \u001b[39m\u001b[32m~/miniconda3/envs/polymerist-test/lib/python3.11/json/__init__.py:179\u001b[39m, in \u001b[36mdump\u001b[39m\u001b[34m(obj, fp, skipkeys, ensure_ascii, check_circular, allow_nan, cls, indent, separators, default, sort_keys, **kw)\u001b[39m\n\u001b[32m    173\u001b[39m     iterable = \u001b[38;5;28mcls\u001b[39m(skipkeys=skipkeys, ensure_ascii=ensure_ascii,\n\u001b[32m    174\u001b[39m         check_circular=check_circular, allow_nan=allow_nan, indent=indent,\n\u001b[32m    175\u001b[39m         separators=separators,\n\u001b[32m    176\u001b[39m         default=default, sort_keys=sort_keys, **kw).iterencode(obj)\n\u001b[32m    177\u001b[39m \u001b[38;5;66;03m# could accelerate with writelines in some versions of Python, at\u001b[39;00m\n\u001b[32m    178\u001b[39m \u001b[38;5;66;03m# a debuggability cost\u001b[39;00m\n\u001b[32m--> \u001b[39m\u001b[32m179\u001b[39m \u001b[43m\u001b[49m\u001b[38;5;28;43;01mfor\u001b[39;49;00m\u001b[43m \u001b[49m\u001b[43mchunk\u001b[49m\u001b[43m \u001b[49m\u001b[38;5;129;43;01min\u001b[39;49;00m\u001b[43m \u001b[49m\u001b[43miterable\u001b[49m\u001b[43m:\u001b[49m\n\u001b[32m    180\u001b[39m \u001b[43m    \u001b[49m\u001b[43mfp\u001b[49m\u001b[43m.\u001b[49m\u001b[43mwrite\u001b[49m\u001b[43m(\u001b[49m\u001b[43mchunk\u001b[49m\u001b[43m)\u001b[49m\n",
      "\u001b[36mFile \u001b[39m\u001b[32m~/miniconda3/envs/polymerist-test/lib/python3.11/json/encoder.py:440\u001b[39m, in \u001b[36m_make_iterencode.<locals>._iterencode\u001b[39m\u001b[34m(o, _current_indent_level)\u001b[39m\n\u001b[32m    438\u001b[39m     markers[markerid] = o\n\u001b[32m    439\u001b[39m o = _default(o)\n\u001b[32m--> \u001b[39m\u001b[32m440\u001b[39m \u001b[38;5;28;01myield from\u001b[39;00m _iterencode(o, _current_indent_level)\n\u001b[32m    441\u001b[39m \u001b[38;5;28;01mif\u001b[39;00m markers \u001b[38;5;129;01mis\u001b[39;00m \u001b[38;5;129;01mnot\u001b[39;00m \u001b[38;5;28;01mNone\u001b[39;00m:\n\u001b[32m    442\u001b[39m     \u001b[38;5;28;01mdel\u001b[39;00m markers[markerid]\n",
      "\u001b[36mFile \u001b[39m\u001b[32m~/miniconda3/envs/polymerist-test/lib/python3.11/json/encoder.py:432\u001b[39m, in \u001b[36m_make_iterencode.<locals>._iterencode\u001b[39m\u001b[34m(o, _current_indent_level)\u001b[39m\n\u001b[32m    430\u001b[39m     \u001b[38;5;28;01myield from\u001b[39;00m _iterencode_list(o, _current_indent_level)\n\u001b[32m    431\u001b[39m \u001b[38;5;28;01melif\u001b[39;00m \u001b[38;5;28misinstance\u001b[39m(o, \u001b[38;5;28mdict\u001b[39m):\n\u001b[32m--> \u001b[39m\u001b[32m432\u001b[39m     \u001b[38;5;28;01myield from\u001b[39;00m _iterencode_dict(o, _current_indent_level)\n\u001b[32m    433\u001b[39m \u001b[38;5;28;01melse\u001b[39;00m:\n\u001b[32m    434\u001b[39m     \u001b[38;5;28;01mif\u001b[39;00m markers \u001b[38;5;129;01mis\u001b[39;00m \u001b[38;5;129;01mnot\u001b[39;00m \u001b[38;5;28;01mNone\u001b[39;00m:\n",
      "\u001b[36mFile \u001b[39m\u001b[32m~/miniconda3/envs/polymerist-test/lib/python3.11/json/encoder.py:406\u001b[39m, in \u001b[36m_make_iterencode.<locals>._iterencode_dict\u001b[39m\u001b[34m(dct, _current_indent_level)\u001b[39m\n\u001b[32m    404\u001b[39m         \u001b[38;5;28;01melse\u001b[39;00m:\n\u001b[32m    405\u001b[39m             chunks = _iterencode(value, _current_indent_level)\n\u001b[32m--> \u001b[39m\u001b[32m406\u001b[39m         \u001b[38;5;28;01myield from\u001b[39;00m chunks\n\u001b[32m    407\u001b[39m \u001b[38;5;28;01mif\u001b[39;00m newline_indent \u001b[38;5;129;01mis\u001b[39;00m \u001b[38;5;129;01mnot\u001b[39;00m \u001b[38;5;28;01mNone\u001b[39;00m:\n\u001b[32m    408\u001b[39m     _current_indent_level -= \u001b[32m1\u001b[39m\n",
      "\u001b[36mFile \u001b[39m\u001b[32m~/miniconda3/envs/polymerist-test/lib/python3.11/json/encoder.py:406\u001b[39m, in \u001b[36m_make_iterencode.<locals>._iterencode_dict\u001b[39m\u001b[34m(dct, _current_indent_level)\u001b[39m\n\u001b[32m    404\u001b[39m         \u001b[38;5;28;01melse\u001b[39;00m:\n\u001b[32m    405\u001b[39m             chunks = _iterencode(value, _current_indent_level)\n\u001b[32m--> \u001b[39m\u001b[32m406\u001b[39m         \u001b[38;5;28;01myield from\u001b[39;00m chunks\n\u001b[32m    407\u001b[39m \u001b[38;5;28;01mif\u001b[39;00m newline_indent \u001b[38;5;129;01mis\u001b[39;00m \u001b[38;5;129;01mnot\u001b[39;00m \u001b[38;5;28;01mNone\u001b[39;00m:\n\u001b[32m    408\u001b[39m     _current_indent_level -= \u001b[32m1\u001b[39m\n",
      "\u001b[36mFile \u001b[39m\u001b[32m~/miniconda3/envs/polymerist-test/lib/python3.11/json/encoder.py:439\u001b[39m, in \u001b[36m_make_iterencode.<locals>._iterencode\u001b[39m\u001b[34m(o, _current_indent_level)\u001b[39m\n\u001b[32m    437\u001b[39m         \u001b[38;5;28;01mraise\u001b[39;00m \u001b[38;5;167;01mValueError\u001b[39;00m(\u001b[33m\"\u001b[39m\u001b[33mCircular reference detected\u001b[39m\u001b[33m\"\u001b[39m)\n\u001b[32m    438\u001b[39m     markers[markerid] = o\n\u001b[32m--> \u001b[39m\u001b[32m439\u001b[39m o = \u001b[43m_default\u001b[49m\u001b[43m(\u001b[49m\u001b[43mo\u001b[49m\u001b[43m)\u001b[49m\n\u001b[32m    440\u001b[39m \u001b[38;5;28;01myield from\u001b[39;00m _iterencode(o, _current_indent_level)\n\u001b[32m    441\u001b[39m \u001b[38;5;28;01mif\u001b[39;00m markers \u001b[38;5;129;01mis\u001b[39;00m \u001b[38;5;129;01mnot\u001b[39;00m \u001b[38;5;28;01mNone\u001b[39;00m:\n",
      "\u001b[36mFile \u001b[39m\u001b[32m~/miniconda3/envs/polymerist-test/lib/python3.11/site-packages/polymerist/genutils/fileutils/jsonio/serialize.py:95\u001b[39m, in \u001b[36mMultiTypeSerializer.encoder_default\u001b[39m\u001b[34m(self, python_obj)\u001b[39m\n\u001b[32m     93\u001b[39m         \u001b[38;5;28;01mpass\u001b[39;00m \u001b[38;5;66;03m# keep trying rest of encoders (don't immediately raise error) - TODO : make this less redundant-looking?\u001b[39;00m\n\u001b[32m     94\u001b[39m \u001b[38;5;28;01melse\u001b[39;00m:\n\u001b[32m---> \u001b[39m\u001b[32m95\u001b[39m     \u001b[38;5;28;01mraise\u001b[39;00m \u001b[38;5;167;01mTypeError\u001b[39;00m(\u001b[33mf\u001b[39m\u001b[33m'\u001b[39m\u001b[33mObject of type \u001b[39m\u001b[38;5;132;01m{\u001b[39;00mpython_obj.\u001b[34m__class__\u001b[39m.\u001b[34m__name__\u001b[39m\u001b[38;5;132;01m}\u001b[39;00m\u001b[33m is not JSON serializable\u001b[39m\u001b[33m'\u001b[39m)\n",
      "\u001b[31mTypeError\u001b[39m: Object of type Quantity is not JSON serializable"
     ]
    }
   ],
   "source": [
    "from pathlib import Path\n",
    "from openmm.unit import Quantity, second\n",
    "\n",
    "\n",
    "@make_jsonifiable\n",
    "@dataclass\n",
    "class LoggingParameters:\n",
    "    walltime : Quantity\n",
    "    logfile : Path = field(default_factory=lambda: Path('simulation.log'))\n",
    "    \n",
    "log_params = LoggingParameters(30*second)\n",
    "log_params.to_file(JSONIFY_DIR / 'log_params.json')"
   ]
  },
  {
   "cell_type": "markdown",
   "id": "9d0a9643",
   "metadata": {},
   "source": [
    "This is easily overcome by providing \"TypeSerializer\" definitions to make_jsonifiable, which define how ordinarily non-JSON-serializable types should be encoded and decoded"
   ]
  },
  {
   "cell_type": "code",
   "execution_count": 13,
   "id": "ff6ebd30",
   "metadata": {},
   "outputs": [],
   "source": [
    "from polymerist.genutils.fileutils.jsonio.serialize import PathSerializer, QuantitySerializer, MultiTypeSerializer\n",
    "\n",
    "\n",
    "@make_jsonifiable(type_serializer=MultiTypeSerializer(PathSerializer, QuantitySerializer)) # bundle multiple serializers together\n",
    "@dataclass\n",
    "class LoggingParameters:\n",
    "    walltime : Quantity\n",
    "    logfile : Path = field(default_factory=lambda: Path('simulation.log'))\n",
    "    \n",
    "log_params = LoggingParameters(30*second)\n",
    "log_params_path = assemble_path(JSONIFY_DIR, 'log_params', extension='json')\n",
    "log_params.to_file(log_params_path)"
   ]
  },
  {
   "cell_type": "code",
   "execution_count": 14,
   "id": "cd457709",
   "metadata": {},
   "outputs": [
    {
     "name": "stdout",
     "output_type": "stream",
     "text": [
      "30 s <class 'openmm.unit.quantity.Quantity'>\n",
      "simulation.log <class 'pathlib.PosixPath'>\n"
     ]
    }
   ],
   "source": [
    "log_params_from_file = LoggingParameters.from_file(log_params_path)\n",
    "print(log_params_from_file.walltime, type(log_params_from_file.walltime))\n",
    "print(log_params_from_file.logfile, type(log_params_from_file.logfile))"
   ]
  },
  {
   "cell_type": "markdown",
   "id": "db5b0da8",
   "metadata": {},
   "source": [
    "By default, PathSerializer and QuantitySerializer are shipped with `polymerist`; defining your own, however, is not especially difficult  \n",
    "Simply inherit from the base TypeSerializer and provide a target type and encode/decode implementations"
   ]
  },
  {
   "cell_type": "code",
   "execution_count": 15,
   "id": "4972d071",
   "metadata": {},
   "outputs": [],
   "source": [
    "import numpy as np\n",
    "from typing import Any\n",
    "from polymerist.genutils.fileutils.jsonio.serialize import TypeSerializer\n",
    "\n",
    "\n",
    "class NDArraySerializer(TypeSerializer, python_type=np.ndarray):\n",
    "    '''For handling JSON serialization of numpy arrays'''\n",
    "    @staticmethod\n",
    "    def encode(python_obj : np.ndarray[Any]) -> list[Any]:\n",
    "        return python_obj.tolist()\n",
    "    \n",
    "    @staticmethod\n",
    "    def decode(value : list[Any]) -> np.ndarray[Any]:\n",
    "        return np.array(value)"
   ]
  },
  {
   "cell_type": "code",
   "execution_count": 16,
   "id": "9e6664a7",
   "metadata": {},
   "outputs": [],
   "source": [
    "@make_jsonifiable(type_serializer=NDArraySerializer)\n",
    "@dataclass\n",
    "class EulerRotation:\n",
    "    '''Euler-angle description of a rotation by its axis and angle around the axis'''\n",
    "    angle_rad : float = 0.0 # NOTE: opted not to make this a Quantity (though in practice your should) to show JUST the effects of the array serializer\n",
    "    axis      : np.ndarray[float] = field(default_factory=lambda: np.array([1.0, 0.0, 0.0]))\n",
    "    \n",
    "rotation = EulerRotation(angle_rad=np.pi/3, axis=np.array([0.0, 1.0, 0.0]))\n",
    "rotation.to_file(assemble_path(JSONIFY_DIR, 'rotation', extension='json'))\n"
   ]
  },
  {
   "cell_type": "code",
   "execution_count": 17,
   "id": "75c67ee6",
   "metadata": {},
   "outputs": [
    {
     "name": "stdout",
     "output_type": "stream",
     "text": [
      "EulerRotation(angle_rad=1.0471975511965976, axis=array([0., 1., 0.]))\n",
      "<class 'numpy.ndarray'>\n"
     ]
    }
   ],
   "source": [
    "rotation_from_file = EulerRotation.from_file(JSONIFY_DIR/'rotation.json')\n",
    "print(rotation_from_file)\n",
    "print(type(rotation_from_file.axis))"
   ]
  },
  {
   "cell_type": "markdown",
   "id": "cbd306ca",
   "metadata": {},
   "source": [
    "Of course, NDArraySerializer is _also_ already present in `polymerist`, so you don't need to reimplement it yourself if you find use for it :)"
   ]
  },
  {
   "cell_type": "code",
   "execution_count": 3,
   "id": "3416e813",
   "metadata": {},
   "outputs": [
    {
     "name": "stdout",
     "output_type": "stream",
     "text": [
      "Help on class NDArraySerializer in module polymerist.genutils.fileutils.jsonio.serialize:\n",
      "\n",
      "class NDArraySerializer(TypeSerializer)\n",
      " |  For JSON-serializing of numpy n-dimensional arrays\n",
      " |  \n",
      " |  Method resolution order:\n",
      " |      NDArraySerializer\n",
      " |      TypeSerializer\n",
      " |      abc.ABC\n",
      " |      builtins.object\n",
      " |  \n",
      " |  Static methods defined here:\n",
      " |  \n",
      " |  decode(value: list[typing.Any]) -> numpy.ndarray[typing.Any]\n",
      " |      Reassemble numpy array from list and dtype\n",
      " |  \n",
      " |  encode(python_obj: numpy.ndarray[typing.Any]) -> list[typing.Any]\n",
      " |      List-ify array and store string descriptor of numpy dtype\n",
      " |  \n",
      " |  ----------------------------------------------------------------------\n",
      " |  Data and other attributes defined here:\n",
      " |  \n",
      " |  __abstractmethods__ = frozenset()\n",
      " |  \n",
      " |  __annotations__ = {}\n",
      " |  \n",
      " |  python_type = <class 'numpy.ndarray'>\n",
      " |      ndarray(shape, dtype=float, buffer=None, offset=0,\n",
      " |              strides=None, order=None)\n",
      " |      \n",
      " |      An array object represents a multidimensional, homogeneous array\n",
      " |      of fixed-size items.  An associated data-type object describes the\n",
      " |      format of each element in the array (its byte-order, how many bytes it\n",
      " |      occupies in memory, whether it is an integer, a floating point number,\n",
      " |      or something else, etc.)\n",
      " |      \n",
      " |      Arrays should be constructed using `array`, `zeros` or `empty` (refer\n",
      " |      to the See Also section below).  The parameters given here refer to\n",
      " |      a low-level method (`ndarray(...)`) for instantiating an array.\n",
      " |      \n",
      " |      For more information, refer to the `numpy` module and examine the\n",
      " |      methods and attributes of an array.\n",
      " |      \n",
      " |      Parameters\n",
      " |      ----------\n",
      " |      (for the __new__ method; see Notes below)\n",
      " |      \n",
      " |      shape : tuple of ints\n",
      " |          Shape of created array.\n",
      " |      dtype : data-type, optional\n",
      " |          Any object that can be interpreted as a numpy data type.\n",
      " |      buffer : object exposing buffer interface, optional\n",
      " |          Used to fill the array with data.\n",
      " |      offset : int, optional\n",
      " |          Offset of array data in buffer.\n",
      " |      strides : tuple of ints, optional\n",
      " |          Strides of data in memory.\n",
      " |      order : {'C', 'F'}, optional\n",
      " |          Row-major (C-style) or column-major (Fortran-style) order.\n",
      " |      \n",
      " |      Attributes\n",
      " |      ----------\n",
      " |      T : ndarray\n",
      " |          Transpose of the array.\n",
      " |      data : buffer\n",
      " |          The array's elements, in memory.\n",
      " |      dtype : dtype object\n",
      " |          Describes the format of the elements in the array.\n",
      " |      flags : dict\n",
      " |          Dictionary containing information related to memory use, e.g.,\n",
      " |          'C_CONTIGUOUS', 'OWNDATA', 'WRITEABLE', etc.\n",
      " |      flat : numpy.flatiter object\n",
      " |          Flattened version of the array as an iterator.  The iterator\n",
      " |          allows assignments, e.g., ``x.flat = 3`` (See `ndarray.flat` for\n",
      " |          assignment examples; TODO).\n",
      " |      imag : ndarray\n",
      " |          Imaginary part of the array.\n",
      " |      real : ndarray\n",
      " |          Real part of the array.\n",
      " |      size : int\n",
      " |          Number of elements in the array.\n",
      " |      itemsize : int\n",
      " |          The memory use of each array element in bytes.\n",
      " |      nbytes : int\n",
      " |          The total number of bytes required to store the array data,\n",
      " |          i.e., ``itemsize * size``.\n",
      " |      ndim : int\n",
      " |          The array's number of dimensions.\n",
      " |      shape : tuple of ints\n",
      " |          Shape of the array.\n",
      " |      strides : tuple of ints\n",
      " |          The step-size required to move from one element to the next in\n",
      " |          memory. For example, a contiguous ``(3, 4)`` array of type\n",
      " |          ``int16`` in C-order has strides ``(8, 2)``.  This implies that\n",
      " |          to move from element to element in memory requires jumps of 2 bytes.\n",
      " |          To move from row-to-row, one needs to jump 8 bytes at a time\n",
      " |          (``2 * 4``).\n",
      " |      ctypes : ctypes object\n",
      " |          Class containing properties of the array needed for interaction\n",
      " |          with ctypes.\n",
      " |      base : ndarray\n",
      " |          If the array is a view into another array, that array is its `base`\n",
      " |          (unless that array is also a view).  The `base` array is where the\n",
      " |          array data is actually stored.\n",
      " |      \n",
      " |      See Also\n",
      " |      --------\n",
      " |      array : Construct an array.\n",
      " |      zeros : Create an array, each element of which is zero.\n",
      " |      empty : Create an array, but leave its allocated memory unchanged (i.e.,\n",
      " |              it contains \"garbage\").\n",
      " |      dtype : Create a data-type.\n",
      " |      numpy.typing.NDArray : An ndarray alias :term:`generic <generic type>`\n",
      " |                             w.r.t. its `dtype.type <numpy.dtype.type>`.\n",
      " |      \n",
      " |      Notes\n",
      " |      -----\n",
      " |      There are two modes of creating an array using ``__new__``:\n",
      " |      \n",
      " |      1. If `buffer` is None, then only `shape`, `dtype`, and `order`\n",
      " |         are used.\n",
      " |      2. If `buffer` is an object exposing the buffer interface, then\n",
      " |         all keywords are interpreted.\n",
      " |      \n",
      " |      No ``__init__`` method is needed because the array is fully initialized\n",
      " |      after the ``__new__`` method.\n",
      " |      \n",
      " |      Examples\n",
      " |      --------\n",
      " |      These examples illustrate the low-level `ndarray` constructor.  Refer\n",
      " |      to the `See Also` section above for easier ways of constructing an\n",
      " |      ndarray.\n",
      " |      \n",
      " |      First mode, `buffer` is None:\n",
      " |      \n",
      " |      >>> np.ndarray(shape=(2,2), dtype=float, order='F')\n",
      " |      array([[0.0e+000, 0.0e+000], # random\n",
      " |             [     nan, 2.5e-323]])\n",
      " |      \n",
      " |      Second mode:\n",
      " |      \n",
      " |      >>> np.ndarray((2,), buffer=np.array([1,2,3]),\n",
      " |      ...            offset=np.int_().itemsize,\n",
      " |      ...            dtype=int) # offset = 1*itemsize, i.e. skip first element\n",
      " |      array([2, 3])\n",
      " |  \n",
      " |  \n",
      " |  ----------------------------------------------------------------------\n",
      " |  Class methods inherited from TypeSerializer:\n",
      " |  \n",
      " |  __init_subclass__ = __wrapped_init_subclass__(**kwargs) -> None from polymerist.genutils.decorators.classmod.register_abstract_class_attrs.<locals>.class_decorator.<locals>\n",
      " |      Wrapper for subclass definition which actually enforces that all named attributes are set\n",
      " |  \n",
      " |  decoder_hook(json_dict: dict[typing.Union[str, bool, int, float, tuple, list, dict], typing.Union[str, bool, int, float, tuple, list, dict]]) -> Union[dict, ~T]\n",
      " |  \n",
      " |  encoder_default(python_obj: Any) -> Union[str, bool, int, float, tuple, list, dict]\n",
      " |      Augmented Encoder for encoding registered objects along with type info for decoding\n",
      " |  \n",
      " |  subclass_registry = {}\n",
      " |  ----------------------------------------------------------------------\n",
      " |  Data descriptors inherited from TypeSerializer:\n",
      " |  \n",
      " |  __dict__\n",
      " |      dictionary for instance variables\n",
      " |  \n",
      " |  __weakref__\n",
      " |      list of weak references to the object\n",
      "\n"
     ]
    }
   ],
   "source": [
    "from polymerist.genutils.fileutils.jsonio.serialize import NDArraySerializer\n",
    "\n",
    "help(NDArraySerializer)"
   ]
  },
  {
   "cell_type": "code",
   "execution_count": null,
   "id": "4927d999",
   "metadata": {},
   "outputs": [],
   "source": []
  }
 ],
 "metadata": {
  "kernelspec": {
   "display_name": "polymerist-env",
   "language": "python",
   "name": "python3"
  },
  "language_info": {
   "codemirror_mode": {
    "name": "ipython",
    "version": 3
   },
   "file_extension": ".py",
   "mimetype": "text/x-python",
   "name": "python",
   "nbconvert_exporter": "python",
   "pygments_lexer": "ipython3",
   "version": "3.11.13"
  }
 },
 "nbformat": 4,
 "nbformat_minor": 5
}
