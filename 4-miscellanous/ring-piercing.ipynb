{
 "cells": [
  {
   "cell_type": "markdown",
   "id": "f7bdfa75",
   "metadata": {},
   "source": [
    "# Automatically detecting ring piercing\n",
    "One of the many useful tools `polymerist` ship with is a novel ring-piercing detection algorithm of my own invention,  \n",
    "dubbed \"PINPRICS\" (Planar Intersection Nomography for Pierced Rings Identification via Cut Sets)"
   ]
  },
  {
   "cell_type": "markdown",
   "id": "83d60c86",
   "metadata": {},
   "source": [
    "![alt text](ring_piercing_examples/visuals/0_conformer_no_grid.gif) | ![alt text](ring_piercing_examples/visuals/1_partition_no_grid.gif) | ![alt text](ring_piercing_examples/visuals/2_intersections_no_grid.gif)"
   ]
  },
  {
   "cell_type": "code",
   "execution_count": 2,
   "id": "4bf31a3a",
   "metadata": {},
   "outputs": [],
   "source": [
    "from pathlib import Path\n",
    "from polymerist.genutils.fileutils import is_empty\n",
    "\n",
    "\n",
    "PIERCING_EXAMPLE_DIR = Path('ring_piercing_examples')\n",
    "assert PIERCING_EXAMPLE_DIR.exists() and not is_empty(PIERCING_EXAMPLE_DIR)"
   ]
  },
  {
   "cell_type": "code",
   "execution_count": 3,
   "id": "8893261b",
   "metadata": {},
   "outputs": [
    {
     "name": "stdout",
     "output_type": "stream",
     "text": [
      "Processing control...\n",
      "(6, 8, 10, 13, 15, 0) : ()\n",
      "(23, 25, 27, 30, 32, 17) : ()\n",
      "(40, 42, 44, 47, 49, 34) : ()\n",
      "(58, 60, 62, 65, 67, 51) : ()\n",
      "(71, 73, 75, 78, 80, 70) : ()\n",
      "Processing small...\n",
      "(20, 23, 25, 27, 29, 19) : ()\n",
      "(54, 56, 58, 60, 50, 51) : ()\n",
      "(85, 87, 89, 91, 81, 82) : ((48, 66),)\n",
      "(116, 118, 120, 122, 112, 113) : ()\n",
      "(145, 147, 149, 151, 153, 144) : ()\n",
      "Processing distorted...\n",
      "(10, 12, 14, 16, 18, 9) : ((36, 38),)\n",
      "(32, 34, 36, 38, 40, 31) : ((9, 18), (56, 58), (58, 59))\n",
      "(54, 56, 58, 60, 62, 53) : ((31, 40),)\n",
      "(72, 74, 76, 78, 80, 71) : ()\n",
      "(95, 97, 99, 101, 103, 94) : ()\n",
      "Processing tangled...\n",
      "(2, 4, 6, 50, 52, 1) : ((189, 190),)\n",
      "(9, 11, 13, 46, 48, 8) : ((181, 183),)\n",
      "(16, 18, 20, 34, 36, 15) : ()\n",
      "(23, 25, 27, 30, 32, 22) : ()\n",
      "(58, 60, 61, 105, 107, 57) : ((382, 492),)\n",
      "(62, 61, 60, 103, 64) : ()\n",
      "(66, 71, 76, 93, 98, 65) : ((391, 430),)\n",
      "(78, 77, 82, 81, 80) : ()\n",
      "(84, 86, 88, 91, 80, 81) : ()\n",
      "(111, 113, 115, 159, 161, 110) : ((298, 299),)\n",
      "(118, 120, 122, 155, 157, 117) : ((290, 292),)\n",
      "(125, 127, 129, 143, 145, 124) : ()\n",
      "(132, 134, 136, 139, 141, 131) : ()\n",
      "(167, 169, 170, 214, 216, 166) : ()\n",
      "(171, 170, 169, 212, 173) : ()\n",
      "(175, 180, 185, 202, 207, 174) : ()\n",
      "(187, 186, 191, 190, 189) : ((4, 6),)\n",
      "(193, 195, 197, 200, 189, 190) : ((1, 2), (333, 377))\n",
      "(220, 222, 224, 268, 270, 219) : ((80, 91), (88, 89), (88, 91), (407, 408))\n",
      "(227, 229, 231, 264, 266, 226) : ()\n",
      "(234, 236, 238, 252, 254, 233) : ()\n",
      "(241, 243, 245, 248, 250, 240) : ()\n",
      "(276, 278, 279, 323, 325, 275) : ()\n",
      "(280, 279, 278, 321, 282) : ()\n",
      "(284, 289, 294, 311, 316, 283) : ()\n",
      "(296, 295, 300, 299, 298) : ((113, 115),)\n",
      "(302, 304, 306, 309, 298, 299) : ((110, 111),)\n",
      "(329, 331, 333, 377, 379, 328) : ((195, 197),)\n",
      "(336, 338, 340, 373, 375, 335) : ()\n",
      "(343, 345, 347, 361, 363, 342) : ((14, 38),)\n",
      "(350, 352, 354, 357, 359, 349) : ()\n",
      "(385, 387, 388, 432, 434, 384) : ()\n",
      "(389, 388, 387, 430, 391) : ((65, 66),)\n",
      "(393, 398, 403, 420, 425, 392) : ()\n",
      "(405, 404, 409, 408, 407) : ((222, 224),)\n",
      "(411, 413, 415, 418, 407, 408) : ((219, 220),)\n",
      "(438, 440, 442, 487, 489, 437) : ()\n",
      "(445, 447, 449, 483, 485, 444) : ()\n",
      "(452, 454, 456, 471, 473, 451) : ()\n",
      "(459, 461, 463, 467, 469, 458) : ()\n",
      "(495, 497, 499, 500, 501, 494) : ()\n",
      "(503, 500, 499, 546, 505) : ()\n",
      "(507, 512, 517, 536, 541, 506) : ()\n",
      "(519, 518, 523, 522, 521) : ()\n",
      "(525, 527, 532, 534, 521, 522) : ()\n"
     ]
    }
   ],
   "source": [
    "from rdkit import Chem\n",
    "from polymerist.genutils.textual.prettyprint import dict_to_indented_str\n",
    "from polymerist.rdutils.rdcoords.piercing import summarize_ring_piercing\n",
    "\n",
    "\n",
    "for name in ('control', 'small', 'distorted', 'tangled'):\n",
    "    print(f'Processing {name}...')\n",
    "    try:\n",
    "        with Chem.SDMolSupplier(PIERCING_EXAMPLE_DIR / f'{name}.sdf', sanitize=True, removeHs=False) as suppl:\n",
    "            for mol in suppl:\n",
    "                # display(mol)\n",
    "                print(dict_to_indented_str(summarize_ring_piercing(mol)))\n",
    "    except:\n",
    "        print(f'Failed on {name} example')"
   ]
  },
  {
   "cell_type": "code",
   "execution_count": null,
   "id": "7282b877",
   "metadata": {},
   "outputs": [],
   "source": []
  }
 ],
 "metadata": {
  "kernelspec": {
   "display_name": "polymerist-dev",
   "language": "python",
   "name": "python3"
  },
  "language_info": {
   "codemirror_mode": {
    "name": "ipython",
    "version": 3
   },
   "file_extension": ".py",
   "mimetype": "text/x-python",
   "name": "python",
   "nbconvert_exporter": "python",
   "pygments_lexer": "ipython3",
   "version": "3.11.0"
  }
 },
 "nbformat": 4,
 "nbformat_minor": 5
}
