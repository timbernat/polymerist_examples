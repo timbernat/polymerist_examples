{
 "cells": [
  {
   "cell_type": "markdown",
   "id": "5d131136",
   "metadata": {},
   "source": [
    "# JSONification"
   ]
  },
  {
   "cell_type": "code",
   "execution_count": 1,
   "id": "e7888c40",
   "metadata": {},
   "outputs": [],
   "source": [
    "from pathlib import Path\n",
    "from polymerist.genutils.fileutils import assemble_path\n",
    "\n",
    "\n",
    "OUTPUT_DIR = Path('scratch_misc') # dummy directory for writing without tampering with example inputs\n",
    "OUTPUT_DIR.mkdir(exist_ok=True)\n",
    "\n",
    "JSONIFY_DIR = OUTPUT_DIR / 'jsonifiables'\n",
    "JSONIFY_DIR.mkdir(exist_ok=True)"
   ]
  },
  {
   "cell_type": "markdown",
   "id": "2f68f7c6",
   "metadata": {},
   "source": [
    "Peppered throughout the accompanying polymer demos, you may have noticed examples of container classes which support convenient obj.to_file(...) and cls.from_file(...) operation  \n",
    "For instance, consider the MonomerGroup class in the [polymerization demos](../1-polymerization/1.0-index.ipynb) or the many containers in the [simulation parameters demo](../3-workflows/3.2-serializable_simulation_parameters.ipynb)\n",
    "\n",
    "These are examples of the much more general JSONifiable type `polymerist` defines, subclasses of which all support obj.to_file(...) and cls.from_file(...) methods natively\n",
    "The `jsonify` module of polymerist allows you to detect such JSONifiable containers, as well as create your own from an arbitrary dataclass!"
   ]
  },
  {
   "cell_type": "code",
   "execution_count": 2,
   "id": "3e8d4482",
   "metadata": {},
   "outputs": [
    {
     "name": "stdout",
     "output_type": "stream",
     "text": [
      "True\n",
      "False\n"
     ]
    }
   ],
   "source": [
    "from polymerist.mdtools.openmmtools.parameters import SimulationParameters\n",
    "from polymerist.genutils.fileutils.jsonio.jsonify import JSONifiable, make_jsonifiable\n",
    "\n",
    "\n",
    "print(issubclass(SimulationParameters, JSONifiable)) # SimulationParameters natively supports to_file() and from_file methods()\n",
    "print(issubclass(list, JSONifiable)) # the builtin list (and other builtin classes) do not"
   ]
  },
  {
   "cell_type": "markdown",
   "id": "9df8bfba",
   "metadata": {},
   "source": [
    "For disclosure, here are all of the JSONifiable classes within all of `polymerist`  at the time of writing:"
   ]
  },
  {
   "cell_type": "code",
   "execution_count": 3,
   "id": "5f8eba5a",
   "metadata": {},
   "outputs": [
    {
     "name": "stderr",
     "output_type": "stream",
     "text": [
      "[19:09:37] WARNING: not removing hydrogen atom with dummy atom neighbors\n"
     ]
    },
    {
     "name": "stdout",
     "output_type": "stream",
     "text": [
      "True\n"
     ]
    }
   ],
   "source": [
    "from polymerist.mdtools.openmmtools.parameters import (\n",
    "    ThermoParameters,\n",
    "    IntegratorParameters,\n",
    "    ReporterParameters,\n",
    "    SimulationParameters,\n",
    ")\n",
    "from polymerist.polymers.monomers import MonomerGroup\n",
    "from polymerist.polymers.building.sequencing import LinearCopolymerSequencer\n",
    "from polymerist.mdtools.openfftools.partialcharge.rescharge.rctypes import ChargesByResidue\n",
    "\n",
    "\n",
    "jsonifiable_classes_in_polymerist : list[JSONifiable] = [\n",
    "    ThermoParameters,\n",
    "    IntegratorParameters,\n",
    "    ReporterParameters,\n",
    "    SimulationParameters,\n",
    "    MonomerGroup,\n",
    "    LinearCopolymerSequencer,\n",
    "    ChargesByResidue,\n",
    "]\n",
    "print( all(issubclass(cls, JSONifiable) for cls in jsonifiable_classes_in_polymerist) )"
   ]
  },
  {
   "cell_type": "markdown",
   "id": "af14856d",
   "metadata": {},
   "source": [
    "### Making your own JSONifiables!\n",
    "Basically any* Python [dataclass](https://docs.python.org/3/library/dataclasses.html) can be instantly turned JSONifiable with the `make_jsonifiable` decorator `polymerist` provides you:\n",
    "<a id='asterisk'></a>"
   ]
  },
  {
   "cell_type": "code",
   "execution_count": 4,
   "id": "4a366282",
   "metadata": {},
   "outputs": [
    {
     "name": "stdout",
     "output_type": "stream",
     "text": [
      "Student(name='Drew A. Blanc', age=24, grades={'chemistry': 91.7, 'mathematics': 99.8, 'physics': 88.3, 'english': 78.4})\n"
     ]
    }
   ],
   "source": [
    "from dataclasses import dataclass, field\n",
    "from polymerist.genutils.fileutils.jsonio.jsonify import make_jsonifiable\n",
    "\n",
    "\n",
    "@make_jsonifiable # this comes from polymerist and is literally all you need to do yourself!\n",
    "@dataclass # this is a Python builtin\n",
    "class Student:\n",
    "    name   : str\n",
    "    age    : int\n",
    "    grades : dict[str, float] = field(default_factory=dict)\n",
    "\n",
    "student = Student(\n",
    "    name='Drew A. Blanc',\n",
    "    age=24,\n",
    "    grades={\n",
    "        'chemistry' : 91.7,\n",
    "        'mathematics' : 99.8,\n",
    "        'physics' : 88.3,\n",
    "        'english' : 78.4,\n",
    "    })\n",
    "print(student)"
   ]
  },
  {
   "cell_type": "code",
   "execution_count": 5,
   "id": "79df00c0",
   "metadata": {},
   "outputs": [],
   "source": [
    "student_path = assemble_path(JSONIFY_DIR, 'student', extension='json')\n",
    "student.to_file(student_path) # this works out-of-box"
   ]
  },
  {
   "cell_type": "code",
   "execution_count": 6,
   "id": "f81269fc",
   "metadata": {},
   "outputs": [
    {
     "name": "stdout",
     "output_type": "stream",
     "text": [
      "Drew A. Blanc {'chemistry': 91.7, 'mathematics': 99.8, 'physics': 88.3, 'english': 78.4}\n"
     ]
    }
   ],
   "source": [
    "recorded_student = Student.from_file(student_path)\n",
    "print(recorded_student.name, recorded_student.grades)"
   ]
  },
  {
   "cell_type": "markdown",
   "id": "9a928dcf",
   "metadata": {},
   "source": [
    "### Making your own JSONifiables!\n",
    "Basically any* Python [dataclass](https://docs.python.org/3/library/dataclasses.html) can be instantly turned JSONifiable with the `make_jsonifiable` decorator `polymerist` provides you:\n",
    "<a id='asterisk'></a>"
   ]
  },
  {
   "cell_type": "code",
   "execution_count": 7,
   "id": "cdbc6a42",
   "metadata": {},
   "outputs": [],
   "source": [
    "from dataclasses import dataclass, field\n",
    "from polymerist.genutils.fileutils.jsonio.jsonify import make_jsonifiable\n",
    "\n",
    "\n",
    "@make_jsonifiable # this comes from polymerist and is literally all you need to do yourself!\n",
    "@dataclass # this is a Python builtin\n",
    "class Student:\n",
    "    name   : str\n",
    "    age    : int\n",
    "    grades : dict[str, float] = field(default_factory=dict)"
   ]
  },
  {
   "cell_type": "code",
   "execution_count": null,
   "id": "0d7d74df",
   "metadata": {},
   "outputs": [],
   "source": [
    "# an example instance of the newly-defined Student class\n",
    "student = Student(\n",
    "    name='Drew A. Blanc',\n",
    "    age=24,\n",
    "    grades={\n",
    "        'chemistry' : 91.7,\n",
    "        'mathematics' : 99.8,\n",
    "        'physics' : 88.3,\n",
    "        'english' : 78.4,\n",
    "    })\n",
    "print(student)"
   ]
  },
  {
   "cell_type": "code",
   "execution_count": 8,
   "id": "f7a81018",
   "metadata": {},
   "outputs": [],
   "source": [
    "student_path = assemble_path(JSONIFY_DIR, 'student', extension='json')\n",
    "student.to_file(student_path) # this works out-of-box"
   ]
  },
  {
   "cell_type": "code",
   "execution_count": 9,
   "id": "920076b2",
   "metadata": {},
   "outputs": [
    {
     "name": "stdout",
     "output_type": "stream",
     "text": [
      "Drew A. Blanc {'chemistry': 91.7, 'mathematics': 99.8, 'physics': 88.3, 'english': 78.4}\n"
     ]
    }
   ],
   "source": [
    "recorded_student = Student.from_file(student_path)\n",
    "print(recorded_student.name, recorded_student.grades)"
   ]
  },
  {
   "cell_type": "markdown",
   "id": "8e4a038a",
   "metadata": {},
   "source": [
    "#### *Adapting nonstandard attribute types for JSON serialization\n",
    "C.f. the [asterisk above](#asterisk\n",
    "), it may be that the container you wish to serialize has fields which are not, by default, JSON-serializable types, shown below"
   ]
  },
  {
   "cell_type": "code",
   "execution_count": 10,
   "id": "f52a3cca",
   "metadata": {},
   "outputs": [
    {
     "name": "stdout",
     "output_type": "stream",
     "text": [
      "typing.Union[str, bool, int, float, tuple, list, dict]\n"
     ]
    }
   ],
   "source": [
    "from polymerist.genutils.fileutils.jsonio.serialize import JSONSerializable\n",
    "\n",
    "print(JSONSerializable) # these are the ONLY types which, by default, can be faithfully read from and written to a JSON file"
   ]
  },
  {
   "cell_type": "markdown",
   "id": "5f744e34",
   "metadata": {},
   "source": [
    "For example, the below example <font color='red'>will fail and raise TypeError</font> due to the presence of Path and Quantity attribute values"
   ]
  },
  {
   "cell_type": "code",
   "execution_count": 11,
   "id": "578de761",
   "metadata": {},
   "outputs": [
    {
     "ename": "TypeError",
     "evalue": "Object of type Quantity is not JSON serializable",
     "output_type": "error",
     "traceback": [
      "\u001b[0;31m---------------------------------------------------------------------------\u001b[0m",
      "\u001b[0;31mTypeError\u001b[0m                                 Traceback (most recent call last)",
      "Cell \u001b[0;32mIn[11], line 12\u001b[0m\n\u001b[1;32m      9\u001b[0m     logfile : Path \u001b[38;5;241m=\u001b[39m field(default_factory\u001b[38;5;241m=\u001b[39m\u001b[38;5;28;01mlambda\u001b[39;00m: Path(\u001b[38;5;124m'\u001b[39m\u001b[38;5;124msimulation.log\u001b[39m\u001b[38;5;124m'\u001b[39m))\n\u001b[1;32m     11\u001b[0m log_params \u001b[38;5;241m=\u001b[39m LoggingParameters(\u001b[38;5;241m30\u001b[39m\u001b[38;5;241m*\u001b[39msecond)\n\u001b[0;32m---> 12\u001b[0m \u001b[43mlog_params\u001b[49m\u001b[38;5;241;43m.\u001b[39;49m\u001b[43mto_file\u001b[49m\u001b[43m(\u001b[49m\u001b[43mJSONIFY_DIR\u001b[49m\u001b[43m \u001b[49m\u001b[38;5;241;43m/\u001b[39;49m\u001b[43m \u001b[49m\u001b[38;5;124;43m'\u001b[39;49m\u001b[38;5;124;43mlog_params.json\u001b[39;49m\u001b[38;5;124;43m'\u001b[39;49m\u001b[43m)\u001b[49m\n",
      "File \u001b[0;32m~/Documents/Python/polymerist_dev/polymerist/build/__editable__.polymerist-0.1.5rc1+214.gdd97c57.dirty-py3-none-any/polymerist/genutils/fileutils/pathutils.py:41\u001b[0m, in \u001b[0;36mallow_string_paths.<locals>.str_path_wrapper\u001b[0;34m(flex_path, *args, **kwargs)\u001b[0m\n\u001b[1;32m     38\u001b[0m \u001b[38;5;129m@wraps\u001b[39m(funct) \u001b[38;5;66;03m# for preserving docstring and type annotations / signatures\u001b[39;00m\n\u001b[1;32m     39\u001b[0m \u001b[38;5;28;01mdef\u001b[39;00m \u001b[38;5;21mstr_path_wrapper\u001b[39m(flex_path : Union[\u001b[38;5;28mstr\u001b[39m, Path], \u001b[38;5;241m*\u001b[39margs : Params\u001b[38;5;241m.\u001b[39margs, \u001b[38;5;241m*\u001b[39m\u001b[38;5;241m*\u001b[39mkwargs : Params\u001b[38;5;241m.\u001b[39mkwargs) \u001b[38;5;241m-\u001b[39m\u001b[38;5;241m>\u001b[39m T:\n\u001b[1;32m     40\u001b[0m \u001b[38;5;250m    \u001b[39m\u001b[38;5;124;03m'''First converts stringy paths into normal Paths, then executes the original function'''\u001b[39;00m\n\u001b[0;32m---> 41\u001b[0m     \u001b[38;5;28;01mreturn\u001b[39;00m \u001b[43mfunct\u001b[49m\u001b[43m(\u001b[49m\u001b[43maspath\u001b[49m\u001b[43m(\u001b[49m\u001b[43mflex_path\u001b[49m\u001b[43m)\u001b[49m\u001b[43m,\u001b[49m\u001b[43m \u001b[49m\u001b[38;5;241;43m*\u001b[39;49m\u001b[43margs\u001b[49m\u001b[43m,\u001b[49m\u001b[43m \u001b[49m\u001b[38;5;241;43m*\u001b[39;49m\u001b[38;5;241;43m*\u001b[39;49m\u001b[43mkwargs\u001b[49m\u001b[43m)\u001b[49m\n",
      "File \u001b[0;32m~/Documents/Python/polymerist_dev/polymerist/build/__editable__.polymerist-0.1.5rc1+214.gdd97c57.dirty-py3-none-any/polymerist/genutils/fileutils/jsonio/jsonify.py:86\u001b[0m, in \u001b[0;36mmake_jsonifiable.<locals>.jsonifiable_factory.<locals>.WrappedClass.to_file\u001b[0;34m(self, save_path)\u001b[0m\n\u001b[1;32m     84\u001b[0m \u001b[38;5;28;01massert\u001b[39;00m(save_path\u001b[38;5;241m.\u001b[39msuffix \u001b[38;5;241m==\u001b[39m \u001b[38;5;124m'\u001b[39m\u001b[38;5;124m.json\u001b[39m\u001b[38;5;124m'\u001b[39m)\n\u001b[1;32m     85\u001b[0m \u001b[38;5;28;01mwith\u001b[39;00m save_path\u001b[38;5;241m.\u001b[39mopen(\u001b[38;5;124m'\u001b[39m\u001b[38;5;124mw\u001b[39m\u001b[38;5;124m'\u001b[39m) \u001b[38;5;28;01mas\u001b[39;00m dumpfile:\n\u001b[0;32m---> 86\u001b[0m     \u001b[43mjson\u001b[49m\u001b[38;5;241;43m.\u001b[39;49m\u001b[43mdump\u001b[49m\u001b[43m(\u001b[49m\u001b[38;5;28;43mself\u001b[39;49m\u001b[43m,\u001b[49m\u001b[43m \u001b[49m\u001b[43mdumpfile\u001b[49m\u001b[43m,\u001b[49m\u001b[43m \u001b[49m\u001b[43mdefault\u001b[49m\u001b[38;5;241;43m=\u001b[39;49m\u001b[38;5;28;43mself\u001b[39;49m\u001b[38;5;241;43m.\u001b[39;49m\u001b[43mserializer\u001b[49m\u001b[38;5;241;43m.\u001b[39;49m\u001b[43mencoder_default\u001b[49m\u001b[43m,\u001b[49m\u001b[43m \u001b[49m\u001b[43mindent\u001b[49m\u001b[38;5;241;43m=\u001b[39;49m\u001b[38;5;241;43m4\u001b[39;49m\u001b[43m)\u001b[49m\n",
      "File \u001b[0;32m~/miniconda3/envs/polymerist-dev/lib/python3.11/json/__init__.py:179\u001b[0m, in \u001b[0;36mdump\u001b[0;34m(obj, fp, skipkeys, ensure_ascii, check_circular, allow_nan, cls, indent, separators, default, sort_keys, **kw)\u001b[0m\n\u001b[1;32m    173\u001b[0m     iterable \u001b[38;5;241m=\u001b[39m \u001b[38;5;28mcls\u001b[39m(skipkeys\u001b[38;5;241m=\u001b[39mskipkeys, ensure_ascii\u001b[38;5;241m=\u001b[39mensure_ascii,\n\u001b[1;32m    174\u001b[0m         check_circular\u001b[38;5;241m=\u001b[39mcheck_circular, allow_nan\u001b[38;5;241m=\u001b[39mallow_nan, indent\u001b[38;5;241m=\u001b[39mindent,\n\u001b[1;32m    175\u001b[0m         separators\u001b[38;5;241m=\u001b[39mseparators,\n\u001b[1;32m    176\u001b[0m         default\u001b[38;5;241m=\u001b[39mdefault, sort_keys\u001b[38;5;241m=\u001b[39msort_keys, \u001b[38;5;241m*\u001b[39m\u001b[38;5;241m*\u001b[39mkw)\u001b[38;5;241m.\u001b[39miterencode(obj)\n\u001b[1;32m    177\u001b[0m \u001b[38;5;66;03m# could accelerate with writelines in some versions of Python, at\u001b[39;00m\n\u001b[1;32m    178\u001b[0m \u001b[38;5;66;03m# a debuggability cost\u001b[39;00m\n\u001b[0;32m--> 179\u001b[0m \u001b[43m\u001b[49m\u001b[38;5;28;43;01mfor\u001b[39;49;00m\u001b[43m \u001b[49m\u001b[43mchunk\u001b[49m\u001b[43m \u001b[49m\u001b[38;5;129;43;01min\u001b[39;49;00m\u001b[43m \u001b[49m\u001b[43miterable\u001b[49m\u001b[43m:\u001b[49m\n\u001b[1;32m    180\u001b[0m \u001b[43m    \u001b[49m\u001b[43mfp\u001b[49m\u001b[38;5;241;43m.\u001b[39;49m\u001b[43mwrite\u001b[49m\u001b[43m(\u001b[49m\u001b[43mchunk\u001b[49m\u001b[43m)\u001b[49m\n",
      "File \u001b[0;32m~/miniconda3/envs/polymerist-dev/lib/python3.11/json/encoder.py:440\u001b[0m, in \u001b[0;36m_make_iterencode.<locals>._iterencode\u001b[0;34m(o, _current_indent_level)\u001b[0m\n\u001b[1;32m    438\u001b[0m     markers[markerid] \u001b[38;5;241m=\u001b[39m o\n\u001b[1;32m    439\u001b[0m o \u001b[38;5;241m=\u001b[39m _default(o)\n\u001b[0;32m--> 440\u001b[0m \u001b[38;5;28;01myield from\u001b[39;00m _iterencode(o, _current_indent_level)\n\u001b[1;32m    441\u001b[0m \u001b[38;5;28;01mif\u001b[39;00m markers \u001b[38;5;129;01mis\u001b[39;00m \u001b[38;5;129;01mnot\u001b[39;00m \u001b[38;5;28;01mNone\u001b[39;00m:\n\u001b[1;32m    442\u001b[0m     \u001b[38;5;28;01mdel\u001b[39;00m markers[markerid]\n",
      "File \u001b[0;32m~/miniconda3/envs/polymerist-dev/lib/python3.11/json/encoder.py:432\u001b[0m, in \u001b[0;36m_make_iterencode.<locals>._iterencode\u001b[0;34m(o, _current_indent_level)\u001b[0m\n\u001b[1;32m    430\u001b[0m     \u001b[38;5;28;01myield from\u001b[39;00m _iterencode_list(o, _current_indent_level)\n\u001b[1;32m    431\u001b[0m \u001b[38;5;28;01melif\u001b[39;00m \u001b[38;5;28misinstance\u001b[39m(o, \u001b[38;5;28mdict\u001b[39m):\n\u001b[0;32m--> 432\u001b[0m     \u001b[38;5;28;01myield from\u001b[39;00m _iterencode_dict(o, _current_indent_level)\n\u001b[1;32m    433\u001b[0m \u001b[38;5;28;01melse\u001b[39;00m:\n\u001b[1;32m    434\u001b[0m     \u001b[38;5;28;01mif\u001b[39;00m markers \u001b[38;5;129;01mis\u001b[39;00m \u001b[38;5;129;01mnot\u001b[39;00m \u001b[38;5;28;01mNone\u001b[39;00m:\n",
      "File \u001b[0;32m~/miniconda3/envs/polymerist-dev/lib/python3.11/json/encoder.py:406\u001b[0m, in \u001b[0;36m_make_iterencode.<locals>._iterencode_dict\u001b[0;34m(dct, _current_indent_level)\u001b[0m\n\u001b[1;32m    404\u001b[0m         \u001b[38;5;28;01melse\u001b[39;00m:\n\u001b[1;32m    405\u001b[0m             chunks \u001b[38;5;241m=\u001b[39m _iterencode(value, _current_indent_level)\n\u001b[0;32m--> 406\u001b[0m         \u001b[38;5;28;01myield from\u001b[39;00m chunks\n\u001b[1;32m    407\u001b[0m \u001b[38;5;28;01mif\u001b[39;00m newline_indent \u001b[38;5;129;01mis\u001b[39;00m \u001b[38;5;129;01mnot\u001b[39;00m \u001b[38;5;28;01mNone\u001b[39;00m:\n\u001b[1;32m    408\u001b[0m     _current_indent_level \u001b[38;5;241m-\u001b[39m\u001b[38;5;241m=\u001b[39m \u001b[38;5;241m1\u001b[39m\n",
      "File \u001b[0;32m~/miniconda3/envs/polymerist-dev/lib/python3.11/json/encoder.py:406\u001b[0m, in \u001b[0;36m_make_iterencode.<locals>._iterencode_dict\u001b[0;34m(dct, _current_indent_level)\u001b[0m\n\u001b[1;32m    404\u001b[0m         \u001b[38;5;28;01melse\u001b[39;00m:\n\u001b[1;32m    405\u001b[0m             chunks \u001b[38;5;241m=\u001b[39m _iterencode(value, _current_indent_level)\n\u001b[0;32m--> 406\u001b[0m         \u001b[38;5;28;01myield from\u001b[39;00m chunks\n\u001b[1;32m    407\u001b[0m \u001b[38;5;28;01mif\u001b[39;00m newline_indent \u001b[38;5;129;01mis\u001b[39;00m \u001b[38;5;129;01mnot\u001b[39;00m \u001b[38;5;28;01mNone\u001b[39;00m:\n\u001b[1;32m    408\u001b[0m     _current_indent_level \u001b[38;5;241m-\u001b[39m\u001b[38;5;241m=\u001b[39m \u001b[38;5;241m1\u001b[39m\n",
      "File \u001b[0;32m~/miniconda3/envs/polymerist-dev/lib/python3.11/json/encoder.py:439\u001b[0m, in \u001b[0;36m_make_iterencode.<locals>._iterencode\u001b[0;34m(o, _current_indent_level)\u001b[0m\n\u001b[1;32m    437\u001b[0m         \u001b[38;5;28;01mraise\u001b[39;00m \u001b[38;5;167;01mValueError\u001b[39;00m(\u001b[38;5;124m\"\u001b[39m\u001b[38;5;124mCircular reference detected\u001b[39m\u001b[38;5;124m\"\u001b[39m)\n\u001b[1;32m    438\u001b[0m     markers[markerid] \u001b[38;5;241m=\u001b[39m o\n\u001b[0;32m--> 439\u001b[0m o \u001b[38;5;241m=\u001b[39m \u001b[43m_default\u001b[49m\u001b[43m(\u001b[49m\u001b[43mo\u001b[49m\u001b[43m)\u001b[49m\n\u001b[1;32m    440\u001b[0m \u001b[38;5;28;01myield from\u001b[39;00m _iterencode(o, _current_indent_level)\n\u001b[1;32m    441\u001b[0m \u001b[38;5;28;01mif\u001b[39;00m markers \u001b[38;5;129;01mis\u001b[39;00m \u001b[38;5;129;01mnot\u001b[39;00m \u001b[38;5;28;01mNone\u001b[39;00m:\n",
      "File \u001b[0;32m~/Documents/Python/polymerist_dev/polymerist/build/__editable__.polymerist-0.1.5rc1+214.gdd97c57.dirty-py3-none-any/polymerist/genutils/fileutils/jsonio/serialize.py:91\u001b[0m, in \u001b[0;36mMultiTypeSerializer.encoder_default\u001b[0;34m(self, python_obj)\u001b[0m\n\u001b[1;32m     89\u001b[0m         \u001b[38;5;28;01mpass\u001b[39;00m \u001b[38;5;66;03m# keep trying rest of encoders (don't immediately raise error) - TODO : make this less redundant-looking?\u001b[39;00m\n\u001b[1;32m     90\u001b[0m \u001b[38;5;28;01melse\u001b[39;00m:\n\u001b[0;32m---> 91\u001b[0m     \u001b[38;5;28;01mraise\u001b[39;00m \u001b[38;5;167;01mTypeError\u001b[39;00m(\u001b[38;5;124mf\u001b[39m\u001b[38;5;124m'\u001b[39m\u001b[38;5;124mObject of type \u001b[39m\u001b[38;5;132;01m{\u001b[39;00mpython_obj\u001b[38;5;241m.\u001b[39m\u001b[38;5;18m__class__\u001b[39m\u001b[38;5;241m.\u001b[39m\u001b[38;5;18m__name__\u001b[39m\u001b[38;5;132;01m}\u001b[39;00m\u001b[38;5;124m is not JSON serializable\u001b[39m\u001b[38;5;124m'\u001b[39m)\n",
      "\u001b[0;31mTypeError\u001b[0m: Object of type Quantity is not JSON serializable"
     ]
    }
   ],
   "source": [
    "from pathlib import Path\n",
    "from openmm.unit import Quantity, second\n",
    "\n",
    "\n",
    "@make_jsonifiable\n",
    "@dataclass\n",
    "class LoggingParameters:\n",
    "    walltime : Quantity\n",
    "    logfile : Path = field(default_factory=lambda: Path('simulation.log'))\n",
    "    \n",
    "log_params = LoggingParameters(30*second)\n",
    "log_params.to_file(JSONIFY_DIR / 'log_params.json')"
   ]
  },
  {
   "cell_type": "markdown",
   "id": "9d0a9643",
   "metadata": {},
   "source": [
    "This is easily overcome by providing \"TypeSerializer\" definitions to make_jsonifiable, which define how ordinarily non-JSON-serializable types should be encoded and decoded"
   ]
  },
  {
   "cell_type": "code",
   "execution_count": 13,
   "id": "ff6ebd30",
   "metadata": {},
   "outputs": [],
   "source": [
    "from polymerist.genutils.fileutils.jsonio.serialize import PathSerializer, QuantitySerializer, MultiTypeSerializer\n",
    "\n",
    "\n",
    "@make_jsonifiable(type_serializer=MultiTypeSerializer(PathSerializer, QuantitySerializer)) # bundle multiple serializers together\n",
    "@dataclass\n",
    "class LoggingParameters:\n",
    "    walltime : Quantity\n",
    "    logfile : Path = field(default_factory=lambda: Path('simulation.log'))\n",
    "    \n",
    "log_params = LoggingParameters(30*second)\n",
    "log_params_path = assemble_path(JSONIFY_DIR, 'log_params', extension='json')\n",
    "log_params.to_file(log_params_path)"
   ]
  },
  {
   "cell_type": "code",
   "execution_count": 15,
   "id": "cd457709",
   "metadata": {},
   "outputs": [
    {
     "name": "stdout",
     "output_type": "stream",
     "text": [
      "30 s <class 'openmm.unit.quantity.Quantity'>\n",
      "simulation.log <class 'pathlib.PosixPath'>\n"
     ]
    }
   ],
   "source": [
    "log_params_from_file = LoggingParameters.from_file(log_params_path)\n",
    "print(log_params_from_file.walltime, type(log_params_from_file.walltime))\n",
    "print(log_params_from_file.logfile, type(log_params_from_file.logfile))"
   ]
  },
  {
   "cell_type": "markdown",
   "id": "db5b0da8",
   "metadata": {},
   "source": [
    "By default, PathSerializer and QuantitySerializer are shipped with `polymerist`; defining your own, however, is not especially difficult  \n",
    "Simply inherit from the base TypeSerializer and provide a target type and encode/decode implementations"
   ]
  },
  {
   "cell_type": "code",
   "execution_count": 26,
   "id": "4972d071",
   "metadata": {},
   "outputs": [],
   "source": [
    "import numpy as np\n",
    "from typing import Any\n",
    "from polymerist.genutils.fileutils.jsonio.serialize import TypeSerializer\n",
    "\n",
    "\n",
    "class NDArraySerializer(TypeSerializer, python_type=np.ndarray):\n",
    "    '''For handling JSON serialization of numpy arrays'''\n",
    "    @staticmethod\n",
    "    def encode(python_obj : np.ndarray[Any]) -> list[Any]:\n",
    "        return python_obj.tolist()\n",
    "    \n",
    "    @staticmethod\n",
    "    def decode(value : list[Any]) -> np.ndarray[Any]:\n",
    "        return np.array(value)"
   ]
  },
  {
   "cell_type": "code",
   "execution_count": 27,
   "id": "9e6664a7",
   "metadata": {},
   "outputs": [],
   "source": [
    "@make_jsonifiable(type_serializer=NDArraySerializer)\n",
    "@dataclass\n",
    "class EulerRotation:\n",
    "    '''Euler-angle description of a rotation by its axis and angle around the axis'''\n",
    "    angle_rad : float = 0.0 # NOTE: opted not to make this a Quantity (though in practice your should) to show JUST the effects of the array serializer\n",
    "    axis      : np.ndarray[float] = field(default_factory=lambda: np.array([1.0, 0.0, 0.0]))\n",
    "    \n",
    "rotation = EulerRotation(angle_rad=np.pi/3, axis=np.array([0.0, 1.0, 0.0]))\n",
    "rotation.to_file(assemble_path(JSONIFY_DIR, 'rotation', extension='json'))\n"
   ]
  },
  {
   "cell_type": "code",
   "execution_count": 29,
   "id": "75c67ee6",
   "metadata": {},
   "outputs": [
    {
     "name": "stdout",
     "output_type": "stream",
     "text": [
      "EulerRotation(angle_rad=1.0471975511965976, axis=array([0., 1., 0.]))\n",
      "<class 'numpy.ndarray'>\n"
     ]
    }
   ],
   "source": [
    "rotation_from_file = EulerRotation.from_file(JSONIFY_DIR/'rotation.json')\n",
    "print(rotation_from_file)\n",
    "print(type(rotation_from_file.axis))"
   ]
  },
  {
   "cell_type": "code",
   "execution_count": null,
   "id": "4927d999",
   "metadata": {},
   "outputs": [],
   "source": []
  }
 ],
 "metadata": {
  "kernelspec": {
   "display_name": "polymerist-dev",
   "language": "python",
   "name": "python3"
  },
  "language_info": {
   "codemirror_mode": {
    "name": "ipython",
    "version": 3
   },
   "file_extension": ".py",
   "mimetype": "text/x-python",
   "name": "python",
   "nbconvert_exporter": "python",
   "pygments_lexer": "ipython3",
   "version": "3.11.0"
  }
 },
 "nbformat": 4,
 "nbformat_minor": 5
}
