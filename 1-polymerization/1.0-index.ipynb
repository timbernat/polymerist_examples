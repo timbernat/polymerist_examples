{
 "cells": [
  {
   "cell_type": "markdown",
   "id": "8eb1d4e1",
   "metadata": {},
   "source": [
    "# Procedural polymer building with rules-based reactions"
   ]
  },
  {
   "cell_type": "markdown",
   "id": "891a1cf1",
   "metadata": {},
   "source": [
    "In constructing polymer systems for MD, there are a handful of core issues that one will frequently encounter:\n",
    "* When working with polymers, it is virtually always the case that the repeat units in a polymer chain are _not_ chemically identical to the corresponding monomers  \n",
    "* When setting up polymeric systems for MD, particularly for high-throughput applications, it is desirable to set up a myriad of chemically-distinct monomers which polymerize by the same mechanism\n",
    "* Finally, the [monomer fragment specification we prescribe](https://pubs.acs.org/doi/10.1021/acs.jcim.3c01691) can be a bit unwieldy and tough to parse, and generating these fragment template by hand is error-prone"
   ]
  },
  {
   "cell_type": "markdown",
   "id": "09e20719",
   "metadata": {},
   "source": [
    "`polymerist` provides utilities which remedy all of the above, enabling one to generate any of an ensemble of polymer structure from only monomer feedstock definitions and knowledge of which functional groups on the monomers interact  \n",
    "Here we demonstrate these tools for a variety of polymer systems, in increasing order of complexity:\n",
    "* [1.1 - Introduction: nylon polymers](1.1-nylon_basics.ipynb)\n",
    "* [1.2 - Simple vinyl polymers and autopolymerization](1.2-vinyl_autopolymerization.ipynb)\n",
    "* [1.3 - Kapton polyimides and with multiple intermonomer bonds](1.3-polyimide_multibond_cycles.ipynb)\n",
    "* [1.4 - Crosslinkable MPD-TMC polyamides](1.4-MPD-TMC_polyamides.ipynb)\n",
    "* [1.5 - PEG-PLGA block copolymers](1.5-PEG-PLGA_copolymers.ipynb)\n",
    "* [1.6 - conjugated thiophenyl polymers with arbitrary sidechains](1.6-functionalized_polythiophenes.ipynb)"
   ]
  }
 ],
 "metadata": {
  "language_info": {
   "name": "python"
  }
 },
 "nbformat": 4,
 "nbformat_minor": 5
}
