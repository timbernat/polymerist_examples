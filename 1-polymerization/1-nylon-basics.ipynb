{
 "cells": [
  {
   "cell_type": "markdown",
   "metadata": {},
   "source": [
    "# Example 1: simple linear polymers\n",
    "Here, we demonstrate the basic polymerist workflow which allows one to go from monomers and knowledge of  \n",
    "a polymerization mechanism to complete polymer structure files in just a handful of cells!\n",
    "\n",
    "To start, we'll look at the classic nylon-6,6 synthesis"
   ]
  },
  {
   "cell_type": "markdown",
   "metadata": {},
   "source": [
    "## Output config\n",
    "This initial config is just to clarify logging and depiction of molecules at each step; in production scripts, this can be omitted"
   ]
  },
  {
   "cell_type": "code",
   "execution_count": null,
   "metadata": {},
   "outputs": [],
   "source": [
    "import logging\n",
    "logging.basicConfig(level=logging.INFO, force=True)\n",
    "\n",
    "from rdkit.Chem.Draw import MolsToGridImage\n",
    "from polymerist.rdutils.rdkdraw import set_rdkdraw_size, disable_substruct_highlights, enable_kekulized_drawing\n",
    "\n",
    "\n",
    "# Molecule drawing settings\n",
    "MOL_IMG_WIDTH  : int = 400\n",
    "MOL_IMG_HEIGHT : int = 300\n",
    "MOL_IMG_SIZE = (MOL_IMG_WIDTH, MOL_IMG_HEIGHT)\n",
    "\n",
    "enable_kekulized_drawing()\n",
    "disable_substruct_highlights()\n",
    "set_rdkdraw_size(MOL_IMG_WIDTH, MOL_IMG_WIDTH / MOL_IMG_HEIGHT)"
   ]
  },
  {
   "cell_type": "markdown",
   "metadata": {},
   "source": [
    "## Define your polymer ensemble"
   ]
  },
  {
   "cell_type": "markdown",
   "metadata": {},
   "source": [
    "### 1a) Define chemically-complete monomer \"feedstocks\"\n",
    "This is as simple as providing SMILES string for each monomer; the names are optional, but helpful for identifying fragments later on in the build step"
   ]
  },
  {
   "cell_type": "code",
   "execution_count": null,
   "metadata": {},
   "outputs": [],
   "source": [
    "from rdkit.Chem.rdchem import Mol\n",
    "from polymerist.rdutils.sanitization import explicit_mol_from_SMILES, Smiles\n",
    "\n",
    "\n",
    "monomer_smiles : dict[str, Smiles] = {\n",
    "    'HMD' : 'NCCCCCCN',           # hexamethylene diamine\n",
    "    'APC' : 'ClC(=O)CCCCC(=O)Cl', # adipoyl chloride\n",
    "}\n",
    "monomers : dict[str, Mol] = {\n",
    "    name : explicit_mol_from_SMILES(smiles)\n",
    "        for name, smiles in monomer_smiles.items()\n",
    "}\n",
    "\n",
    "MolsToGridImage(monomers.values(), molsPerRow=len(monomers), subImgSize=MOL_IMG_SIZE, legends=monomers.keys())"
   ]
  },
  {
   "cell_type": "markdown",
   "metadata": {},
   "source": [
    "### 1b) Define reaction template for polymerization reaction\n",
    "The formalism employed is to think of a reaction as a rearrangement of atoms between active functional groups  \n",
    "This frees us from needing to think about any _particular_ system for generating repeat units, and covers an entire chemical class with just one template!"
   ]
  },
  {
   "cell_type": "markdown",
   "metadata": {},
   "source": [
    "#### Assemble reaction from target functional groups (in this case an amide and an acyl chloride)\n",
    "\"*\" sites (called \"linkers\") are used to indicated a generic, unspecified neighboring residue  \n",
    "Wherever you see them in a reaction, think of them as R-groups when defining a functional group template\n",
    "\n",
    "Also, byproduct templates can be provided (HCl in the below examples) to match and \"delete\" reactions sideproducts which should be removed"
   ]
  },
  {
   "cell_type": "code",
   "execution_count": null,
   "metadata": {},
   "outputs": [],
   "source": [
    "from rdkit.Chem.rdmolfiles import MolFromSmarts, MolToSmiles\n",
    "from polymerist.rdutils.reactions import ReactionAssembler\n",
    "\n",
    "\n",
    "assem = ReactionAssembler(\n",
    "    reactive_groups=[\n",
    "        MolFromSmarts('*-N(-[H])(-[H])'), # amine group\n",
    "        MolFromSmarts('*-C(=O)-Cl'),      # acyl chloride group\n",
    "    ],\n",
    "    byproducts=[MolFromSmarts('[H]-[Cl]')], # eject and unmap HCl byproduct\n",
    "    rxn_name='amide-acyl chloride condensation',\n",
    ")\n",
    "display(assem.reactants)"
   ]
  },
  {
   "cell_type": "markdown",
   "metadata": {},
   "source": [
    "#### Define reaction via rearrangement of active atoms\n",
    "Atomic rearrangements are thought of as closed \"cycles\" of bonds which swap terminal atom; this is valid since bonds and atoms are initially always conserved  \n",
    "To define these, it is only necessary to specify the movements of \"active\" atoms which change during the reaction as a [derangement](https://en.wikipedia.org/wiki/Derangement) (i.e. a permutation with no fixed points)\n",
    "\n",
    "Each line of this dictionary notated a mobile bond in the format:\n",
    "```python\n",
    "assem.bond_derangement = {\n",
    "    <start atom index> : (<neighbor before rxn index>, <neighbor after rxn index>),\n",
    "    ...\n",
    "}\n",
    "```\n",
    "Closure of cycles can be checked by inspection by seeing that the \"columns\" of before and after negihbors contain the same indices\n",
    "\n",
    "Atom indices given should match the arbitrarily-assigned atoms numbering depicted above (though can be manually supplied in the defining SMARTS if necessary)   \n",
    "It is worth noting that this is the **ONLY** place one has to do any \"index-chasing\" in this entire workflow; for the most part, everything is chemically-driven\n"
   ]
  },
  {
   "cell_type": "code",
   "execution_count": null,
   "metadata": {},
   "outputs": [],
   "source": [
    "assem.bond_derangement = {\n",
    "    4 : (2, 8), # H:4, which was connected to C:2, should reconnect to Cl:8\n",
    "    6 : (8, 2), # C:6, which was connected to Cl:8, should reconnect to C:2\n",
    "} # note that this forms a closed bond cycle, since atoms 2 and 8 each gain and lose 1 bond, respectively, amounting to no net valence change\n",
    "\n",
    "rxn = assem.assemble_rxn(show_steps=True)\n",
    "rxn_smarts = rxn.to_smarts()\n",
    "display(rxn)"
   ]
  },
  {
   "cell_type": "markdown",
   "metadata": {},
   "source": [
    "Notice above that the HCl identified as a byproduct is deleted from the products, and its constituent atoms are unmapped in the reactants"
   ]
  },
  {
   "cell_type": "markdown",
   "metadata": {},
   "source": [
    "#### Export reaction for re-use\n",
    "As mentioned, the above reaction-template definition is a one-time process; the same template will handle any other   \n",
    "amide-acyl chloride polyamide just as well (which we'll see in the MPD-TMC demo)\n",
    "\n",
    "We therefore export out reaction to resue later, to avoid needing to redo the setup above elsewhere"
   ]
  },
  {
   "cell_type": "code",
   "execution_count": null,
   "metadata": {},
   "outputs": [],
   "source": [
    "from polymerist.genutils.fileutils import assemble_path\n",
    "\n",
    "\n",
    "rxn_smarts = rxn.to_smarts()\n",
    "rxn_path = assemble_path('rxn_demo_files/rxns', prefix=rxn.rxnname, extension='rxn')\n",
    "rxn_path.parent.mkdir(exist_ok=True, parents=True)\n",
    "rxn.to_rxnfile(rxn_path)"
   ]
  },
  {
   "cell_type": "markdown",
   "metadata": {},
   "source": [
    "## Enumerate all possible repeat unit fragments from monomers and reaction template\n",
    "Now that we've defined monomers and a polymerization mechanism, the real fun begins!  \n",
    "\n",
    "Here, polymerist uses these inputs to enumerate *EVERY* possible repeat unit that could be formed by these monomers interacting according to the defined mechanism,  \n",
    "_exactly_ as they appear atom-by-atom. Intermonomer bonds are indicated by the aforementioned linker (\"*\") atoms\n",
    "\n",
    "These fragments in turn define an ensemble of possible polymers structures; every polymer made from  \n",
    "these starting products can be assembled from these fragments by \"gluing together\" along linker sites\n",
    "\n",
    "Note that the initial monomers are also included in this set, as unreacted monomers are perfectly valid molecule in such a molecular system"
   ]
  },
  {
   "cell_type": "code",
   "execution_count": null,
   "metadata": {},
   "outputs": [],
   "source": [
    "from polymerist.rdutils.reactions import AnnotatedReaction, PolymerizationReactor\n",
    "\n",
    "\n",
    "reactor = PolymerizationReactor(rxn_schema=AnnotatedReaction.from_smarts(rxn_smarts))\n",
    "fragments = reactor.propagate_pooled(\n",
    "    monomers.values(),\n",
    "    clear_dummy_labels=True, # this makes identifying fragment superstructure easier in the following step\n",
    ")\n",
    "MolsToGridImage(fragments.values(), molsPerRow=3, subImgSize=MOL_IMG_SIZE, legends=fragments.keys())"
   ]
  },
  {
   "cell_type": "markdown",
   "metadata": {},
   "source": [
    "### Generate monomer specification-compliant SMARTS with informative names for each non-monomer fragment\n",
    "For assembly, and in particular, to aid in OpenFF compatibility for MD export down the line, we encode non-monomer repeat unit fragments in the SMARTs superset specified in our [earlier manuscript](https://pubs.acs.org/doi/10.1021/acs.jcim.3c01691)\n",
    "\n",
    "From your point of view, you don't need to handle\n",
    "Each distinct residue must be given a distinct name; these can in principle be arbitrary,  \n",
    "but in practice should include some indication of the functionality (i.e. number of linker sites), which is assigned automatically here"
   ]
  },
  {
   "cell_type": "code",
   "execution_count": null,
   "metadata": {},
   "outputs": [],
   "source": [
    "from polymerist.polymers.monomers import MonomerGroup\n",
    "from polymerist.rdutils.bonding.portlib import get_num_ports\n",
    "\n",
    "\n",
    "named_fragments : dict[str, Smiles] = {}\n",
    "for canon_smiles, fragment_mol in fragments.items():\n",
    "    functionality = get_num_ports(fragment_mol)\n",
    "    if functionality == 0:\n",
    "        continue # skip fragments with no ports, as these are not useful for polymerization\n",
    "    \n",
    "    query_mol = MolFromSmarts(canon_smiles) # important! need to makes SMARTS-based query mol to check for substructure - ports on returned SMILES-based mols are not treated correctly as wild-type atoms\n",
    "    parent_mol_name = '-'.join(name for name, monomer in monomers.items() if monomer.HasSubstructMatch(query_mol))\n",
    "    named_fragments[f'{parent_mol_name}_{functionality}-site'] = canon_smiles\n",
    "    \n",
    "monogrp = MonomerGroup(named_fragments)\n",
    "MolsToGridImage([mol for _, mol in monogrp.iter_rdmols()], molsPerRow=2, subImgSize=MOL_IMG_SIZE, legends=monogrp.monomers.keys())"
   ]
  },
  {
   "cell_type": "markdown",
   "metadata": {},
   "source": [
    "## Use fragments to assemble a polymer\n",
    "To tie everything together, we can pass these fragments to polymerist's built-in linear polymer builder to generate a polymer structure  \n",
    "\n",
    "To the build, one supplies the fragments (with head-tail end group orientation defined), the sequence of middle monomers,  \n",
    "and the desired number of repeat units in the chian (including end groups)\n",
    "\n",
    "NOTE: unless you explicitly provide term group orientations, the builder will automatically choose the first two terminal groups  \n",
    "as head and tail, respectively, in whatever order they appear, or the only terminal group twice if just one is provided"
   ]
  },
  {
   "cell_type": "code",
   "execution_count": null,
   "metadata": {},
   "outputs": [],
   "source": [
    "from polymerist.polymers.building import build_linear_polymer\n",
    "\n",
    "\n",
    "# these are for you to configure\n",
    "n_monomers : int = 100\n",
    "do_energy_min : bool = False # if enable, will yield more physically-plausible structure, at the cost of slower structure output\n",
    "\n",
    "monogrp.term_orient = {\n",
    "    'head' : 'HMD_1-site',\n",
    "    'tail' : 'APC_1-site',\n",
    "}\n",
    "chain = build_linear_polymer(\n",
    "    monomers=monogrp,\n",
    "    sequence='AB', # will alternate APC and HMD middle monomers (\"A\" refers to the first non-terminal monomer, \"B\" to the second, etc.)\n",
    "    n_monomers=n_monomers,\n",
    "    energy_minimize=do_energy_min, # disabling this will make structure generation much faster but give less physical structures\n",
    ")\n",
    "chain.visualize()"
   ]
  },
  {
   "cell_type": "markdown",
   "metadata": {},
   "source": [
    "## Export polymer structure files"
   ]
  },
  {
   "cell_type": "code",
   "execution_count": null,
   "metadata": {},
   "outputs": [],
   "source": [
    "from pathlib import Path\n",
    "\n",
    "structures_dir = Path('rxn_demo_files/structures/nylon')\n",
    "structures_dir.mkdir(exist_ok=True, parents=True)"
   ]
  },
  {
   "cell_type": "markdown",
   "metadata": {},
   "source": [
    "### Export to Structured Data (SD) File\n",
    "This is the recommended format for all molecule structure files, both for polymerist operations and more generally,  \n",
    "as it preserves chemical information losslessly and supports encoding of arbitrary metadata"
   ]
  },
  {
   "cell_type": "code",
   "execution_count": null,
   "metadata": {},
   "outputs": [],
   "source": [
    "from rdkit.Chem.rdmolfiles import SDWriter\n",
    "from polymerist.polymers.building import mbmol_to_rdmol\n",
    "\n",
    "\n",
    "sdf_path = assemble_path(structures_dir, prefix='nylon', postfix=f'{n_monomers}mer', extension='sdf')\n",
    "with SDWriter(sdf_path) as writer:\n",
    "    writer.write(mbmol_to_rdmol(chain))"
   ]
  },
  {
   "cell_type": "markdown",
   "metadata": {},
   "source": [
    "### Export to Protein DataBank (PDB) File\n",
    "PDB export is supported due to its common useage, though altogether not recommended as it is a highly lossy and chemically non-explicit format"
   ]
  },
  {
   "cell_type": "code",
   "execution_count": null,
   "metadata": {},
   "outputs": [],
   "source": [
    "from polymerist.polymers.building import mbmol_to_openmm_pdb\n",
    "\n",
    "\n",
    "pdb_path = assemble_path(structures_dir, prefix='nylon', postfix=f'{n_monomers}mer', extension='pdb')\n",
    "pdb_path.parent.mkdir(exist_ok=True, parents=True)\n",
    "mbmol_to_openmm_pdb(pdb_path, chain)"
   ]
  },
  {
   "cell_type": "markdown",
   "metadata": {},
   "source": [
    "### Save repeat unit fragments to disc\n",
    "As with reactions templates (and basically everything else in polymerist), you can serialize MonomerGroup objects to avoid needing to remake them more than once"
   ]
  },
  {
   "cell_type": "code",
   "execution_count": null,
   "metadata": {},
   "outputs": [],
   "source": [
    "fragments_path = assemble_path('rxn_demo_files/fragments', prefix='nylon', extension='json')\n",
    "fragments_path.parent.mkdir(exist_ok=True, parents=True)\n",
    "monogrp.to_file(fragments_path)"
   ]
  },
  {
   "cell_type": "code",
   "execution_count": null,
   "metadata": {},
   "outputs": [],
   "source": []
  }
 ],
 "metadata": {
  "kernelspec": {
   "display_name": "polymerist-dev",
   "language": "python",
   "name": "python3"
  },
  "language_info": {
   "codemirror_mode": {
    "name": "ipython",
    "version": 3
   },
   "file_extension": ".py",
   "mimetype": "text/x-python",
   "name": "python",
   "nbconvert_exporter": "python",
   "pygments_lexer": "ipython3",
   "version": "3.11.0"
  }
 },
 "nbformat": 4,
 "nbformat_minor": 2
}
