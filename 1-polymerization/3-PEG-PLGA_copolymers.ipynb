{
 "cells": [
  {
   "cell_type": "markdown",
   "metadata": {},
   "source": [
    "# Example 3: PEG-PLGA copolymers\n",
    "More complicated ensemble of copolymers which react according to the same ester pathway"
   ]
  },
  {
   "cell_type": "code",
   "execution_count": null,
   "metadata": {},
   "outputs": [],
   "source": [
    "from rdkit.Chem.Draw import MolsToGridImage\n",
    "from polymerist.rdutils.rdkdraw import set_rdkdraw_size, disable_substruct_highlights, enable_kekulized_drawing\n",
    "\n",
    "\n",
    "# Molecule drawing settings\n",
    "MOL_IMG_WIDTH  : int = 400\n",
    "MOL_IMG_HEIGHT : int = 300\n",
    "MOL_IMG_SIZE = (MOL_IMG_WIDTH, MOL_IMG_HEIGHT)\n",
    "\n",
    "enable_kekulized_drawing()\n",
    "disable_substruct_highlights()\n",
    "set_rdkdraw_size(MOL_IMG_WIDTH, MOL_IMG_WIDTH / MOL_IMG_HEIGHT)"
   ]
  },
  {
   "cell_type": "markdown",
   "metadata": {},
   "source": [
    "## Define chemically-complete monomer \"feedstocks\""
   ]
  },
  {
   "cell_type": "code",
   "execution_count": null,
   "metadata": {},
   "outputs": [],
   "source": [
    "from rdkit.Chem.rdchem import Mol\n",
    "from rdkit.Chem.rdmolops import SANITIZE_ALL, AROMATICITY_MDL\n",
    "from polymerist.rdutils.sanitization import explicit_mol_from_SMILES, Smiles\n",
    "\n",
    "\n",
    "monomer_smiles : dict[str, Smiles] = {\n",
    "    'EG' : 'OCCO',        # ethylene glycol\n",
    "    'LA' : 'OC(=O)C(C)O', # lactic acid\n",
    "    'GA' : 'OC(=O)CO',    # glycolic acid\n",
    "}\n",
    "monomers : dict[str, Mol] = {\n",
    "    name : explicit_mol_from_SMILES(smiles, sanitize_ops=SANITIZE_ALL, aromaticity_model=AROMATICITY_MDL)\n",
    "    for name, smiles in monomer_smiles.items()\n",
    "}\n",
    "\n",
    "MolsToGridImage(monomers.values(), molsPerRow=len(monomers), subImgSize=MOL_IMG_SIZE, legends=list(monomers.keys()))"
   ]
  },
  {
   "cell_type": "markdown",
   "metadata": {},
   "source": [
    "## Define polycondensation reaction template"
   ]
  },
  {
   "cell_type": "markdown",
   "metadata": {},
   "source": [
    "### Assemble reaction from target functional groups (in this case a hydroxyl and a carboxylic acid)\n",
    "In this case, one needs to be careful in how the hydroxyl moiety is specified, as the naive definition (\"*-O-[H]\") is _also_ a substructure of the carboxyl group   \n",
    "Polymerist's ReactionAssembler reactive functional groups template are defined by SMARTS queries, allowing one to perform more complex substructure queries for cases like this"
   ]
  },
  {
   "cell_type": "code",
   "execution_count": null,
   "metadata": {},
   "outputs": [],
   "source": [
    "from rdkit.Chem.rdmolfiles import MolFromSmarts, MolToSmiles\n",
    "from polymerist.rdutils.reactions import ReactionAssembler\n",
    "\n",
    "\n",
    "# NOTE carefully that a \"*\" site is not present in the hydroxyl group definition, but that the \"non-carbonyl\" query takes\n",
    "# place of the linker site definition instead; a \"*\" matches to ANY atom without restriction, which is not what we want here\n",
    "assem = ReactionAssembler(\n",
    "    reactive_groups=[\n",
    "        MolFromSmarts('*-C(=O)-O-[H]'), # carboxyl group (defined as one would expect)\n",
    "        MolFromSmarts('[!$([#6]=O)]-O-[H]'),      # hydroxyl group (defined as OH specifically NOT attached to a carbonyl carbon)\n",
    "    ],\n",
    "    byproducts=[MolFromSmarts('[H]-[O]-[H]')], # eject and unmap water byproduct\n",
    "    rxn_name='polyester condensation',\n",
    ")\n",
    "display(assem.reactants)"
   ]
  },
  {
   "cell_type": "code",
   "execution_count": null,
   "metadata": {},
   "outputs": [],
   "source": [
    "assem.bond_derangement = {\n",
    "    8 : (7, 4), # H:8, which was connected to O:7, should reconnect to O:4\n",
    "    2 : (4, 7), # C:2, which was connected to O:4, should reconnect to O:7\n",
    "} # note that this forms a closed bond cycle, since atoms 2 and 8 each gain and lose 1 bond, respectively, amounting to no net valence change\n",
    "# Also note that the seemingly-equivalent cycle {\n",
    "#   7 : (6, 5),\n",
    "#   4 : (5, 6),\n",
    "# }\n",
    "# is not valid, as one of the intermediate fragments consists of two linkers bonded to one another (\"neutronium\"), which acts as an \"indetity\" element when splicing bonds\n",
    "\n",
    "rxn = assem.assemble_rxn(show_steps=True)\n",
    "display(rxn)"
   ]
  },
  {
   "cell_type": "markdown",
   "metadata": {},
   "source": [
    "### Export reaction for re-use"
   ]
  },
  {
   "cell_type": "code",
   "execution_count": null,
   "metadata": {},
   "outputs": [],
   "source": [
    "from pathlib import Path\n",
    "\n",
    "rxn_smarts = rxn.to_smarts()\n",
    "rxn_dir = Path(f'rxn_demo_files/rxns')\n",
    "rxn_dir.mkdir(parents=True, exist_ok=True)\n",
    "rxn.to_rxnfile(rxn_dir / f'{rxn.rxnname}.rxn')"
   ]
  },
  {
   "cell_type": "markdown",
   "metadata": {},
   "source": [
    "## Enumerate all possible repeat unit fragments from monomers and reaction template"
   ]
  },
  {
   "cell_type": "code",
   "execution_count": null,
   "metadata": {},
   "outputs": [],
   "source": [
    "from polymerist.rdutils.reactions import AnnotatedReaction\n",
    "from polymerist.rdutils.reactions import PolymerizationReactor, CutMinimumCostBondsStrategy\n",
    "\n",
    "\n",
    "reactor = PolymerizationReactor(\n",
    "    rxn_schema=AnnotatedReaction.from_smarts(rxn_smarts),\n",
    "    fragment_strategy=CutMinimumCostBondsStrategy()\n",
    ")\n",
    "fragments = reactor.propagate_pooled(\n",
    "    monomers.values(),\n",
    "    allow_resampling=True, # allow resampling of monomers to produce more fragments\n",
    "    sanitize_ops=SANITIZE_ALL,\n",
    "    aromaticity_model=AROMATICITY_MDL,\n",
    "    clear_dummy_labels=True,\n",
    ")\n",
    "MolsToGridImage(fragments.values(), molsPerRow=3, subImgSize=MOL_IMG_SIZE, legends=list(fragments.keys()))"
   ]
  },
  {
   "cell_type": "code",
   "execution_count": null,
   "metadata": {},
   "outputs": [],
   "source": [
    "from string import ascii_lowercase\n",
    "from collections import defaultdict, Counter\n",
    "\n",
    "from polymerist.polymers.monomers import MonomerGroup\n",
    "from polymerist.rdutils.bonding.portlib import get_num_ports\n",
    "from polymerist.genutils.iteration import sort_dict_by_keys\n",
    "\n",
    "\n",
    "named_fragments : dict[str, Smiles] = {}\n",
    "fragment_name_modifiers = defaultdict(Counter) # keeps track of how many times each (monomer name, functionality) pair is found to generate distinguishing suffixes\n",
    "for canon_smiles, fragment_mol in fragments.items():\n",
    "    functionality = get_num_ports(fragment_mol)\n",
    "    if functionality == 0:\n",
    "        continue # skip fragments with no ports, as these are not useful for polymerization\n",
    "    \n",
    "    query_smiles = MolToSmiles(fragment_mol, allHsExplicit=True, allBondsExplicit=True) # canonical SMILES is missing much of the chemical info we need to obtain an explicit substructure match\n",
    "    query_mol = MolFromSmarts(query_smiles) # important! need to makes SMARTS-based query mol to check for substructure - ports on returned SMILES-based mols are not treated correctly as wild-type atoms\n",
    "    parent_mol_name = '-'.join(name for name, monomer in monomers.items() if monomer.HasSubstructMatch(query_mol))\n",
    "    suffix = ascii_lowercase[fragment_name_modifiers[parent_mol_name][functionality]]\n",
    "    \n",
    "    named_fragments[f'{parent_mol_name}-{functionality}{suffix}'] = canon_smiles\n",
    "    fragment_name_modifiers[parent_mol_name][functionality] += 1\n",
    "    \n",
    "monogrp = MonomerGroup(sort_dict_by_keys(named_fragments, reverse=True)) # sorting is not necessary for any functionality, but groups like fragments together for viewing \n",
    "MolsToGridImage([mol for _, mol in monogrp.iter_rdmols()], molsPerRow=3, subImgSize=MOL_IMG_SIZE, legends=list(monogrp.monomers.keys()))"
   ]
  },
  {
   "cell_type": "markdown",
   "metadata": {},
   "source": [
    "### Generate monomer specification-compliant SMARTS with informative names for each non-monomer fragment"
   ]
  },
  {
   "cell_type": "markdown",
   "metadata": {},
   "source": [
    "## Use fragments to assemble a polymer"
   ]
  },
  {
   "cell_type": "code",
   "execution_count": null,
   "metadata": {},
   "outputs": [],
   "source": [
    "\n",
    "from polymerist.polymers.building import build_linear_polymer, mbmol_to_rdkit_pdb\n",
    "\n",
    "# these are for you to configure\n",
    "n_monomers : int = 20\n",
    "do_energy_min : bool = False # if enable, will yield more physically-plausible structure, at the cost of slower structure output\n",
    "\n",
    "# NOTE: unless you explicitly provide term group orientations, the builder will automatically choose the first two\n",
    "# terminal groups as head and tail, respectively, in whatever order they appear, or the only terminal group twice if just one is provided\n",
    "monogrp.term_orient = {\n",
    "    'head' : 'LA-1a',\n",
    "    'tail' : 'EG-1a',\n",
    "}\n",
    "chain = build_linear_polymer(\n",
    "    monomers=monogrp,\n",
    "    # sequence=f'{\"A\"*LA_block_size}{\"B\"*GA_block_size}{\"C\"*EG_block_size}', # will cycle through LA, GA, and EG middle monomers (as set in the order above)\n",
    "    sequence='ABCBB',\n",
    "    n_monomers=n_monomers,\n",
    "    allow_partial_sequences=True, # relax requirement of having a whole-number of repetitions of the sequence to allow any number of monomers\n",
    "    energy_minimize=do_energy_min,\n",
    ")\n",
    "chain.visualize()\n",
    "# mbmol_to_rdkit_pdb(f'PEG_PLGA_{N}-mer.pdb', chain)"
   ]
  },
  {
   "cell_type": "code",
   "execution_count": null,
   "metadata": {},
   "outputs": [],
   "source": []
  }
 ],
 "metadata": {
  "kernelspec": {
   "display_name": "polymerist-dev",
   "language": "python",
   "name": "python3"
  },
  "language_info": {
   "codemirror_mode": {
    "name": "ipython",
    "version": 3
   },
   "file_extension": ".py",
   "mimetype": "text/x-python",
   "name": "python",
   "nbconvert_exporter": "python",
   "pygments_lexer": "ipython3",
   "version": "3.11.0"
  }
 },
 "nbformat": 4,
 "nbformat_minor": 2
}
