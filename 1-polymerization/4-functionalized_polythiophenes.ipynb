{
 "cells": [
  {
   "cell_type": "markdown",
   "metadata": {},
   "source": [
    "# Example 4: conjugation of thiophenes with arbitrary sidechains"
   ]
  },
  {
   "cell_type": "code",
   "execution_count": 1,
   "metadata": {},
   "outputs": [],
   "source": [
    "from rdkit import Chem\n",
    "from IPython.display import display\n",
    "\n",
    "from pathlib import Path\n",
    "from polymerist.genutils.fileutils.pathutils import assemble_path\n",
    "\n",
    "\n",
    "RXNS_DIR = Path('rxn_demo_files2')\n",
    "RXNS_DIR.mkdir(exist_ok=True)\n",
    "\n",
    "example_dir_1 = RXNS_DIR / 'polythiophene'\n",
    "example_dir_1.mkdir(exist_ok=True)"
   ]
  },
  {
   "cell_type": "markdown",
   "metadata": {},
   "source": [
    "### Defining reactant templates and side products"
   ]
  },
  {
   "cell_type": "code",
   "execution_count": 4,
   "metadata": {},
   "outputs": [],
   "source": [
    "from rdkit.Chem.Draw import MolsToGridImage\n",
    "from polymerist.rdutils.rdkdraw import set_rdkdraw_size, disable_substruct_highlights, enable_kekulized_drawing\n",
    "\n",
    "\n",
    "# Molecule drawing settings\n",
    "MOL_IMG_WIDTH  : int = 400\n",
    "MOL_IMG_HEIGHT : int = 300\n",
    "MOL_IMG_SIZE = (MOL_IMG_WIDTH, MOL_IMG_HEIGHT)\n",
    "\n",
    "enable_kekulized_drawing()\n",
    "disable_substruct_highlights()\n",
    "set_rdkdraw_size(MOL_IMG_WIDTH, MOL_IMG_WIDTH / MOL_IMG_HEIGHT)"
   ]
  },
  {
   "cell_type": "code",
   "execution_count": 8,
   "metadata": {},
   "outputs": [
    {
     "data": {
      "image/png": "[encoded data removed]",
      "text/plain": [
       "<IPython.core.display.Image object>"
      ]
     },
     "execution_count": 8,
     "metadata": {},
     "output_type": "execute_result"
    }
   ],
   "source": [
    "from rdkit.Chem.rdchem import Mol\n",
    "from rdkit.Chem.rdmolops import SANITIZE_ALL, AROMATICITY_MDL\n",
    "from polymerist.rdutils.sanitization import explicit_mol_from_SMILES, Smiles\n",
    "\n",
    "\n",
    "monomer_smiles : dict[str, Smiles] = {\n",
    "    'thiophene_ortho' : 'S1C(*)=C(C=C1)*',\n",
    "    'thiophene_meta'  : 'S1C=C(C=C1(*))*',\n",
    "}\n",
    "monomers : dict[str, Mol] = {\n",
    "    name : explicit_mol_from_SMILES(smiles, sanitize_ops=SANITIZE_ALL, aromaticity_model=AROMATICITY_MDL)\n",
    "    for name, smiles in monomer_smiles.items()\n",
    "}\n",
    "\n",
    "MolsToGridImage(monomers.values(), molsPerRow=len(monomers), subImgSize=MOL_IMG_SIZE, legends=list(monomers.keys()))"
   ]
  },
  {
   "cell_type": "code",
   "execution_count": 2,
   "metadata": {},
   "outputs": [
    {
     "ename": "ImportError",
     "evalue": "cannot import name 'SANITIZE_AS_KEKULE' from 'polymerist.polymers.monomers.specification' (/home/timber/Documents/Python/polymerist_dev/polymerist/build/__editable__.polymerist-0.1.5rc1+174.g739da70-py3-none-any/polymerist/polymers/monomers/specification.py)",
     "output_type": "error",
     "traceback": [
      "\u001b[0;31m---------------------------------------------------------------------------\u001b[0m",
      "\u001b[0;31mImportError\u001b[0m                               Traceback (most recent call last)",
      "Cell \u001b[0;32mIn[2], line 2\u001b[0m\n\u001b[1;32m      1\u001b[0m \u001b[38;5;28;01mfrom\u001b[39;00m \u001b[38;5;21;01mpolymerist\u001b[39;00m\u001b[38;5;21;01m.\u001b[39;00m\u001b[38;5;21;01mrdutils\u001b[39;00m \u001b[38;5;28;01mimport\u001b[39;00m rdkdraw\n\u001b[0;32m----> 2\u001b[0m \u001b[38;5;28;01mfrom\u001b[39;00m \u001b[38;5;21;01mpolymerist\u001b[39;00m\u001b[38;5;21;01m.\u001b[39;00m\u001b[38;5;21;01mpolymers\u001b[39;00m\u001b[38;5;21;01m.\u001b[39;00m\u001b[38;5;21;01mmonomers\u001b[39;00m\u001b[38;5;21;01m.\u001b[39;00m\u001b[38;5;21;01mspecification\u001b[39;00m \u001b[38;5;28;01mimport\u001b[39;00m expanded_SMILES, SANITIZE_AS_KEKULE\n\u001b[1;32m      5\u001b[0m rdkdraw\u001b[38;5;241m.\u001b[39mset_rdkdraw_size(\u001b[38;5;241m200\u001b[39m, \u001b[38;5;241m3\u001b[39m\u001b[38;5;241m/\u001b[39m\u001b[38;5;241m2\u001b[39m)\n\u001b[1;32m      6\u001b[0m template_smiles_raw \u001b[38;5;241m=\u001b[39m [ \u001b[38;5;66;03m# these two templates describe singly-fragmented thiophenes with a single R-group on the 3-site and chain on the 2- and 4-sites, respectively\u001b[39;00m\n\u001b[1;32m      7\u001b[0m     \u001b[38;5;124m'\u001b[39m\u001b[38;5;124mS1C=C(C=C1(*))*\u001b[39m\u001b[38;5;124m'\u001b[39m,\n\u001b[1;32m      8\u001b[0m     \u001b[38;5;124m'\u001b[39m\u001b[38;5;124mS1C(*)=C(C=C1)*\u001b[39m\u001b[38;5;124m'\u001b[39m,\n\u001b[1;32m      9\u001b[0m ] \n",
      "\u001b[0;31mImportError\u001b[0m: cannot import name 'SANITIZE_AS_KEKULE' from 'polymerist.polymers.monomers.specification' (/home/timber/Documents/Python/polymerist_dev/polymerist/build/__editable__.polymerist-0.1.5rc1+174.g739da70-py3-none-any/polymerist/polymers/monomers/specification.py)"
     ]
    }
   ],
   "source": [
    "from polymerist.rdutils import rdkdraw\n",
    "from polymerist.polymers.monomers.specification import expanded_SMILES, SANITIZE_AS_KEKULE\n",
    "\n",
    "\n",
    "rdkdraw.set_rdkdraw_size(200, 3/2)\n",
    "template_smiles_raw = [ # these two templates describe singly-fragmented thiophenes with a single R-group on the 3-site and chain on the 2- and 4-sites, respectively\n",
    "    'S1C=C(C=C1(*))*',\n",
    "    'S1C(*)=C(C=C1)*',\n",
    "] \n",
    "\n",
    "reactant_templates, template_smiles = [], []\n",
    "for smiles in template_smiles_raw:\n",
    "    exp_smiles = expanded_SMILES(smiles, assign_map_nums=False)\n",
    "    template_mol = Chem.MolFromSmiles(exp_smiles, sanitize=False)\n",
    "    Chem.SanitizeMol(template_mol, sanitizeOps=SANITIZE_AS_KEKULE)\n",
    "\n",
    "    display(template_mol)\n",
    "    template_smiles.append(exp_smiles)\n",
    "    reactant_templates.append(template_mol)"
   ]
  },
  {
   "cell_type": "markdown",
   "metadata": {},
   "source": [
    "### Assembling a reaction template"
   ]
  },
  {
   "cell_type": "code",
   "execution_count": null,
   "metadata": {},
   "outputs": [],
   "source": [
    "from polymerist.rdutils.reactions.assembly import ReactionAssembler\n",
    "\n",
    "\n",
    "rdkdraw.set_rdkdraw_size(400, 3/2)\n",
    "assem = ReactionAssembler(\n",
    "    reactive_groups=reactant_templates,\n",
    "    byproducts=[\n",
    "        Chem.MolFromSmarts('[H]-[H]') # this is a reaction byproduct; these need to be explicitly defined on the template\n",
    "    ],\n",
    "    rxn_name='thiophene_conjugation',\n",
    ")\n",
    "display(assem.reactants)"
   ]
  },
  {
   "cell_type": "markdown",
   "metadata": {},
   "source": [
    "This is where we define which bonds should move where (via closed bond cycles), and which byproducts (if any) should be washed away"
   ]
  },
  {
   "cell_type": "code",
   "execution_count": null,
   "metadata": {},
   "outputs": [],
   "source": [
    "assem.bond_derangement = {\n",
    "    8  : (7, 17), # H8 , which was connected to C7 , should reconnect to H17\n",
    "    16 : (17, 7), # C16, which was connected to H17, should reconnect to C7\n",
    "}\n",
    "assem.byproducts = (dihydrogen,) # unmap the hydrogen byproduct, to avoid gumming up the reaction"
   ]
  },
  {
   "cell_type": "markdown",
   "metadata": {},
   "source": [
    "Here we finally put together our reaction, watching first as all the old template bonds are broken and afterwards how all new bonds are formed"
   ]
  },
  {
   "cell_type": "code",
   "execution_count": null,
   "metadata": {},
   "outputs": [],
   "source": [
    "from rdkit.Chem.rdChemReactions import (\n",
    "    SanitizeRxn,\n",
    "    SanitizeRxnAsMols,\n",
    "    SanitizeFlags as SanitizeFlagsRxn\n",
    ")\n",
    "\n",
    "\n",
    "rxn = assem.assemble_rxn(show_steps=True)\n",
    "SanitizeRxn(      rxn, sanitizeOps=SanitizeFlagsRxn.SANITIZE_ALL & ~SanitizeFlagsRxn.SANITIZE_MERGEHS) # perform all rxn clenup operations EXCEPT deleting hydrogens (we need those!)\n",
    "SanitizeRxnAsMols(rxn, sanitizeOps=SANITIZE_AS_KEKULE) # removes aromatic flags from reactant and product templates\n",
    "display(rxn)\n",
    "\n",
    "rxn_path = assemble_path(example_dir_1, 'thiophene', extension='rxn')\n",
    "rxn.to_rxnfile(rxn_path) # save reaction to file to use later"
   ]
  },
  {
   "cell_type": "markdown",
   "metadata": {},
   "source": [
    "## Applying our reaction template to arbitrary monomers to enumerate chain fragments\n",
    "Here you can specify **ANY** sidechain for the 3rd site of a thiophene; they can all be generated by the same reaction template  \n",
    "This is the real power of the rules-based reaction approach; one template to rule them all (for a given polymerization mechanism)"
   ]
  },
  {
   "cell_type": "markdown",
   "metadata": {},
   "source": [
    "### Defining reactive monomers (chemically identical to synthesis starting products)"
   ]
  },
  {
   "cell_type": "code",
   "execution_count": null,
   "metadata": {},
   "outputs": [],
   "source": [
    "# Try out any sidechain with its SMILES!\n",
    "\n",
    "# sidechain_smiles = '[H]' # bare thiophene\n",
    "sidechain_smiles : str = 'CCCCCC'   # generic hexyl substituent (for poly(3-hexylthiophene) [P3HT])\n",
    "# sidechain_smiles : str = 'c1ccccc1' # phenyl chain to show this works for aromatic groups\n",
    "# sidechain_smiles = 'C1=NNN=N1' # tetrazole ring, to show this works for less common groups too :)"
   ]
  },
  {
   "cell_type": "markdown",
   "metadata": {},
   "source": [
    "### Ensuring SMILES is chemically explicit and obtaining IUPAC name for chosen monomer"
   ]
  },
  {
   "cell_type": "code",
   "execution_count": null,
   "metadata": {},
   "outputs": [],
   "source": [
    "from polymerist.smileslib.chemdbqueries import get_chemical_property\n",
    "\n",
    "\n",
    "# produce chemically-complete monomer molecule representation\n",
    "monomer_smiles = f'S1C=C(C=C1){sidechain_smiles}'\n",
    "exp_monomer_smiles = expanded_SMILES(monomer_smiles, assign_map_nums=False)\n",
    "monomer = Chem.MolFromSmiles(exp_monomer_smiles, sanitize=False)\n",
    "Chem.SanitizeMol(monomer, sanitizeOps=SANITIZE_AS_KEKULE)\n",
    "\n",
    "try:\n",
    "    monomer_name = get_chemical_property('iupac_name', monomer_smiles, namespace='smiles')\n",
    "    polymer_name = f'poly({monomer_name})'\n",
    "except:\n",
    "    polymer_name = 'polymer'\n",
    "    \n",
    "substituent_dir = example_dir_1 / polymer_name\n",
    "substituent_dir.mkdir(exist_ok=True)"
   ]
  },
  {
   "cell_type": "markdown",
   "metadata": {},
   "source": [
    "### Define head and tail monomers"
   ]
  },
  {
   "cell_type": "code",
   "execution_count": null,
   "metadata": {},
   "outputs": [],
   "source": [
    "reactants_dict = {\n",
    "    f'{monomer_name}_head' : monomer,\n",
    "    f'{monomer_name}_tail' : monomer,\n",
    "}\n",
    "reactants = []\n",
    "for reactant_name, reactant_mol in reactants_dict.items():\n",
    "    print(  reactant_name)\n",
    "    display(reactant_mol)\n",
    "    reactants.append(reactant_mol)"
   ]
  },
  {
   "cell_type": "markdown",
   "metadata": {},
   "source": [
    "### Load reaction template, create reactor, and test that the template works"
   ]
  },
  {
   "cell_type": "code",
   "execution_count": null,
   "metadata": {},
   "outputs": [],
   "source": [
    "from polymerist.rdutils.reactions.reactions import AnnotatedReaction\n",
    "from polymerist.rdutils.reactions.reactors import PolymerizationReactor\n",
    "\n",
    "\n",
    "rxn = AnnotatedReaction.from_rxnfile(rxn_path) # notice here that we can use exactly he same RXN template, regardless of the chosen sidechain\n",
    "reactor = PolymerizationReactor(rxn)\n",
    "display(rxn)\n",
    "\n",
    "for product in reactor.react(reactants):\n",
    "    display(product)"
   ]
  },
  {
   "cell_type": "markdown",
   "metadata": {},
   "source": [
    "### Enumerate all possible monomer fragments according to the defined polymerization reaction "
   ]
  },
  {
   "cell_type": "code",
   "execution_count": null,
   "metadata": {},
   "outputs": [],
   "source": [
    "from polymerist.polymers.monomers import MonomerGroup\n",
    "from polymerist.polymers.monomers.specification import expanded_SMILES, compliant_mol_SMARTS\n",
    "\n",
    "\n",
    "monogrp = MonomerGroup()\n",
    "term_orient_labels : list[str] = ['head', 'tail']\n",
    "rdkdraw.disable_substruct_highlights()\n",
    "for dimers, fragments in reactor.propagate(reactants):\n",
    "    for group_name, fragment in zip(reactants_dict.keys(), fragments):\n",
    "        raw_smiles = Chem.MolToSmiles(fragment)\n",
    "        exp_smiles = expanded_SMILES(raw_smiles)\n",
    "        spec_smarts = compliant_mol_SMARTS(exp_smiles)\n",
    "        \n",
    "        if MonomerGroup.is_terminal(fragment):\n",
    "            frag_name = f'poly-{group_name}_TERM'\n",
    "            monogrp.monomers[frag_name] = [spec_smarts]\n",
    "            # explicitly assign terminal group orientations (if this is not done, will assign\n",
    "            # in order of appearance of end groups by default, and will alert you with a warning)\n",
    "            if term_orient_labels: \n",
    "                monogrp.term_orient[term_orient_labels.pop()] = frag_name\n",
    "        else:\n",
    "            frag_name = f'poly-{group_name}_MID'\n",
    "            monogrp.monomers[frag_name] = [spec_smarts]\n",
    "\n",
    "        print(frag_name)\n",
    "        display(fragment)\n",
    "\n",
    "fragment_path = assemble_path(substituent_dir, f'{polymer_name}_fragments', extension='json')\n",
    "monogrp.to_file(fragment_path)"
   ]
  },
  {
   "cell_type": "markdown",
   "metadata": {},
   "source": [
    "### Building a polymer structure with arbitrarily many repeat units and saving to a PDB file"
   ]
  },
  {
   "cell_type": "code",
   "execution_count": null,
   "metadata": {},
   "outputs": [],
   "source": [
    "from polymerist.polymers.monomers import MonomerGroup\n",
    "from polymerist.polymers.building import build_linear_polymer, mbmol_to_openmm_pdb\n",
    "\n",
    "\n",
    "# these are for you to configure\n",
    "n_monomers : int = 20\n",
    "do_energy_min : bool = False # this will make PDB generation much slower but give much more physical structures\n",
    "\n",
    "monogrp = MonomerGroup.from_file(fragment_path) \n",
    "polymer = build_linear_polymer(\n",
    "    n_monomers=n_monomers,\n",
    "    monomers=monogrp,\n",
    "    sequence='BA', # described sequence unit of middle monomers AFTER the initial A head group\n",
    "    energy_minimize=do_energy_min\n",
    ")\n",
    "\n",
    "polymer_path = assemble_path(substituent_dir, f'{polymer_name}_{n_monomers}-mer', extension='pdb')\n",
    "mbmol_to_openmm_pdb(polymer_path, polymer)"
   ]
  },
  {
   "cell_type": "code",
   "execution_count": null,
   "metadata": {},
   "outputs": [],
   "source": []
  }
 ],
 "metadata": {
  "kernelspec": {
   "display_name": "polymerist-dev",
   "language": "python",
   "name": "python3"
  },
  "language_info": {
   "codemirror_mode": {
    "name": "ipython",
    "version": 3
   },
   "file_extension": ".py",
   "mimetype": "text/x-python",
   "name": "python",
   "nbconvert_exporter": "python",
   "pygments_lexer": "ipython3",
   "version": "3.11.0"
  }
 },
 "nbformat": 4,
 "nbformat_minor": 2
}
