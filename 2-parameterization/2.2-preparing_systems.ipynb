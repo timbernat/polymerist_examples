{
 "cells": [
  {
   "cell_type": "markdown",
   "id": "298360db",
   "metadata": {},
   "source": [
    "# Demo 2: parameterizing and packing polymer systems\n",
    "Here we show how to incorporate force field parameters, solvent admolecules, and other multiple polymers into Topology before exporting it to an MD engine "
   ]
  },
  {
   "cell_type": "code",
   "execution_count": 1,
   "id": "9ad3d395",
   "metadata": {},
   "outputs": [],
   "source": [
    "import logging\n",
    "logging.basicConfig(level=logging.INFO)\n",
    "\n",
    "from pathlib import Path\n",
    "from polymerist.genutils.fileutils.pathutils import is_empty, assemble_path\n",
    "\n",
    "\n",
    "EXAMPLE_DIR = Path('polymer_loading_examples')\n",
    "assert EXAMPLE_DIR.exists() and not is_empty(EXAMPLE_DIR)\n",
    "\n",
    "OUTPUT_DIR = Path('scratch') # dummy directory for writing without tampering with example inputs\n",
    "OUTPUT_DIR.mkdir(exist_ok=True)"
   ]
  },
  {
   "cell_type": "code",
   "execution_count": 2,
   "id": "8962a054",
   "metadata": {},
   "outputs": [
    {
     "name": "stderr",
     "output_type": "stream",
     "text": [
      "INFO:rdkit:Enabling RDKit 2023.09.6 jupyter extensions\n"
     ]
    }
   ],
   "source": [
    "from openff.toolkit import Molecule, Topology # this import might take a sec the first time you run this cell"
   ]
  },
  {
   "cell_type": "markdown",
   "id": "5338ccb8",
   "metadata": {},
   "source": [
    "## Working on individual polymers\n",
    "For convenience, we've provided a pre-made example SDF for a poly(N-isopropylacrylamide) (PNIPAAm) polymer  \n",
    "NOTE: if you haven't already, please run through the [prior demo](2.1-topology_and_fragment.ipynb) to see what this file means and how to create your own"
   ]
  },
  {
   "cell_type": "code",
   "execution_count": 3,
   "id": "7bce0676",
   "metadata": {},
   "outputs": [
    {
     "name": "stderr",
     "output_type": "stream",
     "text": [
      "INFO:numexpr.utils:Note: NumExpr detected 20 cores but \"NUMEXPR_MAX_THREADS\" not set, so enforcing safe limit of 16.\n",
      "INFO:numexpr.utils:NumExpr defaulting to 16 threads.\n"
     ]
    },
    {
     "data": {
      "application/vnd.jupyter.widget-view+json": {
       "model_id": "202c5e3b8239453cbee7397ebc0debb3",
       "version_major": 2,
       "version_minor": 0
      },
      "text/plain": []
     },
     "metadata": {},
     "output_type": "display_data"
    },
    {
     "data": {
      "application/vnd.jupyter.widget-view+json": {
       "model_id": "472d49a3b1384d8987ba5427ee8598ba",
       "version_major": 2,
       "version_minor": 0
      },
      "text/plain": [
       "NGLWidget()"
      ]
     },
     "metadata": {},
     "output_type": "display_data"
    }
   ],
   "source": [
    "from polymerist.mdtools.openfftools.topology import topology_from_sdf, get_largest_offmol\n",
    "\n",
    "pnipaam_sdf = assemble_path(EXAMPLE_DIR, 'PNIPAAm', 'sdf')\n",
    "assert pnipaam_sdf.exists()\n",
    "\n",
    "pnipaam_top = topology_from_sdf(pnipaam_sdf)\n",
    "# pnipaam_top.visualize()\n",
    "pnipaam = get_largest_offmol(pnipaam_top) # a useful trick for working with individual Molecules in a single-mol or solvated topology\n",
    "pnipaam.visualize(backend='nglview')"
   ]
  },
  {
   "cell_type": "code",
   "execution_count": 4,
   "id": "93a62524",
   "metadata": {},
   "outputs": [
    {
     "name": "stdout",
     "output_type": "stream",
     "text": [
      "{'residue_name': 'pnipaam_TERM1', 'residue_number': 80, 'insertion_code': ' ', 'chain_id': ' ', 'match_info': '{\"27\": [\"pnipaam_MIDDLE\", 1], \"28\": [\"pnipaam_MIDDLE\", 1], \"80\": [\"pnipaam_TERM1\", 1]}', 'substructure_query_id': 1}\n",
      "{'residue_name': 'pnipaam_TERM1', 'residue_number': 80, 'insertion_code': ' ', 'chain_id': ' ', 'match_info': '{\"28\": [\"pnipaam_MIDDLE\", 2], \"80\": [\"pnipaam_TERM1\", 2]}', 'substructure_query_id': 2}\n",
      "{'residue_name': 'pnipaam_TERM1', 'residue_number': 80, 'insertion_code': ' ', 'chain_id': ' ', 'match_info': '{\"27\": [\"pnipaam_MIDDLE\", 19], \"28\": [\"pnipaam_MIDDLE\", 19], \"80\": [\"pnipaam_TERM1\", 19]}', 'substructure_query_id': 19}\n",
      "{'residue_name': 'pnipaam_TERM1', 'residue_number': 80, 'insertion_code': ' ', 'chain_id': ' ', 'match_info': '{\"27\": [\"pnipaam_MIDDLE\", 20], \"28\": [\"pnipaam_MIDDLE\", 20], \"80\": [\"pnipaam_TERM1\", 20]}', 'substructure_query_id': 20}\n",
      "{'residue_name': 'pnipaam_TERM1', 'residue_number': 80, 'insertion_code': ' ', 'chain_id': ' ', 'match_info': '{\"0\": [\"PEPTIDE_BOND\", 1], \"28\": [\"pnipaam_MIDDLE\", 4], \"80\": [\"pnipaam_TERM1\", 3]}', 'substructure_query_id': 3}\n",
      "{'residue_name': 'pnipaam_TERM1', 'residue_number': 80, 'insertion_code': ' ', 'chain_id': ' ', 'match_info': '{\"0\": [\"PEPTIDE_BOND\", 2], \"28\": [\"pnipaam_MIDDLE\", 5], \"80\": [\"pnipaam_TERM1\", 4]}', 'substructure_query_id': 4}\n",
      "{'residue_name': 'pnipaam_TERM1', 'residue_number': 80, 'insertion_code': ' ', 'chain_id': ' ', 'match_info': '{\"0\": [\"PEPTIDE_BOND\", 3], \"28\": [\"pnipaam_MIDDLE\", 6], \"80\": [\"pnipaam_TERM1\", 5]}', 'substructure_query_id': 5}\n",
      "{'residue_name': 'pnipaam_TERM1', 'residue_number': 80, 'insertion_code': ' ', 'chain_id': ' ', 'match_info': '{\"80\": [\"pnipaam_TERM1\", 17]}', 'substructure_query_id': 17}\n",
      "{'residue_name': 'pnipaam_TERM1', 'residue_number': 80, 'insertion_code': ' ', 'chain_id': ' ', 'match_info': '{\"0\": [\"PEPTIDE_BOND\", 5], \"28\": [\"pnipaam_MIDDLE\", 7], \"80\": [\"pnipaam_TERM1\", 6]}', 'substructure_query_id': 6}\n",
      "{'residue_name': 'pnipaam_TERM1', 'residue_number': 80, 'insertion_code': ' ', 'chain_id': ' ', 'match_info': '{\"0\": [\"PEPTIDE_BOND\", 4], \"28\": [\"pnipaam_MIDDLE\", 17], \"80\": [\"pnipaam_TERM1\", 16]}', 'substructure_query_id': 16}\n"
     ]
    }
   ],
   "source": [
    "# residue partition metadata is preserved by the SDF\n",
    "for atom in pnipaam.atoms[:10]: \n",
    "    print(atom.metadata)"
   ]
  },
  {
   "cell_type": "markdown",
   "id": "d54a31bc",
   "metadata": {},
   "source": [
    "### Custom metadata\n",
    "In principle, there's no limit to the kinds of data you can associate with a polymer, via the Molecule.properties field.  \n",
    "For example, here we insert patent info about PNIPAAm which you can verify is written after the chemical table in the resulting SDF"
   ]
  },
  {
   "cell_type": "code",
   "execution_count": 5,
   "metadata": {},
   "outputs": [],
   "source": [
    "from polymerist.mdtools.openfftools.topology import topology_to_sdf\n",
    "\n",
    "\n",
    "pnipaam.name = 'PNIPAAm' # OpenFF Molecules also have a dedicated \"name\" attribute to give you molecules convenience handles\n",
    "pnipaam.properties['IUPAC name'] = 'poly(N-isopropylacrylamide)'\n",
    "pnipaam.properties['Common name'] = 'PNIPAAm'\n",
    "pnipaam.properties['First patented'] = '1956-12-04'\n",
    "pnipaam.properties['Patent holder'] = 'Edward H. Sprecht'\n",
    "pnipaam.properties['Patent No.'] = 'US-2773063-A'\n",
    "\n",
    "sdf_path_annotated = assemble_path(OUTPUT_DIR, 'PNIPAAm_annotated', 'sdf')\n",
    "topology_to_sdf(sdf_path_annotated, pnipaam.to_topology()) # individual Molecule objects must be bundled into a topology before exporting to SDF"
   ]
  },
  {
   "cell_type": "markdown",
   "id": "c67abbf5",
   "metadata": {},
   "source": [
    "### Assigning [atomic partial charges](https://en.wikipedia.org/wiki/Partial_charge) to polymers\n",
    "This is a niche-but-vital step, as it governs the electrostatic interactions within and without the polymer chains which will eventually be realized in an molecular dynamics engine  \n",
    "This is a particularly difficult task for macromolecules, though speedy methods such as pretrained graph neural networks (GNNs) or [custom library charges](2.4-RCT_demo.ipynb) are available \n",
    "\n",
    "`polymerist` provides user-friendly hooks for various rapid partial charge wrappers (assuming you've installed one of the [parameterization toolkits](https://github.com/timbernat/polymerist?tab=readme-ov-file#2-parameterization-toolkits)).  \n",
    "These hook cache the resulting partial charge values and charging method directly to the Molecule's metadata, enabling tracking of provenance during simulation preparation\n"
   ]
  },
  {
   "cell_type": "code",
   "execution_count": 6,
   "id": "c1613b82",
   "metadata": {},
   "outputs": [
    {
     "data": {
      "text/plain": [
       "{'AM1-BCC-ELF10': polymerist.mdtools.openfftools.partialcharge.molchargers.ABE10Charger,\n",
       " 'Espaloma-AM1-BCC': polymerist.mdtools.openfftools.partialcharge.molchargers.EspalomaCharger,\n",
       " 'NAGL': polymerist.mdtools.openfftools.partialcharge.molchargers.NAGLCharger,\n",
       " 'RCT': polymerist.mdtools.openfftools.partialcharge.rescharge.interface.LibraryCharger}"
      ]
     },
     "execution_count": 6,
     "metadata": {},
     "output_type": "execute_result"
    }
   ],
   "source": [
    "from polymerist.mdtools.openfftools.partialcharge.molchargers import MolCharger\n",
    "from polymerist.mdtools.openfftools.partialcharge.rescharge import LibraryCharger\n",
    "\n",
    "MolCharger.subclass_registry # show which partial charge wrappers are available"
   ]
  },
  {
   "cell_type": "code",
   "execution_count": 7,
   "id": "4f2b5e3e",
   "metadata": {},
   "outputs": [
    {
     "name": "stderr",
     "output_type": "stream",
     "text": [
      "INFO:root:Partial charges initial: None\n",
      "INFO:polymerist.mdtools.openfftools.partialcharge.molchargers:Assigning partial charges via the \"NAGL\" method\n",
      "INFO:openff.nagl.nn._models:Could not find property in lookup table: 'Could not find property value for molecule with InChI InChI=1/C162H299N27O27/c1-83(2)163-136(190)57-56-111(138(192)165-85(5)6)59-113(140(194)167-87(9)10)61-115(142(196)169-89(13)14)63-117(144(198)171-91(17)18)65-119(146(200)173-93(21)22)67-121(148(202)175-95(25)26)69-123(150(204)177-97(29)30)71-125(152(206)179-99(33)34)73-127(154(208)181-101(37)38)75-129(156(210)183-103(41)42)77-131(158(212)185-105(45)46)79-133(160(214)187-107(49)50)81-135(162(216)189-109(53)54)82-134(161(215)188-108(51)52)80-132(159(213)186-106(47)48)78-130(157(211)184-104(43)44)76-128(155(209)182-102(39)40)74-126(153(207)180-100(35)36)72-124(151(205)178-98(31)32)70-122(149(203)176-96(27)28)68-120(147(201)174-94(23)24)66-118(145(199)172-92(19)20)64-116(143(197)170-90(15)16)62-114(141(195)168-88(11)12)60-112(139(193)166-86(7)8)58-110(55)137(191)164-84(3)4/h83-135H,56-82H2,1-55H3,(H,163,190)(H,164,191)(H,165,192)(H,166,193)(H,167,194)(H,168,195)(H,169,196)(H,170,197)(H,171,198)(H,172,199)(H,173,200)(H,174,201)(H,175,202)(H,176,203)(H,177,204)(H,178,205)(H,179,206)(H,180,207)(H,181,208)(H,182,209)(H,183,210)(H,184,211)(H,185,212)(H,186,213)(H,187,214)(H,188,215)(H,189,216)/t110-,111-,112-,113+,114-,115-,116-,117-,118-,119+,120+,121+,122-,123+,124-,125+,126-,127+,128-,129+,130-,131+,132-,133+,134+,135+/m0/s1/f/h163-189H'\n",
      "INFO:polymerist.mdtools.openfftools.partialcharge.molchargers:Successfully assigned \"NAGL\" charges\n",
      "INFO:root:Recorded charge method: NAGL\n",
      "INFO:root:Net partial charge after charger: -4.773959005888173e-15 elementary_charge\n"
     ]
    }
   ],
   "source": [
    "from polymerist.mdtools.openfftools.partialcharge.molchargers import (\n",
    "    NAGLCharger,  # requires having OpenFF NAGL installed\n",
    "    ABE10Charger, # requires having OpenEye toolkits installed and licensed\n",
    ")\n",
    "\n",
    "# choose your partial charge method here\n",
    "# charger = ABE10Charger() # NOTE: this method is unworkably slow for anything bigger than ~150 atoms; it is just placed here to indicate you COULD use AM1-BCC if desired\n",
    "charger = NAGLCharger()\n",
    "\n",
    "# assign partial charges\n",
    "logging.info(f'Partial charges initial: {pnipaam.partial_charges}') # to show you nothing is up my sleeve, we verify that the charges are unset prior to the invocation\n",
    "\n",
    "pnipaam_charged = charger.charge_molecule(pnipaam)\n",
    "logging.info(f'Recorded charge method: {pnipaam_charged.properties[\"charge_method\"]}')      # charge method is recorded for provenance\n",
    "logging.info(f'Net partial charge after charger: {pnipaam_charged.partial_charges.sum()}')  # logging.info just sum to aviod cluttering output with huge array\n",
    "\n",
    "pnipaam_charged_sdf = assemble_path(OUTPUT_DIR, 'PNIPAAm_charged', 'sdf')\n",
    "topology_to_sdf(pnipaam_charged_sdf, pnipaam_charged.to_topology()) # export the charged molecule to SDF"
   ]
  },
  {
   "cell_type": "markdown",
   "id": "1b281a87",
   "metadata": {},
   "source": [
    "## Including other molecules in your polymer system"
   ]
  },
  {
   "cell_type": "markdown",
   "id": "0419d1ff",
   "metadata": {},
   "source": [
    "### Coexistent polymers\n",
    "We demonstrate setting up a mix of polymers using the PNIPAAm from above and a poly(bisphenol A carbonate) (PBPA) that [I prepared earlier](https://tvtropes.org/pmwiki/pmwiki.php/Main/OneIPreparedEarlier)"
   ]
  },
  {
   "cell_type": "code",
   "execution_count": 11,
   "id": "78efde60",
   "metadata": {},
   "outputs": [
    {
     "name": "stdout",
     "output_type": "stream",
     "text": [
      "{'IUPAC name': 'poly(bisphenol A carbonate)', 'Common name': 'Makrolon', 'First patented': '1953-10-16', 'Patent holder': 'Hermann Schnell, Bayer AG', 'Patent No.': 'US-3028365', 'charge_method': 'NAGL'}\n"
     ]
    },
    {
     "data": {
      "application/vnd.jupyter.widget-view+json": {
       "model_id": "efa10d7eb0a347ee8a6e7962207c248f",
       "version_major": 2,
       "version_minor": 0
      },
      "text/plain": [
       "NGLWidget()"
      ]
     },
     "metadata": {},
     "output_type": "display_data"
    }
   ],
   "source": [
    "pbpa_prepared_sdf = assemble_path(EXAMPLE_DIR, 'PBPA', postfix='prepared', extension='sdf')\n",
    "assert pbpa_prepared_sdf.exists()\n",
    "\n",
    "pbpa_prepared_top = topology_from_sdf(pbpa_prepared_sdf)\n",
    "pbpa_prepared = get_largest_offmol(pbpa_prepared_top) # a useful trick for working with individual Molecules in a single-mol or solvated topology\n",
    "\n",
    "assert pbpa_prepared.partial_charges is not None\n",
    "print(pbpa_prepared.properties)\n",
    "pbpa_prepared.visualize(backend='nglview')"
   ]
  },
  {
   "cell_type": "markdown",
   "id": "c47249c1",
   "metadata": {},
   "source": [
    "`polymerist` ships with a lattice-based packer which makes it straightforward to \"tile\" multiple copies of a polymer (or many polymers) into a simulation box  \n",
    "The packer is flexible and allows you to position polymers in space via a set of \"lattice points\", which define where to center to coordinates of each copy of a conformer\n",
    "\n",
    "\n",
    "We demonstrate a simple PNIPAAm-PBPA \"3D checkerboard\" packing here, but the possibilities are only limited by your imagination (and ability to generate lattice points)"
   ]
  },
  {
   "cell_type": "code",
   "execution_count": 15,
   "id": "dffc1551",
   "metadata": {},
   "outputs": [
    {
     "data": {
      "application/vnd.jupyter.widget-view+json": {
       "model_id": "5fb704783d3c4387854126595a7b8fa1",
       "version_major": 2,
       "version_minor": 0
      },
      "text/plain": [
       "NGLWidget()"
      ]
     },
     "metadata": {},
     "output_type": "display_data"
    }
   ],
   "source": [
    "from itertools import product as cartesian\n",
    "import numpy as np\n",
    "\n",
    "from polymerist.mdtools.openfftools.physprops import effective_radius\n",
    "from polymerist.mdtools.openfftools.topology import topology_from_molecule_onto_lattice\n",
    "\n",
    "\n",
    "# set lattice size and polymers to place into lattice\n",
    "S : int = 3 # number of polymers to place along each axis (i.e., will have SxSxS alternating box of polymers)\n",
    "polymer_1 : Molecule = pnipaam_charged\n",
    "polymer_2 : Molecule = pbpa_prepared\n",
    "# load pre-prepared poly(bisphenol A carbonate) (PBPA) to use as coexistent polymer\n",
    "# generate cordinate for lattice; polymers wil be placed concentric to these lattice sites\n",
    "lattice_str = f'{S}x{S}x{S}'\n",
    "integer_lattice = np.array([int_point for int_point in cartesian(range(S), repeat=3)]) # the \"3\" is because we are in 3 dimensions\n",
    "is_odd_idx = np.mod(integer_lattice.sum(axis=1), 2).astype(bool) # analogous to the indices of either color in a 3D checkboard\n",
    "\n",
    "r_eff = max(effective_radius(polymer_1), effective_radius(polymer_2))\n",
    "lattice_points = (r_eff * integer_lattice).m_as('angstrom')  # scale by larger of effective radii to avoid collisions; strip units while ensuring magnitudes are as Angstroms\n",
    "\n",
    "pnipaam_top_packed   = topology_from_molecule_onto_lattice(polymer_1, lattice_points[~is_odd_idx])\n",
    "bisphenol_top_packed = topology_from_molecule_onto_lattice(polymer_2, lattice_points[is_odd_idx])\n",
    "mixed_polymer_top = pnipaam_top_packed + bisphenol_top_packed\n",
    "\n",
    "melt_name = f'{polymer_1.name}_{polymer_2.name}_{lattice_str}'\n",
    "melt_sdf_path = assemble_path(OUTPUT_DIR, f'{melt_name}_melt', 'sdf')\n",
    "topology_to_sdf(melt_sdf_path, mixed_polymer_top) # export the mixed polymer topology to SDF\n",
    "\n",
    "mixed_polymer_top.visualize()"
   ]
  },
  {
   "cell_type": "markdown",
   "id": "b3176d32",
   "metadata": {},
   "source": [
    "### Packing solvents\n",
    "`polymerist` also provides some utilities for simplifying packing of simulation boxes with a small molecule solvent  \n",
    "We provide you with pre-parameterized TIP3P water to use for packing to avoid expensive reparameterization downstream; other pre-parameterized solvents [are planned](https://github.com/timbernat/polymerist/issues/4) for future releases"
   ]
  },
  {
   "cell_type": "code",
   "execution_count": 16,
   "id": "c4702b47",
   "metadata": {},
   "outputs": [
    {
     "name": "stderr",
     "output_type": "stream",
     "text": [
      "INFO:polymerist.mdtools.openfftools.solvation.packing:Solvating 4973.719480415983 nm**3 Topology with 33253 water_TIP3P molecules to density of 0.2 g/(cm**3)\n",
      "INFO:polymerist.mdtools.openfftools.solvation.packing:Packmol packing converged\n",
      "INFO:polymerist.mdtools.openfftools.solvation.packing:Set solvated Topology box vectors to [[16.34311795020417 0.0 0.0] [0.0 17.050810161959074 0.0] [0.0 0.0 17.848484772094558]] nanometer\n"
     ]
    },
    {
     "data": {
      "application/vnd.jupyter.widget-view+json": {
       "model_id": "072af045c38345c1ab8e560606fba839",
       "version_major": 2,
       "version_minor": 0
      },
      "text/plain": [
       "NGLWidget()"
      ]
     },
     "metadata": {},
     "output_type": "display_data"
    }
   ],
   "source": [
    "from openmm.unit import gram, centimeter, nanometer, angstrom\n",
    "\n",
    "from polymerist.mdtools.openfftools import boxvectors\n",
    "from polymerist.mdtools.openfftools.solvation.solvents import water_TIP3P\n",
    "from polymerist.mdtools.openfftools.solvation.packing import pack_topology_with_solvent\n",
    "\n",
    "\n",
    "# set box properies here\n",
    "box_padding = 0.5 * nanometer     # how far beyond the tight bounding box of the polymer(s) to extend each box face\n",
    "rho = 0.2 * gram / centimeter**3  # low density here is to account for wide spacing of lattice melt, and so this demo doesn;t take forever to finish :P\n",
    "# rho = 0.997 * gram / centimeter**3\n",
    "solvent : Molecule = water_TIP3P \n",
    "\n",
    "# calculate periodic box vectors\n",
    "box_dims    = boxvectors.get_topology_bbox(mixed_polymer_top)\n",
    "box_vectors = boxvectors.box_vectors_flexible(box_dims)\n",
    "box_vectors = boxvectors.pad_box_vectors_uniform(box_vectors, box_padding)\n",
    "\n",
    "# calculate number of solvent molecules\n",
    "solvated_melt_topology = pack_topology_with_solvent(\n",
    "    mixed_polymer_top,\n",
    "    solvent=solvent,\n",
    "    box_vecs=box_vectors,\n",
    "    density=rho,\n",
    "    exclusion=box_padding,\n",
    ")\n",
    "solv_path = assemble_path(OUTPUT_DIR, melt_name, postfix=f'solv_{solvent.name}', extension='sdf')\n",
    "topology_to_sdf(solv_path, solvated_melt_topology)\n",
    "\n",
    "solvated_melt_topology.visualize()"
   ]
  },
  {
   "cell_type": "markdown",
   "id": "1254f7bd",
   "metadata": {},
   "source": [
    "## Setting periodic box and exporting with Interchange"
   ]
  },
  {
   "cell_type": "code",
   "execution_count": null,
   "id": "0664d76f",
   "metadata": {},
   "outputs": [],
   "source": []
  }
 ],
 "metadata": {
  "kernelspec": {
   "display_name": "polymerist-dev",
   "language": "python",
   "name": "python3"
  },
  "language_info": {
   "codemirror_mode": {
    "name": "ipython",
    "version": 3
   },
   "file_extension": ".py",
   "mimetype": "text/x-python",
   "name": "python",
   "nbconvert_exporter": "python",
   "pygments_lexer": "ipython3",
   "version": "3.11.0"
  }
 },
 "nbformat": 4,
 "nbformat_minor": 5
}
