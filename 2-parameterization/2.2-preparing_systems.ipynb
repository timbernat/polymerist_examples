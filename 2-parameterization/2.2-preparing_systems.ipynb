{
 "cells": [
  {
   "cell_type": "markdown",
   "id": "298360db",
   "metadata": {},
   "source": [
    "# Demo 2: parameterizing and packing polymer systems\n",
    "Here we show how to incorporate force field parameters, solvent admolecules, and other multiple polymers into Topology before exporting it to an MD engine "
   ]
  },
  {
   "cell_type": "code",
   "execution_count": 7,
   "id": "9ad3d395",
   "metadata": {},
   "outputs": [],
   "source": [
    "from pathlib import Path\n",
    "from polymerist.genutils.fileutils.pathutils import is_empty, assemble_path\n",
    "\n",
    "from openff.toolkit import Molecule, Topology # this import might take a sec the first time you run this cell\n",
    "\n",
    "\n",
    "EXAMPLE_DIR = Path('polymer_loading_examples')\n",
    "assert EXAMPLE_DIR.exists() and not is_empty(EXAMPLE_DIR)\n",
    "\n",
    "OUTPUT_DIR = Path('scratch') # dummy file for writing without tampering with example inputs\n",
    "OUTPUT_DIR.mkdir(exist_ok=True)"
   ]
  },
  {
   "cell_type": "markdown",
   "id": "5338ccb8",
   "metadata": {},
   "source": [
    "## Working on individual polymers\n",
    "For convenience, we've provided a pre-made example SDF for a poly(N-isopropylacrylamide) (PNIPAAm) polymer  \n",
    "NOTE: if you haven't already, please run through the [prior demo](2.1-topology_and_fragment.ipynb) to see what this file means and how to create your own"
   ]
  },
  {
   "cell_type": "code",
   "execution_count": 8,
   "id": "7bce0676",
   "metadata": {},
   "outputs": [
    {
     "data": {
      "application/vnd.jupyter.widget-view+json": {
       "model_id": "42a24d7d8d2c4ebb829afdc7f6ec7adf",
       "version_major": 2,
       "version_minor": 0
      },
      "text/plain": []
     },
     "metadata": {},
     "output_type": "display_data"
    },
    {
     "data": {
      "application/vnd.jupyter.widget-view+json": {
       "model_id": "81e24530b7174c13833777ea607f5ce4",
       "version_major": 2,
       "version_minor": 0
      },
      "text/plain": [
       "NGLWidget()"
      ]
     },
     "metadata": {},
     "output_type": "display_data"
    }
   ],
   "source": [
    "from polymerist.mdtools.openfftools.topology import topology_from_sdf, get_largest_offmol\n",
    "\n",
    "pnipaam_sdf = assemble_path(EXAMPLE_DIR, 'pnipaam', 'sdf')\n",
    "assert pnipaam_sdf.exists()\n",
    "\n",
    "pnipaam_top = topology_from_sdf(pnipaam_sdf)\n",
    "# pnipaam_top.visualize()\n",
    "pnipaam = get_largest_offmol(pnipaam_top) # a useful trick for working with individual Molecules in a single-mol or solvated topology\n",
    "pnipaam.visualize(backend='nglview')"
   ]
  },
  {
   "cell_type": "code",
   "execution_count": 9,
   "id": "93a62524",
   "metadata": {},
   "outputs": [
    {
     "name": "stdout",
     "output_type": "stream",
     "text": [
      "{'residue_name': 'pnipaam_TERM1', 'residue_number': 80, 'insertion_code': ' ', 'chain_id': ' ', 'match_info': '{\"27\": [\"pnipaam_MIDDLE\", 1], \"28\": [\"pnipaam_MIDDLE\", 1], \"80\": [\"pnipaam_TERM1\", 1]}', 'substructure_query_id': 1}\n",
      "{'residue_name': 'pnipaam_TERM1', 'residue_number': 80, 'insertion_code': ' ', 'chain_id': ' ', 'match_info': '{\"28\": [\"pnipaam_MIDDLE\", 2], \"80\": [\"pnipaam_TERM1\", 2]}', 'substructure_query_id': 2}\n",
      "{'residue_name': 'pnipaam_TERM1', 'residue_number': 80, 'insertion_code': ' ', 'chain_id': ' ', 'match_info': '{\"27\": [\"pnipaam_MIDDLE\", 19], \"28\": [\"pnipaam_MIDDLE\", 19], \"80\": [\"pnipaam_TERM1\", 19]}', 'substructure_query_id': 19}\n",
      "{'residue_name': 'pnipaam_TERM1', 'residue_number': 80, 'insertion_code': ' ', 'chain_id': ' ', 'match_info': '{\"27\": [\"pnipaam_MIDDLE\", 20], \"28\": [\"pnipaam_MIDDLE\", 20], \"80\": [\"pnipaam_TERM1\", 20]}', 'substructure_query_id': 20}\n",
      "{'residue_name': 'pnipaam_TERM1', 'residue_number': 80, 'insertion_code': ' ', 'chain_id': ' ', 'match_info': '{\"0\": [\"PEPTIDE_BOND\", 1], \"28\": [\"pnipaam_MIDDLE\", 4], \"80\": [\"pnipaam_TERM1\", 3]}', 'substructure_query_id': 3}\n",
      "{'residue_name': 'pnipaam_TERM1', 'residue_number': 80, 'insertion_code': ' ', 'chain_id': ' ', 'match_info': '{\"0\": [\"PEPTIDE_BOND\", 2], \"28\": [\"pnipaam_MIDDLE\", 5], \"80\": [\"pnipaam_TERM1\", 4]}', 'substructure_query_id': 4}\n",
      "{'residue_name': 'pnipaam_TERM1', 'residue_number': 80, 'insertion_code': ' ', 'chain_id': ' ', 'match_info': '{\"0\": [\"PEPTIDE_BOND\", 3], \"28\": [\"pnipaam_MIDDLE\", 6], \"80\": [\"pnipaam_TERM1\", 5]}', 'substructure_query_id': 5}\n",
      "{'residue_name': 'pnipaam_TERM1', 'residue_number': 80, 'insertion_code': ' ', 'chain_id': ' ', 'match_info': '{\"80\": [\"pnipaam_TERM1\", 17]}', 'substructure_query_id': 17}\n",
      "{'residue_name': 'pnipaam_TERM1', 'residue_number': 80, 'insertion_code': ' ', 'chain_id': ' ', 'match_info': '{\"0\": [\"PEPTIDE_BOND\", 5], \"28\": [\"pnipaam_MIDDLE\", 7], \"80\": [\"pnipaam_TERM1\", 6]}', 'substructure_query_id': 6}\n",
      "{'residue_name': 'pnipaam_TERM1', 'residue_number': 80, 'insertion_code': ' ', 'chain_id': ' ', 'match_info': '{\"0\": [\"PEPTIDE_BOND\", 4], \"28\": [\"pnipaam_MIDDLE\", 17], \"80\": [\"pnipaam_TERM1\", 16]}', 'substructure_query_id': 16}\n"
     ]
    }
   ],
   "source": [
    "# residue partition metadata is preserved by the SDF\n",
    "for atom in pnipaam.atoms[:10]: \n",
    "    print(atom.metadata)"
   ]
  },
  {
   "cell_type": "markdown",
   "id": "d54a31bc",
   "metadata": {},
   "source": [
    "### Custom metadata\n",
    "In principle, there's no limit to the kinds of data you can associate with a polymer, via the Molecule.properties field.  \n",
    "For example, here we insert patent info about PNIPAAm which you can verify is written after the chemical table in the resulting SDF"
   ]
  },
  {
   "cell_type": "code",
   "execution_count": 10,
   "metadata": {},
   "outputs": [],
   "source": [
    "from polymerist.mdtools.openfftools.topology import topology_to_sdf\n",
    "\n",
    "\n",
    "pnipaam.properties['IUPAC name'] = 'poly(N-isopropylacrylamide)'\n",
    "pnipaam.properties['First synthesized'] = '1956-12-04'\n",
    "pnipaam.properties['Patent No.'] = 'US-2773063-A'\n",
    "pnipaam.properties['Patent Holder'] = 'Edward H. Sprecht'\n",
    "\n",
    "sdf_path_annotated = assemble_path(OUTPUT_DIR, 'pnipaam_annotated', 'sdf')\n",
    "topology_to_sdf(sdf_path_annotated, pnipaam.to_topology()) # individual Molecule objects must be bundled into a topology before exporting to SDF"
   ]
  },
  {
   "cell_type": "markdown",
   "id": "c67abbf5",
   "metadata": {},
   "source": [
    "### Assigning [atomic partial charges](https://en.wikipedia.org/wiki/Partial_charge) to polymers\n",
    "This is a niche-but-vital step, as it governs the electrostatic interactions within and without the polymer chains which will eventually be realized in an molecular dynamics engine  \n",
    "This is a particularly difficult task for macromolecules, though speedy methods such as pretrained graph neural networks (GNNs) or [custom library charges](2.4-RCT_demo.ipynb) are available \n",
    "\n",
    "`polymerist` provides user-friendly hooks for various rapid partial charge wrappers (assuming you've installed one of the [parameterization toolkits](https://github.com/timbernat/polymerist?tab=readme-ov-file#2-parameterization-toolkits)).  \n",
    "These hook cache the resulting partial charge values and charging method directly to the Molecule's metadata, enabling tracking of provenance during simulation preparation\n"
   ]
  },
  {
   "cell_type": "code",
   "execution_count": 11,
   "id": "c1613b82",
   "metadata": {},
   "outputs": [
    {
     "data": {
      "text/plain": [
       "{'AM1-BCC-ELF10': polymerist.mdtools.openfftools.partialcharge.molchargers.ABE10Charger,\n",
       " 'Espaloma-AM1-BCC': polymerist.mdtools.openfftools.partialcharge.molchargers.EspalomaCharger,\n",
       " 'NAGL': polymerist.mdtools.openfftools.partialcharge.molchargers.NAGLCharger,\n",
       " 'RCT': polymerist.mdtools.openfftools.partialcharge.rescharge.interface.LibraryCharger}"
      ]
     },
     "execution_count": 11,
     "metadata": {},
     "output_type": "execute_result"
    }
   ],
   "source": [
    "from polymerist.mdtools.openfftools.partialcharge.molchargers import MolCharger\n",
    "from polymerist.mdtools.openfftools.partialcharge.rescharge import LibraryCharger\n",
    "\n",
    "MolCharger.subclass_registry # show which partial charge wrappers are available"
   ]
  },
  {
   "cell_type": "code",
   "execution_count": 12,
   "id": "4f2b5e3e",
   "metadata": {},
   "outputs": [
    {
     "name": "stdout",
     "output_type": "stream",
     "text": [
      "Partial charges initial: None\n",
      "NAGL\n",
      "Partial charges after charger:\n"
     ]
    },
    {
     "data": {
      "text/html": [
       "<table><tbody><tr><th>Magnitude</th><td style='text-align:left;'><pre>[-0.06823639536945565 -0.16009238327591166 0.0749236050740029<br> 0.0749236050740029 0.6729786399498726 -0.6046363707885002<br> -0.5853123065337394 0.061060563077047034 0.10563403402717368<br> 0.3044301572933938 -0.11142187530843957 0.042637046773746176<br> 0.042637046773746176 0.042637046773746176 -0.11142187530843957<br> 0.07013663684280173 0.042637046773746176 0.042637046773746176<br> 0.042637046773746176 -0.06131663883774026 -0.13314712012855753<br> 0.0684810135260369 0.0684810135260369 0.6769628528252388<br> -0.6001946922644829 -0.5837147232398247 0.0543913434937741<br> 0.10460396145732657 0.3055437508717324 -0.11168082023708566<br> 0.042634941984727545 0.042634941984727545 0.042634941984727545<br> -0.11168082023708566 0.06956110184343116 0.042634941984727545<br> 0.042634941984727545 0.042634941984727545 -0.05900550971476777<br> -0.13574449683277354 0.06816920672805564 0.06816920672805564<br> 0.6765162352219368 -0.600812434802935 -0.5851908322676872<br> 0.05642066930682914 0.10463348065765159 0.3054411116734292<br> -0.11168082023708566 0.042634941984727545 0.042634941984727545<br> 0.042634941984727545 -0.11168082023708566 0.06956110184343116<br> 0.042634941984727545 0.042634941984727545 0.042634941984727545<br> -0.059003799806520776 -0.13644057477562174 0.06816920672805564<br> 0.06816920672805564 0.6764400008812691 -0.600812434802935<br> -0.5851908322676872 0.05623807047755973 0.10463348065765159<br> 0.3054411116734292 -0.11168082023708566 0.042634941984727545<br> 0.042634941984727545 0.042634941984727545 -0.11168082023708566<br> 0.06956110184343116 0.042634941984727545 0.042634941984727545<br> 0.042634941984727545 -0.059003799806520776 -0.13644057477562174<br> 0.06816920672805564 0.06816920672805564 0.6764400008812691<br> -0.600812434802935 -0.5851908322676872 0.05623807047755973<br> 0.10463348065765159 0.3054411116734292 -0.11168082023708566<br> 0.042634941984727545 0.042634941984727545 0.042634941984727545<br> -0.11168082023708566 0.06956110184343116 0.042634941984727545<br> 0.042634941984727545 0.042634941984727545 -0.059003799806520776<br> -0.13644057477562174 0.06816920672805564 0.06816920672805564<br> 0.6764400008812691 -0.600812434802935 -0.5851908322676872<br> 0.05623807047755973 0.10463348065765159 0.3054411116734292<br> -0.11168082023708566 0.042634941984727545 0.042634941984727545<br> 0.042634941984727545 -0.11168082023708566 0.06956110184343116<br> 0.042634941984727545 0.042634941984727545 0.042634941984727545<br> -0.059003799806520776 -0.13644057477562174 0.06816920672805564<br> 0.06816920672805564 0.6764400008812691 -0.600812434802935<br> -0.5851908322676872 0.05623807047755973 0.10463348065765159<br> 0.3054411116734292 -0.11168082023708566 0.042634941984727545<br> 0.042634941984727545 0.042634941984727545 -0.11168082023708566<br> 0.06956110184343116 0.042634941984727545 0.042634941984727545<br> 0.042634941984727545 -0.059003799806520776 -0.13644057477562174<br> 0.06816920672805564 0.06816920672805564 0.6764400008812691<br> -0.600812434802935 -0.5851908322676872 0.05623807047755973<br> 0.10463348065765159 0.3054411116734292 -0.11168082023708566<br> 0.042634941984727545 0.042634941984727545 0.042634941984727545<br> -0.11168082023708566 0.06956110184343116 0.042634941984727545<br> 0.042634941984727545 0.042634941984727545 -0.059003799806520776<br> -0.13644057477562174 0.06816920672805564 0.06816920672805564<br> 0.6764400008812691 -0.600812434802935 -0.5851908322676872<br> 0.05623807047755973 0.10463348065765159 0.3054411116734292<br> -0.11168082023708566 0.042634941984727545 0.042634941984727545<br> 0.042634941984727545 -0.11168082023708566 0.06956110184343116<br> 0.042634941984727545 0.042634941984727545 0.042634941984727545<br> -0.059003799806520776 -0.13644057477562174 0.06816920672805564<br> 0.06816920672805564 0.6764400008812691 -0.600812434802935<br> -0.5851908322676872 0.05623807047755973 0.10463348065765159<br> 0.3054411116734292 -0.11168082023708566 0.042634941984727545<br> 0.042634941984727545 0.042634941984727545 -0.11168082023708566<br> 0.06956110184343116 0.042634941984727545 0.042634941984727545<br> 0.042634941984727545 -0.059003799806520776 -0.13644057477562174<br> 0.06816920672805564 0.06816920672805564 0.6764400008812691<br> -0.600812434802935 -0.5851908322676872 0.05623807047755973<br> 0.10463348065765159 0.3054411116734292 -0.11168082023708566<br> 0.042634941984727545 0.042634941984727545 0.042634941984727545<br> -0.11168082023708566 0.06956110184343116 0.042634941984727545<br> 0.042634941984727545 0.042634941984727545 -0.059003799806520776<br> -0.13644057477562174 0.06816920672805564 0.06816920672805564<br> 0.6764400008812691 -0.600812434802935 -0.5851908322676872<br> 0.05623807047755973 0.10463348065765159 0.3054411116734292<br> -0.11168082023708566 0.042634941984727545 0.042634941984727545<br> 0.042634941984727545 -0.11168082023708566 0.06956110184343116<br> 0.042634941984727545 0.042634941984727545 0.042634941984727545<br> -0.059003799806520776 -0.13644057477562174 0.06816920672805564<br> 0.06816920672805564 0.6764400008812691 -0.600812434802935<br> -0.5851908322676872 0.05623807047755973 0.10463348065765159<br> 0.3054411116734292 -0.11168082023708566 0.042634941984727545<br> 0.042634941984727545 0.042634941984727545 -0.11168082023708566<br> 0.06956110184343116 0.042634941984727545 0.042634941984727545<br> 0.042634941984727545 -0.059003799806520776 -0.13644057477562174<br> 0.06816920672805564 0.06816920672805564 0.6764400008812691<br> -0.600812434802935 -0.5851908322676872 0.05623807047755973<br> 0.10463348065765159 0.3054411116734292 -0.11168082023708566<br> 0.042634941984727545 0.042634941984727545 0.042634941984727545<br> -0.11168082023708566 0.06956110184343116 0.042634941984727545<br> 0.042634941984727545 0.042634941984727545 -0.059003799806520776<br> -0.13644057477562174 0.06816920672805564 0.06816920672805564<br> 0.6764400008812691 -0.600812434802935 -0.5851908322676872<br> 0.05623807047755973 0.10463348065765159 0.3054411116734292<br> -0.11168082023708566 0.042634941984727545 0.042634941984727545<br> 0.042634941984727545 -0.11168082023708566 0.06956110184343116<br> 0.042634941984727545 0.042634941984727545 0.042634941984727545<br> -0.059003799806520776 -0.13644057477562174 0.06816920672805564<br> 0.06816920672805564 0.6764400008812691 -0.600812434802935<br> -0.5851908322676872 0.05623807047755973 0.10463348065765159<br> 0.3054411116734292 -0.11168082023708566 0.042634941984727545<br> 0.042634941984727545 0.042634941984727545 -0.11168082023708566<br> 0.06956110184343116 0.042634941984727545 0.042634941984727545<br> 0.042634941984727545 -0.059003799806520776 -0.13644057477562174<br> 0.06816920672805564 0.06816920672805564 0.6764400008812691<br> -0.600812434802935 -0.5851908322676872 0.05623807047755973<br> 0.10463348065765159 0.3054411116734292 -0.11168082023708566<br> 0.042634941984727545 0.042634941984727545 0.042634941984727545<br> -0.11168082023708566 0.06956110184343116 0.042634941984727545<br> 0.042634941984727545 0.042634941984727545 -0.059003799806520776<br> -0.13644057477562174 0.06816920672805564 0.06816920672805564<br> 0.6764400008812691 -0.600812434802935 -0.5851908322676872<br> 0.05623807047755973 0.10463348065765159 0.3054411116734292<br> -0.11168082023708566 0.042634941984727545 0.042634941984727545<br> 0.042634941984727545 -0.11168082023708566 0.06956110184343116<br> 0.042634941984727545 0.042634941984727545 0.042634941984727545<br> -0.059003799806520776 -0.13644057477562174 0.06816920672805564<br> 0.06816920672805564 0.6764400008812691 -0.600812434802935<br> -0.5851908322676872 0.05623807047755973 0.10463348065765159<br> 0.3054411116734292 -0.11168082023708566 0.042634941984727545<br> 0.042634941984727545 0.042634941984727545 -0.11168082023708566<br> 0.06956110184343116 0.042634941984727545 0.042634941984727545<br> 0.042634941984727545 -0.059003799806520776 -0.13644057477562174<br> 0.06816920672805564 0.06816920672805564 0.6764400008812691<br> -0.600812434802935 -0.5851908322676872 0.05623807047755973<br> 0.10463348065765159 0.3054411116734292 -0.11168082023708566<br> 0.042634941984727545 0.042634941984727545 0.042634941984727545<br> -0.11168082023708566 0.06956110184343116 0.042634941984727545<br> 0.042634941984727545 0.042634941984727545 -0.059003799806520776<br> -0.13644057477562174 0.06816920672805564 0.06816920672805564<br> 0.6764400008812691 -0.600812434802935 -0.5851908322676872<br> 0.05623807047755973 0.10463348065765159 0.3054411116734292<br> -0.11168082023708566 0.042634941984727545 0.042634941984727545<br> 0.042634941984727545 -0.11168082023708566 0.06956110184343116<br> 0.042634941984727545 0.042634941984727545 0.042634941984727545<br> -0.059003799806520776 -0.13644057477562174 0.06816920672805564<br> 0.06816920672805564 0.6764400008812691 -0.600812434802935<br> -0.5851908322676872 0.05623807047755973 0.10463348065765159<br> 0.3054411116734292 -0.11168082023708566 0.042634941984727545<br> 0.042634941984727545 0.042634941984727545 -0.11168082023708566<br> 0.06956110184343116 0.042634941984727545 0.042634941984727545<br> 0.042634941984727545 -0.059003799806520776 -0.13644057477562174<br> 0.06816920672805564 0.06816920672805564 0.6764400008812691<br> -0.600812434802935 -0.5851908322676872 0.05623807047755973<br> 0.10463348065765159 0.3054411116734292 -0.11168082023708566<br> 0.042634941984727545 0.042634941984727545 0.042634941984727545<br> -0.11168082023708566 0.06956110184343116 0.042634941984727545<br> 0.042634941984727545 0.042634941984727545 -0.059003799806520776<br> -0.13644057477562174 0.06816920672805564 0.06816920672805564<br> 0.6764400008812691 -0.600812434802935 -0.5851908322676872<br> 0.05623807047755973 0.10463348065765159 0.3054411116734292<br> -0.11168082023708566 0.042634941984727545 0.042634941984727545<br> 0.042634941984727545 -0.11168082023708566 0.06956110184343116<br> 0.042634941984727545 0.042634941984727545 0.042634941984727545<br> -0.059064544390127496 -0.13615038956253275 0.06818202917726295<br> 0.06818202917726295 0.6764400008812691 -0.600812434802935<br> -0.5851908322676872 0.05623807047755973 0.10463348065765159<br> 0.3054411116734292 -0.11168082023708566 0.042634941984727545<br> 0.042634941984727545 0.042634941984727545 -0.11168082023708566<br> 0.06956110184343116 0.042634941984727545 0.042634941984727545<br> 0.042634941984727545 -0.062069248060867624 -0.13326048816292033<br> 0.06996753846557395 0.06996753846557395 0.6763990524903084<br> -0.6001941558226799 -0.5852662917479728 0.05538670753391044<br> 0.10463348065765159 0.3054411116734292 -0.11168082023708566<br> 0.042634941984727545 0.042634941984727545 0.042634941984727545<br> -0.11168082023708566 0.06956110184343116 0.042634941984727545<br> 0.042634941984727545 0.042634941984727545 -0.09048110211937173<br> -0.13528449798671946 0.04293334518821494 0.04293334518821494<br> 0.6703159812584664 -0.5998312231406425 -0.5828796621665214<br> 0.061071921487167044 0.10565318201930778 0.30189803277404564<br> -0.11142522061912759 0.042634941984727545 0.042634941984727545<br> 0.042634941984727545 -0.11142522061912759 0.06959810142667548<br> 0.042634941984727545 0.042634941984727545 0.042634941984727545<br> 0.061060563077047034 0.04293334518821494]</pre></td></tr><tr><th>Units</th><td style='text-align:left;'>elementary_charge</td></tr></tbody></table>"
      ],
      "text/latex": [
       "$\\begin{pmatrix} &  &  &  &  &  &  &  &  &  &  &  &  &  &  &  &  &  &  &  &  &  &  &  &  &  &  &  &  &  &  &  &  &  &  &  &  &  &  &  &  &  &  &  &  &  &  &  &  &  &  &  &  &  &  &  &  &  &  &  &  &  &  &  &  &  &  &  &  &  &  &  &  &  &  &  &  &  &  &  &  &  &  &  &  &  &  &  &  &  &  &  &  &  &  &  &  &  &  &  &  &  &  &  &  &  &  &  &  &  &  &  &  &  &  &  &  &  &  &  &  &  &  &  &  &  &  &  &  &  &  &  &  &  &  &  &  &  &  &  &  &  &  &  &  &  &  &  &  &  &  &  &  &  &  &  &  &  &  &  &  &  &  &  &  &  &  &  &  &  &  &  &  &  &  &  &  &  &  &  &  &  &  &  &  &  &  &  &  &  &  &  &  &  &  &  &  &  &  &  &  &  &  &  &  &  &  &  &  &  &  &  &  &  &  &  &  &  &  &  &  &  &  &  &  &  &  &  &  &  &  &  &  &  &  &  &  &  &  &  &  &  &  &  &  &  &  &  &  &  &  &  &  &  &  &  &  &  &  &  &  &  &  &  &  &  &  &  &  &  &  &  &  &  &  &  &  &  &  &  &  &  &  &  &  &  &  &  &  &  &  &  &  &  &  &  &  &  &  &  &  &  &  &  &  &  &  &  &  &  &  &  &  &  &  &  &  &  &  &  &  &  &  &  &  &  &  &  &  &  &  &  &  &  &  &  &  &  &  &  &  &  &  &  &  &  &  &  &  &  &  &  &  &  &  &  &  &  &  &  &  &  &  &  &  &  &  &  &  &  &  &  &  &  &  &  &  &  &  &  &  &  &  &  &  &  &  &  &  &  &  &  &  &  &  &  &  &  &  &  &  &  &  &  &  &  &  &  &  &  &  &  &  &  &  &  &  &  &  &  &  &  &  &  &  &  &  &  &  &  &  &  &  &  &  &  &  &  &  &  &  &  &  &  &  &  &  &  &  &  &  &  &  &  &  &  &  &  &  &  &  &  &  &  &  &  &  &  &  &  &  &  &  &  &  &  &  &  &  &  &  &  &  &  &  &  &  &  &  &  &  &  &  &  &  &  &  &  &  &  &  &  &  &  &  &  &  &  &  &  &  &  &  &  & \\end{pmatrix}\\ \\mathrm{elementary\\_charge}$"
      ],
      "text/plain": [
       "array([-0.0682364 , -0.16009238,  0.07492361,  0.07492361,  0.67297864,\n",
       "       -0.60463637, -0.58531231,  0.06106056,  0.10563403,  0.30443016,\n",
       "       -0.11142188,  0.04263705,  0.04263705,  0.04263705, -0.11142188,\n",
       "        0.07013664,  0.04263705,  0.04263705,  0.04263705, -0.06131664,\n",
       "       -0.13314712,  0.06848101,  0.06848101,  0.67696285, -0.60019469,\n",
       "       -0.58371472,  0.05439134,  0.10460396,  0.30554375, -0.11168082,\n",
       "        0.04263494,  0.04263494,  0.04263494, -0.11168082,  0.0695611 ,\n",
       "        0.04263494,  0.04263494,  0.04263494, -0.05900551, -0.1357445 ,\n",
       "        0.06816921,  0.06816921,  0.67651624, -0.60081243, -0.58519083,\n",
       "        0.05642067,  0.10463348,  0.30544111, -0.11168082,  0.04263494,\n",
       "        0.04263494,  0.04263494, -0.11168082,  0.0695611 ,  0.04263494,\n",
       "        0.04263494,  0.04263494, -0.0590038 , -0.13644057,  0.06816921,\n",
       "        0.06816921,  0.67644   , -0.60081243, -0.58519083,  0.05623807,\n",
       "        0.10463348,  0.30544111, -0.11168082,  0.04263494,  0.04263494,\n",
       "        0.04263494, -0.11168082,  0.0695611 ,  0.04263494,  0.04263494,\n",
       "        0.04263494, -0.0590038 , -0.13644057,  0.06816921,  0.06816921,\n",
       "        0.67644   , -0.60081243, -0.58519083,  0.05623807,  0.10463348,\n",
       "        0.30544111, -0.11168082,  0.04263494,  0.04263494,  0.04263494,\n",
       "       -0.11168082,  0.0695611 ,  0.04263494,  0.04263494,  0.04263494,\n",
       "       -0.0590038 , -0.13644057,  0.06816921,  0.06816921,  0.67644   ,\n",
       "       -0.60081243, -0.58519083,  0.05623807,  0.10463348,  0.30544111,\n",
       "       -0.11168082,  0.04263494,  0.04263494,  0.04263494, -0.11168082,\n",
       "        0.0695611 ,  0.04263494,  0.04263494,  0.04263494, -0.0590038 ,\n",
       "       -0.13644057,  0.06816921,  0.06816921,  0.67644   , -0.60081243,\n",
       "       -0.58519083,  0.05623807,  0.10463348,  0.30544111, -0.11168082,\n",
       "        0.04263494,  0.04263494,  0.04263494, -0.11168082,  0.0695611 ,\n",
       "        0.04263494,  0.04263494,  0.04263494, -0.0590038 , -0.13644057,\n",
       "        0.06816921,  0.06816921,  0.67644   , -0.60081243, -0.58519083,\n",
       "        0.05623807,  0.10463348,  0.30544111, -0.11168082,  0.04263494,\n",
       "        0.04263494,  0.04263494, -0.11168082,  0.0695611 ,  0.04263494,\n",
       "        0.04263494,  0.04263494, -0.0590038 , -0.13644057,  0.06816921,\n",
       "        0.06816921,  0.67644   , -0.60081243, -0.58519083,  0.05623807,\n",
       "        0.10463348,  0.30544111, -0.11168082,  0.04263494,  0.04263494,\n",
       "        0.04263494, -0.11168082,  0.0695611 ,  0.04263494,  0.04263494,\n",
       "        0.04263494, -0.0590038 , -0.13644057,  0.06816921,  0.06816921,\n",
       "        0.67644   , -0.60081243, -0.58519083,  0.05623807,  0.10463348,\n",
       "        0.30544111, -0.11168082,  0.04263494,  0.04263494,  0.04263494,\n",
       "       -0.11168082,  0.0695611 ,  0.04263494,  0.04263494,  0.04263494,\n",
       "       -0.0590038 , -0.13644057,  0.06816921,  0.06816921,  0.67644   ,\n",
       "       -0.60081243, -0.58519083,  0.05623807,  0.10463348,  0.30544111,\n",
       "       -0.11168082,  0.04263494,  0.04263494,  0.04263494, -0.11168082,\n",
       "        0.0695611 ,  0.04263494,  0.04263494,  0.04263494, -0.0590038 ,\n",
       "       -0.13644057,  0.06816921,  0.06816921,  0.67644   , -0.60081243,\n",
       "       -0.58519083,  0.05623807,  0.10463348,  0.30544111, -0.11168082,\n",
       "        0.04263494,  0.04263494,  0.04263494, -0.11168082,  0.0695611 ,\n",
       "        0.04263494,  0.04263494,  0.04263494, -0.0590038 , -0.13644057,\n",
       "        0.06816921,  0.06816921,  0.67644   , -0.60081243, -0.58519083,\n",
       "        0.05623807,  0.10463348,  0.30544111, -0.11168082,  0.04263494,\n",
       "        0.04263494,  0.04263494, -0.11168082,  0.0695611 ,  0.04263494,\n",
       "        0.04263494,  0.04263494, -0.0590038 , -0.13644057,  0.06816921,\n",
       "        0.06816921,  0.67644   , -0.60081243, -0.58519083,  0.05623807,\n",
       "        0.10463348,  0.30544111, -0.11168082,  0.04263494,  0.04263494,\n",
       "        0.04263494, -0.11168082,  0.0695611 ,  0.04263494,  0.04263494,\n",
       "        0.04263494, -0.0590038 , -0.13644057,  0.06816921,  0.06816921,\n",
       "        0.67644   , -0.60081243, -0.58519083,  0.05623807,  0.10463348,\n",
       "        0.30544111, -0.11168082,  0.04263494,  0.04263494,  0.04263494,\n",
       "       -0.11168082,  0.0695611 ,  0.04263494,  0.04263494,  0.04263494,\n",
       "       -0.0590038 , -0.13644057,  0.06816921,  0.06816921,  0.67644   ,\n",
       "       -0.60081243, -0.58519083,  0.05623807,  0.10463348,  0.30544111,\n",
       "       -0.11168082,  0.04263494,  0.04263494,  0.04263494, -0.11168082,\n",
       "        0.0695611 ,  0.04263494,  0.04263494,  0.04263494, -0.0590038 ,\n",
       "       -0.13644057,  0.06816921,  0.06816921,  0.67644   , -0.60081243,\n",
       "       -0.58519083,  0.05623807,  0.10463348,  0.30544111, -0.11168082,\n",
       "        0.04263494,  0.04263494,  0.04263494, -0.11168082,  0.0695611 ,\n",
       "        0.04263494,  0.04263494,  0.04263494, -0.0590038 , -0.13644057,\n",
       "        0.06816921,  0.06816921,  0.67644   , -0.60081243, -0.58519083,\n",
       "        0.05623807,  0.10463348,  0.30544111, -0.11168082,  0.04263494,\n",
       "        0.04263494,  0.04263494, -0.11168082,  0.0695611 ,  0.04263494,\n",
       "        0.04263494,  0.04263494, -0.0590038 , -0.13644057,  0.06816921,\n",
       "        0.06816921,  0.67644   , -0.60081243, -0.58519083,  0.05623807,\n",
       "        0.10463348,  0.30544111, -0.11168082,  0.04263494,  0.04263494,\n",
       "        0.04263494, -0.11168082,  0.0695611 ,  0.04263494,  0.04263494,\n",
       "        0.04263494, -0.0590038 , -0.13644057,  0.06816921,  0.06816921,\n",
       "        0.67644   , -0.60081243, -0.58519083,  0.05623807,  0.10463348,\n",
       "        0.30544111, -0.11168082,  0.04263494,  0.04263494,  0.04263494,\n",
       "       -0.11168082,  0.0695611 ,  0.04263494,  0.04263494,  0.04263494,\n",
       "       -0.0590038 , -0.13644057,  0.06816921,  0.06816921,  0.67644   ,\n",
       "       -0.60081243, -0.58519083,  0.05623807,  0.10463348,  0.30544111,\n",
       "       -0.11168082,  0.04263494,  0.04263494,  0.04263494, -0.11168082,\n",
       "        0.0695611 ,  0.04263494,  0.04263494,  0.04263494, -0.0590038 ,\n",
       "       -0.13644057,  0.06816921,  0.06816921,  0.67644   , -0.60081243,\n",
       "       -0.58519083,  0.05623807,  0.10463348,  0.30544111, -0.11168082,\n",
       "        0.04263494,  0.04263494,  0.04263494, -0.11168082,  0.0695611 ,\n",
       "        0.04263494,  0.04263494,  0.04263494, -0.0590038 , -0.13644057,\n",
       "        0.06816921,  0.06816921,  0.67644   , -0.60081243, -0.58519083,\n",
       "        0.05623807,  0.10463348,  0.30544111, -0.11168082,  0.04263494,\n",
       "        0.04263494,  0.04263494, -0.11168082,  0.0695611 ,  0.04263494,\n",
       "        0.04263494,  0.04263494, -0.0590038 , -0.13644057,  0.06816921,\n",
       "        0.06816921,  0.67644   , -0.60081243, -0.58519083,  0.05623807,\n",
       "        0.10463348,  0.30544111, -0.11168082,  0.04263494,  0.04263494,\n",
       "        0.04263494, -0.11168082,  0.0695611 ,  0.04263494,  0.04263494,\n",
       "        0.04263494, -0.05906454, -0.13615039,  0.06818203,  0.06818203,\n",
       "        0.67644   , -0.60081243, -0.58519083,  0.05623807,  0.10463348,\n",
       "        0.30544111, -0.11168082,  0.04263494,  0.04263494,  0.04263494,\n",
       "       -0.11168082,  0.0695611 ,  0.04263494,  0.04263494,  0.04263494,\n",
       "       -0.06206925, -0.13326049,  0.06996754,  0.06996754,  0.67639905,\n",
       "       -0.60019416, -0.58526629,  0.05538671,  0.10463348,  0.30544111,\n",
       "       -0.11168082,  0.04263494,  0.04263494,  0.04263494, -0.11168082,\n",
       "        0.0695611 ,  0.04263494,  0.04263494,  0.04263494, -0.0904811 ,\n",
       "       -0.1352845 ,  0.04293335,  0.04293335,  0.67031598, -0.59983122,\n",
       "       -0.58287966,  0.06107192,  0.10565318,  0.30189803, -0.11142522,\n",
       "        0.04263494,  0.04263494,  0.04263494, -0.11142522,  0.0695981 ,\n",
       "        0.04263494,  0.04263494,  0.04263494,  0.06106056,  0.04293335]) <Unit('elementary_charge')>"
      ]
     },
     "metadata": {},
     "output_type": "display_data"
    }
   ],
   "source": [
    "from polymerist.mdtools.openfftools.partialcharge.molchargers import (\n",
    "    NAGLCharger,  # requires having OpenFF NAGL installed\n",
    "    ABE10Charger, # requires having OpenEye toolkits installed and licensed\n",
    ")\n",
    "\n",
    "# choose your partial charge method here\n",
    "# charger = ABE10Charger() # NOTE: this method is unworkably slow for anything bigger than ~150 atoms; it is just placed here to indicate you COULD use AM1-BCC if desired\n",
    "\n",
    "# assign partial charges\n",
    "print('Partial charges initial:', pnipaam.partial_charges) # to show you nothing is up my sleeve, we verify that the charges are unset prior to the invocation\n",
    "\n",
    "charger = NAGLCharger()\n",
    "pnipaam_charged = charger.charge_molecule(pnipaam)\n",
    "print(pnipaam_charged.properties['charge_method']) # charge method is recorded for provenance\n",
    "print('Partial charges after charger:')\n",
    "display(pnipaam_charged.partial_charges)\n",
    "\n",
    "pnipaam_charged_sdf = assemble_path(OUTPUT_DIR, 'pnipaam_charged', 'sdf')\n",
    "topology_to_sdf(pnipaam_charged_sdf, pnipaam_charged.to_topology()) # export the charged molecule to SDF"
   ]
  },
  {
   "cell_type": "markdown",
   "id": "1b281a87",
   "metadata": {},
   "source": [
    "## Including other molecules in your polymer system"
   ]
  },
  {
   "cell_type": "markdown",
   "id": "0419d1ff",
   "metadata": {},
   "source": [
    "### Coexistent polymers\n",
    "`polymerist` ships with a lattice-based packer which makes it straightforward to \"tile\" multiple copies of a polymer into a simulation box  \n",
    "The packer is flexible and allows you to specify where copies of each polymer are placed in space\n",
    "\n",
    "We demonstrate a simple \"3D checkerboard\" here with PNIPAAM and a bisphenol A (BPA) that [I prepared earlier](https://tvtropes.org/pmwiki/pmwiki.php/Main/OneIPreparedEarlier), but the possibilities are only limited by your imagination"
   ]
  },
  {
   "cell_type": "code",
   "execution_count": 13,
   "id": "78efde60",
   "metadata": {},
   "outputs": [
    {
     "data": {
      "application/vnd.jupyter.widget-view+json": {
       "model_id": "8e0b292d3693463e8e1d5968960da8f0",
       "version_major": 2,
       "version_minor": 0
      },
      "text/plain": [
       "NGLWidget()"
      ]
     },
     "metadata": {},
     "output_type": "display_data"
    }
   ],
   "source": [
    "# load pre-prepared BPA to use as coexistent polymer\n",
    "bisphenol_sdf = assemble_path(EXAMPLE_DIR, 'bisphenolA', 'sdf')\n",
    "assert bisphenol_sdf.exists()\n",
    "\n",
    "bisphenol_top = topology_from_sdf(bisphenol_sdf)\n",
    "# bisphenol_top.visualize()\n",
    "bisphenol = get_largest_offmol(bisphenol_top) # a useful trick for working with individual Molecules in a single-mol or solvated topology\n",
    "bisphenol_charged = charger.charge_molecule(bisphenol) # charge the bisphenol A molecule\n",
    "\n",
    "bisphenol_charged.visualize(backend='nglview')"
   ]
  },
  {
   "cell_type": "code",
   "execution_count": 46,
   "id": "dffc1551",
   "metadata": {},
   "outputs": [
    {
     "data": {
      "application/vnd.jupyter.widget-view+json": {
       "model_id": "20099907a11b439fbca5f4e0b1ba34c9",
       "version_major": 2,
       "version_minor": 0
      },
      "text/plain": [
       "NGLWidget()"
      ]
     },
     "metadata": {},
     "output_type": "display_data"
    }
   ],
   "source": [
    "from itertools import product as cartesian\n",
    "import numpy as np\n",
    "\n",
    "from polymerist.mdtools.openfftools.physprops import effective_radius\n",
    "from polymerist.mdtools.openfftools.topology import topology_from_molecule_onto_lattice\n",
    "\n",
    "\n",
    "S : int = 5 # number of polymers to place along each axis (i.e., will have SxSxS alternating box of polymers)\n",
    "lattice_str = f'{S}x{S}x{S}'\n",
    "\n",
    "integer_lattice = np.array([int_point for int_point in cartesian(range(S), repeat=3)]) # the \"3\" is because we are in 3 dimensions\n",
    "is_odd_idx = np.mod(integer_lattice.sum(axis=1), 2).astype(bool) # analogous to the indices of either color in a 3D checkboard\n",
    "r_eff = max(effective_radius(pnipaam_charged), effective_radius(bisphenol_charged))\n",
    "lattice_points = (r_eff * integer_lattice).m_as('angstrom')  # scale by larger of effective radii to avoid collisions; strip units while ensuring magnitudes are as Angstroms\n",
    "\n",
    "pnipaam_top_packed   = topology_from_molecule_onto_lattice(pnipaam_charged, lattice_points[~is_odd_idx])\n",
    "bisphenol_top_packed = topology_from_molecule_onto_lattice(bisphenol_charged, lattice_points[is_odd_idx])\n",
    "mixed_polymer_top = pnipaam_top_packed + bisphenol_top_packed\n",
    "\n",
    "melt_sdf_path = assemble_path(OUTPUT_DIR, f'PNIPAAm-BPA_{lattice_str}_melt', 'sdf')\n",
    "topology_to_sdf(melt_sdf_path, mixed_polymer_top) # export the mixed polymer topology to SDF\n",
    "\n",
    "mixed_polymer_top.visualize()"
   ]
  },
  {
   "cell_type": "markdown",
   "id": "b3176d32",
   "metadata": {},
   "source": [
    "### Packing solvents"
   ]
  },
  {
   "cell_type": "code",
   "execution_count": null,
   "id": "c4702b47",
   "metadata": {},
   "outputs": [],
   "source": []
  },
  {
   "cell_type": "markdown",
   "id": "1254f7bd",
   "metadata": {},
   "source": [
    "## Setting periodic box and exporting with Interchange"
   ]
  },
  {
   "cell_type": "code",
   "execution_count": null,
   "id": "0664d76f",
   "metadata": {},
   "outputs": [],
   "source": []
  }
 ],
 "metadata": {
  "kernelspec": {
   "display_name": "polymerist-dev",
   "language": "python",
   "name": "python3"
  },
  "language_info": {
   "codemirror_mode": {
    "name": "ipython",
    "version": 3
   },
   "file_extension": ".py",
   "mimetype": "text/x-python",
   "name": "python",
   "nbconvert_exporter": "python",
   "pygments_lexer": "ipython3",
   "version": "3.11.0"
  }
 },
 "nbformat": 4,
 "nbformat_minor": 5
}
