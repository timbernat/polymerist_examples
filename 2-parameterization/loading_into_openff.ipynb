{
 "cells": [
  {
   "cell_type": "code",
   "execution_count": 1,
   "id": "f77a5a81",
   "metadata": {},
   "outputs": [
    {
     "data": {
      "text/plain": [
       "True"
      ]
     },
     "execution_count": 1,
     "metadata": {},
     "output_type": "execute_result"
    }
   ],
   "source": [
    "from pathlib import Path\n",
    "\n",
    "p = Path('../cleaned_structures')\n",
    "p.exists()"
   ]
  },
  {
   "cell_type": "code",
   "execution_count": 2,
   "id": "6ecbc021",
   "metadata": {},
   "outputs": [
    {
     "data": {
      "text/plain": [
       "[PosixPath('../cleaned_structures/monos'),\n",
       " PosixPath('../cleaned_structures/SDF'),\n",
       " PosixPath('../cleaned_structures/pdbs'),\n",
       " PosixPath('../cleaned_structures/pdbs_loadable.csv'),\n",
       " PosixPath('../cleaned_structures/pdb_inventory.csv')]"
      ]
     },
     "execution_count": 2,
     "metadata": {},
     "output_type": "execute_result"
    }
   ],
   "source": [
    "list(p.iterdir())"
   ]
  }
 ],
 "metadata": {
  "kernelspec": {
   "display_name": "polymerist-dev",
   "language": "python",
   "name": "python3"
  },
  "language_info": {
   "codemirror_mode": {
    "name": "ipython",
    "version": 3
   },
   "file_extension": ".py",
   "mimetype": "text/x-python",
   "name": "python",
   "nbconvert_exporter": "python",
   "pygments_lexer": "ipython3",
   "version": "3.11.0"
  }
 },
 "nbformat": 4,
 "nbformat_minor": 5
}
