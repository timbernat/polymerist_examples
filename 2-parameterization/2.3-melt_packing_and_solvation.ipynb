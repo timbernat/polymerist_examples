{
 "cells": [
  {
   "cell_type": "markdown",
   "id": "7af6fdb5",
   "metadata": {},
   "source": [
    "# Demo 3: Including other molecules in your polymer system\n",
    "Most often one wants to study not the dynamics of just one polymer, but of its interactions with a surrounding solvent and with other polymers  \n",
    "Here we show how to use polymerist tools to build systems with both coexistent polymers and small-molecule solvents"
   ]
  },
  {
   "cell_type": "code",
   "execution_count": null,
   "id": "05457bab",
   "metadata": {},
   "outputs": [],
   "source": [
    "import logging\n",
    "logging.basicConfig(level=logging.INFO)\n",
    "\n",
    "from pathlib import Path\n",
    "from polymerist.genutils.fileutils.pathutils import is_empty, assemble_path\n",
    "\n",
    "\n",
    "EXAMPLE_DIR = Path('polymer_loading_examples')\n",
    "assert EXAMPLE_DIR.exists() and not is_empty(EXAMPLE_DIR)\n",
    "\n",
    "OUTPUT_DIR = Path('scratch') # dummy directory for writing without tampering with example inputs\n",
    "OUTPUT_DIR.mkdir(exist_ok=True)"
   ]
  },
  {
   "cell_type": "code",
   "execution_count": null,
   "id": "87b73870",
   "metadata": {},
   "outputs": [
    {
     "name": "stderr",
     "output_type": "stream",
     "text": [
      "INFO:rdkit:Enabling RDKit 2023.09.6 jupyter extensions\n"
     ]
    }
   ],
   "source": [
    "from openff.toolkit import Molecule, Topology # this import might take a sec the first time you run this cell"
   ]
  },
  {
   "cell_type": "markdown",
   "id": "759b2317",
   "metadata": {},
   "source": [
    "## Coexistent polymers\n",
    "`polymerist` ships with a lattice-based packer which makes it straightforward to \"tile\" multiple copies of a polymer (or many polymers) into a simulation box  \n",
    "The packer is flexible and allows you to position polymers in space via a set of \"lattice points\", which define where to center to coordinates of each copy of a conformer\n",
    "\n",
    "We demonstrate setting up a loosely-packed alternating lattice of two polymers (PNIPAAm and PBPA) that [I prepared for you earlier](https://tvtropes.org/pmwiki/pmwiki.php/Main/OneIPreparedEarlier)"
   ]
  },
  {
   "cell_type": "code",
   "execution_count": null,
   "id": "d9e4c065",
   "metadata": {},
   "outputs": [],
   "source": [
    "from polymerist.mdtools.openfftools.topology import topology_to_sdf, topology_from_sdf, get_largest_offmol"
   ]
  },
  {
   "cell_type": "markdown",
   "id": "d6d1fa01",
   "metadata": {},
   "source": [
    "### Polymer 1: poly(N-isopropylacrylamide) (PNIPAAm)"
   ]
  },
  {
   "cell_type": "code",
   "execution_count": null,
   "id": "49e8e6b9",
   "metadata": {},
   "outputs": [],
   "source": [
    "pbpa_prepared_sdf = assemble_path(EXAMPLE_DIR, 'PBPA', postfix='prepared', extension='sdf')\n",
    "assert pbpa_prepared_sdf.exists()\n",
    "pbpa_prepared_top = topology_from_sdf(pbpa_prepared_sdf)\n",
    "\n",
    "pbpa_prepared = get_largest_offmol(pbpa_prepared_top) # a useful trick for working with individual Molecules in a single-mol or solvated topology\n",
    "assert pbpa_prepared.partial_charges is not None\n",
    "\n",
    "print(pbpa_prepared.properties)\n",
    "pbpa_prepared.visualize(backend='nglview')"
   ]
  },
  {
   "cell_type": "markdown",
   "id": "765c7887",
   "metadata": {},
   "source": [
    "### Polymer 2 : poly(bisphenol A carbonate) (PBPA)"
   ]
  },
  {
   "cell_type": "code",
   "execution_count": null,
   "id": "1b7a838d",
   "metadata": {},
   "outputs": [],
   "source": [
    "pnipaam_prepared_sdf = assemble_path(EXAMPLE_DIR, 'PNIPAAm', postfix='prepared', extension='sdf')\n",
    "assert pnipaam_prepared_sdf.exists()\n",
    "pnipaam_prepared_top = topology_from_sdf(pnipaam_prepared_sdf)\n",
    "\n",
    "pnipaam_prepared = get_largest_offmol(pnipaam_prepared_top) # a useful trick for working with individual Molecules in a single-mol or solvated topology\n",
    "assert pnipaam_prepared.partial_charges is not None\n",
    "\n",
    "print(pnipaam_prepared.properties)\n",
    "pnipaam_prepared.visualize(backend='nglview')"
   ]
  },
  {
   "cell_type": "markdown",
   "id": "4e460fd4",
   "metadata": {},
   "source": [
    "### Assigning lattice sites and packing copies of each polymer"
   ]
  },
  {
   "cell_type": "code",
   "execution_count": null,
   "id": "5de3aeb0",
   "metadata": {},
   "outputs": [],
   "source": [
    "S : int = 3 # number of polymers to place along each axis (i.e., will have SxSxS alternating box of polymers)\n",
    "polymer_1 : Molecule = pnipaam_prepared\n",
    "polymer_2 : Molecule = pbpa_prepared"
   ]
  },
  {
   "cell_type": "code",
   "execution_count": null,
   "id": "6e88d4d1",
   "metadata": {},
   "outputs": [],
   "source": [
    "import numpy as np\n",
    "from itertools import product as cartesian\n",
    "from polymerist.mdtools.openfftools.physprops import effective_radius\n",
    "\n",
    "\n",
    "# generate cordinate for lattice; polymers wil be placed concentric to these lattice sites\n",
    "lattice_str = f'{S}x{S}x{S}'\n",
    "integer_lattice = np.array([int_point for int_point in cartesian(range(S), repeat=3)]) # the \"3\" is because we are in 3 dimensions\n",
    "is_odd_idx = np.mod(integer_lattice.sum(axis=1), 2).astype(bool) # analogous to the indices of either color in a 3D checkboard\n",
    "\n",
    "r_eff = max(effective_radius(polymer_1), effective_radius(polymer_2))   # scale by larger of effective radii to avoid collisions;\n",
    "lattice_points = (r_eff * integer_lattice).m_as('angstrom')             # strip units while ensuring magnitudes are as Angstroms"
   ]
  },
  {
   "cell_type": "code",
   "execution_count": null,
   "id": "af7a0cbe",
   "metadata": {},
   "outputs": [],
   "source": [
    "from polymerist.mdtools.openfftools.topology import topology_from_molecule_onto_lattice\n",
    "\n",
    "\n",
    "pnipaam_top_packed   = topology_from_molecule_onto_lattice(polymer_1, lattice_points[~is_odd_idx])\n",
    "bisphenol_top_packed = topology_from_molecule_onto_lattice(polymer_2, lattice_points[is_odd_idx])\n",
    "mixed_polymer_top = pnipaam_top_packed + bisphenol_top_packed\n",
    "mixed_polymer_top.visualize()"
   ]
  },
  {
   "cell_type": "code",
   "execution_count": null,
   "id": "b70cbc24",
   "metadata": {},
   "outputs": [],
   "source": [
    "melt_name = f'{polymer_1.name}_{polymer_2.name}_{lattice_str}'\n",
    "melt_sdf_path = assemble_path(OUTPUT_DIR, f'{melt_name}_melt', 'sdf')\n",
    "topology_to_sdf(melt_sdf_path, mixed_polymer_top) # export the mixed polymer topology to SDF"
   ]
  },
  {
   "cell_type": "markdown",
   "id": "79da9a23",
   "metadata": {},
   "source": [
    "## Packing solvents\n",
    "`polymerist` also provides some utilities for simplifying packing of simulation boxes with a small molecule solvent\n",
    "\n",
    "The solvent can in principle be any Molecule from which you've obtained partial charges for from your method of choice  \n",
    "The latter condition is important for avoiding expensive reparameterization downstream, which OpenFF will attempt if charges are not provided\n",
    "\n",
    "Here, we provide you with pre-parameterized TIP3P water to use for packing to ; other pre-parameterized solvents [are planned](https://github.com/timbernat/polymerist/issues/4) for future releases"
   ]
  },
  {
   "cell_type": "code",
   "execution_count": null,
   "id": "0f7e0032",
   "metadata": {},
   "outputs": [],
   "source": [
    "from openmm.unit import gram, centimeter, nanometer, angstrom\n",
    "from polymerist.mdtools.openfftools.solvation.solvents import water_TIP3P\n",
    "\n",
    "\n",
    "# set box properies here\n",
    "box_padding = 0.5 * nanometer     # how far beyond the tight bounding box of the polymer(s) to extend each box face\n",
    "rho = 0.2 * gram / centimeter**3  # low density here is to account for wide spacing of lattice melt, and so this demo doesn;t take forever to finish :P\n",
    "# rho = 0.997 * gram / centimeter**3\n",
    "solvent : Molecule = water_TIP3P "
   ]
  },
  {
   "cell_type": "markdown",
   "id": "f6021b10",
   "metadata": {},
   "source": [
    "### Calculate periodic box vectors based on chosen box size"
   ]
  },
  {
   "cell_type": "code",
   "execution_count": null,
   "id": "b07e793b",
   "metadata": {},
   "outputs": [],
   "source": [
    "# calculate periodic box vectors\n",
    "from polymerist.mdtools.openfftools import boxvectors\n",
    "\n",
    "\n",
    "box_dims    = boxvectors.get_topology_bbox(mixed_polymer_top)\n",
    "box_vectors = boxvectors.box_vectors_flexible(box_dims)\n",
    "box_vectors = boxvectors.pad_box_vectors_uniform(box_vectors, box_padding)"
   ]
  },
  {
   "cell_type": "markdown",
   "id": "03078e16",
   "metadata": {},
   "source": [
    "### Generate and save solvated Topology"
   ]
  },
  {
   "cell_type": "code",
   "execution_count": null,
   "id": "9a2011a0",
   "metadata": {},
   "outputs": [],
   "source": [
    "from polymerist.mdtools.openfftools.solvation.packing import pack_topology_with_solvent\n",
    "\n",
    "\n",
    "solvated_melt_topology = pack_topology_with_solvent(\n",
    "    mixed_polymer_top,\n",
    "    solvent=solvent,\n",
    "    box_vecs=box_vectors,\n",
    "    density=rho,\n",
    "    exclusion=box_padding,\n",
    ")\n",
    "solvated_melt_topology.visualize()"
   ]
  },
  {
   "cell_type": "code",
   "execution_count": null,
   "id": "453968bc",
   "metadata": {},
   "outputs": [],
   "source": [
    "solv_path = assemble_path(OUTPUT_DIR, melt_name, postfix=f'solv_{solvent.name}', extension='sdf')\n",
    "topology_to_sdf(solv_path, solvated_melt_topology)"
   ]
  },
  {
   "cell_type": "code",
   "execution_count": null,
   "id": "8f8329c2",
   "metadata": {},
   "outputs": [],
   "source": []
  }
 ],
 "metadata": {
  "language_info": {
   "name": "python"
  }
 },
 "nbformat": 4,
 "nbformat_minor": 5
}
