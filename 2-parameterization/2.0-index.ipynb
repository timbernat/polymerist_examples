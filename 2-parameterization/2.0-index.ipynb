{
 "cells": [
  {
   "cell_type": "markdown",
   "id": "cc9f19db",
   "metadata": {},
   "source": [
    "# Polymer system assembly"
   ]
  },
  {
   "cell_type": "markdown",
   "id": "8aeeed1d",
   "metadata": {
    "vscode": {
     "languageId": "plaintext"
    }
   },
   "source": [
    "Once you have your hands on an polymer structure (either via the `polymerist`-enabled techniques demonstrated in the [polymerization demos](../1-polymerization/0-index.ipynb) or obtained from elsewhere),  \n",
    "you'll want to use it to prepare a polymer system before exporting to simulation, complete with atomic partial charges, solvent, and other polymers, as desired\n",
    "\n",
    "`polymerist` is built to interface with the [Open Force Field Toolkit](https://docs.openforcefield.org/en/latest/), [OpenMM](https://openmm.org/), and other MD-adjacent toolkits to facilite this process.  \n",
    "Here we show how to accomplish several basic system assembly tasks, namely:\n",
    "* [2.1 - Loading a polymer structure into OpenFF](2.1-loading_polymer_topology.ipynb)\n",
    "* [2.2 - Polymer metadata and partial charge assignment](2.2-preparing_individual_polymers.ipynb)\n",
    "* [2.3 - Solvation and packing of polymer melts](2.3-melt_packing_and_solvation.ipynb)\n",
    "* [2.4 - Reduction Charge Transfer (RCT) for generating custom library charges](2.4-RCT_demo.ipynb)"
   ]
  }
 ],
 "metadata": {
  "language_info": {
   "name": "python"
  }
 },
 "nbformat": 4,
 "nbformat_minor": 5
}
