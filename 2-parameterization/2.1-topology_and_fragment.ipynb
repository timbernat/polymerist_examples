{
 "cells": [
  {
   "cell_type": "markdown",
   "id": "8372733f",
   "metadata": {},
   "source": [
    "Given a polymer structure file, a researcher interested in running moecular dynamics simulations will be highly interested  \n",
    "in parameterizing this structure and using it to generate MD input files for their dynamics engine of choice.   \n",
    "\n",
    "Here I show how to do this with polymerist toolks and the extremely useful [OpenFF Toolkit](https://docs.openforcefield.org/projects/toolkit/en/stable/)\n",
    "\n",
    "\n",
    "We opt for the \"here's one I made earlier\" approach taken by cooking shows and provide you with some pre-made polymer structure and repeat units fragments  \n",
    "However, you are highly encouraged to peruse the [polymerization demos](../1-polymerization/0-index.ipynb) if you haven't already, as these teach you how to make your own from scratch  "
   ]
  },
  {
   "cell_type": "code",
   "execution_count": null,
   "id": "1a2c72ff",
   "metadata": {},
   "outputs": [],
   "source": [
    "from pathlib import Path\n",
    "\n",
    "from openff.toolkit import Topology\n",
    "from polymerist.polymers.monomers import MonomerGroup\n",
    "from polymerist.mdtools.openfftools.partition import partition\n",
    "\n",
    "\n",
    "example_dir = Path('pnipaam_example')\n",
    "fragment_file  = example_dir / 'pnipaam.json'\n",
    "structure_file = example_dir / 'pnipaam.pdb'\n",
    "\n",
    "assert fragment_file.exists()\n",
    "assert structure_file.exists()\n"
   ]
  },
  {
   "cell_type": "code",
   "execution_count": null,
   "id": "aa134944",
   "metadata": {},
   "outputs": [],
   "source": [
    "monogrp = MonomerGroup.from_file(fragment_file)\n",
    "offtop = Topology.from_pdb(structure_file, _custom_substructures=monogrp.monomers)\n",
    "offtop.visualize()"
   ]
  },
  {
   "cell_type": "code",
   "execution_count": null,
   "id": "be160c1d",
   "metadata": {},
   "outputs": [],
   "source": [
    "from itertools import islice\n",
    "\n",
    "for atom in islice(offtop.atoms, 19):\n",
    "    print(atom.metadata['residue_name'], atom.metadata['match_info'])"
   ]
  },
  {
   "cell_type": "code",
   "execution_count": null,
   "id": "630cf1a8",
   "metadata": {},
   "outputs": [],
   "source": [
    "was_partitioned = partition(offtop)\n",
    "assert was_partitioned\n",
    "\n",
    "resname : str = \"pnipaam_TERM1\"\n",
    "display(monogrp.rdmols()[resname][0])\n",
    "for atom in offtop.atoms:\n",
    "    if atom.metadata['residue_name'] == resname:\n",
    "        print(atom.metadata['match_info'], atom.metadata['substructure_query_id'])"
   ]
  },
  {
   "cell_type": "code",
   "execution_count": null,
   "id": "09cfa97e",
   "metadata": {},
   "outputs": [],
   "source": [
    "from polymerist.mdtools.openfftools.topology import topology_to_sdf, topology_from_sdf, get_largest_offmol\n",
    "\n",
    "offmol = get_largest_offmol(offtop)\n",
    "offmol.visualize(backend='nglview')\n",
    "\n",
    "offmol.properties['IUPAC name'] = 'poly(N-isopropylacrylamide)'\n",
    "offmol.properties['First synthesized'] = '1956-12-04'\n",
    "offmol.properties['Patent No.'] = 'US-2773063-A'\n",
    "offmol.properties['Patent Holder'] = 'Edward H. Sprecht'\n",
    "offmol.properties['Description'] = 'A trifling little pile of atoms'\n",
    "\n",
    "topology_to_sdf(example_dir / 'pnipaam.sdf', offmol.to_topology())"
   ]
  },
  {
   "cell_type": "code",
   "execution_count": null,
   "id": "b02ffc5a",
   "metadata": {},
   "outputs": [],
   "source": []
  },
  {
   "cell_type": "code",
   "execution_count": null,
   "id": "5bd5aa4b",
   "metadata": {},
   "outputs": [],
   "source": []
  }
 ],
 "metadata": {
  "kernelspec": {
   "display_name": "polymerist-dev",
   "language": "python",
   "name": "python3"
  },
  "language_info": {
   "codemirror_mode": {
    "name": "ipython",
    "version": 3
   },
   "file_extension": ".py",
   "mimetype": "text/x-python",
   "name": "python",
   "nbconvert_exporter": "python",
   "pygments_lexer": "ipython3",
   "version": "3.11.0"
  }
 },
 "nbformat": 4,
 "nbformat_minor": 5
}
