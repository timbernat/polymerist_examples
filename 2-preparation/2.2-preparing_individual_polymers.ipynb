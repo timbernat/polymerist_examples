{
 "cells": [
  {
   "cell_type": "markdown",
   "id": "298360db",
   "metadata": {},
   "source": [
    "# Demo 2: Handling individual polymers\n",
    "This demo shows how to extract individual polymers fom chemically-complete topologies and  \n",
    "assign them arbitrary metadata, including atomic partial charges, for use in polymer system preparation"
   ]
  },
  {
   "cell_type": "code",
   "execution_count": 1,
   "id": "9ad3d395",
   "metadata": {},
   "outputs": [],
   "source": [
    "import logging\n",
    "logging.basicConfig(level=logging.INFO)\n",
    "\n",
    "from pathlib import Path\n",
    "from polymerist.genutils.fileutils.pathutils import is_empty, assemble_path\n",
    "\n",
    "\n",
    "EXAMPLE_DIR = Path('polymer_loading_examples')\n",
    "assert EXAMPLE_DIR.exists() and not is_empty(EXAMPLE_DIR)\n",
    "\n",
    "OUTPUT_DIR = Path('scratch') # dummy directory for writing without tampering with example inputs\n",
    "OUTPUT_DIR.mkdir(exist_ok=True)"
   ]
  },
  {
   "cell_type": "code",
   "execution_count": 2,
   "id": "8962a054",
   "metadata": {},
   "outputs": [
    {
     "name": "stderr",
     "output_type": "stream",
     "text": [
      "INFO:rdkit:Enabling RDKit 2023.09.6 jupyter extensions\n"
     ]
    }
   ],
   "source": [
    "from openff.toolkit import Molecule, Topology # this import might take a sec the first time you run this cell"
   ]
  },
  {
   "cell_type": "markdown",
   "id": "5338ccb8",
   "metadata": {},
   "source": [
    "## Extracting individual polymer Molecules from a Topology\n",
    "For convenience, we've provided a pre-made example SDF for a poly(N-isopropylacrylamide) (PNIPAAm) polymer  \n",
    "NOTE: if you haven't already, please run through the [prior demo](2.1-topology_and_fragment.ipynb) to see what this file means and how to create your own"
   ]
  },
  {
   "cell_type": "code",
   "execution_count": 3,
   "id": "7bce0676",
   "metadata": {},
   "outputs": [
    {
     "name": "stderr",
     "output_type": "stream",
     "text": [
      "/home/timber/miniconda3/envs/polymerist-env/lib/python3.11/site-packages/smirnoff99frosst/smirnoff99frosst.py:11: UserWarning: pkg_resources is deprecated as an API. See https://setuptools.pypa.io/en/latest/pkg_resources.html. The pkg_resources package is slated for removal as early as 2025-11-30. Refrain from using this package or pin to Setuptools<81.\n",
      "  from pkg_resources import resource_filename\n",
      "INFO:numexpr.utils:Note: NumExpr detected 20 cores but \"NUMEXPR_MAX_THREADS\" not set, so enforcing safe limit of 16.\n",
      "INFO:numexpr.utils:NumExpr defaulting to 16 threads.\n"
     ]
    },
    {
     "data": {
      "application/vnd.jupyter.widget-view+json": {
       "model_id": "ee9ab71181e54940950efcd7ce043d7a",
       "version_major": 2,
       "version_minor": 0
      },
      "text/plain": []
     },
     "metadata": {},
     "output_type": "display_data"
    },
    {
     "data": {
      "application/vnd.jupyter.widget-view+json": {
       "model_id": "05cf9fac00d347fd9df8e2ef6db6e29a",
       "version_major": 2,
       "version_minor": 0
      },
      "text/plain": [
       "NGLWidget()"
      ]
     },
     "metadata": {},
     "output_type": "display_data"
    }
   ],
   "source": [
    "from polymerist.mdtools.openfftools.topology import topology_from_sdf, get_largest_offmol\n",
    "\n",
    "\n",
    "pnipaam_sdf = assemble_path(EXAMPLE_DIR, 'PNIPAAm', 'sdf')\n",
    "assert pnipaam_sdf.exists()\n",
    "\n",
    "pnipaam_top = topology_from_sdf(pnipaam_sdf)\n",
    "pnipaam = get_largest_offmol(pnipaam_top) # a useful trick for working with individual Molecules in a single-mol or solvated topology\n",
    "pnipaam.visualize(backend='nglview')"
   ]
  },
  {
   "cell_type": "markdown",
   "id": "d54a31bc",
   "metadata": {},
   "source": [
    "## Custom metadata\n",
    "In principle, there's no limit to the kinds of data you can associate with a polymer, via the Molecule.properties field.  \n",
    "For example, here we insert patent info about PNIPAAm which you can verify is written after the chemical table in the resulting SDF"
   ]
  },
  {
   "cell_type": "code",
   "execution_count": 4,
   "metadata": {},
   "outputs": [],
   "source": [
    "from polymerist.mdtools.openfftools.topology import topology_to_sdf\n",
    "\n",
    "\n",
    "pnipaam.name = 'PNIPAAm' # OpenFF Molecules also have a dedicated \"name\" attribute to give you molecules convenience handles\n",
    "pnipaam.properties['IUPAC name'] = 'poly(N-isopropylacrylamide)'\n",
    "pnipaam.properties['Common name'] = 'PNIPAAm'\n",
    "pnipaam.properties['First patented'] = '1956-12-04'\n",
    "pnipaam.properties['Patent holder'] = 'Edward H. Sprecht'\n",
    "pnipaam.properties['Patent No.'] = 'US-2773063-A'\n",
    "\n",
    "sdf_path_annotated = assemble_path(OUTPUT_DIR, 'PNIPAAm_annotated', 'sdf')\n",
    "topology_to_sdf(sdf_path_annotated, pnipaam.to_topology()) # individual Molecule objects must be bundled into a topology before exporting to SDF"
   ]
  },
  {
   "cell_type": "markdown",
   "id": "c67abbf5",
   "metadata": {},
   "source": [
    "## Assigning [atomic partial charges](https://en.wikipedia.org/wiki/Partial_charge) to polymers\n",
    "This is a niche-but-vital step, as it governs the electrostatic interactions within and without the polymer chains which will eventually be realized in an molecular dynamics engine  \n",
    "This is a particularly difficult task for macromolecules, though speedy methods such as pretrained graph neural networks (GNNs) or [custom library charges](2.4-RCT_demo.ipynb) are available \n",
    "\n",
    "`polymerist` provides user-friendly hooks for various rapid partial charge wrappers (assuming you've installed one of the [parameterization toolkits](https://github.com/timbernat/polymerist?tab=readme-ov-file#2-parameterization-toolkits)).  \n",
    "These hook cache the resulting partial charge values and charging method directly to the Molecule's metadata, enabling tracking of provenance during simulation preparation\n"
   ]
  },
  {
   "cell_type": "code",
   "execution_count": 5,
   "id": "c1613b82",
   "metadata": {},
   "outputs": [
    {
     "data": {
      "text/plain": [
       "{'AM1-BCC-ELF10': polymerist.mdtools.openfftools.partialcharge.molchargers.ABE10Charger,\n",
       " 'Espaloma-AM1-BCC': polymerist.mdtools.openfftools.partialcharge.molchargers.EspalomaCharger,\n",
       " 'NAGL': polymerist.mdtools.openfftools.partialcharge.molchargers.NAGLCharger,\n",
       " 'RCT': polymerist.mdtools.openfftools.partialcharge.rescharge.interface.LibraryCharger}"
      ]
     },
     "execution_count": 5,
     "metadata": {},
     "output_type": "execute_result"
    }
   ],
   "source": [
    "from polymerist.mdtools.openfftools.partialcharge.molchargers import MolCharger\n",
    "from polymerist.mdtools.openfftools.partialcharge.rescharge import LibraryCharger\n",
    "\n",
    "MolCharger.subclass_registry # show which partial charge wrappers are available"
   ]
  },
  {
   "cell_type": "code",
   "execution_count": 6,
   "id": "4f2b5e3e",
   "metadata": {},
   "outputs": [
    {
     "name": "stderr",
     "output_type": "stream",
     "text": [
      "INFO:root:Partial charges initial: None\n",
      "INFO:polymerist.mdtools.openfftools.partialcharge.molchargers:Assigning partial charges via the \"NAGL\" method\n",
      "INFO:openff.nagl.nn._models:Could not find property in lookup table: 'Could not find property value for molecule with InChI InChI=1/C162H299N27O27/c1-83(2)163-136(190)57-56-111(138(192)165-85(5)6)59-113(140(194)167-87(9)10)61-115(142(196)169-89(13)14)63-117(144(198)171-91(17)18)65-119(146(200)173-93(21)22)67-121(148(202)175-95(25)26)69-123(150(204)177-97(29)30)71-125(152(206)179-99(33)34)73-127(154(208)181-101(37)38)75-129(156(210)183-103(41)42)77-131(158(212)185-105(45)46)79-133(160(214)187-107(49)50)81-135(162(216)189-109(53)54)82-134(161(215)188-108(51)52)80-132(159(213)186-106(47)48)78-130(157(211)184-104(43)44)76-128(155(209)182-102(39)40)74-126(153(207)180-100(35)36)72-124(151(205)178-98(31)32)70-122(149(203)176-96(27)28)68-120(147(201)174-94(23)24)66-118(145(199)172-92(19)20)64-116(143(197)170-90(15)16)62-114(141(195)168-88(11)12)60-112(139(193)166-86(7)8)58-110(55)137(191)164-84(3)4/h83-135H,56-82H2,1-55H3,(H,163,190)(H,164,191)(H,165,192)(H,166,193)(H,167,194)(H,168,195)(H,169,196)(H,170,197)(H,171,198)(H,172,199)(H,173,200)(H,174,201)(H,175,202)(H,176,203)(H,177,204)(H,178,205)(H,179,206)(H,180,207)(H,181,208)(H,182,209)(H,183,210)(H,184,211)(H,185,212)(H,186,213)(H,187,214)(H,188,215)(H,189,216)/t110-,111-,112-,113+,114-,115-,116-,117-,118-,119+,120+,121+,122-,123+,124-,125+,126-,127+,128-,129+,130-,131+,132-,133+,134+,135+/m0/s1/f/h163-189H'\n",
      "INFO:polymerist.mdtools.openfftools.partialcharge.molchargers:Successfully assigned \"NAGL\" charges\n",
      "INFO:root:Recorded charge method: NAGL\n",
      "INFO:root:Net partial charge after charger: -4.773959005888173e-15 elementary_charge\n"
     ]
    }
   ],
   "source": [
    "from polymerist.mdtools.openfftools.partialcharge.molchargers import (\n",
    "    NAGLCharger,  # requires having OpenFF NAGL installed\n",
    "    ABE10Charger, # requires having OpenEye toolkits installed and licensed\n",
    ")\n",
    "\n",
    "# choose your partial charge method here\n",
    "# charger = ABE10Charger() # NOTE: this method is unworkably slow for anything bigger than ~150 atoms; it is just placed here to indicate you COULD use AM1-BCC if desired\n",
    "charger = NAGLCharger()\n",
    "\n",
    "# assign partial charges\n",
    "logging.info(f'Partial charges initial: {pnipaam.partial_charges}') # to show you nothing is up my sleeve, we verify that the charges are unset prior to the invocation\n",
    "\n",
    "pnipaam_charged = charger.charge_molecule(pnipaam)\n",
    "logging.info(f'Recorded charge method: {pnipaam_charged.properties[\"charge_method\"]}')      # charge method is recorded for provenance\n",
    "logging.info(f'Net partial charge after charger: {pnipaam_charged.partial_charges.sum()}')  # logging.info just sum to aviod cluttering output with huge array\n",
    "\n",
    "pnipaam_charged_sdf = assemble_path(OUTPUT_DIR, 'PNIPAAm_charged', 'sdf')\n",
    "topology_to_sdf(pnipaam_charged_sdf, pnipaam_charged.to_topology()) # export the charged molecule to SDF"
   ]
  },
  {
   "cell_type": "code",
   "execution_count": null,
   "id": "0664d76f",
   "metadata": {},
   "outputs": [],
   "source": []
  }
 ],
 "metadata": {
  "kernelspec": {
   "display_name": "polymerist-env",
   "language": "python",
   "name": "python3"
  },
  "language_info": {
   "codemirror_mode": {
    "name": "ipython",
    "version": 3
   },
   "file_extension": ".py",
   "mimetype": "text/x-python",
   "name": "python",
   "nbconvert_exporter": "python",
   "pygments_lexer": "ipython3",
   "version": "3.11.13"
  }
 },
 "nbformat": 4,
 "nbformat_minor": 5
}
