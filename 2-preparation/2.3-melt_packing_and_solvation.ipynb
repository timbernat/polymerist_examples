{
 "cells": [
  {
   "cell_type": "markdown",
   "id": "7af6fdb5",
   "metadata": {},
   "source": [
    "# Demo 3: Including other molecules in your polymer system\n",
    "Most often one wants to study not the dynamics of just one polymer, but of its interactions with a surrounding solvent and with other polymers  \n",
    "This demo shows how to use polymerist tools to build systems with both coexistent polymers and small-molecule solvents"
   ]
  },
  {
   "cell_type": "code",
   "execution_count": 1,
   "id": "05457bab",
   "metadata": {},
   "outputs": [],
   "source": [
    "import logging\n",
    "logging.basicConfig(level=logging.INFO)\n",
    "\n",
    "from pathlib import Path\n",
    "from polymerist.genutils.fileutils.pathutils import is_empty, assemble_path\n",
    "\n",
    "\n",
    "EXAMPLE_DIR = Path('polymer_loading_examples')\n",
    "assert EXAMPLE_DIR.exists() and not is_empty(EXAMPLE_DIR)\n",
    "\n",
    "OUTPUT_DIR = Path('scratch') # dummy directory for writing without tampering with example inputs\n",
    "OUTPUT_DIR.mkdir(exist_ok=True)"
   ]
  },
  {
   "cell_type": "markdown",
   "id": "13c9945f",
   "metadata": {},
   "source": [
    "## Packing solvents\n",
    "`polymerist` provides some utilities for simplifying packing of simulation boxes with a small molecule solvent\n",
    "\n",
    "The solvent can in principle be any Molecule from which you've obtained partial charges for from your method of choice  \n",
    "The latter condition is important for avoiding expensive reparameterization downstream, which OpenFF will attempt if charges are not provided\n",
    "\n",
    "Here, we provide you with pre-parameterized TIP3P water to use for packing; other pre-parameterized solvents [are planned](https://github.com/timbernat/polymerist/issues/4) for future releases"
   ]
  },
  {
   "cell_type": "code",
   "execution_count": 2,
   "id": "8ed3fd2e",
   "metadata": {},
   "outputs": [
    {
     "name": "stderr",
     "output_type": "stream",
     "text": [
      "INFO:rdkit:Enabling RDKit 2023.09.6 jupyter extensions\n",
      "/home/timber/miniconda3/envs/polymerist-dev/lib/python3.11/site-packages/smirnoff99frosst/smirnoff99frosst.py:11: UserWarning: pkg_resources is deprecated as an API. See https://setuptools.pypa.io/en/latest/pkg_resources.html. The pkg_resources package is slated for removal as early as 2025-11-30. Refrain from using this package or pin to Setuptools<81.\n",
      "  from pkg_resources import resource_filename\n",
      "INFO:numexpr.utils:Note: NumExpr detected 20 cores but \"NUMEXPR_MAX_THREADS\" not set, so enforcing safe limit of 16.\n",
      "INFO:numexpr.utils:NumExpr defaulting to 16 threads.\n"
     ]
    }
   ],
   "source": [
    "from polymerist.mdtools.openfftools.topology import topology_to_sdf, topology_from_sdf, get_largest_offmol"
   ]
  },
  {
   "cell_type": "markdown",
   "id": "2bc807f2",
   "metadata": {},
   "source": [
    "### Load pre-prepared polymer (PNIPAAm)"
   ]
  },
  {
   "cell_type": "code",
   "execution_count": 3,
   "id": "f995f184",
   "metadata": {},
   "outputs": [
    {
     "name": "stdout",
     "output_type": "stream",
     "text": [
      "{'IUPAC name': 'poly(N-isopropylacrylamide)', 'Common name': 'PNIPAAm', 'First patented': '1956-12-04', 'Patent holder': 'Edward H. Sprecht', 'Patent No.': 'US-2773063-A', 'charge_method': 'NAGL'}\n"
     ]
    },
    {
     "data": {
      "application/vnd.jupyter.widget-view+json": {
       "model_id": "4e56d34af7874c79a870949547e9fe4d",
       "version_major": 2,
       "version_minor": 0
      },
      "text/plain": []
     },
     "metadata": {},
     "output_type": "display_data"
    },
    {
     "data": {
      "application/vnd.jupyter.widget-view+json": {
       "model_id": "6568bb92955845d7aae9025a992bf05f",
       "version_major": 2,
       "version_minor": 0
      },
      "text/plain": [
       "NGLWidget()"
      ]
     },
     "metadata": {},
     "output_type": "display_data"
    }
   ],
   "source": [
    "pnipaam_prepared_sdf = assemble_path(EXAMPLE_DIR, 'PNIPAAm', postfix='prepared', extension='sdf')\n",
    "assert pnipaam_prepared_sdf.exists()\n",
    "pnipaam_prepared_top = topology_from_sdf(pnipaam_prepared_sdf)\n",
    "\n",
    "pnipaam_prepared = get_largest_offmol(pnipaam_prepared_top) # a useful trick for working with individual Molecules in a single-mol or solvated topology\n",
    "assert pnipaam_prepared.partial_charges is not None\n",
    "\n",
    "print(pnipaam_prepared.properties)\n",
    "pnipaam_prepared.visualize(backend='nglview')"
   ]
  },
  {
   "cell_type": "markdown",
   "id": "cbfdfd32",
   "metadata": {},
   "source": [
    "### Set periodic box for system"
   ]
  },
  {
   "cell_type": "code",
   "execution_count": 4,
   "id": "1be3503a",
   "metadata": {},
   "outputs": [],
   "source": [
    "from openmm.unit import nanometer\n",
    "from openff.toolkit import Molecule\n",
    "from polymerist.mdtools.openfftools.boxvectors import get_topology_bbox, pad_box_vectors_uniform\n",
    "\n",
    "\n",
    "box_padding = 0.5 * nanometer      # how far beyond the tight bounding box of the polymer(s) to extend each box face\n",
    "box_vectors = pad_box_vectors_uniform(\n",
    "    get_topology_bbox(pnipaam_prepared_top),\n",
    "    pad_amount=box_padding,\n",
    ")"
   ]
  },
  {
   "cell_type": "markdown",
   "id": "61da0691",
   "metadata": {},
   "source": [
    "### Pack box with solvent of choice to desired density and save solvated Topology"
   ]
  },
  {
   "cell_type": "code",
   "execution_count": 5,
   "id": "c8bf37d9",
   "metadata": {},
   "outputs": [
    {
     "name": "stderr",
     "output_type": "stream",
     "text": [
      "INFO:polymerist.mdtools.openfftools.solvation.packing:Solvating 58.53939345701369 nm**3 Topology with 1951 water_TIP3P molecules to density of 0.997 g/(cm**3)\n",
      "INFO:polymerist.mdtools.openfftools.solvation.packing:Packmol packing converged\n",
      "INFO:polymerist.mdtools.openfftools.solvation.packing:Set solvated Topology box vectors to [[3.3314000129699703 0.0 0.0] [0.0 4.1878999710083 0.0] [0.0 0.0 4.1959000587463375]] nanometer\n"
     ]
    },
    {
     "data": {
      "application/vnd.jupyter.widget-view+json": {
       "model_id": "9f903a76baff4c7991440d665d35af25",
       "version_major": 2,
       "version_minor": 0
      },
      "text/plain": [
       "NGLWidget()"
      ]
     },
     "metadata": {},
     "output_type": "display_data"
    }
   ],
   "source": [
    "from openmm.unit import gram, centimeter\n",
    "from polymerist.mdtools.openfftools.solvation.solvents import water_TIP3P\n",
    "from polymerist.mdtools.openfftools.solvation.packing import pack_topology_with_solvent\n",
    "\n",
    "\n",
    "rho = 0.997 * gram / centimeter**3 # approximate density of water at 25 C, 1 atm\n",
    "solvent : Molecule = water_TIP3P   # replace this with your pre-parameterized small molecule of choice, if water is not desired\n",
    "\n",
    "solvated_polymer_topology = pack_topology_with_solvent(\n",
    "    pnipaam_prepared_top,\n",
    "    solvent=solvent,\n",
    "    box_vecs=box_vectors,\n",
    "    density=rho,\n",
    ")\n",
    "solvated_polymer_topology.visualize()"
   ]
  },
  {
   "cell_type": "code",
   "execution_count": 6,
   "id": "9b4370f4",
   "metadata": {},
   "outputs": [],
   "source": [
    "solv_path = assemble_path(OUTPUT_DIR, pnipaam_prepared.name, postfix=f'solv_{solvent.name}', extension='sdf')\n",
    "topology_to_sdf(solv_path, solvated_polymer_topology)"
   ]
  },
  {
   "cell_type": "markdown",
   "id": "759b2317",
   "metadata": {},
   "source": [
    "## Coexistent polymers (polymer melts)\n",
    "`polymerist` ships with a lattice-based packer which makes it straightforward to \"tile\" multiple copies of a polymer (or many polymers) into a simulation box  \n",
    "The packer is flexible and allows you to position polymers in space via a set of \"lattice points\", which define where to center to coordinates of each copy of a conformer\n",
    "\n",
    "We demonstrate setting up a loosely-packed alternating lattice of two polymers (PNIPAAm and PBPA) that [I prepared for you earlier](https://tvtropes.org/pmwiki/pmwiki.php/Main/OneIPreparedEarlier)"
   ]
  },
  {
   "cell_type": "markdown",
   "id": "d6d1fa01",
   "metadata": {},
   "source": [
    "### Polymer 1: poly(N-isopropylacrylamide) (PNIPAAm)\n",
    "We already loaded this one for the solvation demo earlier"
   ]
  },
  {
   "cell_type": "code",
   "execution_count": 7,
   "id": "4e90787d",
   "metadata": {},
   "outputs": [
    {
     "data": {
      "application/vnd.jupyter.widget-view+json": {
       "model_id": "b830304f34784c368ef1a389c6cabd5b",
       "version_major": 2,
       "version_minor": 0
      },
      "text/plain": [
       "NGLWidget()"
      ]
     },
     "metadata": {},
     "output_type": "display_data"
    }
   ],
   "source": [
    "pnipaam_prepared.visualize(backend='nglview')"
   ]
  },
  {
   "cell_type": "markdown",
   "id": "765c7887",
   "metadata": {},
   "source": [
    "### Polymer 2 : poly(bisphenol A carbonate) (PBPA)"
   ]
  },
  {
   "cell_type": "code",
   "execution_count": 8,
   "id": "4435895a",
   "metadata": {},
   "outputs": [
    {
     "name": "stdout",
     "output_type": "stream",
     "text": [
      "{'IUPAC name': 'poly(bisphenol A carbonate)', 'Common name': 'Makrolon', 'First patented': '1953-10-16', 'Patent holder': 'Hermann Schnell, Bayer AG', 'Patent No.': 'US-3028365', 'charge_method': 'NAGL'}\n"
     ]
    },
    {
     "data": {
      "application/vnd.jupyter.widget-view+json": {
       "model_id": "8899b369394a4f72a9cf7537445bdccd",
       "version_major": 2,
       "version_minor": 0
      },
      "text/plain": [
       "NGLWidget()"
      ]
     },
     "metadata": {},
     "output_type": "display_data"
    }
   ],
   "source": [
    "pbpa_prepared_sdf = assemble_path(EXAMPLE_DIR, 'PBPA', postfix='prepared', extension='sdf')\n",
    "assert pbpa_prepared_sdf.exists()\n",
    "pbpa_prepared_top = topology_from_sdf(pbpa_prepared_sdf)\n",
    "\n",
    "pbpa_prepared = get_largest_offmol(pbpa_prepared_top) # a useful trick for working with individual Molecules in a single-mol or solvated topology\n",
    "assert pbpa_prepared.partial_charges is not None\n",
    "\n",
    "print(pbpa_prepared.properties)\n",
    "pbpa_prepared.visualize(backend='nglview')"
   ]
  },
  {
   "cell_type": "markdown",
   "id": "4e460fd4",
   "metadata": {},
   "source": [
    "### Sizing lattice and calculating site locations"
   ]
  },
  {
   "cell_type": "code",
   "execution_count": 9,
   "id": "5de3aeb0",
   "metadata": {},
   "outputs": [],
   "source": [
    "S : int = 3 # number of polymers to place along each axis (i.e., will have SxSxS alternating box of polymers)\n",
    "polymer_1 : Molecule = pnipaam_prepared\n",
    "polymer_2 : Molecule = pbpa_prepared"
   ]
  },
  {
   "cell_type": "code",
   "execution_count": 10,
   "id": "6e88d4d1",
   "metadata": {},
   "outputs": [],
   "source": [
    "import numpy as np\n",
    "from itertools import product as cartesian\n",
    "from polymerist.mdtools.openfftools.physprops import effective_radius\n",
    "\n",
    "\n",
    "# generate cordinate for lattice; polymers wil be placed concentric to these lattice sites\n",
    "lattice_str = f'{S}x{S}x{S}'\n",
    "integer_lattice = np.array([int_point for int_point in cartesian(range(S), repeat=3)]) # the \"3\" is because we are in 3 dimensions\n",
    "is_odd_idx = np.mod(integer_lattice.sum(axis=1), 2).astype(bool) # analogous to the indices of either color in a 3D checkboard\n",
    "\n",
    "r_eff = max(effective_radius(polymer_1), effective_radius(polymer_2))   # scale by larger of effective radii to avoid collisions;\n",
    "lattice_points = (r_eff * integer_lattice).m_as('angstrom')             # strip units while ensuring magnitudes are as Angstroms"
   ]
  },
  {
   "cell_type": "markdown",
   "id": "2e534c8a",
   "metadata": {},
   "source": [
    "### Packing each polymer onto alternating lattice sites"
   ]
  },
  {
   "cell_type": "code",
   "execution_count": 11,
   "id": "af7a0cbe",
   "metadata": {},
   "outputs": [
    {
     "data": {
      "application/vnd.jupyter.widget-view+json": {
       "model_id": "ecf76278a13240bd8247902ff6105f61",
       "version_major": 2,
       "version_minor": 0
      },
      "text/plain": [
       "NGLWidget()"
      ]
     },
     "metadata": {},
     "output_type": "display_data"
    }
   ],
   "source": [
    "from polymerist.mdtools.openfftools.topology import topology_from_molecule_onto_lattice\n",
    "\n",
    "\n",
    "pnipaam_top_packed   = topology_from_molecule_onto_lattice(polymer_1, lattice_points[~is_odd_idx])\n",
    "bisphenol_top_packed = topology_from_molecule_onto_lattice(polymer_2, lattice_points[is_odd_idx])\n",
    "mixed_polymer_top = pnipaam_top_packed + bisphenol_top_packed\n",
    "mixed_polymer_top.visualize()"
   ]
  },
  {
   "cell_type": "code",
   "execution_count": 15,
   "id": "b70cbc24",
   "metadata": {},
   "outputs": [],
   "source": [
    "melt_name = f'{polymer_1.name}_{polymer_2.name}_{lattice_str}'\n",
    "melt_sdf_path = assemble_path(OUTPUT_DIR, f'{melt_name}_melt', 'sdf')\n",
    "topology_to_sdf(melt_sdf_path, mixed_polymer_top) # export the mixed polymer topology to SDF"
   ]
  },
  {
   "cell_type": "markdown",
   "id": "79da9a23",
   "metadata": {},
   "source": [
    "## Solvated polymer melts\n",
    "In fact, there's no reason we can't _also_ solvate a packed melt using the methods we've already shown!"
   ]
  },
  {
   "cell_type": "code",
   "execution_count": 16,
   "id": "0f7e0032",
   "metadata": {},
   "outputs": [
    {
     "name": "stderr",
     "output_type": "stream",
     "text": [
      "INFO:polymerist.mdtools.openfftools.solvation.packing:Solvating 5075.43250307511 nm**3 Topology with 33933 water_TIP3P molecules to density of 0.2 g/(cm**3)\n"
     ]
    },
    {
     "name": "stderr",
     "output_type": "stream",
     "text": [
      "INFO:polymerist.mdtools.openfftools.solvation.packing:Packmol packing converged\n",
      "INFO:polymerist.mdtools.openfftools.solvation.packing:Set solvated Topology box vectors to [[17.286203772801315 0.0 0.0] [0.0 16.25189441312063 0.0] [0.0 0.0 18.066309093960562]] nanometer\n"
     ]
    },
    {
     "data": {
      "application/vnd.jupyter.widget-view+json": {
       "model_id": "87dcd50d60bf496fba6289575e0cac17",
       "version_major": 2,
       "version_minor": 0
      },
      "text/plain": [
       "NGLWidget()"
      ]
     },
     "metadata": {},
     "output_type": "display_data"
    }
   ],
   "source": [
    "box_padding = 0.5 * nanometer # typical nonbonded cutoffs are around 0.9 nm, so this 0.5 on either side of the box ensures our polymers don't self-interact\n",
    "rho = 0.2 * gram / centimeter**3 # low density here is to account for wide spacing of lattice melt, and so this demo doesn't take forever to finish :P\n",
    "solvent : Molecule = water_TIP3P\n",
    "\n",
    "box_vectors = pad_box_vectors_uniform(get_topology_bbox(mixed_polymer_top), box_padding)\n",
    "solvated_melt_topology = pack_topology_with_solvent(\n",
    "    mixed_polymer_top,\n",
    "    solvent=solvent,\n",
    "    box_vecs=box_vectors,\n",
    "    density=rho,\n",
    ")\n",
    "solvated_melt_topology.visualize()"
   ]
  },
  {
   "cell_type": "code",
   "execution_count": 17,
   "id": "453968bc",
   "metadata": {},
   "outputs": [],
   "source": [
    "solv_path = assemble_path(OUTPUT_DIR, melt_name, postfix=f'solv_{solvent.name}', extension='sdf')\n",
    "topology_to_sdf(solv_path, solvated_melt_topology)"
   ]
  },
  {
   "cell_type": "markdown",
   "id": "42ff2fbc",
   "metadata": {},
   "source": [
    "## Looks pretty good, right?\n",
    "In the [next set of demos](../3.0-index.ipynb), we'll show how to export these types of system to MD inputs, and how to run simulations in series with OpenMM"
   ]
  },
  {
   "cell_type": "code",
   "execution_count": null,
   "id": "8f8329c2",
   "metadata": {},
   "outputs": [],
   "source": []
  }
 ],
 "metadata": {
  "kernelspec": {
   "display_name": "polymerist-dev",
   "language": "python",
   "name": "python3"
  },
  "language_info": {
   "codemirror_mode": {
    "name": "ipython",
    "version": 3
   },
   "file_extension": ".py",
   "mimetype": "text/x-python",
   "name": "python",
   "nbconvert_exporter": "python",
   "pygments_lexer": "ipython3",
   "version": "3.11.0"
  }
 },
 "nbformat": 4,
 "nbformat_minor": 5
}
