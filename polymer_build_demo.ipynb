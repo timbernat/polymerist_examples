{
 "cells": [
  {
   "cell_type": "markdown",
   "metadata": {},
   "source": [
    "# Practical demo of bootstrap process for linear polymer structure building and MD setup from scratch"
   ]
  },
  {
   "cell_type": "code",
   "execution_count": null,
   "metadata": {},
   "outputs": [],
   "source": [
    "# Warning suppression and logging\n",
    "import warnings \n",
    "warnings.catch_warnings(record=True)\n",
    "warnings.filterwarnings('ignore', category=UserWarning)\n",
    "warnings.filterwarnings('ignore', category=DeprecationWarning)\n",
    "\n",
    "import logging\n",
    "from polymerist.genutils.logutils.IOHandlers import LOG_FORMATTER\n",
    "\n",
    "logging.basicConfig(\n",
    "    level=logging.INFO,\n",
    "    format =LOG_FORMATTER._fmt,\n",
    "    datefmt=LOG_FORMATTER.datefmt,\n",
    "    force=True\n",
    ")\n",
    "LOGGER = logging.getLogger(__name__)\n",
    "from IPython.display import clear_output\n",
    "\n",
    "# Chemistry tools\n",
    "from rdkit import Chem\n",
    "\n",
    "from polymerist.rdutils import rdkdraw # configure molecule drawing\n",
    "rdkdraw.set_rdkdraw_size(400, 3/2)\n",
    "rdkdraw.disable_substruct_highlights()\n",
    "\n",
    "# define output directory\n",
    "from pathlib import Path\n",
    "\n",
    "outdir = Path('polymer_demos')\n",
    "outdir.mkdir(exist_ok=True)"
   ]
  },
  {
   "cell_type": "markdown",
   "metadata": {},
   "source": [
    "# 0) Predefining some monomer examples for you to play with"
   ]
  },
  {
   "cell_type": "code",
   "execution_count": 2,
   "metadata": {},
   "outputs": [],
   "source": [
    "from dataclasses import dataclass, field\n",
    "from enum import Enum, auto\n",
    "\n",
    "class PortMethod(Enum):\n",
    "    '''For specifying how ports should be added to a complete RDMol'''\n",
    "    MAP_NUMBERS   = auto()\n",
    "    BOND_CLEAVAGE = auto()\n",
    "    REACTION      = auto() # not included here : provide an MDL rxn template\n",
    "\n",
    "@dataclass\n",
    "class MonomerExample:\n",
    "    '''For encapsulating info about a base monomer unit'''\n",
    "    molname : str\n",
    "    smiles  : str\n",
    "    bond_map_nums  : tuple[int, ...]\n",
    "    isotope_map    : dict[int, int] = field(default_factory=dict)\n",
    "    assign_port_by : PortMethod = field(default=PortMethod.BOND_CLEAVAGE)"
   ]
  },
  {
   "cell_type": "code",
   "execution_count": 3,
   "metadata": {},
   "outputs": [],
   "source": [
    "# defining some concrete examples\n",
    "monomer_examples = {\n",
    "    'PVC' : MonomerExample(\n",
    "        molname='polyvinylchloride',\n",
    "        smiles='C=C-Cl',\n",
    "        bond_map_nums=(1, 2),\n",
    "        isotope_map={5 : 0, 6 : 0},\n",
    "        assign_port_by=PortMethod.BOND_CLEAVAGE,\n",
    "    ),\n",
    "    'PE' : MonomerExample(\n",
    "        molname = 'polyethylene',\n",
    "        smiles = 'C=C',\n",
    "        bond_map_nums=(1, 2),\n",
    "        isotope_map = {3 : 0, 4 : 0},\n",
    "        assign_port_by = PortMethod.BOND_CLEAVAGE\n",
    "    ),\n",
    "    'PAAm' : MonomerExample(\n",
    "        molname = 'polyacrylamide',\n",
    "        smiles = 'C=CC(=O)N',\n",
    "        bond_map_nums=(1, 2),\n",
    "        isotope_map = {7 : 0, 8 : 0},\n",
    "        assign_port_by = PortMethod.BOND_CLEAVAGE\n",
    "    ),\n",
    "    'PS' : MonomerExample(\n",
    "        molname = 'polystyrene',\n",
    "        smiles = 'c1ccccc1C=C',\n",
    "        bond_map_nums = (7, 8),\n",
    "        isotope_map = {14 : 0, 16 : 0},\n",
    "        assign_port_by = PortMethod.BOND_CLEAVAGE\n",
    "    ),\n",
    "    'Chitosan' : MonomerExample(\n",
    "        molname = 'polyglucosamine',\n",
    "        smiles = 'N[C@H]1C(O)OC(CO)[C@@H](O)[C@@H]1O',\n",
    "        bond_map_nums=(7, 8),\n",
    "        isotope_map = {17 : 0, 23 : 0},\n",
    "        assign_port_by = PortMethod.MAP_NUMBERS\n",
    "    )\n",
    "}"
   ]
  },
  {
   "cell_type": "markdown",
   "metadata": {},
   "source": [
    "# 1) Building monomer templates from basic SMILES"
   ]
  },
  {
   "cell_type": "markdown",
   "metadata": {},
   "source": [
    "## Choose monomer HERE to define SMILES"
   ]
  },
  {
   "cell_type": "code",
   "execution_count": null,
   "metadata": {},
   "outputs": [],
   "source": [
    "chosen_example = monomer_examples['PVC'] # feel at leisure to swap this out for another example\n",
    "orig_smiles_mol = Chem.MolFromSmiles(chosen_example.smiles, sanitize=False)\n",
    "display(orig_smiles_mol)"
   ]
  },
  {
   "cell_type": "code",
   "execution_count": 5,
   "metadata": {},
   "outputs": [],
   "source": [
    "moldir = outdir / chosen_example.molname\n",
    "moldir.mkdir(exist_ok=True, parents=True)\n",
    "\n",
    "monodir = moldir / 'monomer_info'\n",
    "monodir.mkdir(exist_ok=True)"
   ]
  },
  {
   "cell_type": "markdown",
   "metadata": {},
   "source": [
    "## Expand SMILES to include full chemical info \n",
    "Namely, this includes explicit Hs, Kekulized aromatic rings, and atom map numbers"
   ]
  },
  {
   "cell_type": "code",
   "execution_count": null,
   "metadata": {},
   "outputs": [],
   "source": [
    "from polymerist.polymers.monomers import specification\n",
    "from pathlib import Path\n",
    "\n",
    "\n",
    "new_smiles = specification.expanded_SMILES(chosen_example.smiles)\n",
    "FULL_SMILES_MOL = Chem.MolFromSmiles(new_smiles, sanitize=False)\n",
    "print(new_smiles)\n",
    "display(FULL_SMILES_MOL)"
   ]
  },
  {
   "cell_type": "markdown",
   "metadata": {},
   "source": [
    "## Assigning linkers for inter-monomer bonds"
   ]
  },
  {
   "cell_type": "code",
   "execution_count": null,
   "metadata": {},
   "outputs": [],
   "source": [
    "from polymerist.rdutils.labeling import molwise\n",
    "from polymerist.rdutils.bonding import portlib, dissolution\n",
    "\n",
    "\n",
    "if portlib.get_num_ports(FULL_SMILES_MOL) == 0: # check for existence of ports to ensure idempotency\n",
    "    if chosen_example.assign_port_by == PortMethod.MAP_NUMBERS:\n",
    "        map_nums = chosen_example.isotope_map.keys()\n",
    "        for (atom_id, map_num) in zip(molwise.atom_ids_by_map_nums(FULL_SMILES_MOL, *map_nums), map_nums):\n",
    "            linker_atom = FULL_SMILES_MOL.GetAtomWithIdx(atom_id)\n",
    "            linker_atom.SetIsotope(chosen_example.isotope_map[map_num])\n",
    "            linker_atom.SetAtomicNum(0)\n",
    "\n",
    "    elif chosen_example.assign_port_by == PortMethod.BOND_CLEAVAGE:\n",
    "        rwmol = Chem.RWMol(FULL_SMILES_MOL)\n",
    "        bond_atom_ids = molwise.atom_ids_by_map_nums(rwmol, *chosen_example.bond_map_nums)\n",
    "        FULL_SMILES_MOL = dissolution.decrease_bond_order(rwmol, *bond_atom_ids)\n",
    "        molwise.assign_ordered_atom_map_nums(FULL_SMILES_MOL, in_place=True)\n",
    "        Chem.SanitizeMol(FULL_SMILES_MOL, sanitizeOps=specification.SANITIZE_AS_KEKULE) \n",
    "\n",
    "    elif chosen_example.assign_port_by == PortMethod.REACTION:\n",
    "        raise NotImplemented\n",
    "    else:\n",
    "        raise TypeError(f'Must provide a valid port assignment method (cannot be of type {type(chosen_example.assign_port_by)})')\n",
    "\n",
    "display(FULL_SMILES_MOL)"
   ]
  },
  {
   "cell_type": "markdown",
   "metadata": {},
   "source": [
    "## Enumerating \"cap\" groups from linkers and generating spec-compliant SMARTS"
   ]
  },
  {
   "cell_type": "code",
   "execution_count": null,
   "metadata": {},
   "outputs": [],
   "source": [
    "from copy import deepcopy\n",
    "from polymerist.genutils.iteration import subsets\n",
    "\n",
    "\n",
    "smarts = {}\n",
    "sat_ids = subsets(portlib.get_linker_ids(FULL_SMILES_MOL), exclude_full=True)\n",
    "for i, linkers_to_saturate in enumerate(sat_ids):\n",
    "    new_mono = deepcopy(FULL_SMILES_MOL)\n",
    "    for linker_id in linkers_to_saturate:\n",
    "        linker_atom = new_mono.GetAtomWithIdx(linker_id)\n",
    "        linker_atom.SetAtomicNum(1)\n",
    "    molwise.assign_ordered_atom_map_nums(new_mono, in_place=True) # renumber with added atoms to preserve order correspondence\n",
    "    Chem.SanitizeMol(new_mono, sanitizeOps=specification.SANITIZE_AS_KEKULE) # sanitize for good measure, making sure NOT to re-add aromaticity\n",
    "\n",
    "    key = chosen_example.molname if not i else f'{chosen_example.molname}_TERM{i}'\n",
    "    smarts[key] = [specification.compliant_mol_SMARTS(Chem.MolToSmiles(new_mono))] # for some reason, MolToSmarts doesn't reflect hydrogen addition"
   ]
  },
  {
   "cell_type": "markdown",
   "metadata": {},
   "source": [
    "## Specify orientation of terminal monomers and create monomer representation object"
   ]
  },
  {
   "cell_type": "code",
   "execution_count": null,
   "metadata": {},
   "outputs": [],
   "source": [
    "from polymerist.polymers.monomers import MonomerGroup\n",
    "from polymerist.genutils.fileutils.pathutils import assemble_path\n",
    "\n",
    "monogrp = MonomerGroup(\n",
    "    monomers=smarts,\n",
    "    term_orient={\n",
    "        f'{chosen_example.molname}_TERM1' : 'head',\n",
    "        f'{chosen_example.molname}_TERM2' : 'tail',\n",
    "    }    \n",
    ")\n",
    "\n",
    "for (resname, rdmol) in monogrp.iter_rdmols():\n",
    "    print(resname)\n",
    "    display(rdmol)\n",
    "\n",
    "mono_path = assemble_path(monodir, chosen_example.molname, extension='json')\n",
    "monogrp.to_file(mono_path) # cache monomer SMARTS for future use"
   ]
  },
  {
   "cell_type": "markdown",
   "metadata": {},
   "source": [
    "# 2) Generate coordinates and structure files with chemical info"
   ]
  },
  {
   "cell_type": "code",
   "execution_count": 10,
   "metadata": {},
   "outputs": [],
   "source": [
    "pdbdir = moldir / 'pdb_structures'\n",
    "pdbdir.mkdir(exist_ok=True)\n",
    "\n",
    "sdfdir = moldir / 'sdf_structures'\n",
    "sdfdir.mkdir(exist_ok=True)"
   ]
  },
  {
   "cell_type": "markdown",
   "metadata": {},
   "source": [
    "## Grow chain of arbitrary DOP and generate PDB (only linear polymers currently supported)"
   ]
  },
  {
   "cell_type": "code",
   "execution_count": null,
   "metadata": {},
   "outputs": [],
   "source": [
    "from polymerist.polymers.building import build_linear_polymer, mbmol_to_openmm_pdb\n",
    "from polymerist.polymers import estimation\n",
    "\n",
    "n_monomers : int = 30\n",
    "\n",
    "chain = build_linear_polymer(monogrp, n_monomers=n_monomers, sequence='A', energy_minimize=True)\n",
    "pdb_path = assemble_path(pdbdir, chosen_example.molname, extension='pdb')\n",
    "mbmol_to_openmm_pdb(pdb_path, chain)\n",
    "chain.visualize(backend='nglview')"
   ]
  },
  {
   "cell_type": "markdown",
   "metadata": {},
   "source": [
    "## Fill in missing PDB chemical info with our OpenFF substructure match tools\n",
    "Subsequently, partition into distinct residues and save to info-rich SDF format to avoid duplication of effort"
   ]
  },
  {
   "cell_type": "code",
   "execution_count": null,
   "metadata": {},
   "outputs": [],
   "source": [
    "from openff.toolkit import Topology, Molecule\n",
    "from polymerist.mdtools.openfftools import topology\n",
    "from polymerist.mdtools.openfftools.partition import partition\n",
    "\n",
    "\n",
    "# load PDB with substructure cover; if successful, refine into partition\n",
    "offtop = Topology.from_pdb(pdb_path, _custom_substructures=monogrp.monomers)\n",
    "was_partitioned = partition(offtop)\n",
    "assert(was_partitioned)\n",
    "\n",
    "# extract Molecule for Topology, set name and replace\n",
    "offmol = topology.get_largest_offmol(offtop)\n",
    "offmol.name = chosen_example.molname\n",
    "offtop = offmol.to_topology()\n",
    "display(offmol)\n",
    "\n",
    "# serialize Topology to SDF to preserve fully-specified system\n",
    "top_path = assemble_path(sdfdir, chosen_example.molname, extension='sdf')\n",
    "topology.topology_to_sdf(top_path, offtop) "
   ]
  },
  {
   "cell_type": "markdown",
   "metadata": {},
   "source": [
    "# 3) Assignment of atomic partial charges\n",
    "Here we will use a GNN charge model to acceleralte the assignment of charges for this demo \\\n",
    "However, if you prefer to use custom-generated library charges as per our paper, check out the accompanying [RCT notebook](rct_demo.ipynb) for more details"
   ]
  },
  {
   "cell_type": "code",
   "execution_count": null,
   "metadata": {},
   "outputs": [],
   "source": [
    "from polymerist.mdtools.openfftools.partialcharge.molchargers import EspalomaCharger\n",
    "\n",
    "\n",
    "charger = EspalomaCharger()\n",
    "espmol = charger.charge_molecule(offmol) # inherits name from base molecule\n",
    "\n",
    "espmol_path = assemble_path(sdfdir, chosen_example.molname, postfix='charged', extension='sdf')\n",
    "topology.topology_to_sdf(espmol_path, espmol.to_topology())"
   ]
  },
  {
   "cell_type": "code",
   "execution_count": null,
   "metadata": {},
   "outputs": [],
   "source": []
  }
 ],
 "metadata": {
  "kernelspec": {
   "display_name": "polymerist-env",
   "language": "python",
   "name": "python3"
  },
  "language_info": {
   "codemirror_mode": {
    "name": "ipython",
    "version": 3
   },
   "file_extension": ".py",
   "mimetype": "text/x-python",
   "name": "python",
   "nbconvert_exporter": "python",
   "pygments_lexer": "ipython3",
   "version": "3.11.11"
  }
 },
 "nbformat": 4,
 "nbformat_minor": 2
}
