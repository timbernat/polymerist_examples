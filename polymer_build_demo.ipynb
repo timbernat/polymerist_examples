{
 "cells": [
  {
   "cell_type": "markdown",
   "metadata": {},
   "source": [
    "# Practical demo of bootstrap process for linear polymer structure building and MD setup from scratch"
   ]
  },
  {
   "cell_type": "code",
   "execution_count": null,
   "metadata": {},
   "outputs": [],
   "source": [
    "# Warning suppression and logging\n",
    "import warnings \n",
    "warnings.catch_warnings(record=True)\n",
    "warnings.filterwarnings('ignore', category=UserWarning)\n",
    "warnings.filterwarnings('ignore', category=DeprecationWarning)\n",
    "\n",
    "import logging\n",
    "from polymerist.genutils.logutils.IOHandlers import LOG_FORMATTER\n",
    "\n",
    "logging.basicConfig(\n",
    "    level=logging.INFO,\n",
    "    format =LOG_FORMATTER._fmt,\n",
    "    datefmt=LOG_FORMATTER.datefmt,\n",
    "    force=True\n",
    ")\n",
    "LOGGER = logging.getLogger(__name__)\n",
    "from IPython.display import clear_output\n",
    "\n",
    "# Chemistry tools\n",
    "from rdkit import Chem\n",
    "from rdkit.Chem.AllChem import EmbedMolecule\n",
    "\n",
    "from polymerist.rdutils import rdkdraw # configure molecule drawing\n",
    "rdkdraw.set_rdkdraw_size(400, 3/2)\n",
    "rdkdraw.disable_substruct_highlights()\n",
    "\n",
    "# define output directory\n",
    "from pathlib import Path\n",
    "\n",
    "outdir = Path('polymer_demos')\n",
    "outdir.mkdir(exist_ok=True)"
   ]
  },
  {
   "cell_type": "markdown",
   "metadata": {},
   "source": [
    "# 0) Predefining some monomer examples for you to play with"
   ]
  },
  {
   "cell_type": "code",
   "execution_count": 2,
   "metadata": {},
   "outputs": [],
   "source": [
    "from dataclasses import dataclass, field\n",
    "from enum import Enum, auto\n",
    "\n",
    "class PortMethod(Enum):\n",
    "    '''For specifying how ports should be added to a complete RDMol'''\n",
    "    MAP_NUMBERS   = auto()\n",
    "    BOND_CLEAVAGE = auto()\n",
    "    REACTION      = auto() # not included here : provide an MDL rxn template\n",
    "\n",
    "@dataclass\n",
    "class MonomerExample:\n",
    "    '''For encapsulating info about a base monomer unit'''\n",
    "    molname : str\n",
    "    smiles  : str\n",
    "    bond_map_nums  : tuple[int, ...]\n",
    "    isotope_map    : dict[int, int] = field(default_factory=dict)\n",
    "    assign_port_by : PortMethod = field(default=PortMethod.BOND_CLEAVAGE)"
   ]
  },
  {
   "cell_type": "code",
   "execution_count": 3,
   "metadata": {},
   "outputs": [],
   "source": [
    "# defining some concrete examples\n",
    "monomer_examples = {\n",
    "    'PVC' : MonomerExample(\n",
    "        molname='polyvinylchloride',\n",
    "        smiles='C=C-Cl',\n",
    "        bond_map_nums=(1, 2),\n",
    "        isotope_map={5 : 0, 6 : 0},\n",
    "        assign_port_by=PortMethod.BOND_CLEAVAGE,\n",
    "    ),\n",
    "    'PE' : MonomerExample(\n",
    "        molname = 'polyethylene',\n",
    "        smiles = 'C=C',\n",
    "        bond_map_nums=(1, 2),\n",
    "        isotope_map = {3 : 0, 4 : 0},\n",
    "        assign_port_by = PortMethod.BOND_CLEAVAGE\n",
    "    ),\n",
    "    'PAAm' : MonomerExample(\n",
    "        molname = 'polyacrylamide',\n",
    "        smiles = 'C=CC(=O)N',\n",
    "        bond_map_nums=(1, 2),\n",
    "        isotope_map = {7 : 0, 8 : 0},\n",
    "        assign_port_by = PortMethod.BOND_CLEAVAGE\n",
    "    ),\n",
    "    'PS' : MonomerExample(\n",
    "        molname = 'polystyrene',\n",
    "        smiles = 'c1ccccc1C=C',\n",
    "        bond_map_nums = (7, 8),\n",
    "        isotope_map = {14 : 0, 16 : 0},\n",
    "        assign_port_by = PortMethod.BOND_CLEAVAGE\n",
    "    ),\n",
    "    'Chitosan' : MonomerExample(\n",
    "        molname = 'polyglucosamine',\n",
    "        smiles = 'N[C@H]1C(O)OC(CO)[C@@H](O)[C@@H]1O',\n",
    "        bond_map_nums=(7, 8),\n",
    "        isotope_map = {17 : 0, 23 : 0},\n",
    "        assign_port_by = PortMethod.MAP_NUMBERS\n",
    "    )\n",
    "}"
   ]
  },
  {
   "cell_type": "markdown",
   "metadata": {},
   "source": [
    "# 1) Building monomer templates from basic SMILES"
   ]
  },
  {
   "cell_type": "markdown",
   "metadata": {},
   "source": [
    "## Choose monomer HERE to define SMILES"
   ]
  },
  {
   "cell_type": "code",
   "execution_count": null,
   "metadata": {},
   "outputs": [],
   "source": [
    "chosen_example = monomer_examples['PVC'] # feel at leisure to swap this out for another example\n",
    "orig_smiles_mol = Chem.MolFromSmiles(chosen_example.smiles, sanitize=False)\n",
    "display(orig_smiles_mol)"
   ]
  },
  {
   "cell_type": "code",
   "execution_count": 5,
   "metadata": {},
   "outputs": [],
   "source": [
    "moldir = outdir / chosen_example.molname\n",
    "moldir.mkdir(exist_ok=True, parents=True)\n",
    "\n",
    "monodir = moldir / 'monomer_info'\n",
    "monodir.mkdir(exist_ok=True)"
   ]
  },
  {
   "cell_type": "markdown",
   "metadata": {},
   "source": [
    "## Expand SMILES to include full chemical info \n",
    "Namely, this includes explicit Hs, Kekulized aromatic rings, and atom map numbers"
   ]
  },
  {
   "cell_type": "code",
   "execution_count": null,
   "metadata": {},
   "outputs": [],
   "source": [
    "from polymerist.polymers.monomers import specification\n",
    "from pathlib import Path\n",
    "\n",
    "\n",
    "new_smiles = specification.expanded_SMILES(chosen_example.smiles)\n",
    "FULL_SMILES_MOL = Chem.MolFromSmiles(new_smiles, sanitize=False)\n",
    "print(new_smiles)\n",
    "display(FULL_SMILES_MOL)"
   ]
  },
  {
   "cell_type": "markdown",
   "metadata": {},
   "source": [
    "## Assigning linkers for inter-monomer bonds"
   ]
  },
  {
   "cell_type": "code",
   "execution_count": null,
   "metadata": {},
   "outputs": [],
   "source": [
    "from polymerist.rdutils.labeling import molwise\n",
    "from polymerist.rdutils.bonding import portlib, dissolution\n",
    "\n",
    "\n",
    "if portlib.get_num_ports(FULL_SMILES_MOL) == 0: # check for existence of ports to ensure idempotency\n",
    "    if chosen_example.assign_port_by == PortMethod.MAP_NUMBERS:\n",
    "        map_nums = chosen_example.isotope_map.keys()\n",
    "        for (atom_id, map_num) in zip(molwise.atom_ids_by_map_nums(FULL_SMILES_MOL, *map_nums), map_nums):\n",
    "            linker_atom = FULL_SMILES_MOL.GetAtomWithIdx(atom_id)\n",
    "            linker_atom.SetIsotope(chosen_example.isotope_map[map_num])\n",
    "            linker_atom.SetAtomicNum(0)\n",
    "\n",
    "    elif chosen_example.assign_port_by == PortMethod.BOND_CLEAVAGE:\n",
    "        rwmol = Chem.RWMol(FULL_SMILES_MOL)\n",
    "        bond_atom_ids = molwise.atom_ids_by_map_nums(rwmol, *chosen_example.bond_map_nums)\n",
    "        FULL_SMILES_MOL = dissolution.decrease_bond_order(rwmol, *bond_atom_ids)\n",
    "        molwise.assign_ordered_atom_map_nums(FULL_SMILES_MOL, in_place=True)\n",
    "        Chem.SanitizeMol(FULL_SMILES_MOL, sanitizeOps=specification.SANITIZE_AS_KEKULE) \n",
    "\n",
    "    elif chosen_example.assign_port_by == PortMethod.REACTION:\n",
    "        raise NotImplemented\n",
    "    else:\n",
    "        raise TypeError(f'Must provide a valid port assignment method (cannot be of type {type(chosen_example.assign_port_by)})')\n",
    "\n",
    "display(FULL_SMILES_MOL)"
   ]
  },
  {
   "cell_type": "markdown",
   "metadata": {},
   "source": [
    "## Enumerating \"cap\" groups from linkers and generating spec-compliant SMARTS"
   ]
  },
  {
   "cell_type": "code",
   "execution_count": null,
   "metadata": {},
   "outputs": [],
   "source": [
    "from copy import deepcopy\n",
    "from polymerist.genutils.iteration import subsets\n",
    "\n",
    "\n",
    "smarts = {}\n",
    "sat_ids = subsets(portlib.get_linker_ids(FULL_SMILES_MOL), exclude_full=True)\n",
    "for i, linkers_to_saturate in enumerate(sat_ids):\n",
    "    new_mono = deepcopy(FULL_SMILES_MOL)\n",
    "    for linker_id in linkers_to_saturate:\n",
    "        linker_atom = new_mono.GetAtomWithIdx(linker_id)\n",
    "        linker_atom.SetAtomicNum(1)\n",
    "    molwise.assign_ordered_atom_map_nums(new_mono, in_place=True) # renumber with added atoms to preserve order correspondence\n",
    "    Chem.SanitizeMol(new_mono, sanitizeOps=specification.SANITIZE_AS_KEKULE) # sanitize for good measure, making sure NOT to re-add aromaticity\n",
    "\n",
    "    key = chosen_example.molname if not i else f'{chosen_example.molname}_TERM{i}'\n",
    "    smarts[key] = [specification.compliant_mol_SMARTS(Chem.MolToSmiles(new_mono))] # for some reason, MolToSmarts doesn't reflect hydrogen addition"
   ]
  },
  {
   "cell_type": "markdown",
   "metadata": {},
   "source": [
    "## Specify orientation of terminal monomers and create monomer representation object"
   ]
  },
  {
   "cell_type": "code",
   "execution_count": null,
   "metadata": {},
   "outputs": [],
   "source": [
    "from polymerist.polymers.monomers import MonomerGroup\n",
    "from polymerist.genutils.fileutils.pathutils import assemble_path\n",
    "\n",
    "monogrp = MonomerGroup(\n",
    "    monomers=smarts,\n",
    "    term_orient={\n",
    "        f'{chosen_example.molname}_TERM1' : 'head',\n",
    "        f'{chosen_example.molname}_TERM2' : 'tail',\n",
    "    }    \n",
    ")\n",
    "\n",
    "for (resname, rdmol) in monogrp.iter_rdmols():\n",
    "    print(resname)\n",
    "    display(rdmol)\n",
    "\n",
    "mono_path = assemble_path(monodir, chosen_example.molname, extension='json')\n",
    "monogrp.to_file(mono_path) # cache monomer SMARTS for future use"
   ]
  },
  {
   "cell_type": "markdown",
   "metadata": {},
   "source": [
    "# 2) Generate coordinates and structure files with chemical info"
   ]
  },
  {
   "cell_type": "code",
   "execution_count": 10,
   "metadata": {},
   "outputs": [],
   "source": [
    "pdbdir = moldir / 'pdb_structures'\n",
    "pdbdir.mkdir(exist_ok=True)\n",
    "\n",
    "sdfdir = moldir / 'sdf_structures'\n",
    "sdfdir.mkdir(exist_ok=True)"
   ]
  },
  {
   "cell_type": "markdown",
   "metadata": {},
   "source": [
    "## Grow chain of arbitrary DOP and generate PDB (only linear polymers currently supported)"
   ]
  },
  {
   "cell_type": "code",
   "execution_count": null,
   "metadata": {},
   "outputs": [],
   "source": [
    "from polymerist.polymers.building import build_linear_polymer, mbmol_to_openmm_pdb\n",
    "from polymerist.polymers import estimation\n",
    "\n",
    "n_monomers : int = 30\n",
    "\n",
    "chain = build_linear_polymer(monogrp, n_monomers=n_monomers, sequence='A', energy_minimize=True)\n",
    "pdb_path = assemble_path(pdbdir, chosen_example.molname, extension='pdb')\n",
    "mbmol_to_openmm_pdb(pdb_path, chain)\n",
    "chain.visualize(backend='nglview')"
   ]
  },
  {
   "cell_type": "markdown",
   "metadata": {},
   "source": [
    "## Fill in missing PDB chemical info with our OpenFF substructure match tools\n",
    "Subsequently, partition into distinct residues and save to info-rich SDF format to avoid duplication of effort"
   ]
  },
  {
   "cell_type": "code",
   "execution_count": null,
   "metadata": {},
   "outputs": [],
   "source": [
    "from openff.toolkit import Topology, Molecule\n",
    "from polymerist.mdtools.openfftools import topology\n",
    "from polymerist.mdtools.openfftools.partition import partition\n",
    "\n",
    "\n",
    "# load PDB with substructure cover; if successful, refine into partition\n",
    "offtop = Topology.from_pdb(pdb_path, _custom_substructures=monogrp.monomers)\n",
    "was_partitioned = partition(offtop)\n",
    "assert(was_partitioned)\n",
    "\n",
    "# extract Molecule for Topology, set name and replace\n",
    "offmol = topology.get_largest_offmol(offtop)\n",
    "offmol.name = chosen_example.molname\n",
    "offtop = offmol.to_topology()\n",
    "display(offmol)\n",
    "\n",
    "# serialize Topology to SDF to preserve fully-specified system\n",
    "top_path = assemble_path(sdfdir, chosen_example.molname, extension='sdf')\n",
    "topology.topology_to_sdf(top_path, offtop) "
   ]
  },
  {
   "cell_type": "markdown",
   "metadata": {},
   "source": [
    "## Repeat the above steps with atom cap to provide structure for RCT demo"
   ]
  },
  {
   "cell_type": "code",
   "execution_count": null,
   "metadata": {},
   "outputs": [],
   "source": [
    "from polymerist.polymers import building, estimation\n",
    "\n",
    "redux_n_monomers = estimation.estimate_n_monomers_infimum(monogrp, n_atoms_max=100)\n",
    "\n",
    "redux_chain = building.build_linear_polymer(monogrp, n_monomers=redux_n_monomers, sequence='A', energy_minimize=True)\n",
    "redux_pdb_path = assemble_path(pdbdir, chosen_example.molname, postfix='redux', extension='pdb')\n",
    "building.mbmol_to_openmm_pdb(redux_pdb_path, redux_chain)\n",
    "redux_chain.visualize(backend='nglview')"
   ]
  },
  {
   "cell_type": "code",
   "execution_count": null,
   "metadata": {},
   "outputs": [],
   "source": [
    "redux_offtop = Topology.from_pdb(redux_pdb_path, _custom_substructures=monogrp.monomers)\n",
    "was_partitioned = partition(redux_offtop)\n",
    "assert(was_partitioned)\n",
    "\n",
    "redux_offmol = topology.get_largest_offmol(redux_offtop)\n",
    "redux_offmol.name = chosen_example.molname\n",
    "redux_offtop = redux_offmol.to_topology()\n",
    "# display(redux_offmol)\n",
    "\n",
    "redux_top_path = assemble_path(sdfdir, chosen_example.molname, postfix='redux', extension='sdf')\n",
    "topology.topology_to_sdf(redux_top_path, redux_offtop) # preserve fully-specified system in SDF format"
   ]
  },
  {
   "cell_type": "markdown",
   "metadata": {},
   "source": [
    "# 3) Assignment of atomic partial charges"
   ]
  },
  {
   "cell_type": "markdown",
   "metadata": {},
   "source": [
    "## Espaloma assignment (fast and direct)"
   ]
  },
  {
   "cell_type": "code",
   "execution_count": null,
   "metadata": {},
   "outputs": [],
   "source": [
    "from polymerist.mdtools.openfftools.partialcharge import molchargers\n",
    "\n",
    "charge_method = 'Espaloma-AM1-BCC'\n",
    "charger = molchargers.MolCharger.subclass_registry[charge_method]()\n",
    "espmol = charger.charge_molecule(offmol) # inherits name from base molecule\n",
    "\n",
    "espmol_path = assemble_path(sdfdir, chosen_example.molname, postfix=charge_method, extension='sdf')\n",
    "topology.topology_to_sdf(espmol_path, espmol.to_topology())"
   ]
  },
  {
   "cell_type": "markdown",
   "metadata": {},
   "source": [
    "## RCT (reliable and provides charge templates)"
   ]
  },
  {
   "cell_type": "markdown",
   "metadata": {},
   "source": [
    "### Perform explicit AM1-BCC-ELF10 (requires OpenEye on reduced-size polymer (THIS WILL TAKE A WHILE!)\n",
    "Luckily, only needs to be done once per molecule"
   ]
  },
  {
   "cell_type": "code",
   "execution_count": null,
   "metadata": {},
   "outputs": [],
   "source": [
    "charge_method = 'AM1-BCC-ELF10'\n",
    "abe10_charger = molchargers.MolCharger.subclass_registry[charge_method]()\n",
    "abe10mol = abe10_charger.charge_molecule(redux_offmol)"
   ]
  },
  {
   "cell_type": "markdown",
   "metadata": {},
   "source": [
    "### Extract and save library charges, apply these to the target macromolecule (look how quick *this part* it is!)"
   ]
  },
  {
   "cell_type": "code",
   "execution_count": null,
   "metadata": {},
   "outputs": [],
   "source": [
    "from polymerist.mdtools.openfftools.partialcharge.rescharge.calculation import compute_residue_charges\n",
    "from polymerist.mdtools.openfftools.partialcharge.rescharge.interface import LibraryCharger\n",
    "\n",
    "\n",
    "lib_chgs = compute_residue_charges(abe10mol, monogrp)\n",
    "lib_chg_path = assemble_path(monodir, chosen_example.molname, postfix='library_charges', extension='json')\n",
    "lib_chgs.to_file(lib_chg_path) # save library charges for future use\n",
    "\n",
    "lib_charger = LibraryCharger(lib_chgs)\n",
    "rctmol = lib_charger.charge_molecule(offmol)\n",
    "rctmol_path = assemble_path(sdfdir, chosen_example.molname, postfix='RCT', extension='sdf')\n",
    "topology.topology_to_sdf(rctmol_path, rctmol.to_topology())"
   ]
  },
  {
   "cell_type": "markdown",
   "metadata": {},
   "source": [
    "# 4) Assign FF parameters and running simulations with OpenMM"
   ]
  },
  {
   "cell_type": "code",
   "execution_count": 22,
   "metadata": {},
   "outputs": [],
   "source": [
    "ommdir = moldir / 'openmm'\n",
    "ommdir.mkdir(exist_ok=True)"
   ]
  },
  {
   "cell_type": "markdown",
   "metadata": {},
   "source": [
    "## Defining periodic box"
   ]
  },
  {
   "cell_type": "code",
   "execution_count": 23,
   "metadata": {},
   "outputs": [],
   "source": [
    "import numpy as np\n",
    "from openmm.unit import gram, centimeter, nanometer\n",
    "from polymerist.mdtools.openfftools import boxvectors\n",
    "\n",
    "top_path = espmol_path # choose path to desired parameterized & charged topology\n",
    "# top_path = rctmol_path\n",
    "offtop = topology.topology_from_sdf(top_path, allow_undefined_stereo=True)\n",
    "\n",
    "exclusion = 1 * nanometer # how far beyond the tight bounding box of the polymer to extend the periodic box\n",
    "\n",
    "# box_dims = np.array([4.0, 4.0, 4.0]) * nanometer\n",
    "box_dims = boxvectors.get_topology_bbox(offtop)\n",
    "box_vecs = boxvectors.box_vectors_flexible(box_dims)\n",
    "box_vecs = boxvectors.pad_box_vectors_uniform(box_vecs, exclusion)\n",
    "clear_output() # clear verbose stereochemistry warnings if present"
   ]
  },
  {
   "cell_type": "markdown",
   "metadata": {},
   "source": [
    "## Packing box with solvent"
   ]
  },
  {
   "cell_type": "code",
   "execution_count": 29,
   "metadata": {},
   "outputs": [
    {
     "name": "stderr",
     "output_type": "stream",
     "text": [
      "2025-01-07 11:47:29.130 [INFO    :         packing:line 40  ] - Solvating 66.19464745668576 nm**3 Topology with 2207 water_TIP3P molecules to density of 0.997 g/(cm**3)\n",
      "2025-01-07 11:47:32.024 [INFO    :         packing:line 49  ] - Packmol packing converged\n",
      "2025-01-07 11:47:32.027 [INFO    :         packing:line 52  ] - Set solvated Topology box vectors to [[4.964100074768067 0.0 0.0] [0.0 3.5745000362396233 0.0] [0.0 0.0 3.7304999589920045]] nanometer\n"
     ]
    }
   ],
   "source": [
    "from polymerist.mdtools.openfftools.solvation import solvents \n",
    "from polymerist.mdtools.openfftools.solvation.packing import pack_topology_with_solvent\n",
    "\n",
    "solvent = solvents.water_TIP3P\n",
    "rho = 0.997 * gram / centimeter**3\n",
    "\n",
    "solv_top = pack_topology_with_solvent(offtop, solvent=solvent, box_vecs=box_vecs, density=rho, exclusion=exclusion)\n",
    "solv_path = assemble_path(sdfdir, top_path.stem, postfix=f'solv_{solvent.name}', extension='sdf')\n",
    "topology.topology_to_sdf(solv_path, solv_top)"
   ]
  },
  {
   "cell_type": "markdown",
   "metadata": {},
   "source": [
    "## Running simulations with OpenMM"
   ]
  },
  {
   "cell_type": "markdown",
   "metadata": {},
   "source": [
    "### Defining reproducible and serializable simulation parameters"
   ]
  },
  {
   "cell_type": "code",
   "execution_count": 30,
   "metadata": {},
   "outputs": [],
   "source": [
    "from openmm.unit import femtosecond, picosecond, nanosecond\n",
    "from openmm.unit import kelvin, atmosphere\n",
    "from polymerist.mdtools.openmmtools.parameters import (\n",
    "    SimulationParameters,\n",
    "    ThermoParameters,\n",
    "    IntegratorParameters,\n",
    "    ReporterParameters,\n",
    ")\n",
    "from polymerist.mdtools.openmmtools.reporters import DEFAULT_STATE_DATA_PROPS\n",
    "\n",
    "\n",
    "# define reproducible simulation parameter set\n",
    "sim_params = SimulationParameters(\n",
    "    integ_params=IntegratorParameters(\n",
    "        time_step=2*femtosecond, # 2 fs step doesn't work well for unconstrainted FFs\n",
    "        total_time=2*nanosecond, # just a short simulation to demonstrate\n",
    "        num_samples=50, # don't want to take too many samples\n",
    "    ),\n",
    "    thermo_params=ThermoParameters(\n",
    "        ensemble='NVT',\n",
    "        temperature=300*kelvin,\n",
    "        friction_coeff=1*picosecond**-1, # required for Langevin Thermostat\n",
    "    ),\n",
    "    reporter_params=ReporterParameters(\n",
    "        report_trajectory=True,\n",
    "        traj_ext='dcd', # output to compressed binary trajectory files (recommended)\n",
    "        report_state_data=True,\n",
    "        state_data=DEFAULT_STATE_DATA_PROPS, # can tune these to taste\n",
    "        report_checkpoint=True, # also keep checkpoints of OpenMM objects (specific to Context and machine)\n",
    "        report_state=True,      # saving State is a bit redundant with checkpoints, but is machine-transferrable\n",
    "    ),\n",
    ")\n",
    "\n",
    "# save simulation parameters to file (for reproducibility and idempotency)\n",
    "sim_params_path = ommdir / 'sim_params.json'\n",
    "sim_params.to_file(sim_params_path)"
   ]
  },
  {
   "cell_type": "markdown",
   "metadata": {},
   "source": [
    "### Running a simulation \"schedule\" (serial sequence of simulations, each defined by their own SimulationParameters)"
   ]
  },
  {
   "cell_type": "code",
   "execution_count": 31,
   "metadata": {},
   "outputs": [
    {
     "name": "stderr",
     "output_type": "stream",
     "text": [
      "2025-01-07 11:50:43.296 [INFO    :      parameters:line 2894] - Attempting to up-convert vdW section from 0.3 to 0.4\n",
      "2025-01-07 11:50:43.297 [INFO    :      parameters:line 2903] - Successfully up-converted vdW section from 0.3 to 0.4. `method=\"cutoff\"` is now split into `periodic_method=\"cutoff\"` and `nonperiodic_method=\"no-cutoff\"`.\n",
      "2025-01-07 11:50:43.308 [INFO    :      parameters:line 3094] - Attempting to up-convert Electrostatics section from 0.3 to 0.4\n",
      "2025-01-07 11:50:43.308 [INFO    :      parameters:line 3104] - Successfully up-converted Electrostatics section from 0.3 to 0.4. `method=\"PME\"` is now split into `periodic_potential=\"Ewald3D-ConductingBoundary\"`, `nonperiodic_potential=\"Coulomb\"`, and `exception_potential=\"Coulomb\"`.\n",
      "2025-01-07 11:50:50.592 [INFO    :       execution:line 38  ] - Initializing simulation 1/1 (\"demo_sim1\")\n",
      "2025-01-07 11:50:50.595 [INFO    :          thermo:line 75  ] - Created LangevinMiddleIntegrator for NVT (Canonical) ensemble\n",
      "2025-01-07 11:50:55.644 [WARNING :     preparation:line 43  ] - No valid State/State file provided, initializing State as None\n",
      "2025-01-07 11:50:55.646 [INFO    :       reporters:line 130 ] - Prepared DCDReporter which reports to polymer_demos/polyvinylchloride/openmm/demo_sim1/demo_sim1_trajectory.dcd\n",
      "2025-01-07 11:50:55.647 [INFO    :       reporters:line 130 ] - Prepared CheckpointReporter which reports to polymer_demos/polyvinylchloride/openmm/demo_sim1/demo_sim1_checkpoint.chk\n",
      "2025-01-07 11:50:55.648 [INFO    :       reporters:line 130 ] - Prepared StateReporter which reports to polymer_demos/polyvinylchloride/openmm/demo_sim1/demo_sim1_state.xml\n",
      "2025-01-07 11:50:55.649 [INFO    :       reporters:line 130 ] - Prepared StateDataReporter which reports to polymer_demos/polyvinylchloride/openmm/demo_sim1/demo_sim1_state_data.csv\n",
      "2025-01-07 11:50:55.649 [INFO    :     preparation:line 79  ] - Setting positions in Context\n",
      "2025-01-07 11:50:56.704 [INFO    :       execution:line 52  ] - Performing energy minimization (initial PE = 118985.41021580144 kJ/mol)\n",
      "2025-01-07 11:51:03.935 [INFO    :       execution:line 54  ] - Energy successfully minimized (final PE = -111210.0871596869 kJ/mol)\n",
      "2025-01-07 11:51:04.019 [INFO    :       execution:line 57  ] - Saved energy-minimized Simulation Topology at polymer_demos/polyvinylchloride/openmm/demo_sim1/demo_sim1_topology.pdb\n",
      "2025-01-07 11:51:04.112 [INFO    :       execution:line 60  ] - Saved serialized Simulation System at polymer_demos/polyvinylchloride/openmm/demo_sim1/demo_sim1_system.xml\n",
      "2025-01-07 11:51:04.113 [INFO    :       execution:line 62  ] - Integrating 2 ns OpenMM Simulation for 1000000 steps\n",
      "2025-01-07 11:55:13.897 [INFO    :       execution:line 64  ] - Simulation integration completed successfully\n",
      "2025-01-07 11:55:13.898 [INFO    :       execution:line 65  ] - \n"
     ]
    }
   ],
   "source": [
    "from polymerist.mdtools.openmmtools.parameters import SimulationParameters\n",
    "from polymerist.mdtools.openmmtools.execution import run_simulation_schedule\n",
    "\n",
    "from polymerist.mdtools.openfftools.omminter import openff_topology_to_openmm\n",
    "from polymerist.mdtools.openfftools.topology import topology_from_sdf\n",
    "\n",
    "\n",
    "sim_params = SimulationParameters.from_file(sim_params_path)\n",
    "solv_top = topology_from_sdf(solv_path)\n",
    "\n",
    "\n",
    "ff_name = 'openff-2.0.0'\n",
    "schedule = {\n",
    "    'demo_sim1' : sim_params\n",
    "}\n",
    "\n",
    "ommtop, ommsys, ommpos = openff_topology_to_openmm(solv_top, forcefield=ff_name, box_vecs=box_vecs)\n",
    "history = run_simulation_schedule(ommdir, schedule, ommtop, ommsys, ommpos, return_history=True)"
   ]
  },
  {
   "cell_type": "code",
   "execution_count": null,
   "metadata": {},
   "outputs": [],
   "source": []
  }
 ],
 "metadata": {
  "kernelspec": {
   "display_name": "polymerist-env",
   "language": "python",
   "name": "python3"
  },
  "language_info": {
   "codemirror_mode": {
    "name": "ipython",
    "version": 3
   },
   "file_extension": ".py",
   "mimetype": "text/x-python",
   "name": "python",
   "nbconvert_exporter": "python",
   "pygments_lexer": "ipython3",
   "version": "3.11.11"
  }
 },
 "nbformat": 4,
 "nbformat_minor": 2
}
